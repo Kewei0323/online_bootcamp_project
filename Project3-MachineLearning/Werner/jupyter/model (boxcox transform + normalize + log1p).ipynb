{
 "cells": [
  {
   "cell_type": "markdown",
   "metadata": {},
   "source": [
    "## Boxcox transform all continuous features\n",
    "## Then, normalize all continuous features\n",
    "## log1p target variable"
   ]
  },
  {
   "cell_type": "code",
   "execution_count": 1,
   "metadata": {
    "collapsed": false
   },
   "outputs": [],
   "source": [
    "import numpy as np\n",
    "np.random.seed(123)\n",
    "\n",
    "import pandas as pd\n",
    "from sklearn.metrics import mean_absolute_error\n",
    "from sklearn.preprocessing import StandardScaler\n",
    "from sklearn.model_selection import KFold\n",
    "from sklearn.model_selection import GridSearchCV\n",
    "from sklearn.ensemble import RandomForestRegressor\n",
    "from scipy.sparse import csr_matrix, hstack\n",
    "from scipy.stats import skew\n",
    "from scipy.stats import boxcox\n",
    "from scipy import stats"
   ]
  },
  {
   "cell_type": "code",
   "execution_count": 2,
   "metadata": {
    "collapsed": false
   },
   "outputs": [
    {
     "name": "stdout",
     "output_type": "stream",
     "text": [
      "Data Preprocessing Begins...\n",
      "BEFORE BOXCOX Skewness of target:  3.79492814968\n",
      "AFTER BOXCOX Skewness of target:  0.0966188199022\n",
      "BEFORE BOXCOX Skewness of all features: \n",
      "cont1     0.513205\n",
      "cont2    -0.311146\n",
      "cont3    -0.007023\n",
      "cont4     0.417559\n",
      "cont5     0.679610\n",
      "cont6     0.458413\n",
      "cont7     0.825889\n",
      "cont8     0.673237\n",
      "cont9     1.067247\n",
      "cont10    0.352116\n",
      "cont11    0.281139\n",
      "cont12    0.291997\n",
      "cont13    0.376138\n",
      "cont14    0.250673\n",
      "loss      3.794928\n",
      "dtype: float64\n",
      "\n",
      "Features with skewness > 0.75: \n",
      "cont7    0.825889\n",
      "cont9    1.067247\n",
      "loss     3.794928\n",
      "dtype: float64\n",
      "AFTER BOXCOX Skewness of all features: \n",
      "cont1     0.004049\n",
      "cont2    -0.101841\n",
      "cont3    -0.027565\n",
      "cont4     0.051627\n",
      "cont5     0.205682\n",
      "cont6     0.038833\n",
      "cont7     0.054710\n",
      "cont8     0.124111\n",
      "cont9    -0.012046\n",
      "cont10    0.020122\n",
      "cont11    0.023397\n",
      "cont12    0.024871\n",
      "cont13    0.092823\n",
      "cont14    0.068549\n",
      "loss      3.794928\n",
      "dtype: float64\n",
      "\n",
      "Features with skewness > 0.75: \n",
      "loss    3.794928\n",
      "dtype: float64\n",
      "('Dim train', (188318, 1190))\n",
      "('Dim test', (125546, 1190))\n",
      "Data Preprocessing Ends...\n"
     ]
    }
   ],
   "source": [
    "print \"Data Preprocessing Begins...\"\n",
    "## Read data\n",
    "train = pd.read_csv('../data/train.csv')\n",
    "test = pd.read_csv('../data/test.csv')\n",
    "\n",
    "## Set test loss to NaN\n",
    "test['loss'] = np.nan\n",
    "\n",
    "## Response and IDs\n",
    "y = np.log1p(train['loss'].values)\n",
    "print 'BEFORE BOXCOX Skewness of target: ', skew(train['loss'])\n",
    "print 'AFTER BOXCOX Skewness of target: ', skew(y)\n",
    "id_train = train['id'].values\n",
    "id_test = test['id'].values\n",
    "\n",
    "## Stack train test\n",
    "ntrain = train.shape[0]\n",
    "tr_te = pd.concat((train, test), axis = 0)\n",
    "\n",
    "## Preprocessing and transforming to sparse data\n",
    "sparse_data = []\n",
    "\n",
    "### Categorical Features\n",
    "f_cat = [f for f in tr_te.columns if 'cat' in f]\n",
    "for f in f_cat:\n",
    "    dummy = pd.get_dummies(tr_te[f].astype('category'))\n",
    "    tmp = csr_matrix(dummy)\n",
    "    sparse_data.append(tmp)\n",
    "\n",
    "### Continuous Features ###\n",
    "skewed_feats = (tr_te[tr_te.dtypes[tr_te.dtypes == 'float64'].index]).apply(lambda x: skew(x.dropna()))\n",
    "print 'BEFORE BOXCOX Skewness of all features: \\n', skewed_feats\n",
    "print '\\nFeatures with skewness > 0.75: \\n', skewed_feats[skewed_feats > 0.75]\n",
    "\n",
    "# Skewness correction\n",
    "f_num = [f for f in tr_te.columns if 'cont' in f]\n",
    "for col in f_num:\n",
    "    tr_te[col] = boxcox(tr_te[col]+1)[0]\n",
    "    \n",
    "# Normalizing\n",
    "scaler = StandardScaler()\n",
    "skewed_feats = (tr_te[tr_te.dtypes[tr_te.dtypes == 'float64'].index]).apply(lambda x: skew(x.dropna()))\n",
    "print 'AFTER BOXCOX Skewness of all features: \\n', skewed_feats\n",
    "print '\\nFeatures with skewness > 0.75: \\n', skewed_feats[skewed_feats > 0.75]\n",
    "\n",
    "tmp = csr_matrix(scaler.fit_transform(tr_te[f_num]))\n",
    "sparse_data.append(tmp)\n",
    "\n",
    "del(tr_te, train, test) # Deleting tr_te, train, test like garbage collection\n",
    "\n",
    "### sparse train and test data\n",
    "xtr_te = hstack(sparse_data, format = 'csr')\n",
    "xtrain = xtr_te[:ntrain, :]\n",
    "xtest = xtr_te[ntrain:, :]\n",
    "\n",
    "print('Dim train', xtrain.shape)\n",
    "print('Dim test', xtest.shape)\n",
    "\n",
    "del(xtr_te, sparse_data, tmp)\n",
    "\n",
    "print \"Data Preprocessing Ends...\""
   ]
  },
  {
   "cell_type": "code",
   "execution_count": 3,
   "metadata": {
    "collapsed": false
   },
   "outputs": [],
   "source": [
    "train = pd.DataFrame(xtrain.toarray())\n",
    "target = pd.DataFrame(xtest.toarray())"
   ]
  },
  {
   "cell_type": "code",
   "execution_count": 4,
   "metadata": {
    "collapsed": false
   },
   "outputs": [
    {
     "name": "stdout",
     "output_type": "stream",
     "text": [
      "(188318, 1190)\n",
      "(125546, 1190)\n",
      "(188318,)\n"
     ]
    }
   ],
   "source": [
    "print train.shape\n",
    "print target.shape\n",
    "print y.shape"
   ]
  },
  {
   "cell_type": "code",
   "execution_count": 5,
   "metadata": {
    "collapsed": false
   },
   "outputs": [
    {
     "data": {
      "text/html": [
       "<div>\n",
       "<table border=\"1\" class=\"dataframe\">\n",
       "  <thead>\n",
       "    <tr style=\"text-align: right;\">\n",
       "      <th></th>\n",
       "      <th>0</th>\n",
       "      <th>1</th>\n",
       "      <th>2</th>\n",
       "      <th>3</th>\n",
       "      <th>4</th>\n",
       "      <th>5</th>\n",
       "      <th>6</th>\n",
       "      <th>7</th>\n",
       "      <th>8</th>\n",
       "      <th>9</th>\n",
       "      <th>...</th>\n",
       "      <th>1180</th>\n",
       "      <th>1181</th>\n",
       "      <th>1182</th>\n",
       "      <th>1183</th>\n",
       "      <th>1184</th>\n",
       "      <th>1185</th>\n",
       "      <th>1186</th>\n",
       "      <th>1187</th>\n",
       "      <th>1188</th>\n",
       "      <th>1189</th>\n",
       "    </tr>\n",
       "  </thead>\n",
       "  <tbody>\n",
       "    <tr>\n",
       "      <th>0</th>\n",
       "      <td>1.0</td>\n",
       "      <td>0.0</td>\n",
       "      <td>0.0</td>\n",
       "      <td>1.0</td>\n",
       "      <td>1.0</td>\n",
       "      <td>0.0</td>\n",
       "      <td>0.0</td>\n",
       "      <td>1.0</td>\n",
       "      <td>1.0</td>\n",
       "      <td>0.0</td>\n",
       "      <td>...</td>\n",
       "      <td>-0.892941</td>\n",
       "      <td>1.110234</td>\n",
       "      <td>-0.871854</td>\n",
       "      <td>-0.989339</td>\n",
       "      <td>1.123537</td>\n",
       "      <td>1.647215</td>\n",
       "      <td>0.450314</td>\n",
       "      <td>0.563870</td>\n",
       "      <td>1.403248</td>\n",
       "      <td>1.007620</td>\n",
       "    </tr>\n",
       "    <tr>\n",
       "      <th>1</th>\n",
       "      <td>1.0</td>\n",
       "      <td>0.0</td>\n",
       "      <td>0.0</td>\n",
       "      <td>1.0</td>\n",
       "      <td>1.0</td>\n",
       "      <td>0.0</td>\n",
       "      <td>1.0</td>\n",
       "      <td>0.0</td>\n",
       "      <td>1.0</td>\n",
       "      <td>0.0</td>\n",
       "      <td>...</td>\n",
       "      <td>1.559821</td>\n",
       "      <td>-0.135754</td>\n",
       "      <td>-0.112264</td>\n",
       "      <td>0.747696</td>\n",
       "      <td>-0.749060</td>\n",
       "      <td>-0.231931</td>\n",
       "      <td>-0.702751</td>\n",
       "      <td>-0.546698</td>\n",
       "      <td>0.683287</td>\n",
       "      <td>-0.839662</td>\n",
       "    </tr>\n",
       "    <tr>\n",
       "      <th>2</th>\n",
       "      <td>1.0</td>\n",
       "      <td>0.0</td>\n",
       "      <td>0.0</td>\n",
       "      <td>1.0</td>\n",
       "      <td>1.0</td>\n",
       "      <td>0.0</td>\n",
       "      <td>1.0</td>\n",
       "      <td>0.0</td>\n",
       "      <td>0.0</td>\n",
       "      <td>1.0</td>\n",
       "      <td>...</td>\n",
       "      <td>-0.245001</td>\n",
       "      <td>-1.016579</td>\n",
       "      <td>-1.040409</td>\n",
       "      <td>-1.236757</td>\n",
       "      <td>-1.615922</td>\n",
       "      <td>-0.941361</td>\n",
       "      <td>-0.467237</td>\n",
       "      <td>-0.508036</td>\n",
       "      <td>-1.696411</td>\n",
       "      <td>1.208015</td>\n",
       "    </tr>\n",
       "    <tr>\n",
       "      <th>3</th>\n",
       "      <td>0.0</td>\n",
       "      <td>1.0</td>\n",
       "      <td>0.0</td>\n",
       "      <td>1.0</td>\n",
       "      <td>1.0</td>\n",
       "      <td>0.0</td>\n",
       "      <td>0.0</td>\n",
       "      <td>1.0</td>\n",
       "      <td>1.0</td>\n",
       "      <td>0.0</td>\n",
       "      <td>...</td>\n",
       "      <td>-0.086043</td>\n",
       "      <td>-0.125015</td>\n",
       "      <td>-0.429909</td>\n",
       "      <td>-0.867203</td>\n",
       "      <td>-1.013009</td>\n",
       "      <td>-0.200335</td>\n",
       "      <td>-0.761220</td>\n",
       "      <td>-0.796694</td>\n",
       "      <td>0.657995</td>\n",
       "      <td>0.591953</td>\n",
       "    </tr>\n",
       "    <tr>\n",
       "      <th>4</th>\n",
       "      <td>1.0</td>\n",
       "      <td>0.0</td>\n",
       "      <td>0.0</td>\n",
       "      <td>1.0</td>\n",
       "      <td>1.0</td>\n",
       "      <td>0.0</td>\n",
       "      <td>0.0</td>\n",
       "      <td>1.0</td>\n",
       "      <td>1.0</td>\n",
       "      <td>0.0</td>\n",
       "      <td>...</td>\n",
       "      <td>1.121420</td>\n",
       "      <td>-1.816004</td>\n",
       "      <td>-1.698643</td>\n",
       "      <td>-1.486329</td>\n",
       "      <td>-2.073037</td>\n",
       "      <td>-1.737857</td>\n",
       "      <td>-1.508394</td>\n",
       "      <td>-1.529282</td>\n",
       "      <td>-1.303842</td>\n",
       "      <td>-0.155206</td>\n",
       "    </tr>\n",
       "  </tbody>\n",
       "</table>\n",
       "<p>5 rows × 1190 columns</p>\n",
       "</div>"
      ],
      "text/plain": [
       "   0     1     2     3     4     5     6     7     8     9       ...     \\\n",
       "0   1.0   0.0   0.0   1.0   1.0   0.0   0.0   1.0   1.0   0.0    ...      \n",
       "1   1.0   0.0   0.0   1.0   1.0   0.0   1.0   0.0   1.0   0.0    ...      \n",
       "2   1.0   0.0   0.0   1.0   1.0   0.0   1.0   0.0   0.0   1.0    ...      \n",
       "3   0.0   1.0   0.0   1.0   1.0   0.0   0.0   1.0   1.0   0.0    ...      \n",
       "4   1.0   0.0   0.0   1.0   1.0   0.0   0.0   1.0   1.0   0.0    ...      \n",
       "\n",
       "       1180      1181      1182      1183      1184      1185      1186  \\\n",
       "0 -0.892941  1.110234 -0.871854 -0.989339  1.123537  1.647215  0.450314   \n",
       "1  1.559821 -0.135754 -0.112264  0.747696 -0.749060 -0.231931 -0.702751   \n",
       "2 -0.245001 -1.016579 -1.040409 -1.236757 -1.615922 -0.941361 -0.467237   \n",
       "3 -0.086043 -0.125015 -0.429909 -0.867203 -1.013009 -0.200335 -0.761220   \n",
       "4  1.121420 -1.816004 -1.698643 -1.486329 -2.073037 -1.737857 -1.508394   \n",
       "\n",
       "       1187      1188      1189  \n",
       "0  0.563870  1.403248  1.007620  \n",
       "1 -0.546698  0.683287 -0.839662  \n",
       "2 -0.508036 -1.696411  1.208015  \n",
       "3 -0.796694  0.657995  0.591953  \n",
       "4 -1.529282 -1.303842 -0.155206  \n",
       "\n",
       "[5 rows x 1190 columns]"
      ]
     },
     "execution_count": 5,
     "metadata": {},
     "output_type": "execute_result"
    }
   ],
   "source": [
    "train.head()"
   ]
  },
  {
   "cell_type": "markdown",
   "metadata": {},
   "source": [
    "# Ridge Regression"
   ]
  },
  {
   "cell_type": "code",
   "execution_count": 8,
   "metadata": {
    "collapsed": true
   },
   "outputs": [],
   "source": [
    "from sklearn.linear_model import Ridge"
   ]
  },
  {
   "cell_type": "code",
   "execution_count": 9,
   "metadata": {
    "collapsed": false,
    "scrolled": true
   },
   "outputs": [
    {
     "name": "stdout",
     "output_type": "stream",
     "text": [
      "Fitting 5 folds for each of 1 candidates, totalling 5 fits\n",
      "[CV] alpha=1 .........................................................\n",
      "[CV] ......................... alpha=1, score=-0.441068, total=   9.3s\n",
      "[CV] alpha=1 .........................................................\n"
     ]
    },
    {
     "name": "stderr",
     "output_type": "stream",
     "text": [
      "[Parallel(n_jobs=1)]: Done   1 out of   1 | elapsed:    9.8s remaining:    0.0s\n"
     ]
    },
    {
     "name": "stdout",
     "output_type": "stream",
     "text": [
      "[CV] ......................... alpha=1, score=-0.437678, total=   8.7s\n",
      "[CV] alpha=1 .........................................................\n"
     ]
    },
    {
     "name": "stderr",
     "output_type": "stream",
     "text": [
      "[Parallel(n_jobs=1)]: Done   2 out of   2 | elapsed:   18.8s remaining:    0.0s\n"
     ]
    },
    {
     "name": "stdout",
     "output_type": "stream",
     "text": [
      "[CV] ......................... alpha=1, score=-0.443295, total=   7.8s\n",
      "[CV] alpha=1 .........................................................\n"
     ]
    },
    {
     "name": "stderr",
     "output_type": "stream",
     "text": [
      "[Parallel(n_jobs=1)]: Done   3 out of   3 | elapsed:   27.0s remaining:    0.0s\n"
     ]
    },
    {
     "name": "stdout",
     "output_type": "stream",
     "text": [
      "[CV] ......................... alpha=1, score=-0.442910, total=   7.5s\n",
      "[CV] alpha=1 .........................................................\n"
     ]
    },
    {
     "name": "stderr",
     "output_type": "stream",
     "text": [
      "[Parallel(n_jobs=1)]: Done   4 out of   4 | elapsed:   34.9s remaining:    0.0s\n"
     ]
    },
    {
     "name": "stdout",
     "output_type": "stream",
     "text": [
      "[CV] ......................... alpha=1, score=-0.438264, total=   7.9s\n"
     ]
    },
    {
     "name": "stderr",
     "output_type": "stream",
     "text": [
      "[Parallel(n_jobs=1)]: Done   5 out of   5 | elapsed:   43.2s remaining:    0.0s\n",
      "[Parallel(n_jobs=1)]: Done   5 out of   5 | elapsed:   43.2s finished\n"
     ]
    },
    {
     "name": "stdout",
     "output_type": "stream",
     "text": [
      "{'rank_test_score': array([1], dtype=int32), 'split4_test_score': array([-0.43826449]), 'mean_score_time': array([ 0.0750154]), 'std_test_score': array([ 0.00231524]), 'std_train_score': array([ 0.00054402]), 'split1_train_score': array([-0.43878047]), 'split0_test_score': array([-0.44106821]), 'mean_test_score': array([-0.44064321]), 'std_score_time': array([ 0.03205147]), 'split2_train_score': array([-0.43737973]), 'param_alpha': masked_array(data = [1],\n",
      "             mask = [False],\n",
      "       fill_value = ?)\n",
      ", 'split0_train_score': array([-0.43800907]), 'params': ({'alpha': 1},), 'std_fit_time': array([ 0.61320803]), 'split4_train_score': array([-0.43852283]), 'split2_test_score': array([-0.44329523]), 'split3_test_score': array([-0.44290993]), 'mean_train_score': array([-0.43804414]), 'mean_fit_time': array([ 8.18830957]), 'split3_train_score': array([-0.4375286]), 'split1_test_score': array([-0.43767816])}\n",
      "CPU times: user 1min 41s, sys: 12.2 s, total: 1min 53s\n",
      "Wall time: 51.4 s\n"
     ]
    }
   ],
   "source": [
    "%%time\n",
    "\n",
    "ridge = Ridge()\n",
    "ridge_params = {'alpha': [1]}\n",
    "ridge_grid = GridSearchCV(ridge, ridge_params, cv=5, verbose=10, scoring='neg_mean_absolute_error')\n",
    "ridge_grid.fit(train, y)\n",
    "ridge_score = ridge_grid.cv_results_\n",
    "print ridge_score"
   ]
  },
  {
   "cell_type": "code",
   "execution_count": 10,
   "metadata": {
    "collapsed": false
   },
   "outputs": [
    {
     "name": "stdout",
     "output_type": "stream",
     "text": [
      "{'alpha': 1}\n",
      "[-0.44064321]\n",
      "({'alpha': 1},)\n"
     ]
    }
   ],
   "source": [
    "# alpha = 1 is the best\n",
    "\n",
    "print ridge_grid.best_params_\n",
    "print ridge_score['mean_test_score']\n",
    "print ridge_score['params']"
   ]
  },
  {
   "cell_type": "markdown",
   "metadata": {
    "collapsed": true
   },
   "source": [
    "# Why is MAE so low? Let's try a train_test_split"
   ]
  },
  {
   "cell_type": "code",
   "execution_count": 6,
   "metadata": {
    "collapsed": true
   },
   "outputs": [],
   "source": [
    "from sklearn.model_selection import train_test_split"
   ]
  },
  {
   "cell_type": "code",
   "execution_count": 20,
   "metadata": {
    "collapsed": false
   },
   "outputs": [],
   "source": [
    "y_pred = []\n",
    "y_true = []\n",
    "for i in range(5):\n",
    "    X_train, X_test, y_train, y_test = train_test_split(train, y, test_size=0.30, random_state=42*i)\n",
    "    ridge_train_test = Ridge(alpha=1)\n",
    "    ridge_train_test.fit(X_train, y_train)\n",
    "    y_pred.append(ridge_train_test.predict(X_test))\n",
    "    y_true.append(y_test)"
   ]
  },
  {
   "cell_type": "code",
   "execution_count": 21,
   "metadata": {
    "collapsed": false
   },
   "outputs": [
    {
     "name": "stdout",
     "output_type": "stream",
     "text": [
      "[1252.9339720442265, 1259.6141218380044, 1262.0755635083622, 1238.6085712513468, 1245.4792312021364]\n"
     ]
    }
   ],
   "source": [
    "mae_func = lambda pred, true: mean_absolute_error(np.expm1(pred), np.expm1(true))\n",
    "mae = map(mae_func, y_pred, y_true)\n",
    "print mae"
   ]
  },
  {
   "cell_type": "code",
   "execution_count": null,
   "metadata": {
    "collapsed": true
   },
   "outputs": [],
   "source": []
  },
  {
   "cell_type": "markdown",
   "metadata": {},
   "source": [
    "# Random Forest"
   ]
  },
  {
   "cell_type": "code",
   "execution_count": 8,
   "metadata": {
    "collapsed": false
   },
   "outputs": [
    {
     "name": "stdout",
     "output_type": "stream",
     "text": [
      "CPU times: user 2h 42min 37s, sys: 1min 11s, total: 2h 43min 49s\n",
      "Wall time: 2h 47min 37s\n"
     ]
    }
   ],
   "source": [
    "%%time\n",
    "\n",
    "rf = RandomForestRegressor(n_estimators=100, min_samples_leaf=2, min_samples_split=4)\n",
    "\n",
    "y_pred = []\n",
    "y_true = []\n",
    "for i in range(5):\n",
    "    X_train, X_test, y_train, y_test = train_test_split(train, y, test_size=0.30, random_state=42*i)\n",
    "    rf.fit(X_train, y_train)\n",
    "    y_pred.append(rf.predict(X_test))\n",
    "    y_true.append(y_test)"
   ]
  },
  {
   "cell_type": "code",
   "execution_count": 9,
   "metadata": {
    "collapsed": false
   },
   "outputs": [
    {
     "name": "stdout",
     "output_type": "stream",
     "text": [
      "[1205.8325374129463, 1208.3821283146708, 1216.9554735298184, 1209.6614144118996, 1197.4536438551063]\n"
     ]
    }
   ],
   "source": [
    "mae_func = lambda pred, true: mean_absolute_error(np.expm1(pred), np.expm1(true))\n",
    "mae = map(mae_func, y_pred, y_true)\n",
    "print mae"
   ]
  },
  {
   "cell_type": "code",
   "execution_count": 12,
   "metadata": {
    "collapsed": false
   },
   "outputs": [
    {
     "data": {
      "text/plain": [
       "1207.6570395048882"
      ]
     },
     "execution_count": 12,
     "metadata": {},
     "output_type": "execute_result"
    }
   ],
   "source": [
    "np.mean(mae)"
   ]
  },
  {
   "cell_type": "code",
   "execution_count": 22,
   "metadata": {
    "collapsed": false
   },
   "outputs": [],
   "source": [
    "rf_final_pred = pd.DataFrame({'id':id_test, 'loss':np.expm1(rf.predict(target))})\n",
    "rf_final_pred.to_csv('submission_rf.csv', index=False)"
   ]
  },
  {
   "cell_type": "code",
   "execution_count": 25,
   "metadata": {
    "collapsed": false
   },
   "outputs": [
    {
     "data": {
      "text/plain": [
       "['rf_model.pkl']"
      ]
     },
     "execution_count": 25,
     "metadata": {},
     "output_type": "execute_result"
    }
   ],
   "source": [
    "from sklearn.externals import joblib\n",
    "joblib.dump(rf, 'rf_model.pkl', compress=9)\n",
    "\n",
    "# >>> from sklearn.externals import joblib\n",
    "# >>> model_clone = joblib.load('my_model.pkl')"
   ]
  },
  {
   "cell_type": "code",
   "execution_count": null,
   "metadata": {
    "collapsed": true
   },
   "outputs": [],
   "source": []
  },
  {
   "cell_type": "code",
   "execution_count": null,
   "metadata": {
    "collapsed": true
   },
   "outputs": [],
   "source": []
  }
 ],
 "metadata": {
  "kernelspec": {
   "display_name": "Python 2",
   "language": "python",
   "name": "python2"
  },
  "language_info": {
   "codemirror_mode": {
    "name": "ipython",
    "version": 2
   },
   "file_extension": ".py",
   "mimetype": "text/x-python",
   "name": "python",
   "nbconvert_exporter": "python",
   "pygments_lexer": "ipython2",
   "version": "2.7.10"
  }
 },
 "nbformat": 4,
 "nbformat_minor": 2
}
