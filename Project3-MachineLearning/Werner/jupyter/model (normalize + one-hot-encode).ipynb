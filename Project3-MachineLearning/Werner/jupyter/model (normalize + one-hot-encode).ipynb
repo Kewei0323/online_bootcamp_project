{
 "cells": [
  {
   "cell_type": "code",
   "execution_count": 1,
   "metadata": {
    "collapsed": false
   },
   "outputs": [],
   "source": [
    "import numpy as np\n",
    "np.random.seed(123)\n",
    "\n",
    "import pandas as pd\n",
    "from sklearn.metrics import mean_absolute_error\n",
    "from sklearn.preprocessing import StandardScaler\n",
    "from sklearn.model_selection import KFold\n",
    "from sklearn.model_selection import GridSearchCV\n",
    "from sklearn.ensemble import RandomForestRegressor\n",
    "from scipy.sparse import csr_matrix, hstack"
   ]
  },
  {
   "cell_type": "code",
   "execution_count": 2,
   "metadata": {
    "collapsed": false
   },
   "outputs": [
    {
     "name": "stdout",
     "output_type": "stream",
     "text": [
      "Data Preprocessing Begins...\n",
      "('Dim train', (188318, 1190))\n",
      "('Dim test', (125546, 1190))\n",
      "Data Preprocessing Ends...\n"
     ]
    }
   ],
   "source": [
    "print \"Data Preprocessing Begins...\"\n",
    "## Read data\n",
    "train = pd.read_csv('../data/train.csv')\n",
    "test = pd.read_csv('../data/test.csv')\n",
    "\n",
    "## Set test loss to NaN\n",
    "test['loss'] = np.nan\n",
    "\n",
    "## Response and IDs\n",
    "y = train['loss'].values\n",
    "id_train = train['id'].values\n",
    "id_test = test['id'].values\n",
    "\n",
    "## Stack train test\n",
    "ntrain = train.shape[0]\n",
    "tr_te = pd.concat((train, test), axis = 0)\n",
    "\n",
    "## Preprocessing and transforming to sparse data\n",
    "sparse_data = []\n",
    "\n",
    "f_cat = [f for f in tr_te.columns if 'cat' in f]\n",
    "for f in f_cat:\n",
    "    dummy = pd.get_dummies(tr_te[f].astype('category'))\n",
    "    tmp = csr_matrix(dummy)\n",
    "    sparse_data.append(tmp)\n",
    "\n",
    "f_num = [f for f in tr_te.columns if 'cont' in f]\n",
    "scaler = StandardScaler()\n",
    "tmp = csr_matrix(scaler.fit_transform(tr_te[f_num]))\n",
    "sparse_data.append(tmp)\n",
    "\n",
    "del(tr_te, train, test) # Deleting tr_te, train, test like garbage collection\n",
    "\n",
    "## sparse train and test data\n",
    "xtr_te = hstack(sparse_data, format = 'csr')\n",
    "xtrain = xtr_te[:ntrain, :]\n",
    "xtest = xtr_te[ntrain:, :]\n",
    "\n",
    "print('Dim train', xtrain.shape)\n",
    "print('Dim test', xtest.shape)\n",
    "\n",
    "del(xtr_te, sparse_data, tmp)\n",
    "\n",
    "print \"Data Preprocessing Ends...\""
   ]
  },
  {
   "cell_type": "code",
   "execution_count": 3,
   "metadata": {
    "collapsed": false
   },
   "outputs": [],
   "source": [
    "train = pd.DataFrame(xtrain.toarray())\n",
    "target = pd.DataFrame(xtest.toarray())"
   ]
  },
  {
   "cell_type": "code",
   "execution_count": 4,
   "metadata": {
    "collapsed": false
   },
   "outputs": [
    {
     "name": "stdout",
     "output_type": "stream",
     "text": [
      "(188318, 1190)\n",
      "(125546, 1190)\n",
      "(188318,)\n"
     ]
    }
   ],
   "source": [
    "print train.shape\n",
    "print target.shape\n",
    "print y.shape"
   ]
  },
  {
   "cell_type": "code",
   "execution_count": 21,
   "metadata": {
    "collapsed": false
   },
   "outputs": [
    {
     "name": "stdout",
     "output_type": "stream",
     "text": [
      "[  2213.18   1283.6    3005.09    939.85   2763.85   5142.87   1132.22\n",
      "   3585.75  10280.2    6184.59]\n"
     ]
    }
   ],
   "source": [
    "print y[0:10]"
   ]
  },
  {
   "cell_type": "markdown",
   "metadata": {},
   "source": [
    "# Linear Regression"
   ]
  },
  {
   "cell_type": "code",
   "execution_count": 5,
   "metadata": {
    "collapsed": true
   },
   "outputs": [],
   "source": [
    "from sklearn.linear_model import LinearRegression"
   ]
  },
  {
   "cell_type": "code",
   "execution_count": 6,
   "metadata": {
    "collapsed": false,
    "scrolled": true
   },
   "outputs": [
    {
     "name": "stdout",
     "output_type": "stream",
     "text": [
      "Fitting 5 folds for each of 1 candidates, totalling 5 fits\n",
      "[CV]  ................................................................\n"
     ]
    },
    {
     "name": "stderr",
     "output_type": "stream",
     "text": [
      "/Library/Python/2.7/site-packages/scipy/linalg/basic.py:884: RuntimeWarning: internal gelsd driver lwork query error, required iwork dimension not returned. This is likely the result of LAPACK bug 0038, fixed in LAPACK 3.2.2 (released July 21, 2010). Falling back to 'gelss' driver.\n",
      "  warnings.warn(mesg, RuntimeWarning)\n"
     ]
    },
    {
     "name": "stdout",
     "output_type": "stream",
     "text": [
      "[CV] ..................... , score=-255953457197.963135, total=  31.4s\n",
      "[CV]  ................................................................\n"
     ]
    },
    {
     "name": "stderr",
     "output_type": "stream",
     "text": [
      "[Parallel(n_jobs=1)]: Done   1 out of   1 | elapsed:   31.8s remaining:    0.0s\n"
     ]
    },
    {
     "name": "stdout",
     "output_type": "stream",
     "text": [
      "[CV] ..................... , score=-104286246548.485825, total=  29.9s\n",
      "[CV]  ................................................................\n"
     ]
    },
    {
     "name": "stderr",
     "output_type": "stream",
     "text": [
      "[Parallel(n_jobs=1)]: Done   2 out of   2 | elapsed:  1.0min remaining:    0.0s\n"
     ]
    },
    {
     "name": "stdout",
     "output_type": "stream",
     "text": [
      "[CV] ...................... , score=-83666974998.574509, total=  28.1s\n",
      "[CV]  ................................................................\n"
     ]
    },
    {
     "name": "stderr",
     "output_type": "stream",
     "text": [
      "[Parallel(n_jobs=1)]: Done   3 out of   3 | elapsed:  1.5min remaining:    0.0s\n"
     ]
    },
    {
     "name": "stdout",
     "output_type": "stream",
     "text": [
      "[CV] ..................... , score=-171772380297.980011, total=  29.4s\n",
      "[CV]  ................................................................\n"
     ]
    },
    {
     "name": "stderr",
     "output_type": "stream",
     "text": [
      "[Parallel(n_jobs=1)]: Done   4 out of   4 | elapsed:  2.0min remaining:    0.0s\n"
     ]
    },
    {
     "name": "stdout",
     "output_type": "stream",
     "text": [
      "[CV] ...................... , score=-65855828358.473419, total=  28.1s\n"
     ]
    },
    {
     "name": "stderr",
     "output_type": "stream",
     "text": [
      "[Parallel(n_jobs=1)]: Done   5 out of   5 | elapsed:  2.5min finished\n"
     ]
    },
    {
     "name": "stdout",
     "output_type": "stream",
     "text": [
      "{'rank_test_score': array([1], dtype=int32), 'split4_test_score': array([ -6.58558284e+10]), 'mean_score_time': array([ 0.04852362]), 'std_test_score': array([  6.97607764e+10]), 'std_train_score': array([ 2.74936666]), 'split1_train_score': array([-1292.71955136]), 'split0_test_score': array([ -2.55953457e+11]), 'mean_test_score': array([ -1.36307163e+11]), 'std_score_time': array([ 0.00992465]), 'split2_train_score': array([-1285.02110505]), 'split0_train_score': array([-1286.62751503]), 'params': ({},), 'std_fit_time': array([ 1.21254671]), 'split4_train_score': array([-1289.64678564]), 'split2_test_score': array([ -8.36669750e+10]), 'split3_test_score': array([ -1.71772380e+11]), 'mean_train_score': array([-1288.1121719]), 'mean_fit_time': array([ 29.34211197]), 'split3_train_score': array([-1286.54590243]), 'split1_test_score': array([ -1.04286247e+11])}\n",
      "CPU times: user 5min 50s, sys: 17.1 s, total: 6min 7s\n",
      "Wall time: 3min 2s\n"
     ]
    }
   ],
   "source": [
    "%%time\n",
    "\n",
    "lr = LinearRegression()\n",
    "lr_params = {}\n",
    "lr_grid = GridSearchCV(lr, lr_params, cv=5, verbose=5, scoring='neg_mean_absolute_error')\n",
    "lr_grid.fit(train, y)\n",
    "lr_score = lr_grid.cv_results_\n",
    "print lr_score"
   ]
  },
  {
   "cell_type": "code",
   "execution_count": 19,
   "metadata": {
    "collapsed": false
   },
   "outputs": [
    {
     "name": "stdout",
     "output_type": "stream",
     "text": [
      "{}\n",
      "Testing Score:  [ -1.36307163e+11]\n",
      "Training Score:  [-1288.1121719]\n",
      "[ -1.04286247e+11]\n",
      "({},)\n"
     ]
    }
   ],
   "source": [
    "print lr_grid.best_params_\n",
    "print 'Testing Score: ', lr_score['mean_test_score']\n",
    "print 'Training Score: ', lr_score['mean_train_score']\n",
    "print lr_score['split1_test_score']\n",
    "print lr_score['params']"
   ]
  },
  {
   "cell_type": "code",
   "execution_count": null,
   "metadata": {
    "collapsed": true
   },
   "outputs": [],
   "source": []
  },
  {
   "cell_type": "markdown",
   "metadata": {},
   "source": [
    "# Ridge Regression"
   ]
  },
  {
   "cell_type": "code",
   "execution_count": 23,
   "metadata": {
    "collapsed": true
   },
   "outputs": [],
   "source": [
    "from sklearn.linear_model import Ridge"
   ]
  },
  {
   "cell_type": "code",
   "execution_count": 6,
   "metadata": {
    "collapsed": false,
    "scrolled": true
   },
   "outputs": [
    {
     "name": "stdout",
     "output_type": "stream",
     "text": [
      "Fitting 5 folds for each of 3 candidates, totalling 15 fits\n",
      "[CV] alpha=0 .........................................................\n",
      "[CV] ............ alpha=0, score=-12185129304286.949219, total=  59.1s\n",
      "[CV] alpha=0 .........................................................\n"
     ]
    },
    {
     "name": "stderr",
     "output_type": "stream",
     "text": [
      "[Parallel(n_jobs=1)]: Done   1 out of   1 | elapsed:   59.5s remaining:    0.0s\n"
     ]
    },
    {
     "name": "stdout",
     "output_type": "stream",
     "text": [
      "[CV] ............ alpha=0, score=-20274655533760.578125, total=  53.3s\n",
      "[CV] alpha=0 .........................................................\n"
     ]
    },
    {
     "name": "stderr",
     "output_type": "stream",
     "text": [
      "[Parallel(n_jobs=1)]: Done   2 out of   2 | elapsed:  1.9min remaining:    0.0s\n"
     ]
    },
    {
     "name": "stdout",
     "output_type": "stream",
     "text": [
      "[CV] ............ alpha=0, score=-15571520972675.888672, total=  51.9s\n",
      "[CV] alpha=0 .........................................................\n"
     ]
    },
    {
     "name": "stderr",
     "output_type": "stream",
     "text": [
      "[Parallel(n_jobs=1)]: Done   3 out of   3 | elapsed:  2.8min remaining:    0.0s\n"
     ]
    },
    {
     "name": "stdout",
     "output_type": "stream",
     "text": [
      "[CV] ............ alpha=0, score=-59076042165007.476562, total=  51.6s\n",
      "[CV] alpha=0 .........................................................\n"
     ]
    },
    {
     "name": "stderr",
     "output_type": "stream",
     "text": [
      "[Parallel(n_jobs=1)]: Done   4 out of   4 | elapsed:  3.6min remaining:    0.0s\n"
     ]
    },
    {
     "name": "stdout",
     "output_type": "stream",
     "text": [
      "[CV] ............ alpha=0, score=-19183642920069.519531, total=  51.4s\n",
      "[CV] alpha=0.5 .......................................................\n"
     ]
    },
    {
     "name": "stderr",
     "output_type": "stream",
     "text": [
      "[Parallel(n_jobs=1)]: Done   5 out of   5 | elapsed:  4.5min remaining:    0.0s\n"
     ]
    },
    {
     "name": "stdout",
     "output_type": "stream",
     "text": [
      "[CV] .................... alpha=0.5, score=-1307.883157, total=   7.0s\n",
      "[CV] alpha=0.5 .......................................................\n"
     ]
    },
    {
     "name": "stderr",
     "output_type": "stream",
     "text": [
      "[Parallel(n_jobs=1)]: Done   6 out of   6 | elapsed:  4.6min remaining:    0.0s\n"
     ]
    },
    {
     "name": "stdout",
     "output_type": "stream",
     "text": [
      "[CV] .................... alpha=0.5, score=-1286.911971, total=   6.9s\n",
      "[CV] alpha=0.5 .......................................................\n"
     ]
    },
    {
     "name": "stderr",
     "output_type": "stream",
     "text": [
      "[Parallel(n_jobs=1)]: Done   7 out of   7 | elapsed:  4.7min remaining:    0.0s\n"
     ]
    },
    {
     "name": "stdout",
     "output_type": "stream",
     "text": [
      "[CV] .................... alpha=0.5, score=-1302.040743, total=   6.9s\n",
      "[CV] alpha=0.5 .......................................................\n"
     ]
    },
    {
     "name": "stderr",
     "output_type": "stream",
     "text": [
      "[Parallel(n_jobs=1)]: Done   8 out of   8 | elapsed:  4.8min remaining:    0.0s\n"
     ]
    },
    {
     "name": "stdout",
     "output_type": "stream",
     "text": [
      "[CV] .................... alpha=0.5, score=-1308.394153, total=   6.8s\n",
      "[CV] alpha=0.5 .......................................................\n"
     ]
    },
    {
     "name": "stderr",
     "output_type": "stream",
     "text": [
      "[Parallel(n_jobs=1)]: Done   9 out of   9 | elapsed:  5.0min remaining:    0.0s\n"
     ]
    },
    {
     "name": "stdout",
     "output_type": "stream",
     "text": [
      "[CV] .................... alpha=0.5, score=-1296.707493, total=   6.9s\n",
      "[CV] alpha=1 .........................................................\n",
      "[CV] ...................... alpha=1, score=-1307.444786, total=   6.9s\n",
      "[CV] alpha=1 .........................................................\n",
      "[CV] ...................... alpha=1, score=-1286.661660, total=   6.8s\n",
      "[CV] alpha=1 .........................................................\n",
      "[CV] ...................... alpha=1, score=-1302.007380, total=   6.9s\n",
      "[CV] alpha=1 .........................................................\n",
      "[CV] ...................... alpha=1, score=-1308.164960, total=   6.8s\n",
      "[CV] alpha=1 .........................................................\n",
      "[CV] ...................... alpha=1, score=-1296.234262, total=   6.8s\n"
     ]
    },
    {
     "name": "stderr",
     "output_type": "stream",
     "text": [
      "[Parallel(n_jobs=1)]: Done  15 out of  15 | elapsed:  5.7min finished\n"
     ]
    },
    {
     "name": "stdout",
     "output_type": "stream",
     "text": [
      "{'rank_test_score': array([3, 2, 1], dtype=int32), 'split4_test_score': array([ -1.91836429e+13,  -1.29670749e+03,  -1.29623426e+03]), 'mean_score_time': array([ 0.05279422,  0.04340591,  0.04262638]), 'std_test_score': array([  1.71470324e+13,   7.97694477e+00,   7.97698822e+00]), 'std_train_score': array([ 5.59252372,  2.42294137,  2.4823798 ]), 'split1_train_score': array([-1299.38312882, -1292.60559056, -1293.19705978]), 'split0_test_score': array([ -1.21851293e+13,  -1.30788316e+03,  -1.30744479e+03]), 'mean_test_score': array([ -2.52580509e+13,  -1.30038748e+03,  -1.30010259e+03]), 'std_score_time': array([ 0.01234605,  0.00145701,  0.00082212]), 'split2_train_score': array([-1293.17861484, -1286.14683794, -1286.63940474]), 'param_alpha': masked_array(data = [0 0.5 1],\n",
      "             mask = [False False False],\n",
      "       fill_value = ?)\n",
      ", 'split0_train_score': array([-1286.28439212, -1288.12383397, -1288.67258803]), 'params': ({'alpha': 0}, {'alpha': 0.5}, {'alpha': 1}), 'std_fit_time': array([ 2.89685143,  0.05364172,  0.03433297]), 'split4_train_score': array([-1290.46107365, -1290.349959  , -1290.99647867]), 'split2_test_score': array([ -1.55715210e+13,  -1.30204074e+03,  -1.30200738e+03]), 'split3_test_score': array([ -5.90760422e+13,  -1.30839415e+03,  -1.30816496e+03]), 'mean_train_score': array([-1294.14163864, -1288.75891243, -1289.30182262]), 'mean_fit_time': array([ 53.43107934,   6.85197344,   6.80516777]), 'split3_train_score': array([-1301.40098377, -1286.56834066, -1287.00358187]), 'split1_test_score': array([ -2.02746555e+13,  -1.28691197e+03,  -1.28666166e+03])}\n",
      "CPU times: user 14min 36s, sys: 36.3 s, total: 15min 13s\n",
      "Wall time: 5min 48s\n"
     ]
    }
   ],
   "source": [
    "%%time\n",
    "\n",
    "ridge = Ridge()\n",
    "ridge_params = {'alpha': [0, 0.5, 1]}\n",
    "ridge_grid = GridSearchCV(ridge, ridge_params, cv=5, verbose=10, scoring='neg_mean_absolute_error')\n",
    "ridge_grid.fit(train, y)\n",
    "ridge_score = ridge_grid.cv_results_\n",
    "print ridge_score"
   ]
  },
  {
   "cell_type": "code",
   "execution_count": 15,
   "metadata": {
    "collapsed": false
   },
   "outputs": [
    {
     "ename": "NameError",
     "evalue": "name 'ridge_grid' is not defined",
     "output_type": "error",
     "traceback": [
      "\u001b[0;31m---------------------------------------------------------------------------\u001b[0m",
      "\u001b[0;31mNameError\u001b[0m                                 Traceback (most recent call last)",
      "\u001b[0;32m<ipython-input-15-5dceec02bfaa>\u001b[0m in \u001b[0;36m<module>\u001b[0;34m()\u001b[0m\n\u001b[0;32m----> 1\u001b[0;31m \u001b[0;32mprint\u001b[0m \u001b[0mridge_grid\u001b[0m\u001b[0;34m.\u001b[0m\u001b[0mbest_params_\u001b[0m\u001b[0;34m\u001b[0m\u001b[0m\n\u001b[0m\u001b[1;32m      2\u001b[0m \u001b[0;32mprint\u001b[0m \u001b[0mridge_score\u001b[0m\u001b[0;34m[\u001b[0m\u001b[0;34m'mean_test_score'\u001b[0m\u001b[0;34m]\u001b[0m\u001b[0;34m\u001b[0m\u001b[0m\n\u001b[1;32m      3\u001b[0m \u001b[0;32mprint\u001b[0m \u001b[0mridge_score\u001b[0m\u001b[0;34m[\u001b[0m\u001b[0;34m'params'\u001b[0m\u001b[0;34m]\u001b[0m\u001b[0;34m\u001b[0m\u001b[0m\n",
      "\u001b[0;31mNameError\u001b[0m: name 'ridge_grid' is not defined"
     ]
    }
   ],
   "source": [
    "# alpha = 1 is the best\n",
    "\n",
    "print ridge_grid.best_params_\n",
    "print ridge_score['mean_test_score']\n",
    "print ridge_score['params']"
   ]
  },
  {
   "cell_type": "markdown",
   "metadata": {
    "collapsed": true
   },
   "source": [
    "##### 'mean_test_score': array([ -2.52580509e+13,  -1.30038748e+03,  -1.30010259e+03])\n",
    "##### 'mean_train_score': [-1294.14163864, -1288.75891243, -1289.30182262]"
   ]
  },
  {
   "cell_type": "code",
   "execution_count": null,
   "metadata": {
    "collapsed": true
   },
   "outputs": [],
   "source": []
  },
  {
   "cell_type": "code",
   "execution_count": null,
   "metadata": {
    "collapsed": true
   },
   "outputs": [],
   "source": []
  },
  {
   "cell_type": "markdown",
   "metadata": {},
   "source": [
    "# Lasso Regression"
   ]
  },
  {
   "cell_type": "code",
   "execution_count": 7,
   "metadata": {
    "collapsed": true
   },
   "outputs": [],
   "source": [
    "from sklearn.linear_model import Lasso"
   ]
  },
  {
   "cell_type": "code",
   "execution_count": 8,
   "metadata": {
    "collapsed": false,
    "scrolled": true
   },
   "outputs": [
    {
     "name": "stdout",
     "output_type": "stream",
     "text": [
      "Fitting 5 folds for each of 3 candidates, totalling 15 fits\n",
      "[CV] alpha=0.001 .....................................................\n"
     ]
    },
    {
     "name": "stderr",
     "output_type": "stream",
     "text": [
      "/Library/Python/2.7/site-packages/sklearn/linear_model/coordinate_descent.py:484: ConvergenceWarning: Objective did not converge. You might want to increase the number of iterations. Fitting data with very small alpha may cause precision problems.\n",
      "  ConvergenceWarning)\n"
     ]
    },
    {
     "name": "stdout",
     "output_type": "stream",
     "text": [
      "[CV] .................. alpha=0.001, score=-1308.593914, total= 5.1min\n",
      "[CV] alpha=0.001 .....................................................\n"
     ]
    },
    {
     "name": "stderr",
     "output_type": "stream",
     "text": [
      "[Parallel(n_jobs=1)]: Done   1 out of   1 | elapsed:  5.1min remaining:    0.0s\n"
     ]
    },
    {
     "name": "stdout",
     "output_type": "stream",
     "text": [
      "[CV] .................. alpha=0.001, score=-1288.165399, total= 5.3min\n",
      "[CV] alpha=0.001 .....................................................\n"
     ]
    },
    {
     "name": "stderr",
     "output_type": "stream",
     "text": [
      "[Parallel(n_jobs=1)]: Done   2 out of   2 | elapsed: 10.4min remaining:    0.0s\n"
     ]
    },
    {
     "name": "stdout",
     "output_type": "stream",
     "text": [
      "[CV] .................. alpha=0.001, score=-1302.029099, total= 5.4min\n",
      "[CV] alpha=0.001 .....................................................\n"
     ]
    },
    {
     "name": "stderr",
     "output_type": "stream",
     "text": [
      "[Parallel(n_jobs=1)]: Done   3 out of   3 | elapsed: 15.8min remaining:    0.0s\n"
     ]
    },
    {
     "name": "stdout",
     "output_type": "stream",
     "text": [
      "[CV] .................. alpha=0.001, score=-1308.748071, total= 5.4min\n",
      "[CV] alpha=0.001 .....................................................\n"
     ]
    },
    {
     "name": "stderr",
     "output_type": "stream",
     "text": [
      "[Parallel(n_jobs=1)]: Done   4 out of   4 | elapsed: 21.2min remaining:    0.0s\n"
     ]
    },
    {
     "name": "stdout",
     "output_type": "stream",
     "text": [
      "[CV] .................. alpha=0.001, score=-1297.891505, total= 6.0min\n",
      "[CV] alpha=0.01 ......................................................\n"
     ]
    },
    {
     "name": "stderr",
     "output_type": "stream",
     "text": [
      "[Parallel(n_jobs=1)]: Done   5 out of   5 | elapsed: 27.2min remaining:    0.0s\n"
     ]
    },
    {
     "name": "stdout",
     "output_type": "stream",
     "text": [
      "[CV] ................... alpha=0.01, score=-1307.322043, total= 6.5min\n",
      "[CV] alpha=0.01 ......................................................\n"
     ]
    },
    {
     "name": "stderr",
     "output_type": "stream",
     "text": [
      "[Parallel(n_jobs=1)]: Done   6 out of   6 | elapsed: 33.7min remaining:    0.0s\n"
     ]
    },
    {
     "name": "stdout",
     "output_type": "stream",
     "text": [
      "[CV] ................... alpha=0.01, score=-1287.231474, total= 6.8min\n",
      "[CV] alpha=0.01 ......................................................\n"
     ]
    },
    {
     "name": "stderr",
     "output_type": "stream",
     "text": [
      "[Parallel(n_jobs=1)]: Done   7 out of   7 | elapsed: 40.5min remaining:    0.0s\n"
     ]
    },
    {
     "name": "stdout",
     "output_type": "stream",
     "text": [
      "[CV] ................... alpha=0.01, score=-1301.340764, total= 7.6min\n",
      "[CV] alpha=0.01 ......................................................\n"
     ]
    },
    {
     "name": "stderr",
     "output_type": "stream",
     "text": [
      "[Parallel(n_jobs=1)]: Done   8 out of   8 | elapsed: 48.1min remaining:    0.0s\n"
     ]
    },
    {
     "name": "stdout",
     "output_type": "stream",
     "text": [
      "[CV] ................... alpha=0.01, score=-1307.551453, total= 6.6min\n",
      "[CV] alpha=0.01 ......................................................\n"
     ]
    },
    {
     "name": "stderr",
     "output_type": "stream",
     "text": [
      "[Parallel(n_jobs=1)]: Done   9 out of   9 | elapsed: 54.7min remaining:    0.0s\n"
     ]
    },
    {
     "name": "stdout",
     "output_type": "stream",
     "text": [
      "[CV] ................... alpha=0.01, score=-1297.176764, total= 6.4min\n",
      "[CV] alpha=0.1 .......................................................\n",
      "[CV] .................... alpha=0.1, score=-1304.643747, total= 4.9min\n",
      "[CV] alpha=0.1 .......................................................\n",
      "[CV] .................... alpha=0.1, score=-1285.607694, total= 5.0min\n",
      "[CV] alpha=0.1 .......................................................\n",
      "[CV] .................... alpha=0.1, score=-1299.677042, total= 4.6min\n",
      "[CV] alpha=0.1 .......................................................\n",
      "[CV] .................... alpha=0.1, score=-1305.632310, total= 5.4min\n",
      "[CV] alpha=0.1 .......................................................\n",
      "[CV] .................... alpha=0.1, score=-1295.441861, total= 5.3min\n"
     ]
    },
    {
     "name": "stderr",
     "output_type": "stream",
     "text": [
      "[Parallel(n_jobs=1)]: Done  15 out of  15 | elapsed: 86.4min finished\n"
     ]
    },
    {
     "name": "stdout",
     "output_type": "stream",
     "text": [
      "{'rank_test_score': array([3, 2, 1], dtype=int32), 'split4_test_score': array([-1297.89150534, -1297.1767642 , -1295.44186061]), 'mean_score_time': array([ 0.05173259,  0.06347156,  0.08040247]), 'std_test_score': array([ 7.65654665,  7.52813564,  7.28172265]), 'std_train_score': array([ 2.27338586,  2.29467585,  2.52681447]), 'split1_train_score': array([-1291.73544383, -1292.21290015, -1294.83260671]), 'split0_test_score': array([-1308.59391355, -1307.32204279, -1304.64374734]), 'mean_test_score': array([-1301.08557395, -1300.1244758 , -1298.20050603]), 'std_score_time': array([ 0.01179661,  0.01224095,  0.06874835]), 'split2_train_score': array([-1285.49265582, -1285.88230206, -1287.81182199]), 'param_alpha': masked_array(data = [0.001 0.01 0.1],\n",
      "             mask = [False False False],\n",
      "       fill_value = ?)\n",
      ", 'split0_train_score': array([-1287.35798139, -1287.80445878, -1290.05850755]), 'params': ({'alpha': 0.001}, {'alpha': 0.01}, {'alpha': 0.1}), 'std_fit_time': array([ 18.65022024,  25.5397741 ,  17.16296618]), 'split4_train_score': array([-1289.17507861, -1289.58556293, -1291.74636607]), 'split2_test_score': array([-1302.029099  , -1301.34076374, -1299.67704195]), 'split3_test_score': array([-1308.74807109, -1307.55145312, -1305.63231046]), 'mean_train_score': array([-1287.96156639, -1288.39282065, -1290.57952161]), 'mean_fit_time': array([ 326.16292214,  406.70915737,  301.97307072]), 'split3_train_score': array([-1286.04667231, -1286.47887931, -1288.44830573]), 'split1_test_score': array([-1288.16539941, -1287.23147406, -1285.60769386])}\n",
      "CPU times: user 1h 30min 46s, sys: 1min 13s, total: 1h 31min 59s\n",
      "Wall time: 1h 32min 55s\n"
     ]
    }
   ],
   "source": [
    "%%time\n",
    "\n",
    "lasso = Lasso()\n",
    "lasso_params = {'alpha': [0.001, 0.01, 0.1]}\n",
    "lasso_grid = GridSearchCV(lasso, lasso_params, cv=5, verbose=10, scoring='neg_mean_absolute_error')\n",
    "lasso_grid.fit(train, y)\n",
    "lasso_score = lasso_grid.cv_results_\n",
    "print lasso_score"
   ]
  },
  {
   "cell_type": "code",
   "execution_count": 14,
   "metadata": {
    "collapsed": false
   },
   "outputs": [
    {
     "name": "stdout",
     "output_type": "stream",
     "text": [
      "{'alpha': 0.1}\n",
      "[-1301.08557395 -1300.1244758  -1298.20050603]\n",
      "({'alpha': 0.001}, {'alpha': 0.01}, {'alpha': 0.1})\n"
     ]
    }
   ],
   "source": [
    "print lasso_grid.best_params_\n",
    "print \"Test score: \", lasso_score['mean_test_score']\n",
    "print \"Train score: \", lasso_score['mean_test_score']\n",
    "print lasso_score['params']"
   ]
  },
  {
   "cell_type": "code",
   "execution_count": null,
   "metadata": {
    "collapsed": true
   },
   "outputs": [],
   "source": [
    "### 'mean_train_score': array([-1287.96156639, -1288.39282065, -1290.57952161])"
   ]
  },
  {
   "cell_type": "code",
   "execution_count": null,
   "metadata": {
    "collapsed": true
   },
   "outputs": [],
   "source": []
  },
  {
   "cell_type": "markdown",
   "metadata": {},
   "source": [
    "# Random Forest"
   ]
  },
  {
   "cell_type": "code",
   "execution_count": 5,
   "metadata": {
    "collapsed": false
   },
   "outputs": [
    {
     "name": "stdout",
     "output_type": "stream",
     "text": [
      "Fitting 5 folds for each of 1 candidates, totalling 5 fits\n"
     ]
    },
    {
     "name": "stderr",
     "output_type": "stream",
     "text": [
      "[Parallel(n_jobs=2)]: Done   5 out of   5 | elapsed: 175.1min finished\n"
     ]
    },
    {
     "name": "stdout",
     "output_type": "stream",
     "text": [
      "CPU times: user 1h 5min 18s, sys: 55.8 s, total: 1h 6min 14s\n",
      "Wall time: 4h 5min 55s\n"
     ]
    }
   ],
   "source": [
    "%%time\n",
    "\n",
    "rf = RandomForestRegressor()\n",
    "rf_params = {'n_estimators': [100], 'min_samples_leaf': [2], 'min_samples_split': [4]}\n",
    "rf_grid = GridSearchCV(rf, rf_params, cv=5, verbose=1, scoring='neg_mean_absolute_error')\n",
    "rf_grid.fit(train, y)\n",
    "rf_score = rf_grid.cv_results_"
   ]
  },
  {
   "cell_type": "code",
   "execution_count": 9,
   "metadata": {
    "collapsed": false
   },
   "outputs": [
    {
     "data": {
      "text/plain": [
       "array([ 1971.33230627])"
      ]
     },
     "execution_count": 9,
     "metadata": {},
     "output_type": "execute_result"
    }
   ],
   "source": [
    "np.sqrt(-rf_score['mean_test_score'])"
   ]
  },
  {
   "cell_type": "code",
   "execution_count": 7,
   "metadata": {
    "collapsed": false
   },
   "outputs": [
    {
     "data": {
      "text/plain": [
       "{'mean_fit_time': array([ 3642.52908106]),\n",
       " 'mean_score_time': array([ 3.25899296]),\n",
       " 'mean_test_score': array([-3886151.06174344]),\n",
       " 'mean_train_score': array([-882690.69072449]),\n",
       " 'param_min_samples_leaf': masked_array(data = [2],\n",
       "              mask = [False],\n",
       "        fill_value = ?),\n",
       " 'param_min_samples_split': masked_array(data = [4],\n",
       "              mask = [False],\n",
       "        fill_value = ?),\n",
       " 'param_n_estimators': masked_array(data = [100],\n",
       "              mask = [False],\n",
       "        fill_value = ?),\n",
       " 'params': ({'min_samples_leaf': 2,\n",
       "   'min_samples_split': 4,\n",
       "   'n_estimators': 100},),\n",
       " 'rank_test_score': array([1], dtype=int32),\n",
       " 'split0_test_score': array([-3904584.8602431]),\n",
       " 'split0_train_score': array([-887201.03108566]),\n",
       " 'split1_test_score': array([-3911557.51979802]),\n",
       " 'split1_train_score': array([-881482.54125619]),\n",
       " 'split2_test_score': array([-4062504.0305523]),\n",
       " 'split2_train_score': array([-851372.03587125]),\n",
       " 'split3_test_score': array([-3894547.36808593]),\n",
       " 'split3_train_score': array([-888681.76203285]),\n",
       " 'split4_test_score': array([-3657555.68363088]),\n",
       " 'split4_train_score': array([-904716.08337647]),\n",
       " 'std_fit_time': array([ 477.49182292]),\n",
       " 'std_score_time': array([ 0.47103492]),\n",
       " 'std_test_score': array([ 129931.91653778]),\n",
       " 'std_train_score': array([ 17456.64225459])}"
      ]
     },
     "execution_count": 7,
     "metadata": {},
     "output_type": "execute_result"
    }
   ],
   "source": [
    "rf_score['mean_test_score']"
   ]
  },
  {
   "cell_type": "markdown",
   "metadata": {
    "collapsed": true
   },
   "source": [
    "# Support Vector Machine Regressor"
   ]
  },
  {
   "cell_type": "code",
   "execution_count": null,
   "metadata": {
    "collapsed": false
   },
   "outputs": [
    {
     "name": "stdout",
     "output_type": "stream",
     "text": [
      "Fitting 5 folds for each of 1 candidates, totalling 5 fits\n",
      "[CV] kernel=rbf, C=1.0 ...............................................\n",
      "[CV] kernel=rbf, C=1.0 ...............................................\n"
     ]
    }
   ],
   "source": [
    "%%time\n",
    "# Takes too long to run\n",
    "\n",
    "# from sklearn.svm import SVR\n",
    "\n",
    "# svr = SVR()\n",
    "# svr_params = {'kernel': ['rbf'], 'C': [1.0]}\n",
    "# svr_grid = GridSearchCV(svr, svr_params, cv=5, verbose=3, scoring='neg_mean_absolute_error')\n",
    "# svr_grid.fit(train, y)\n",
    "# svr_score = svr_grid.cv_results_"
   ]
  },
  {
   "cell_type": "code",
   "execution_count": null,
   "metadata": {
    "collapsed": true
   },
   "outputs": [],
   "source": []
  },
  {
   "cell_type": "code",
   "execution_count": null,
   "metadata": {
    "collapsed": true
   },
   "outputs": [],
   "source": []
  },
  {
   "cell_type": "code",
   "execution_count": null,
   "metadata": {
    "collapsed": true
   },
   "outputs": [],
   "source": []
  },
  {
   "cell_type": "code",
   "execution_count": null,
   "metadata": {
    "collapsed": true
   },
   "outputs": [],
   "source": []
  },
  {
   "cell_type": "code",
   "execution_count": null,
   "metadata": {
    "collapsed": true
   },
   "outputs": [],
   "source": []
  }
 ],
 "metadata": {
  "kernelspec": {
   "display_name": "Python 2",
   "language": "python",
   "name": "python2"
  },
  "language_info": {
   "codemirror_mode": {
    "name": "ipython",
    "version": 2
   },
   "file_extension": ".py",
   "mimetype": "text/x-python",
   "name": "python",
   "nbconvert_exporter": "python",
   "pygments_lexer": "ipython2",
   "version": "2.7.10"
  }
 },
 "nbformat": 4,
 "nbformat_minor": 2
}
