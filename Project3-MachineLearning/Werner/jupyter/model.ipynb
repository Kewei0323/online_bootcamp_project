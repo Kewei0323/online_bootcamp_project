{
 "cells": [
  {
   "cell_type": "code",
   "execution_count": 1,
   "metadata": {
    "collapsed": false
   },
   "outputs": [],
   "source": [
    "import numpy as np\n",
    "np.random.seed(123)\n",
    "\n",
    "import pandas as pd\n",
    "from sklearn.metrics import mean_absolute_error\n",
    "from sklearn.preprocessing import StandardScaler\n",
    "from sklearn.model_selection import KFold\n",
    "from sklearn.model_selection import GridSearchCV\n",
    "from sklearn.ensemble import RandomForestRegressor\n",
    "from scipy.sparse import csr_matrix, hstack"
   ]
  },
  {
   "cell_type": "code",
   "execution_count": 2,
   "metadata": {
    "collapsed": false
   },
   "outputs": [
    {
     "name": "stdout",
     "output_type": "stream",
     "text": [
      "Data Preprocessing Begins...\n",
      "('Dim train', (188318, 1190))\n",
      "('Dim test', (125546, 1190))\n",
      "Data Preprocessing Ends...\n"
     ]
    }
   ],
   "source": [
    "print \"Data Preprocessing Begins...\"\n",
    "## Read data\n",
    "train = pd.read_csv('../data/train.csv')\n",
    "test = pd.read_csv('../data/test.csv')\n",
    "\n",
    "## Set test loss to NaN\n",
    "test['loss'] = np.nan\n",
    "\n",
    "## Response and IDs\n",
    "y = train['loss'].values\n",
    "id_train = train['id'].values\n",
    "id_test = test['id'].values\n",
    "\n",
    "## Stack train test\n",
    "ntrain = train.shape[0]\n",
    "tr_te = pd.concat((train, test), axis = 0)\n",
    "\n",
    "## Preprocessing and transforming to sparse data\n",
    "sparse_data = []\n",
    "\n",
    "f_cat = [f for f in tr_te.columns if 'cat' in f]\n",
    "for f in f_cat:\n",
    "    dummy = pd.get_dummies(tr_te[f].astype('category'))\n",
    "    tmp = csr_matrix(dummy)\n",
    "    sparse_data.append(tmp)\n",
    "\n",
    "f_num = [f for f in tr_te.columns if 'cont' in f]\n",
    "scaler = StandardScaler()\n",
    "tmp = csr_matrix(scaler.fit_transform(tr_te[f_num]))\n",
    "sparse_data.append(tmp)\n",
    "\n",
    "del(tr_te, train, test) # Deleting tr_te, train, test like garbage collection\n",
    "\n",
    "## sparse train and test data\n",
    "xtr_te = hstack(sparse_data, format = 'csr')\n",
    "xtrain = xtr_te[:ntrain, :]\n",
    "xtest = xtr_te[ntrain:, :]\n",
    "\n",
    "print('Dim train', xtrain.shape)\n",
    "print('Dim test', xtest.shape)\n",
    "\n",
    "del(xtr_te, sparse_data, tmp)\n",
    "\n",
    "print \"Data Preprocessing Ends...\""
   ]
  },
  {
   "cell_type": "code",
   "execution_count": 3,
   "metadata": {
    "collapsed": false
   },
   "outputs": [],
   "source": [
    "train = pd.DataFrame(xtrain.toarray())\n",
    "target = pd.DataFrame(xtest.toarray())"
   ]
  },
  {
   "cell_type": "code",
   "execution_count": 4,
   "metadata": {
    "collapsed": false
   },
   "outputs": [
    {
     "name": "stdout",
     "output_type": "stream",
     "text": [
      "(188318, 1190)\n",
      "(125546, 1190)\n",
      "(188318,)\n"
     ]
    }
   ],
   "source": [
    "print train.shape\n",
    "print target.shape\n",
    "print y.shape"
   ]
  },
  {
   "cell_type": "markdown",
   "metadata": {},
   "source": [
    "# Random Forest"
   ]
  },
  {
   "cell_type": "code",
   "execution_count": 5,
   "metadata": {
    "collapsed": false
   },
   "outputs": [
    {
     "name": "stdout",
     "output_type": "stream",
     "text": [
      "Fitting 5 folds for each of 1 candidates, totalling 5 fits\n"
     ]
    },
    {
     "name": "stderr",
     "output_type": "stream",
     "text": [
      "[Parallel(n_jobs=2)]: Done   5 out of   5 | elapsed: 175.1min finished\n"
     ]
    },
    {
     "name": "stdout",
     "output_type": "stream",
     "text": [
      "CPU times: user 1h 5min 18s, sys: 55.8 s, total: 1h 6min 14s\n",
      "Wall time: 4h 5min 55s\n"
     ]
    }
   ],
   "source": [
    "%%time\n",
    "\n",
    "rf = RandomForestRegressor()\n",
    "rf_params = {'n_estimators': [100], 'min_samples_leaf': [2], 'min_samples_split': [4]}\n",
    "rf_grid = GridSearchCV(rf, rf_params, cv=5, verbose=1, n_jobs=2, scoring='neg_mean_absolute_error')\n",
    "rf_grid.fit(train, y)\n",
    "rf_score = rf_grid.cv_results_"
   ]
  },
  {
   "cell_type": "code",
   "execution_count": 9,
   "metadata": {
    "collapsed": false
   },
   "outputs": [
    {
     "data": {
      "text/plain": [
       "array([ 1971.33230627])"
      ]
     },
     "execution_count": 9,
     "metadata": {},
     "output_type": "execute_result"
    }
   ],
   "source": [
    "np.sqrt(-rf_score['mean_test_score'])"
   ]
  },
  {
   "cell_type": "code",
   "execution_count": 7,
   "metadata": {
    "collapsed": false
   },
   "outputs": [
    {
     "data": {
      "text/plain": [
       "{'mean_fit_time': array([ 3642.52908106]),\n",
       " 'mean_score_time': array([ 3.25899296]),\n",
       " 'mean_test_score': array([-3886151.06174344]),\n",
       " 'mean_train_score': array([-882690.69072449]),\n",
       " 'param_min_samples_leaf': masked_array(data = [2],\n",
       "              mask = [False],\n",
       "        fill_value = ?),\n",
       " 'param_min_samples_split': masked_array(data = [4],\n",
       "              mask = [False],\n",
       "        fill_value = ?),\n",
       " 'param_n_estimators': masked_array(data = [100],\n",
       "              mask = [False],\n",
       "        fill_value = ?),\n",
       " 'params': ({'min_samples_leaf': 2,\n",
       "   'min_samples_split': 4,\n",
       "   'n_estimators': 100},),\n",
       " 'rank_test_score': array([1], dtype=int32),\n",
       " 'split0_test_score': array([-3904584.8602431]),\n",
       " 'split0_train_score': array([-887201.03108566]),\n",
       " 'split1_test_score': array([-3911557.51979802]),\n",
       " 'split1_train_score': array([-881482.54125619]),\n",
       " 'split2_test_score': array([-4062504.0305523]),\n",
       " 'split2_train_score': array([-851372.03587125]),\n",
       " 'split3_test_score': array([-3894547.36808593]),\n",
       " 'split3_train_score': array([-888681.76203285]),\n",
       " 'split4_test_score': array([-3657555.68363088]),\n",
       " 'split4_train_score': array([-904716.08337647]),\n",
       " 'std_fit_time': array([ 477.49182292]),\n",
       " 'std_score_time': array([ 0.47103492]),\n",
       " 'std_test_score': array([ 129931.91653778]),\n",
       " 'std_train_score': array([ 17456.64225459])}"
      ]
     },
     "execution_count": 7,
     "metadata": {},
     "output_type": "execute_result"
    }
   ],
   "source": [
    "rf_score['mean_test_score']"
   ]
  },
  {
   "cell_type": "markdown",
   "metadata": {
    "collapsed": true
   },
   "source": [
    "# Support Vector Machine Regressor"
   ]
  },
  {
   "cell_type": "code",
   "execution_count": null,
   "metadata": {
    "collapsed": false
   },
   "outputs": [
    {
     "name": "stdout",
     "output_type": "stream",
     "text": [
      "Fitting 5 folds for each of 1 candidates, totalling 5 fits\n",
      "[CV] kernel=rbf, C=1.0 ...............................................\n",
      "[CV] kernel=rbf, C=1.0 ...............................................\n"
     ]
    }
   ],
   "source": [
    "%%time\n",
    "\n",
    "from sklearn.svm import SVR\n",
    "\n",
    "svr = SVR()\n",
    "svr_params = {'kernel': ['rbf'], 'C': [1.0]}\n",
    "svr_grid = GridSearchCV(svr, svr_params, cv=5, verbose=3, n_jobs=2, scoring='neg_mean_absolute_error')\n",
    "svr_grid.fit(train, y)\n",
    "svr_score = svr_grid.cv_results_"
   ]
  },
  {
   "cell_type": "markdown",
   "metadata": {},
   "source": [
    "# K Nearnest Neighbour"
   ]
  },
  {
   "cell_type": "code",
   "execution_count": null,
   "metadata": {
    "collapsed": true
   },
   "outputs": [],
   "source": [
    "%%time\n",
    "\n",
    "from sklearn.neighbors import KNeighborsRegressor\n",
    "\n",
    "\n"
   ]
  },
  {
   "cell_type": "code",
   "execution_count": null,
   "metadata": {
    "collapsed": true
   },
   "outputs": [],
   "source": []
  },
  {
   "cell_type": "code",
   "execution_count": null,
   "metadata": {
    "collapsed": true
   },
   "outputs": [],
   "source": []
  },
  {
   "cell_type": "code",
   "execution_count": null,
   "metadata": {
    "collapsed": true
   },
   "outputs": [],
   "source": []
  },
  {
   "cell_type": "code",
   "execution_count": null,
   "metadata": {
    "collapsed": true
   },
   "outputs": [],
   "source": []
  },
  {
   "cell_type": "code",
   "execution_count": null,
   "metadata": {
    "collapsed": true
   },
   "outputs": [],
   "source": []
  }
 ],
 "metadata": {
  "kernelspec": {
   "display_name": "Python 2",
   "language": "python",
   "name": "python2"
  },
  "language_info": {
   "codemirror_mode": {
    "name": "ipython",
    "version": 2
   },
   "file_extension": ".py",
   "mimetype": "text/x-python",
   "name": "python",
   "nbconvert_exporter": "python",
   "pygments_lexer": "ipython2",
   "version": "2.7.10"
  }
 },
 "nbformat": 4,
 "nbformat_minor": 2
}
