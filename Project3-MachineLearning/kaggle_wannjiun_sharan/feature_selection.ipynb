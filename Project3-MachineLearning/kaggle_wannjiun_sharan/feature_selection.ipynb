{
 "cells": [
  {
   "cell_type": "code",
   "execution_count": 1,
   "metadata": {
    "collapsed": false
   },
   "outputs": [
    {
     "name": "stderr",
     "output_type": "stream",
     "text": [
      "/Library/Frameworks/Python.framework/Versions/3.5/lib/python3.5/site-packages/sklearn/cross_validation.py:44: DeprecationWarning: This module was deprecated in version 0.18 in favor of the model_selection module into which all the refactored classes and functions are moved. Also note that the interface of the new CV iterators are different from that of this module. This module will be removed in 0.20.\n",
      "  \"This module will be removed in 0.20.\", DeprecationWarning)\n",
      "/Library/Frameworks/Python.framework/Versions/3.5/lib/python3.5/site-packages/sklearn/grid_search.py:43: DeprecationWarning: This module was deprecated in version 0.18 in favor of the model_selection module into which all the refactored classes and functions are moved. This module will be removed in 0.20.\n",
      "  DeprecationWarning)\n"
     ]
    }
   ],
   "source": [
    "import pandas as pd\n",
    "import numpy as np\n",
    " \n",
    "from scipy import stats\n",
    "import matplotlib.pyplot as plt\n",
    "%matplotlib inline\n",
    "import matplotlib.gridspec as gridspec\n",
    "import matplotlib as mpl\n",
    "import seaborn as sns\n",
    "from seaborn.linearmodels import *\n",
    "\n",
    "import xgboost as xgb\n",
    "\n",
    "from sklearn.cross_validation import KFold, StratifiedKFold\n",
    "from sklearn.ensemble import RandomForestRegressor, GradientBoostingRegressor,ExtraTreesRegressor\n",
    "from sklearn.cross_validation import train_test_split\n",
    "from sklearn import metrics\n",
    "from sklearn.metrics import mean_squared_error\n",
    "from sklearn.metrics import r2_score, mean_squared_error, make_scorer\n",
    "from sklearn.grid_search import GridSearchCV\n",
    "from sklearn.metrics import r2_score\n",
    "\n",
    "def rmse(y_true, y_pred):\n",
    "    return np.sqrt(mean_squared_error(y_true, y_pred)) \n",
    "\n",
    "path = './data/'\n",
    "train_file = path + 'train.csv'\n",
    "test_file = path + 'test.csv'"
   ]
  },
  {
   "cell_type": "code",
   "execution_count": 2,
   "metadata": {
    "collapsed": false
   },
   "outputs": [
    {
     "data": {
      "text/html": [
       "<div>\n",
       "<table border=\"1\" class=\"dataframe\">\n",
       "  <thead>\n",
       "    <tr style=\"text-align: right;\">\n",
       "      <th></th>\n",
       "      <th>Id</th>\n",
       "      <th>MSSubClass</th>\n",
       "      <th>MSZoning</th>\n",
       "      <th>LotFrontage</th>\n",
       "      <th>LotArea</th>\n",
       "      <th>Street</th>\n",
       "      <th>Alley</th>\n",
       "      <th>LotShape</th>\n",
       "      <th>LandContour</th>\n",
       "      <th>Utilities</th>\n",
       "      <th>...</th>\n",
       "      <th>PoolArea</th>\n",
       "      <th>PoolQC</th>\n",
       "      <th>Fence</th>\n",
       "      <th>MiscFeature</th>\n",
       "      <th>MiscVal</th>\n",
       "      <th>MoSold</th>\n",
       "      <th>YrSold</th>\n",
       "      <th>SaleType</th>\n",
       "      <th>SaleCondition</th>\n",
       "      <th>SalePrice</th>\n",
       "    </tr>\n",
       "  </thead>\n",
       "  <tbody>\n",
       "    <tr>\n",
       "      <th>0</th>\n",
       "      <td>1</td>\n",
       "      <td>60</td>\n",
       "      <td>RL</td>\n",
       "      <td>65.0</td>\n",
       "      <td>8450</td>\n",
       "      <td>Pave</td>\n",
       "      <td>NaN</td>\n",
       "      <td>Reg</td>\n",
       "      <td>Lvl</td>\n",
       "      <td>AllPub</td>\n",
       "      <td>...</td>\n",
       "      <td>0</td>\n",
       "      <td>NaN</td>\n",
       "      <td>NaN</td>\n",
       "      <td>NaN</td>\n",
       "      <td>0</td>\n",
       "      <td>2</td>\n",
       "      <td>2008</td>\n",
       "      <td>WD</td>\n",
       "      <td>Normal</td>\n",
       "      <td>208500</td>\n",
       "    </tr>\n",
       "    <tr>\n",
       "      <th>1</th>\n",
       "      <td>2</td>\n",
       "      <td>20</td>\n",
       "      <td>RL</td>\n",
       "      <td>80.0</td>\n",
       "      <td>9600</td>\n",
       "      <td>Pave</td>\n",
       "      <td>NaN</td>\n",
       "      <td>Reg</td>\n",
       "      <td>Lvl</td>\n",
       "      <td>AllPub</td>\n",
       "      <td>...</td>\n",
       "      <td>0</td>\n",
       "      <td>NaN</td>\n",
       "      <td>NaN</td>\n",
       "      <td>NaN</td>\n",
       "      <td>0</td>\n",
       "      <td>5</td>\n",
       "      <td>2007</td>\n",
       "      <td>WD</td>\n",
       "      <td>Normal</td>\n",
       "      <td>181500</td>\n",
       "    </tr>\n",
       "    <tr>\n",
       "      <th>2</th>\n",
       "      <td>3</td>\n",
       "      <td>60</td>\n",
       "      <td>RL</td>\n",
       "      <td>68.0</td>\n",
       "      <td>11250</td>\n",
       "      <td>Pave</td>\n",
       "      <td>NaN</td>\n",
       "      <td>IR1</td>\n",
       "      <td>Lvl</td>\n",
       "      <td>AllPub</td>\n",
       "      <td>...</td>\n",
       "      <td>0</td>\n",
       "      <td>NaN</td>\n",
       "      <td>NaN</td>\n",
       "      <td>NaN</td>\n",
       "      <td>0</td>\n",
       "      <td>9</td>\n",
       "      <td>2008</td>\n",
       "      <td>WD</td>\n",
       "      <td>Normal</td>\n",
       "      <td>223500</td>\n",
       "    </tr>\n",
       "    <tr>\n",
       "      <th>3</th>\n",
       "      <td>4</td>\n",
       "      <td>70</td>\n",
       "      <td>RL</td>\n",
       "      <td>60.0</td>\n",
       "      <td>9550</td>\n",
       "      <td>Pave</td>\n",
       "      <td>NaN</td>\n",
       "      <td>IR1</td>\n",
       "      <td>Lvl</td>\n",
       "      <td>AllPub</td>\n",
       "      <td>...</td>\n",
       "      <td>0</td>\n",
       "      <td>NaN</td>\n",
       "      <td>NaN</td>\n",
       "      <td>NaN</td>\n",
       "      <td>0</td>\n",
       "      <td>2</td>\n",
       "      <td>2006</td>\n",
       "      <td>WD</td>\n",
       "      <td>Abnorml</td>\n",
       "      <td>140000</td>\n",
       "    </tr>\n",
       "    <tr>\n",
       "      <th>4</th>\n",
       "      <td>5</td>\n",
       "      <td>60</td>\n",
       "      <td>RL</td>\n",
       "      <td>84.0</td>\n",
       "      <td>14260</td>\n",
       "      <td>Pave</td>\n",
       "      <td>NaN</td>\n",
       "      <td>IR1</td>\n",
       "      <td>Lvl</td>\n",
       "      <td>AllPub</td>\n",
       "      <td>...</td>\n",
       "      <td>0</td>\n",
       "      <td>NaN</td>\n",
       "      <td>NaN</td>\n",
       "      <td>NaN</td>\n",
       "      <td>0</td>\n",
       "      <td>12</td>\n",
       "      <td>2008</td>\n",
       "      <td>WD</td>\n",
       "      <td>Normal</td>\n",
       "      <td>250000</td>\n",
       "    </tr>\n",
       "  </tbody>\n",
       "</table>\n",
       "<p>5 rows × 81 columns</p>\n",
       "</div>"
      ],
      "text/plain": [
       "   Id  MSSubClass MSZoning  LotFrontage  LotArea Street Alley LotShape  \\\n",
       "0   1          60       RL         65.0     8450   Pave   NaN      Reg   \n",
       "1   2          20       RL         80.0     9600   Pave   NaN      Reg   \n",
       "2   3          60       RL         68.0    11250   Pave   NaN      IR1   \n",
       "3   4          70       RL         60.0     9550   Pave   NaN      IR1   \n",
       "4   5          60       RL         84.0    14260   Pave   NaN      IR1   \n",
       "\n",
       "  LandContour Utilities    ...     PoolArea PoolQC Fence MiscFeature MiscVal  \\\n",
       "0         Lvl    AllPub    ...            0    NaN   NaN         NaN       0   \n",
       "1         Lvl    AllPub    ...            0    NaN   NaN         NaN       0   \n",
       "2         Lvl    AllPub    ...            0    NaN   NaN         NaN       0   \n",
       "3         Lvl    AllPub    ...            0    NaN   NaN         NaN       0   \n",
       "4         Lvl    AllPub    ...            0    NaN   NaN         NaN       0   \n",
       "\n",
       "  MoSold YrSold  SaleType  SaleCondition  SalePrice  \n",
       "0      2   2008        WD         Normal     208500  \n",
       "1      5   2007        WD         Normal     181500  \n",
       "2      9   2008        WD         Normal     223500  \n",
       "3      2   2006        WD        Abnorml     140000  \n",
       "4     12   2008        WD         Normal     250000  \n",
       "\n",
       "[5 rows x 81 columns]"
      ]
     },
     "execution_count": 2,
     "metadata": {},
     "output_type": "execute_result"
    }
   ],
   "source": [
    "train_df = pd.read_csv(train_file)\n",
    "test_df = pd.read_csv(test_file) \n",
    "train_df.head()\n",
    "train_df.shape[0]\n",
    "\n",
    "train_df = train_df[:train_df.shape[0]]\n",
    "train_df.head()"
   ]
  },
  {
   "cell_type": "code",
   "execution_count": 3,
   "metadata": {
    "collapsed": false
   },
   "outputs": [
    {
     "name": "stdout",
     "output_type": "stream",
     "text": [
      "(1456, 111)\n",
      "(1459, 111)\n",
      "Training set size: (1456, 403)\n",
      "Test set size: (1459, 403)\n"
     ]
    }
   ],
   "source": [
    "train_df.drop(train_df[train_df[\"GrLivArea\"] > 4000].index, inplace=True)\n",
    "\n",
    "test_df.loc[666, \"GarageQual\"] = \"TA\"\n",
    "test_df.loc[666, \"GarageCond\"] = \"TA\"\n",
    "test_df.loc[666, \"GarageFinish\"] = \"Unf\"\n",
    "test_df.loc[666, \"GarageYrBlt\"] = \"1980\"\n",
    "\n",
    "test_df.loc[1116, \"GarageType\"] = np.nan\n",
    "\n",
    "lot_frontage_by_neighborhood = train_df[\"LotFrontage\"].groupby(train_df[\"Neighborhood\"])\n",
    "\n",
    "# Used to convert categorical features into ordinal numbers.\n",
    "# (There's probably an easier way to do this, but it works.)\n",
    "from sklearn.preprocessing import LabelEncoder\n",
    "le = LabelEncoder()\n",
    "\n",
    "def factorize(df, factor_df, column, fill_na=None):\n",
    "    factor_df[column] = df[column]\n",
    "    if fill_na is not None:\n",
    "        factor_df[column].fillna(fill_na, inplace=True)\n",
    "    le.fit(factor_df[column].unique())\n",
    "    factor_df[column] = le.transform(factor_df[column])\n",
    "    return factor_df\n",
    "\n",
    "# Combine all the (numerical) features into one big DataFrame. We don't add \n",
    "# the one-hot encoded variables here yet, that happens later on.\n",
    "def munge(df,df2,switch):\n",
    "    all_df = pd.DataFrame(index = df.index)\n",
    "   \n",
    "    all_df[\"LotFrontage\"] = df[\"LotFrontage\"]   \n",
    "    for key, group in lot_frontage_by_neighborhood:\n",
    "        idx = (df[\"Neighborhood\"] == key) & (df[\"LotFrontage\"].isnull())\n",
    "        all_df.loc[idx, \"LotFrontage\"] = group.median()    \n",
    "\n",
    "    all_df[\"LotArea\"] = df[\"LotArea\"]\n",
    "\n",
    "    all_df[\"MasVnrArea\"] = df[\"MasVnrArea\"]\n",
    "    all_df[\"MasVnrArea\"].fillna(0, inplace=True)\n",
    "   \n",
    "    all_df[\"BsmtFinSF1\"] = df[\"BsmtFinSF1\"]\n",
    "    all_df[\"BsmtFinSF1\"].fillna(0, inplace=True)\n",
    "\n",
    "    all_df[\"BsmtFinSF2\"] = df[\"BsmtFinSF2\"]\n",
    "    all_df[\"BsmtFinSF2\"].fillna(0, inplace=True)\n",
    "\n",
    "    all_df[\"BsmtUnfSF\"] = df[\"BsmtUnfSF\"]\n",
    "    all_df[\"BsmtUnfSF\"].fillna(0, inplace=True)\n",
    "\n",
    "    all_df[\"TotalBsmtSF\"] = df[\"TotalBsmtSF\"]\n",
    "    all_df[\"TotalBsmtSF\"].fillna(0, inplace=True)\n",
    "\n",
    "    all_df[\"1stFlrSF\"] = df[\"1stFlrSF\"]\n",
    "    all_df[\"2ndFlrSF\"] = df[\"2ndFlrSF\"]\n",
    "    all_df[\"GrLivArea\"] = df[\"GrLivArea\"]\n",
    "    \n",
    "    all_df[\"GarageArea\"] = df[\"GarageArea\"]\n",
    "    all_df[\"GarageArea\"].fillna(0, inplace=True)\n",
    "\n",
    "    all_df[\"WoodDeckSF\"] = df[\"WoodDeckSF\"]\n",
    "    all_df[\"OpenPorchSF\"] = df[\"OpenPorchSF\"]\n",
    "    all_df[\"EnclosedPorch\"] = df[\"EnclosedPorch\"]\n",
    "    all_df[\"3SsnPorch\"] = df[\"3SsnPorch\"]\n",
    "    all_df[\"ScreenPorch\"] = df[\"ScreenPorch\"]\n",
    "    \n",
    "    all_df[\"BsmtFullBath\"] = df[\"BsmtFullBath\"]\n",
    "    all_df[\"BsmtFullBath\"].fillna(0, inplace=True)\n",
    "\n",
    "    all_df[\"BsmtHalfBath\"] = df[\"BsmtHalfBath\"]\n",
    "    all_df[\"BsmtHalfBath\"].fillna(0, inplace=True)\n",
    "\n",
    "    all_df[\"FullBath\"] = df[\"FullBath\"] \n",
    "    all_df[\"HalfBath\"] = df[\"HalfBath\"] \n",
    "    all_df[\"BedroomAbvGr\"] = df[\"BedroomAbvGr\"] \n",
    "    all_df[\"KitchenAbvGr\"] = df[\"KitchenAbvGr\"] \n",
    "    all_df[\"TotRmsAbvGrd\"] = df[\"TotRmsAbvGrd\"] \n",
    "    all_df[\"Fireplaces\"] = df[\"Fireplaces\"] \n",
    "\n",
    "    all_df[\"GarageCars\"] = df[\"GarageCars\"]\n",
    "    all_df[\"GarageCars\"].fillna(0, inplace=True)\n",
    "\n",
    "    all_df[\"CentralAir\"] = (df[\"CentralAir\"] == \"Y\") * 1.0\n",
    "   \n",
    "    all_df[\"OverallQual\"] = df[\"OverallQual\"]\n",
    "    all_df[\"OverallCond\"] = df[\"OverallCond\"]\n",
    "\n",
    "    # Quality measurements are stored as text but we can convert them to \n",
    "    # numbers where a higher number means higher quality.\n",
    "\n",
    "    qual_dict = {None: 0, \"Po\": 1, \"Fa\": 2, \"TA\": 3, \"Gd\": 4, \"Ex\": 5}\n",
    "    all_df[\"ExterQual\"] = df[\"ExterQual\"].map(qual_dict).astype(int)\n",
    "    all_df[\"ExterCond\"] = df[\"ExterCond\"].map(qual_dict).astype(int)\n",
    "    all_df[\"BsmtQual\"] = df[\"BsmtQual\"].map(qual_dict).astype(int)\n",
    "    all_df[\"BsmtCond\"] = df[\"BsmtCond\"].map(qual_dict).astype(int)\n",
    "    all_df[\"HeatingQC\"] = df[\"HeatingQC\"].map(qual_dict).astype(int)\n",
    "    all_df[\"KitchenQual\"] = df[\"KitchenQual\"].map(qual_dict).astype(int)\n",
    "    all_df[\"FireplaceQu\"] = df[\"FireplaceQu\"].map(qual_dict).astype(int)\n",
    "    all_df[\"GarageQual\"] = df[\"GarageQual\"].map(qual_dict).astype(int)\n",
    "    all_df[\"GarageCond\"] = df[\"GarageCond\"].map(qual_dict).astype(int)\n",
    "\n",
    "    all_df[\"BsmtExposure\"] = df[\"BsmtExposure\"].map(\n",
    "        {None: 0, \"No\": 1, \"Mn\": 2, \"Av\": 3, \"Gd\": 4}).astype(int)\n",
    "\n",
    "    bsmt_fin_dict = {None: 0, \"Unf\": 1, \"LwQ\": 2, \"Rec\": 3, \"BLQ\": 4, \"ALQ\": 5, \"GLQ\": 6}\n",
    "    all_df[\"BsmtFinType1\"] = df[\"BsmtFinType1\"].map(bsmt_fin_dict).astype(int)\n",
    "    all_df[\"BsmtFinType2\"] = df[\"BsmtFinType2\"].map(bsmt_fin_dict).astype(int)\n",
    "\n",
    "    all_df[\"Functional\"] = df[\"Functional\"].map(\n",
    "        {None: 0, \"Sal\": 1, \"Sev\": 2, \"Maj2\": 3, \"Maj1\": 4, \n",
    "         \"Mod\": 5, \"Min2\": 6, \"Min1\": 7, \"Typ\": 8}).astype(int)\n",
    "\n",
    "    all_df[\"GarageFinish\"] = df[\"GarageFinish\"].map(\n",
    "        {None: 0, \"Unf\": 1, \"RFn\": 2, \"Fin\": 3}).astype(int)\n",
    "\n",
    "    all_df[\"Fence\"] = df[\"Fence\"].map(\n",
    "        {None: 0, \"MnWw\": 1, \"GdWo\": 2, \"MnPrv\": 3, \"GdPrv\": 4}).astype(int)\n",
    "\n",
    "    all_df[\"YearBuilt\"] = df[\"YearBuilt\"]\n",
    "    all_df[\"YearRemodAdd\"] = df[\"YearRemodAdd\"]\n",
    "\n",
    "    all_df[\"GarageYrBlt\"] = df[\"GarageYrBlt\"]\n",
    "    all_df[\"GarageYrBlt\"].fillna(0.0, inplace=True)\n",
    "\n",
    "    all_df[\"MoSold\"] = df[\"MoSold\"]\n",
    "    all_df[\"YrSold\"] = df[\"YrSold\"]\n",
    "    \n",
    "    all_df[\"LowQualFinSF\"] = df[\"LowQualFinSF\"]\n",
    "    all_df[\"MiscVal\"] = df[\"MiscVal\"]\n",
    "\n",
    "    all_df[\"PoolQC\"] = df[\"PoolQC\"].map(qual_dict).astype(int)\n",
    "\n",
    "    all_df[\"PoolArea\"] = df[\"PoolArea\"]\n",
    "    all_df[\"PoolArea\"].fillna(0, inplace=True)\n",
    "    \n",
    "    # Add categorical features as numbers too. It seems to help a bit.\n",
    "    all_df = factorize(df, all_df, \"MSSubClass\")\n",
    "    all_df = factorize(df, all_df, \"MSZoning\", \"RL\")\n",
    "    all_df = factorize(df, all_df, \"LotConfig\")\n",
    "    all_df = factorize(df, all_df, \"Neighborhood\")\n",
    "    all_df = factorize(df, all_df, \"Condition1\")\n",
    "    all_df = factorize(df, all_df, \"BldgType\")\n",
    "    all_df = factorize(df, all_df, \"HouseStyle\")\n",
    "    all_df = factorize(df, all_df, \"RoofStyle\")\n",
    "    all_df = factorize(df, all_df, \"Exterior1st\", \"Other\")\n",
    "    all_df = factorize(df, all_df, \"Exterior2nd\", \"Other\")\n",
    "    all_df = factorize(df, all_df, \"MasVnrType\", \"None\")\n",
    "    all_df = factorize(df, all_df, \"Foundation\")\n",
    "    all_df = factorize(df, all_df, \"SaleType\", \"Oth\")\n",
    "    all_df = factorize(df, all_df, \"SaleCondition\")\n",
    "\n",
    "#     ## groupby  \n",
    "    \n",
    "#     if switch == 1:\n",
    "        \n",
    "#         all_df[\"MSSubClass\"] = df[\"MSSubClass\"]\n",
    "#         all_df[\"MSZoning\"] = df[\"MSZoning\"]\n",
    "#         all_df[\"LotConfig\"] = df[\"LotConfig\"]\n",
    "#         all_df[\"Neighborhood\"] = df[\"Neighborhood\"]\n",
    "#         all_df[\"Condition1\"] = df[\"Condition1\"]\n",
    "#         all_df[\"BldgType\"] = df[\"BldgType\"]\n",
    "#         all_df[\"HouseStyle\"] = df[\"HouseStyle\"]\n",
    "#         all_df[\"RoofStyle\"] = df[\"RoofStyle\"]\n",
    "#         all_df[\"Exterior1st\"] = df[\"Exterior1st\"]\n",
    "#         all_df[\"Exterior2nd\"] = df[\"Exterior2nd\"]\n",
    "#         all_df[\"MasVnrType\"] = df[\"MasVnrType\"]\n",
    "#         all_df[\"Foundation\"] = df[\"Foundation\"]\n",
    "#         all_df[\"SaleType\"] = df[\"SaleType\"]\n",
    "#         all_df[\"SaleCondition\"] = df[\"SaleCondition\"] \n",
    "     \n",
    "    \n",
    "#         df2[\"MSZoning\"].fillna(\"RL\", inplace=True)\n",
    "#         df2[\"Exterior1st\"].fillna(\"Other\", inplace=True)\n",
    "#         df2[\"Exterior2nd\"].fillna(\"Other\", inplace=True)\n",
    "#         df2[\"MasVnrType\"].fillna(\"None\", inplace=True)\n",
    "#         df2[\"SaleType\"].fillna(\"Oth\", inplace=True)\n",
    "        \n",
    "#         grouped1 = df2.groupby([\"MSSubClass\"])\n",
    "#         grouped2 = df2.groupby([\"MSZoning\"])\n",
    "#         grouped3 = df2.groupby([\"LotConfig\"])\n",
    "#         grouped4 = df2.groupby([\"Neighborhood\"])\n",
    "#         grouped5 = df2.groupby([\"Condition1\"])\n",
    "#         grouped6 = df2.groupby([\"BldgType\"])\n",
    "#         grouped7 = df2.groupby([\"HouseStyle\"])\n",
    "#         grouped8 = df2.groupby([\"RoofStyle\"])\n",
    "#         grouped9 = df2.groupby([\"Exterior1st\"])\n",
    "#         grouped10 = df2.groupby([\"Exterior2nd\"])\n",
    "#         grouped11 = df2.groupby([\"MasVnrType\"])\n",
    "#         grouped12 = df2.groupby([\"Foundation\"])\n",
    "#         grouped13 = df2.groupby([\"SaleType\"])\n",
    "#         grouped14 = df2.groupby([\"SaleCondition\"])\n",
    "\n",
    "#         bin_cate1 = pd.DataFrame({'f1': grouped1['SalePrice'].mean().round(decimals=2)})\n",
    "#         bin_cate2 = pd.DataFrame({'f2': grouped2['SalePrice'].mean().round(decimals=2)})\n",
    "#         bin_cate3 = pd.DataFrame({'f3': grouped3['SalePrice'].mean().round(decimals=2)})\n",
    "#         bin_cate4 = pd.DataFrame({'f4': grouped4['SalePrice'].mean().round(decimals=2)})\n",
    "#         bin_cate5 = pd.DataFrame({'f5': grouped5['SalePrice'].mean().round(decimals=2)})\n",
    "#         bin_cate6 = pd.DataFrame({'f6': grouped6['SalePrice'].mean().round(decimals=2)})\n",
    "#         bin_cate7 = pd.DataFrame({'f7': grouped7['SalePrice'].mean().round(decimals=2)})\n",
    "#         bin_cate8 = pd.DataFrame({'f8': grouped8['SalePrice'].mean().round(decimals=2)})\n",
    "#         bin_cate9 = pd.DataFrame({'f9': grouped9['SalePrice'].mean().round(decimals=2)})\n",
    "#         bin_cate10 = pd.DataFrame({'f10': grouped10['SalePrice'].mean().round(decimals=2)}) \n",
    "#         bin_cate11 = pd.DataFrame({'f11': grouped11['SalePrice'].mean().round(decimals=2)})\n",
    "#         bin_cate12 = pd.DataFrame({'f12': grouped12['SalePrice'].mean().round(decimals=2)})\n",
    "#         bin_cate13 = pd.DataFrame({'f13': grouped13['SalePrice'].mean().round(decimals=2)})\n",
    "#         bin_cate14 = pd.DataFrame({'f14': grouped14['SalePrice'].mean().round(decimals=2)})\n",
    "\n",
    "#         del grouped1, grouped2, grouped3\n",
    "#         gc.collect()\n",
    "\n",
    "#         all_df = all_df.merge(bin_cate1,left_on=\"MSSubClass\",how='left',right_index=True)\n",
    "#         all_df = all_df.merge(bin_cate2,left_on=\"MSZoning\",how='left',right_index=True)\n",
    "#         all_df = all_df.merge(bin_cate3,left_on=\"LotConfig\",how='left',right_index=True)\n",
    "#         all_df = all_df.merge(bin_cate4,left_on=\"Neighborhood\",how='left',right_index=True)\n",
    "#         all_df = all_df.merge(bin_cate5,left_on=\"Condition1\",how='left',right_index=True)\n",
    "#         all_df = all_df.merge(bin_cate6,left_on=\"BldgType\",how='left',right_index=True)\n",
    "#         all_df = all_df.merge(bin_cate7,left_on=\"HouseStyle\",how='left',right_index=True)\n",
    "#         all_df = all_df.merge(bin_cate8,left_on=\"RoofStyle\",how='left',right_index=True)\n",
    "#         all_df = all_df.merge(bin_cate9,left_on=\"Exterior1st\",how='left',right_index=True)\n",
    "#         all_df = all_df.merge(bin_cate10,left_on=\"Exterior2nd\",how='left',right_index=True)\n",
    "#         all_df = all_df.merge(bin_cate11,left_on=\"MasVnrType\",how='left',right_index=True)\n",
    "#         all_df = all_df.merge(bin_cate12,left_on=\"Foundation\",how='left',right_index=True)\n",
    "#         all_df = all_df.merge(bin_cate13,left_on=\"SaleType\",how='left',right_index=True)\n",
    "#         all_df = all_df.merge(bin_cate14,left_on=\"SaleCondition\",how='left',right_index=True)\n",
    "\n",
    "# #         test_df = test_df.merge(bin_cate1,left_on=\"MSSubClass\",how='left',right_index=True)\n",
    "# #         test_df = test_df.merge(bin_cate2,left_on=\"MSZoning\",how='left',right_index=True)\n",
    "# #         test_df = test_df.merge(bin_cate3,left_on=\"LotConfig\",how='left',right_index=True)\n",
    "# #         test_df = test_df.merge(bin_cate4,left_on=\"Neighborhood\",how='left',right_index=True)\n",
    "# #         test_df = test_df.merge(bin_cate5,left_on=\"Condition1\",how='left',right_index=True)\n",
    "# #         test_df = test_df.merge(bin_cate6,left_on=\"BldgType\",how='left',right_index=True)\n",
    "# #         test_df = test_df.merge(bin_cate7,left_on=\"HouseStyle\",how='left',right_index=True)\n",
    "# #         test_df = test_df.merge(bin_cate8,left_on=\"RoofStyle\",how='left',right_index=True)\n",
    "# #         test_df = test_df.merge(bin_cate9,left_on=\"Exterior1st\",how='left',right_index=True)\n",
    "# #         test_df = test_df.merge(bin_cate10,left_on=\"Exterior2nd\",how='left',right_index=True)\n",
    "# #         test_df = test_df.merge(bin_cate11,left_on=\"MasVnrType\",how='left',right_index=True)\n",
    "# #         test_df = test_df.merge(bin_cate12,left_on=\"Foundation\",how='left',right_index=True)\n",
    "# #         test_df = test_df.merge(bin_cate13,left_on=\"SaleType\",how='left',right_index=True)\n",
    "# #         test_df = test_df.merge(bin_cate14,left_on=\"SaleCondition\",how='left',right_index=True)\n",
    "        \n",
    "#     else:    \n",
    "        \n",
    "#         all_df[\"MSSubClass\"] = df[\"MSSubClass\"]\n",
    "#         all_df[\"MSZoning\"] = df[\"MSZoning\"]\n",
    "#         all_df[\"LotConfig\"] = df[\"LotConfig\"]\n",
    "#         all_df[\"Neighborhood\"] = df[\"Neighborhood\"]\n",
    "#         all_df[\"Condition1\"] = df[\"Condition1\"]\n",
    "#         all_df[\"BldgType\"] = df[\"BldgType\"]\n",
    "#         all_df[\"HouseStyle\"] = df[\"HouseStyle\"]\n",
    "#         all_df[\"RoofStyle\"] = df[\"RoofStyle\"]\n",
    "#         all_df[\"Exterior1st\"] = df[\"Exterior1st\"]\n",
    "#         all_df[\"Exterior2nd\"] = df[\"Exterior2nd\"]\n",
    "#         all_df[\"MasVnrType\"] = df[\"MasVnrType\"]\n",
    "#         all_df[\"Foundation\"] = df[\"Foundation\"]\n",
    "#         all_df[\"SaleType\"] = df[\"SaleType\"]\n",
    "#         all_df[\"SaleCondition\"] = df[\"SaleCondition\"]\n",
    "#         all_df['SalePrice'] = df['SalePrice']\n",
    "     \n",
    "    \n",
    "#         all_df[\"MSZoning\"].fillna(\"RL\", inplace=True)\n",
    "#         all_df[\"Exterior1st\"].fillna(\"Other\", inplace=True)\n",
    "#         all_df[\"Exterior2nd\"].fillna(\"Other\", inplace=True)\n",
    "#         all_df[\"MasVnrType\"].fillna(\"None\", inplace=True)\n",
    "#         all_df[\"SaleType\"].fillna(\"Oth\", inplace=True)\n",
    "        \n",
    "#         grouped1 = all_df.groupby([\"MSSubClass\"])\n",
    "#         grouped2 = all_df.groupby([\"MSZoning\"])\n",
    "#         grouped3 = all_df.groupby([\"LotConfig\"])\n",
    "#         grouped4 = all_df.groupby([\"Neighborhood\"])\n",
    "#         grouped5 = all_df.groupby([\"Condition1\"])\n",
    "#         grouped6 = all_df.groupby([\"BldgType\"])\n",
    "#         grouped7 = all_df.groupby([\"HouseStyle\"])\n",
    "#         grouped8 = all_df.groupby([\"RoofStyle\"])\n",
    "#         grouped9 = all_df.groupby([\"Exterior1st\"])\n",
    "#         grouped10 = all_df.groupby([\"Exterior2nd\"])\n",
    "#         grouped11 = all_df.groupby([\"MasVnrType\"])\n",
    "#         grouped12 = all_df.groupby([\"Foundation\"])\n",
    "#         grouped13 = all_df.groupby([\"SaleType\"])\n",
    "#         grouped14 = all_df.groupby([\"SaleCondition\"])\n",
    "\n",
    "#         bin_cate1 = pd.DataFrame({'f1': grouped1['SalePrice'].mean().round(decimals=2)})\n",
    "#         bin_cate2 = pd.DataFrame({'f2': grouped2['SalePrice'].mean().round(decimals=2)})\n",
    "#         bin_cate3 = pd.DataFrame({'f3': grouped3['SalePrice'].mean().round(decimals=2)})\n",
    "#         bin_cate4 = pd.DataFrame({'f4': grouped4['SalePrice'].mean().round(decimals=2)})\n",
    "#         bin_cate5 = pd.DataFrame({'f5': grouped5['SalePrice'].mean().round(decimals=2)})\n",
    "#         bin_cate6 = pd.DataFrame({'f6': grouped6['SalePrice'].mean().round(decimals=2)})\n",
    "#         bin_cate7 = pd.DataFrame({'f7': grouped7['SalePrice'].mean().round(decimals=2)})\n",
    "#         bin_cate8 = pd.DataFrame({'f8': grouped8['SalePrice'].mean().round(decimals=2)})\n",
    "#         bin_cate9 = pd.DataFrame({'f9': grouped9['SalePrice'].mean().round(decimals=2)})\n",
    "#         bin_cate10 = pd.DataFrame({'f10': grouped10['SalePrice'].mean().round(decimals=2)}) \n",
    "#         bin_cate11 = pd.DataFrame({'f11': grouped11['SalePrice'].mean().round(decimals=2)})\n",
    "#         bin_cate12 = pd.DataFrame({'f12': grouped12['SalePrice'].mean().round(decimals=2)})\n",
    "#         bin_cate13 = pd.DataFrame({'f13': grouped13['SalePrice'].mean().round(decimals=2)})\n",
    "#         bin_cate14 = pd.DataFrame({'f14': grouped14['SalePrice'].mean().round(decimals=2)})\n",
    "\n",
    "#         del grouped1, grouped2, grouped3\n",
    "#         gc.collect()\n",
    "\n",
    "#         all_df = all_df.merge(bin_cate1,left_on=\"MSSubClass\",how='left',right_index=True)\n",
    "#         all_df = all_df.merge(bin_cate2,left_on=\"MSZoning\",how='left',right_index=True)\n",
    "#         all_df = all_df.merge(bin_cate3,left_on=\"LotConfig\",how='left',right_index=True)\n",
    "#         all_df = all_df.merge(bin_cate4,left_on=\"Neighborhood\",how='left',right_index=True)\n",
    "#         all_df = all_df.merge(bin_cate5,left_on=\"Condition1\",how='left',right_index=True)\n",
    "#         all_df = all_df.merge(bin_cate6,left_on=\"BldgType\",how='left',right_index=True)\n",
    "#         all_df = all_df.merge(bin_cate7,left_on=\"HouseStyle\",how='left',right_index=True)\n",
    "#         all_df = all_df.merge(bin_cate8,left_on=\"RoofStyle\",how='left',right_index=True)\n",
    "#         all_df = all_df.merge(bin_cate9,left_on=\"Exterior1st\",how='left',right_index=True)\n",
    "#         all_df = all_df.merge(bin_cate10,left_on=\"Exterior2nd\",how='left',right_index=True)\n",
    "#         all_df = all_df.merge(bin_cate11,left_on=\"MasVnrType\",how='left',right_index=True)\n",
    "#         all_df = all_df.merge(bin_cate12,left_on=\"Foundation\",how='left',right_index=True)\n",
    "#         all_df = all_df.merge(bin_cate13,left_on=\"SaleType\",how='left',right_index=True)\n",
    "#         all_df = all_df.merge(bin_cate14,left_on=\"SaleCondition\",how='left',right_index=True)\n",
    "\n",
    "# #         test_df = test_df.merge(bin_cate1,left_on=\"MSSubClass\",how='left',right_index=True)\n",
    "# #         test_df = test_df.merge(bin_cate2,left_on=\"MSZoning\",how='left',right_index=True)\n",
    "# #         test_df = test_df.merge(bin_cate3,left_on=\"LotConfig\",how='left',right_index=True)\n",
    "# #         test_df = test_df.merge(bin_cate4,left_on=\"Neighborhood\",how='left',right_index=True)\n",
    "# #         test_df = test_df.merge(bin_cate5,left_on=\"Condition1\",how='left',right_index=True)\n",
    "# #         test_df = test_df.merge(bin_cate6,left_on=\"BldgType\",how='left',right_index=True)\n",
    "# #         test_df = test_df.merge(bin_cate7,left_on=\"HouseStyle\",how='left',right_index=True)\n",
    "# #         test_df = test_df.merge(bin_cate8,left_on=\"RoofStyle\",how='left',right_index=True)\n",
    "# #         test_df = test_df.merge(bin_cate9,left_on=\"Exterior1st\",how='left',right_index=True)\n",
    "# #         test_df = test_df.merge(bin_cate10,left_on=\"Exterior2nd\",how='left',right_index=True)\n",
    "# #         test_df = test_df.merge(bin_cate11,left_on=\"MasVnrType\",how='left',right_index=True)\n",
    "# #         test_df = test_df.merge(bin_cate12,left_on=\"Foundation\",how='left',right_index=True)\n",
    "# #         test_df = test_df.merge(bin_cate13,left_on=\"SaleType\",how='left',right_index=True)\n",
    "# #         test_df = test_df.merge(bin_cate14,left_on=\"SaleCondition\",how='left',right_index=True)\n",
    "     \n",
    "    # IR2 and IR3 don't appear that often, so just make a distinction\n",
    "    # between regular and irregular.\n",
    "    all_df[\"IsRegularLotShape\"] = (df[\"LotShape\"] == \"Reg\") * 1\n",
    "\n",
    "    # Most properties are level; bin the other possibilities together\n",
    "    # as \"not level\".\n",
    "    all_df[\"IsLandLevel\"] = (df[\"LandContour\"] == \"Lvl\") * 1\n",
    "\n",
    "    # Most land slopes are gentle; treat the others as \"not gentle\".\n",
    "    all_df[\"IsLandSlopeGentle\"] = (df[\"LandSlope\"] == \"Gtl\") * 1\n",
    "\n",
    "    # Most properties use standard circuit breakers.\n",
    "    all_df[\"IsElectricalSBrkr\"] = (df[\"Electrical\"] == \"SBrkr\") * 1\n",
    "\n",
    "    # About 2/3rd have an attached garage.\n",
    "    all_df[\"IsGarageDetached\"] = (df[\"GarageType\"] == \"Detchd\") * 1\n",
    "\n",
    "    # Most have a paved drive. Treat dirt/gravel and partial pavement\n",
    "    # as \"not paved\".\n",
    "    all_df[\"IsPavedDrive\"] = (df[\"PavedDrive\"] == \"Y\") * 1\n",
    "\n",
    "    # The only interesting \"misc. feature\" is the presence of a shed.\n",
    "    all_df[\"HasShed\"] = (df[\"MiscFeature\"] == \"Shed\") * 1.  \n",
    "\n",
    "    # If YearRemodAdd != YearBuilt, then a remodeling took place at some point.\n",
    "    all_df[\"Remodeled\"] = (all_df[\"YearRemodAdd\"] != all_df[\"YearBuilt\"]) * 1\n",
    "    \n",
    "    # Did a remodeling happen in the year the house was sold?\n",
    "    all_df[\"RecentRemodel\"] = (all_df[\"YearRemodAdd\"] == all_df[\"YrSold\"]) * 1\n",
    "    \n",
    "    # Was this house sold in the year it was built?\n",
    "    all_df[\"VeryNewHouse\"] = (all_df[\"YearBuilt\"] == all_df[\"YrSold\"]) * 1\n",
    "\n",
    "    all_df[\"Has2ndFloor\"] = (all_df[\"2ndFlrSF\"] == 0) * 1\n",
    "    all_df[\"HasMasVnr\"] = (all_df[\"MasVnrArea\"] == 0) * 1\n",
    "    all_df[\"HasWoodDeck\"] = (all_df[\"WoodDeckSF\"] == 0) * 1\n",
    "    all_df[\"HasOpenPorch\"] = (all_df[\"OpenPorchSF\"] == 0) * 1\n",
    "    all_df[\"HasEnclosedPorch\"] = (all_df[\"EnclosedPorch\"] == 0) * 1\n",
    "    all_df[\"Has3SsnPorch\"] = (all_df[\"3SsnPorch\"] == 0) * 1\n",
    "    all_df[\"HasScreenPorch\"] = (all_df[\"ScreenPorch\"] == 0) * 1\n",
    "\n",
    "    # These features actually lower the score a little.\n",
    "    # all_df[\"HasBasement\"] = df[\"BsmtQual\"].isnull() * 1\n",
    "    # all_df[\"HasGarage\"] = df[\"GarageQual\"].isnull() * 1\n",
    "    # all_df[\"HasFireplace\"] = df[\"FireplaceQu\"].isnull() * 1\n",
    "    # all_df[\"HasFence\"] = df[\"Fence\"].isnull() * 1\n",
    "\n",
    "    # Months with the largest number of deals may be significant.\n",
    "    all_df[\"HighSeason\"] = df[\"MoSold\"].replace( \n",
    "        {1: 0, 2: 0, 3: 0, 4: 1, 5: 1, 6: 1, 7: 1, 8: 0, 9: 0, 10: 0, 11: 0, 12: 0})\n",
    "\n",
    "    all_df[\"NewerDwelling\"] = df[\"MSSubClass\"].replace(\n",
    "        {20: 1, 30: 0, 40: 0, 45: 0,50: 0, 60: 1, 70: 0, 75: 0, 80: 0, 85: 0,\n",
    "         90: 0, 120: 1, 150: 0, 160: 0, 180: 0, 190: 0})   \n",
    "    \n",
    "    all_df.loc[df.Neighborhood == 'NridgHt', \"Neighborhood_Good\"] = 1\n",
    "    all_df.loc[df.Neighborhood == 'Crawfor', \"Neighborhood_Good\"] = 1\n",
    "    all_df.loc[df.Neighborhood == 'StoneBr', \"Neighborhood_Good\"] = 1\n",
    "    all_df.loc[df.Neighborhood == 'Somerst', \"Neighborhood_Good\"] = 1\n",
    "    all_df.loc[df.Neighborhood == 'NoRidge', \"Neighborhood_Good\"] = 1\n",
    "    all_df[\"Neighborhood_Good\"].fillna(0, inplace=True)\n",
    "\n",
    "    all_df[\"SaleCondition_PriceDown\"] = df.SaleCondition.replace(\n",
    "        {'Abnorml': 1, 'Alloca': 1, 'AdjLand': 1, 'Family': 1, 'Normal': 0, 'Partial': 0})\n",
    "\n",
    "    # House completed before sale or not\n",
    "    all_df[\"BoughtOffPlan\"] = df.SaleCondition.replace(\n",
    "        {\"Abnorml\" : 0, \"Alloca\" : 0, \"AdjLand\" : 0, \"Family\" : 0, \"Normal\" : 0, \"Partial\" : 1})\n",
    "    \n",
    "    all_df[\"BadHeating\"] = df.HeatingQC.replace(\n",
    "        {'Ex': 0, 'Gd': 0, 'TA': 0, 'Fa': 1, 'Po': 1})\n",
    "\n",
    "    area_cols = ['LotFrontage', 'LotArea', 'MasVnrArea', 'BsmtFinSF1', 'BsmtFinSF2', 'BsmtUnfSF',\n",
    "                 'TotalBsmtSF', '1stFlrSF', '2ndFlrSF', 'GrLivArea', 'GarageArea', 'WoodDeckSF', \n",
    "                 'OpenPorchSF', 'EnclosedPorch', '3SsnPorch', 'ScreenPorch', 'LowQualFinSF', 'PoolArea' ]\n",
    "    all_df[\"TotalArea\"] = all_df[area_cols].sum(axis=1)\n",
    "\n",
    "    all_df[\"TotalArea1st2nd\"] = all_df[\"1stFlrSF\"] + all_df[\"2ndFlrSF\"]\n",
    "\n",
    "    all_df[\"Age\"] = 2010 - all_df[\"YearBuilt\"]\n",
    "    all_df[\"TimeSinceSold\"] = 2010 - all_df[\"YrSold\"]\n",
    "\n",
    "    all_df[\"SeasonSold\"] = all_df[\"MoSold\"].map({12:0, 1:0, 2:0, 3:1, 4:1, 5:1, \n",
    "                                                  6:2, 7:2, 8:2, 9:3, 10:3, 11:3}).astype(int)\n",
    "    \n",
    "    all_df[\"YearsSinceRemodel\"] = all_df[\"YrSold\"] - all_df[\"YearRemodAdd\"]\n",
    "    \n",
    "    # Simplifications of existing features into bad/average/good.\n",
    "    all_df[\"SimplOverallQual\"] = all_df.OverallQual.replace(\n",
    "        {1 : 1, 2 : 1, 3 : 1, 4 : 2, 5 : 2, 6 : 2, 7 : 3, 8 : 3, 9 : 3, 10 : 3})\n",
    "    all_df[\"SimplOverallCond\"] = all_df.OverallCond.replace(\n",
    "        {1 : 1, 2 : 1, 3 : 1, 4 : 2, 5 : 2, 6 : 2, 7 : 3, 8 : 3, 9 : 3, 10 : 3})\n",
    "    all_df[\"SimplPoolQC\"] = all_df.PoolQC.replace(\n",
    "        {1 : 1, 2 : 1, 3 : 2, 4 : 2})\n",
    "    all_df[\"SimplGarageCond\"] = all_df.GarageCond.replace(\n",
    "        {1 : 1, 2 : 1, 3 : 1, 4 : 2, 5 : 2})\n",
    "    all_df[\"SimplGarageQual\"] = all_df.GarageQual.replace(\n",
    "        {1 : 1, 2 : 1, 3 : 1, 4 : 2, 5 : 2})\n",
    "    all_df[\"SimplFireplaceQu\"] = all_df.FireplaceQu.replace(\n",
    "        {1 : 1, 2 : 1, 3 : 1, 4 : 2, 5 : 2})\n",
    "    all_df[\"SimplFireplaceQu\"] = all_df.FireplaceQu.replace(\n",
    "        {1 : 1, 2 : 1, 3 : 1, 4 : 2, 5 : 2})\n",
    "    all_df[\"SimplFunctional\"] = all_df.Functional.replace(\n",
    "        {1 : 1, 2 : 1, 3 : 2, 4 : 2, 5 : 3, 6 : 3, 7 : 3, 8 : 4})\n",
    "    all_df[\"SimplKitchenQual\"] = all_df.KitchenQual.replace(\n",
    "        {1 : 1, 2 : 1, 3 : 1, 4 : 2, 5 : 2})\n",
    "    all_df[\"SimplHeatingQC\"] = all_df.HeatingQC.replace(\n",
    "        {1 : 1, 2 : 1, 3 : 1, 4 : 2, 5 : 2})\n",
    "    all_df[\"SimplBsmtFinType1\"] = all_df.BsmtFinType1.replace(\n",
    "        {1 : 1, 2 : 1, 3 : 1, 4 : 2, 5 : 2, 6 : 2})\n",
    "    all_df[\"SimplBsmtFinType2\"] = all_df.BsmtFinType2.replace(\n",
    "        {1 : 1, 2 : 1, 3 : 1, 4 : 2, 5 : 2, 6 : 2})\n",
    "    all_df[\"SimplBsmtCond\"] = all_df.BsmtCond.replace(\n",
    "        {1 : 1, 2 : 1, 3 : 1, 4 : 2, 5 : 2})\n",
    "    all_df[\"SimplBsmtQual\"] = all_df.BsmtQual.replace(\n",
    "        {1 : 1, 2 : 1, 3 : 1, 4 : 2, 5 : 2})\n",
    "    all_df[\"SimplExterCond\"] = all_df.ExterCond.replace(\n",
    "        {1 : 1, 2 : 1, 3 : 1, 4 : 2, 5 : 2})\n",
    "    all_df[\"SimplExterQual\"] = all_df.ExterQual.replace(\n",
    "        {1 : 1, 2 : 1, 3 : 1, 4 : 2, 5 : 2})\n",
    "            \n",
    "    # Bin by neighborhood (a little arbitrarily). Values were computed by: \n",
    "    # train_df[\"SalePrice\"].groupby(train_df[\"Neighborhood\"]).median().sort_values()\n",
    "    neighborhood_map = {\n",
    "        \"MeadowV\" : 0,  #  88000\n",
    "        \"IDOTRR\" : 1,   # 103000\n",
    "        \"BrDale\" : 1,   # 106000\n",
    "        \"OldTown\" : 1,  # 119000\n",
    "        \"Edwards\" : 1,  # 119500\n",
    "        \"BrkSide\" : 1,  # 124300\n",
    "        \"Sawyer\" : 1,   # 135000\n",
    "        \"Blueste\" : 1,  # 137500\n",
    "        \"SWISU\" : 2,    # 139500\n",
    "        \"NAmes\" : 2,    # 140000\n",
    "        \"NPkVill\" : 2,  # 146000\n",
    "        \"Mitchel\" : 2,  # 153500\n",
    "        \"SawyerW\" : 2,  # 179900\n",
    "        \"Gilbert\" : 2,  # 181000\n",
    "        \"NWAmes\" : 2,   # 182900\n",
    "        \"Blmngtn\" : 2,  # 191000\n",
    "        \"CollgCr\" : 2,  # 197200\n",
    "        \"ClearCr\" : 3,  # 200250\n",
    "        \"Crawfor\" : 3,  # 200624\n",
    "        \"Veenker\" : 3,  # 218000\n",
    "        \"Somerst\" : 3,  # 225500\n",
    "        \"Timber\" : 3,   # 228475\n",
    "        \"StoneBr\" : 4,  # 278000\n",
    "        \"NoRidge\" : 4,  # 290000\n",
    "        \"NridgHt\" : 4,  # 315000\n",
    "    }\n",
    "\n",
    "    all_df[\"NeighborhoodBin\"] = df[\"Neighborhood\"].map(neighborhood_map)\n",
    "    return all_df\n",
    "\n",
    "train_df_munged = munge(train_df,train_df,0)\n",
    "test_df_munged = munge(test_df,train_df,1)\n",
    "\n",
    "print(train_df_munged.shape)\n",
    "print(test_df_munged.shape)\n",
    "\n",
    "# Copy NeighborhoodBin into a temporary DataFrame because we want to use the\n",
    "# unscaled version later on (to one-hot encode it). \n",
    "neighborhood_bin_train = pd.DataFrame(index = train_df.index)\n",
    "neighborhood_bin_train[\"NeighborhoodBin\"] = train_df_munged[\"NeighborhoodBin\"]\n",
    "neighborhood_bin_test = pd.DataFrame(index = test_df.index)\n",
    "neighborhood_bin_test[\"NeighborhoodBin\"] = test_df_munged[\"NeighborhoodBin\"]\n",
    "\n",
    "################################################################################\n",
    "\n",
    "numeric_features = train_df_munged.dtypes[train_df_munged.dtypes != \"object\"].index\n",
    "\n",
    "# Transform the skewed numeric features by taking log(feature + 1).\n",
    "# This will make the features more normal.\n",
    "from scipy.stats import skew\n",
    "\n",
    "skewed = train_df_munged[numeric_features].apply(lambda x: skew(x.dropna().astype(float)))\n",
    "skewed = skewed[skewed > 0.75]\n",
    "skewed = skewed.index\n",
    "\n",
    "train_df_munged[skewed] = np.log1p(train_df_munged[skewed])\n",
    "test_df_munged[skewed] = np.log1p(test_df_munged[skewed])\n",
    "\n",
    "# Additional processing: scale the data.   \n",
    "from sklearn.preprocessing import StandardScaler\n",
    "scaler = StandardScaler()\n",
    "scaler.fit(train_df_munged[numeric_features])\n",
    "\n",
    "scaled = scaler.transform(train_df_munged[numeric_features])\n",
    "for i, col in enumerate(numeric_features):\n",
    "    train_df_munged[col] = scaled[:, i]\n",
    "\n",
    "scaled = scaler.transform(test_df_munged[numeric_features])\n",
    "for i, col in enumerate(numeric_features):\n",
    "    test_df_munged[col] = scaled[:, i]\n",
    "\n",
    "################################################################################\n",
    "\n",
    "# Convert categorical features using one-hot encoding.\n",
    "def onehot(onehot_df, df, column_name, fill_na, drop_name):\n",
    "    onehot_df[column_name] = df[column_name]\n",
    "    if fill_na is not None:\n",
    "        onehot_df[column_name].fillna(fill_na, inplace=True)\n",
    "\n",
    "    dummies = pd.get_dummies(onehot_df[column_name], prefix=\"_\" + column_name)\n",
    "    \n",
    "    # Dropping one of the columns actually made the results slightly worse.\n",
    "    # if drop_name is not None:\n",
    "    #     dummies.drop([\"_\" + column_name + \"_\" + drop_name], axis=1, inplace=True)\n",
    "\n",
    "    onehot_df = onehot_df.join(dummies)\n",
    "    onehot_df = onehot_df.drop([column_name], axis=1)\n",
    "    return onehot_df\n",
    "\n",
    "def munge_onehot(df):\n",
    "    onehot_df = pd.DataFrame(index = df.index)\n",
    "\n",
    "    onehot_df = onehot(onehot_df, df, \"MSSubClass\", None, \"40\")\n",
    "    onehot_df = onehot(onehot_df, df, \"MSZoning\", \"RL\", \"RH\")\n",
    "    onehot_df = onehot(onehot_df, df, \"LotConfig\", None, \"FR3\")\n",
    "    onehot_df = onehot(onehot_df, df, \"Neighborhood\", None, \"OldTown\")\n",
    "    onehot_df = onehot(onehot_df, df, \"Condition1\", None, \"RRNe\")\n",
    "    onehot_df = onehot(onehot_df, df, \"BldgType\", None, \"2fmCon\")\n",
    "    onehot_df = onehot(onehot_df, df, \"HouseStyle\", None, \"1.5Unf\")\n",
    "    onehot_df = onehot(onehot_df, df, \"RoofStyle\", None, \"Shed\")\n",
    "    onehot_df = onehot(onehot_df, df, \"Exterior1st\", \"VinylSd\", \"CBlock\")\n",
    "    onehot_df = onehot(onehot_df, df, \"Exterior2nd\", \"VinylSd\", \"CBlock\")\n",
    "    onehot_df = onehot(onehot_df, df, \"Foundation\", None, \"Wood\")\n",
    "    onehot_df = onehot(onehot_df, df, \"SaleType\", \"WD\", \"Oth\")\n",
    "    onehot_df = onehot(onehot_df, df, \"SaleCondition\", \"Normal\", \"AdjLand\")\n",
    "\n",
    "    # Fill in missing MasVnrType for rows that do have a MasVnrArea.\n",
    "    temp_df = df[[\"MasVnrType\", \"MasVnrArea\"]].copy()\n",
    "    idx = (df[\"MasVnrArea\"] != 0) & ((df[\"MasVnrType\"] == \"None\") | (df[\"MasVnrType\"].isnull()))\n",
    "    temp_df.loc[idx, \"MasVnrType\"] = \"BrkFace\"\n",
    "    onehot_df = onehot(onehot_df, temp_df, \"MasVnrType\", \"None\", \"BrkCmn\")\n",
    "\n",
    "    # Also add the booleans from calc_df as dummy variables.\n",
    "    onehot_df = onehot(onehot_df, df, \"LotShape\", None, \"IR3\")\n",
    "    onehot_df = onehot(onehot_df, df, \"LandContour\", None, \"Low\")\n",
    "    onehot_df = onehot(onehot_df, df, \"LandSlope\", None, \"Sev\")\n",
    "    onehot_df = onehot(onehot_df, df, \"Electrical\", \"SBrkr\", \"FuseP\")\n",
    "    onehot_df = onehot(onehot_df, df, \"GarageType\", \"None\", \"CarPort\")\n",
    "    onehot_df = onehot(onehot_df, df, \"PavedDrive\", None, \"P\")\n",
    "    onehot_df = onehot(onehot_df, df, \"MiscFeature\", \"None\", \"Othr\")\n",
    "\n",
    "    # Features we can probably ignore (but want to include anyway to see\n",
    "    # if they make any positive difference).\n",
    "    # Definitely ignoring Utilities: all records are \"AllPub\", except for\n",
    "    # one \"NoSeWa\" in the train set and 2 NA in the test set.\n",
    "    onehot_df = onehot(onehot_df, df, \"Street\", None, \"Grvl\")\n",
    "    onehot_df = onehot(onehot_df, df, \"Alley\", \"None\", \"Grvl\")\n",
    "    onehot_df = onehot(onehot_df, df, \"Condition2\", None, \"PosA\")\n",
    "    onehot_df = onehot(onehot_df, df, \"RoofMatl\", None, \"WdShake\")\n",
    "    onehot_df = onehot(onehot_df, df, \"Heating\", None, \"Wall\")\n",
    "\n",
    "    # I have these as numerical variables too.\n",
    "    onehot_df = onehot(onehot_df, df, \"ExterQual\", \"None\", \"Ex\")\n",
    "    onehot_df = onehot(onehot_df, df, \"ExterCond\", \"None\", \"Ex\")\n",
    "    onehot_df = onehot(onehot_df, df, \"BsmtQual\", \"None\", \"Ex\")\n",
    "    onehot_df = onehot(onehot_df, df, \"BsmtCond\", \"None\", \"Ex\")\n",
    "    onehot_df = onehot(onehot_df, df, \"HeatingQC\", \"None\", \"Ex\")\n",
    "    onehot_df = onehot(onehot_df, df, \"KitchenQual\", \"TA\", \"Ex\")\n",
    "    onehot_df = onehot(onehot_df, df, \"FireplaceQu\", \"None\", \"Ex\")\n",
    "    onehot_df = onehot(onehot_df, df, \"GarageQual\", \"None\", \"Ex\")\n",
    "    onehot_df = onehot(onehot_df, df, \"GarageCond\", \"None\", \"Ex\")\n",
    "    onehot_df = onehot(onehot_df, df, \"PoolQC\", \"None\", \"Ex\")\n",
    "    onehot_df = onehot(onehot_df, df, \"BsmtExposure\", \"None\", \"Gd\")\n",
    "    onehot_df = onehot(onehot_df, df, \"BsmtFinType1\", \"None\", \"GLQ\")\n",
    "    onehot_df = onehot(onehot_df, df, \"BsmtFinType2\", \"None\", \"GLQ\")\n",
    "    onehot_df = onehot(onehot_df, df, \"Functional\", \"Typ\", \"Typ\")\n",
    "    onehot_df = onehot(onehot_df, df, \"GarageFinish\", \"None\", \"Fin\")\n",
    "    onehot_df = onehot(onehot_df, df, \"Fence\", \"None\", \"MnPrv\")\n",
    "    onehot_df = onehot(onehot_df, df, \"MoSold\", None, None)\n",
    "    \n",
    "    # Divide up the years between 1871 and 2010 in slices of 20 years.\n",
    "    year_map = pd.concat(pd.Series(\"YearBin\" + str(i+1), index=range(1871+i*20,1891+i*20)) for i in range(0, 7))\n",
    "\n",
    "    yearbin_df = pd.DataFrame(index = df.index)\n",
    "    yearbin_df[\"GarageYrBltBin\"] = df.GarageYrBlt.map(year_map)\n",
    "    yearbin_df[\"GarageYrBltBin\"].fillna(\"NoGarage\", inplace=True)\n",
    "\n",
    "    yearbin_df[\"YearBuiltBin\"] = df.YearBuilt.map(year_map)\n",
    "    yearbin_df[\"YearRemodAddBin\"] = df.YearRemodAdd.map(year_map)\n",
    "    \n",
    "    onehot_df = onehot(onehot_df, yearbin_df, \"GarageYrBltBin\", None, None)\n",
    "    onehot_df = onehot(onehot_df, yearbin_df, \"YearBuiltBin\", None, None)\n",
    "    onehot_df = onehot(onehot_df, yearbin_df, \"YearRemodAddBin\", None, None)\n",
    "\n",
    "    return onehot_df\n",
    "\n",
    "# Add the one-hot encoded categorical features.\n",
    "onehot_df = munge_onehot(train_df)\n",
    "onehot_df = onehot(onehot_df, neighborhood_bin_train, \"NeighborhoodBin\", None, None)\n",
    "train_df_munged = train_df_munged.join(onehot_df)\n",
    "\n",
    "# These onehot columns are missing in the test data, so drop them from the\n",
    "# training data or we might overfit on them.\n",
    "drop_cols = [\n",
    "                \"_Exterior1st_ImStucc\", \"_Exterior1st_Stone\",\n",
    "                \"_Exterior2nd_Other\",\"_HouseStyle_2.5Fin\", \n",
    "            \n",
    "                \"_RoofMatl_Membran\", \"_RoofMatl_Metal\", \"_RoofMatl_Roll\",\n",
    "                \"_Condition2_RRAe\", \"_Condition2_RRAn\", \"_Condition2_RRNn\",\n",
    "                \"_Heating_Floor\", \"_Heating_OthW\",\n",
    "\n",
    "                \"_Electrical_Mix\", \n",
    "                \"_MiscFeature_TenC\",\n",
    "                \"_GarageQual_Ex\", \"_PoolQC_Fa\"\n",
    "            ]\n",
    "train_df_munged.drop(drop_cols, axis=1, inplace=True)\n",
    "\n",
    "onehot_df = munge_onehot(test_df)\n",
    "onehot_df = onehot(onehot_df, neighborhood_bin_test, \"NeighborhoodBin\", None, None)\n",
    "test_df_munged = test_df_munged.join(onehot_df)\n",
    "\n",
    "# This column is missing in the training data. There is only one example with\n",
    "# this value in the test set. So just drop it.\n",
    "test_df_munged.drop([\"_MSSubClass_150\"], axis=1, inplace=True)\n",
    "\n",
    "# Drop these columns. They are either not very helpful or they cause overfitting.\n",
    "drop_cols = [\n",
    "    \"_Condition2_PosN\",    # only two are not zero\n",
    "    \"_MSZoning_C (all)\",\n",
    "    \"_MSSubClass_160\",\n",
    "]\n",
    "train_df_munged.drop(drop_cols, axis=1, inplace=True)\n",
    "test_df_munged.drop(drop_cols, axis=1, inplace=True)\n",
    "\n",
    "################################################################################\n",
    "\n",
    "# We take the log here because the error metric is between the log of the\n",
    "# SalePrice and the log of the predicted price. That does mean we need to \n",
    "# exp() the prediction to get an actual sale price.\n",
    "label_df = pd.DataFrame(index = train_df_munged.index, columns=[\"SalePrice\"])\n",
    "label_df[\"SalePrice\"] = np.log(train_df[\"SalePrice\"])\n",
    "\n",
    "print(\"Training set size:\", train_df_munged.shape)\n",
    "print(\"Test set size:\", test_df_munged.shape)"
   ]
  },
  {
   "cell_type": "code",
   "execution_count": 4,
   "metadata": {
    "collapsed": false
   },
   "outputs": [
    {
     "data": {
      "image/png": "iVBORw0KGgoAAAANSUhEUgAAA14AAAH9CAYAAAAKz62bAAAABHNCSVQICAgIfAhkiAAAAAlwSFlz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\n",
      "text/plain": [
<<<<<<< HEAD:Project4-MachineLearning/kaggle_wannjiun_sharan/feature_selection_wannjiun.ipynb
       "<matplotlib.figure.Figure at 0x10cdefac8>"
=======
       "<matplotlib.figure.Figure at 0x10ca74cd0>"
>>>>>>> cf42abfd3744c89910b63f59ec719226011efcca:Project4-MachineLearning/kaggle_wannjiun_sharan/feature_selection.ipynb
      ]
     },
     "metadata": {},
     "output_type": "display_data"
    }
   ],
   "source": [
    "# XGBoost -- I did some \"manual\" cross-validation here but should really find\n",
    "# these hyperparameters using CV. ;-)\n",
    "\n",
    "from xgboost import plot_importance\n",
    "from matplotlib import pyplot\n",
    "\n",
    "xgb_regr = xgb.XGBRegressor(\n",
    "                 colsample_bytree=0.2,\n",
    "                 gamma=0.0,\n",
    "                 learning_rate=0.01,\n",
    "                 max_depth=4,\n",
    "                 min_child_weight=1.5,\n",
    "                 n_estimators=7200,                                                                  \n",
    "                 reg_alpha=0.9,\n",
    "                 reg_lambda=0.6,\n",
    "                 subsample=0.2,\n",
    "                 seed=42,\n",
    "                 silent=1)\n",
    "\n",
    "xgb_regr.fit(train_df_munged, label_df)\n",
    "\n",
    "plot_importance(xgb_regr)\n",
    "pyplot.show()\n",
    "\n",
    "## This looks like we can drop many features!"
   ]
  },
  {
   "cell_type": "code",
<<<<<<< HEAD:Project4-MachineLearning/kaggle_wannjiun_sharan/feature_selection_wannjiun.ipynb
   "execution_count": 5,
   "metadata": {
    "collapsed": false
   },
   "outputs": [
    {
     "name": "stdout",
     "output_type": "stream",
     "text": [
      "XGBoost score on training set:  0.0671731289779\n"
     ]
    }
   ],
=======
   "execution_count": null,
   "metadata": {
    "collapsed": false
   },
   "outputs": [],
>>>>>>> cf42abfd3744c89910b63f59ec719226011efcca:Project4-MachineLearning/kaggle_wannjiun_sharan/feature_selection.ipynb
   "source": [
    "from numpy import sort\n",
    "from sklearn.feature_selection import SelectFromModel\n",
    "\n",
    "y_train_pred_xgb = xgb_regr.predict(train_df_munged)\n",
    "y_test = label_df\n",
    "print(\"XGBoost score on training set: \", rmse(y_test, y_train_pred_xgb))\n",
    "\n",
    "# Fit model using each importance as a threshold\n",
    "#thresholds = sort(xgb_regr.feature_importances_)\n",
    "# thresholds = sort([0.1,0.2])\n",
    "# for thresh in thresholds:\n",
    "#     # select features using threshold\n",
    "#     selection = SelectFromModel(xgb_regr, threshold=thresh, prefit=True)\n",
    "#     select_X_train = selection.transform(train_df_munged)\n",
    "#     # train model\n",
    "#     selection_model = xgb.XGBRegressor(\n",
    "#                      colsample_bytree=0.2,\n",
    "#                      gamma=0.0,\n",
    "#                      learning_rate=0.01,\n",
    "#                      max_depth=4,\n",
    "#                      min_child_weight=1.5,\n",
    "#                      n_estimators=7200,                                                                  \n",
    "#                      reg_alpha=0.9,\n",
    "#                      reg_lambda=0.6,\n",
    "#                      subsample=0.2,\n",
    "#                      seed=42,\n",
    "#                      silent=1) \n",
    "#     selection_model.fit(select_X_train, y_test)\n",
    "#     # eval model\n",
    "#     select_X_test = selection.transform(train_df_munged)\n",
    "    \n",
    "#     y_pred = selection_model.predict(select_X_test)\n",
    "#     print(\"Thresh=%.3f, n=%d, RMSE= %.10f\" % (thresh, select_X_train.shape[1], rmse(y_test, y_pred)))\n",
    "\n",
    "# # Run prediction on training set to get a rough idea of how well it does.\n",
    "# y_train_pred_xgb = xgb_regr.predict(train_df_munged)\n",
    "# y_test = label_df\n",
    "# print(\"XGBoost score on training set: \", rmse(y_test, y_train_pred_xgb))\n",
    "\n",
    "# Run prediction on the Kaggle test set.\n",
    "y_test_pred_xgb = xgb_regr.predict(test_df_munged)"
   ]
  },
  {
   "cell_type": "code",
<<<<<<< HEAD:Project4-MachineLearning/kaggle_wannjiun_sharan/feature_selection_wannjiun.ipynb
   "execution_count": 6,
=======
   "execution_count": null,
>>>>>>> cf42abfd3744c89910b63f59ec719226011efcca:Project4-MachineLearning/kaggle_wannjiun_sharan/feature_selection.ipynb
   "metadata": {
    "collapsed": false
   },
   "outputs": [],
   "source": [
    "# ## Xgboost gridsearch\n",
    "# from sklearn.grid_search import GridSearchCV\n",
    "# from sklearn.metrics import r2_score\n",
    "\n",
    "# xtreme_forest = xgb.XGBRegressor()\n",
    "\n",
    "# parameter_grid = {'max_depth' : [4,5,6],\n",
    "#                  'n_estimators':[100]\n",
    "#                  #'n_estimators': [200,210,240,250],\n",
    "#                  #'min_child_weight': [1,2,3,4]\n",
    "#                  }\n",
    "\n",
    "# cross_validation = StratifiedKFold(np.array(label_df['SalePrice']), n_folds=5)\n",
    "\n",
    "# grid_search_xgboost = GridSearchCV(xtreme_forest,\n",
    "#                            param_grid = parameter_grid,\n",
    "#                            scoring = 'mean_squared_error',\n",
    "#                            cv = cross_validation)\n",
    "\n",
    "# grid_search_xgboost.fit(train_df_munged, label_df)\n",
    "\n",
    "# print('Best score (Xgboost): {}'.format(grid_search_xgboost.best_score_))\n",
    "# print('Best parameters: {}'.format(grid_search_xgboost.best_params_))"
   ]
  },
  {
   "cell_type": "code",
<<<<<<< HEAD:Project4-MachineLearning/kaggle_wannjiun_sharan/feature_selection_wannjiun.ipynb
   "execution_count": 7,
   "metadata": {
    "collapsed": false
   },
   "outputs": [
    {
     "name": "stdout",
     "output_type": "stream",
     "text": [
      "Lasso score on training set:  0.10155983007\n"
     ]
    }
   ],
=======
   "execution_count": null,
   "metadata": {
    "collapsed": false
   },
   "outputs": [],
>>>>>>> cf42abfd3744c89910b63f59ec719226011efcca:Project4-MachineLearning/kaggle_wannjiun_sharan/feature_selection.ipynb
   "source": [
    "from sklearn.linear_model import Lasso\n",
    "\n",
    "# I found this best alpha through cross-validation.\n",
    "best_alpha = 0.00099\n",
    "\n",
    "lasso_regr = Lasso(alpha=best_alpha, max_iter=50000)\n",
    "lasso_regr.fit(train_df_munged, label_df)\n",
    "\n",
    "# Run prediction on training set to get a rough idea of how well it does.\n",
    "y_train_pred_lasso = lasso_regr.predict(train_df_munged)\n",
    "y_test = label_df\n",
    "print(\"Lasso score on training set: \", rmse(y_test, y_train_pred_lasso))\n",
    "\n",
    "# Run prediction on the Kaggle test set.\n",
    "y_test_pred_lasso = lasso_regr.predict(test_df_munged)"
   ]
  },
  {
   "cell_type": "code",
<<<<<<< HEAD:Project4-MachineLearning/kaggle_wannjiun_sharan/feature_selection_wannjiun.ipynb
   "execution_count": 8,
   "metadata": {
    "collapsed": false
   },
   "outputs": [
    {
     "name": "stderr",
     "output_type": "stream",
     "text": [
      "/Library/Frameworks/Python.framework/Versions/3.5/lib/python3.5/site-packages/sklearn/cross_validation.py:552: Warning: The least populated class in y has only 1 members, which is too few. The minimum number of labels for any class cannot be less than n_folds=10.\n",
      "  % (min_labels, self.n_folds)), Warning)\n",
      "/Library/Frameworks/Python.framework/Versions/3.5/lib/python3.5/site-packages/sklearn/metrics/scorer.py:90: DeprecationWarning: Scoring method mean_squared_error was renamed to neg_mean_squared_error in version 0.18 and will be removed in 0.20.\n",
      "  sample_weight=sample_weight)\n",
      "/Library/Frameworks/Python.framework/Versions/3.5/lib/python3.5/site-packages/sklearn/metrics/scorer.py:90: DeprecationWarning: Scoring method mean_squared_error was renamed to neg_mean_squared_error in version 0.18 and will be removed in 0.20.\n",
      "  sample_weight=sample_weight)\n",
      "/Library/Frameworks/Python.framework/Versions/3.5/lib/python3.5/site-packages/sklearn/metrics/scorer.py:90: DeprecationWarning: Scoring method mean_squared_error was renamed to neg_mean_squared_error in version 0.18 and will be removed in 0.20.\n",
      "  sample_weight=sample_weight)\n",
      "/Library/Frameworks/Python.framework/Versions/3.5/lib/python3.5/site-packages/sklearn/metrics/scorer.py:90: DeprecationWarning: Scoring method mean_squared_error was renamed to neg_mean_squared_error in version 0.18 and will be removed in 0.20.\n",
      "  sample_weight=sample_weight)\n",
      "/Library/Frameworks/Python.framework/Versions/3.5/lib/python3.5/site-packages/sklearn/metrics/scorer.py:90: DeprecationWarning: Scoring method mean_squared_error was renamed to neg_mean_squared_error in version 0.18 and will be removed in 0.20.\n",
      "  sample_weight=sample_weight)\n",
      "/Library/Frameworks/Python.framework/Versions/3.5/lib/python3.5/site-packages/sklearn/metrics/scorer.py:90: DeprecationWarning: Scoring method mean_squared_error was renamed to neg_mean_squared_error in version 0.18 and will be removed in 0.20.\n",
      "  sample_weight=sample_weight)\n",
      "/Library/Frameworks/Python.framework/Versions/3.5/lib/python3.5/site-packages/sklearn/metrics/scorer.py:90: DeprecationWarning: Scoring method mean_squared_error was renamed to neg_mean_squared_error in version 0.18 and will be removed in 0.20.\n",
      "  sample_weight=sample_weight)\n",
      "/Library/Frameworks/Python.framework/Versions/3.5/lib/python3.5/site-packages/sklearn/metrics/scorer.py:90: DeprecationWarning: Scoring method mean_squared_error was renamed to neg_mean_squared_error in version 0.18 and will be removed in 0.20.\n",
      "  sample_weight=sample_weight)\n",
      "/Library/Frameworks/Python.framework/Versions/3.5/lib/python3.5/site-packages/sklearn/metrics/scorer.py:90: DeprecationWarning: Scoring method mean_squared_error was renamed to neg_mean_squared_error in version 0.18 and will be removed in 0.20.\n",
      "  sample_weight=sample_weight)\n",
      "/Library/Frameworks/Python.framework/Versions/3.5/lib/python3.5/site-packages/sklearn/metrics/scorer.py:90: DeprecationWarning: Scoring method mean_squared_error was renamed to neg_mean_squared_error in version 0.18 and will be removed in 0.20.\n",
      "  sample_weight=sample_weight)\n",
      "/Library/Frameworks/Python.framework/Versions/3.5/lib/python3.5/site-packages/sklearn/metrics/scorer.py:90: DeprecationWarning: Scoring method mean_squared_error was renamed to neg_mean_squared_error in version 0.18 and will be removed in 0.20.\n",
      "  sample_weight=sample_weight)\n",
      "/Library/Frameworks/Python.framework/Versions/3.5/lib/python3.5/site-packages/sklearn/metrics/scorer.py:90: DeprecationWarning: Scoring method mean_squared_error was renamed to neg_mean_squared_error in version 0.18 and will be removed in 0.20.\n",
      "  sample_weight=sample_weight)\n",
      "/Library/Frameworks/Python.framework/Versions/3.5/lib/python3.5/site-packages/sklearn/metrics/scorer.py:90: DeprecationWarning: Scoring method mean_squared_error was renamed to neg_mean_squared_error in version 0.18 and will be removed in 0.20.\n",
      "  sample_weight=sample_weight)\n",
      "/Library/Frameworks/Python.framework/Versions/3.5/lib/python3.5/site-packages/sklearn/metrics/scorer.py:90: DeprecationWarning: Scoring method mean_squared_error was renamed to neg_mean_squared_error in version 0.18 and will be removed in 0.20.\n",
      "  sample_weight=sample_weight)\n",
      "/Library/Frameworks/Python.framework/Versions/3.5/lib/python3.5/site-packages/sklearn/metrics/scorer.py:90: DeprecationWarning: Scoring method mean_squared_error was renamed to neg_mean_squared_error in version 0.18 and will be removed in 0.20.\n",
      "  sample_weight=sample_weight)\n",
      "/Library/Frameworks/Python.framework/Versions/3.5/lib/python3.5/site-packages/sklearn/metrics/scorer.py:90: DeprecationWarning: Scoring method mean_squared_error was renamed to neg_mean_squared_error in version 0.18 and will be removed in 0.20.\n",
      "  sample_weight=sample_weight)\n",
      "/Library/Frameworks/Python.framework/Versions/3.5/lib/python3.5/site-packages/sklearn/metrics/scorer.py:90: DeprecationWarning: Scoring method mean_squared_error was renamed to neg_mean_squared_error in version 0.18 and will be removed in 0.20.\n",
      "  sample_weight=sample_weight)\n",
      "/Library/Frameworks/Python.framework/Versions/3.5/lib/python3.5/site-packages/sklearn/metrics/scorer.py:90: DeprecationWarning: Scoring method mean_squared_error was renamed to neg_mean_squared_error in version 0.18 and will be removed in 0.20.\n",
      "  sample_weight=sample_weight)\n",
      "/Library/Frameworks/Python.framework/Versions/3.5/lib/python3.5/site-packages/sklearn/metrics/scorer.py:90: DeprecationWarning: Scoring method mean_squared_error was renamed to neg_mean_squared_error in version 0.18 and will be removed in 0.20.\n",
      "  sample_weight=sample_weight)\n",
      "/Library/Frameworks/Python.framework/Versions/3.5/lib/python3.5/site-packages/sklearn/metrics/scorer.py:90: DeprecationWarning: Scoring method mean_squared_error was renamed to neg_mean_squared_error in version 0.18 and will be removed in 0.20.\n",
      "  sample_weight=sample_weight)\n",
      "/Library/Frameworks/Python.framework/Versions/3.5/lib/python3.5/site-packages/sklearn/metrics/scorer.py:90: DeprecationWarning: Scoring method mean_squared_error was renamed to neg_mean_squared_error in version 0.18 and will be removed in 0.20.\n",
      "  sample_weight=sample_weight)\n",
      "/Library/Frameworks/Python.framework/Versions/3.5/lib/python3.5/site-packages/sklearn/metrics/scorer.py:90: DeprecationWarning: Scoring method mean_squared_error was renamed to neg_mean_squared_error in version 0.18 and will be removed in 0.20.\n",
      "  sample_weight=sample_weight)\n",
      "/Library/Frameworks/Python.framework/Versions/3.5/lib/python3.5/site-packages/sklearn/metrics/scorer.py:90: DeprecationWarning: Scoring method mean_squared_error was renamed to neg_mean_squared_error in version 0.18 and will be removed in 0.20.\n",
      "  sample_weight=sample_weight)\n",
      "/Library/Frameworks/Python.framework/Versions/3.5/lib/python3.5/site-packages/sklearn/metrics/scorer.py:90: DeprecationWarning: Scoring method mean_squared_error was renamed to neg_mean_squared_error in version 0.18 and will be removed in 0.20.\n",
      "  sample_weight=sample_weight)\n",
      "/Library/Frameworks/Python.framework/Versions/3.5/lib/python3.5/site-packages/sklearn/metrics/scorer.py:90: DeprecationWarning: Scoring method mean_squared_error was renamed to neg_mean_squared_error in version 0.18 and will be removed in 0.20.\n",
      "  sample_weight=sample_weight)\n",
      "/Library/Frameworks/Python.framework/Versions/3.5/lib/python3.5/site-packages/sklearn/metrics/scorer.py:90: DeprecationWarning: Scoring method mean_squared_error was renamed to neg_mean_squared_error in version 0.18 and will be removed in 0.20.\n",
      "  sample_weight=sample_weight)\n",
      "/Library/Frameworks/Python.framework/Versions/3.5/lib/python3.5/site-packages/sklearn/metrics/scorer.py:90: DeprecationWarning: Scoring method mean_squared_error was renamed to neg_mean_squared_error in version 0.18 and will be removed in 0.20.\n",
      "  sample_weight=sample_weight)\n",
      "/Library/Frameworks/Python.framework/Versions/3.5/lib/python3.5/site-packages/sklearn/metrics/scorer.py:90: DeprecationWarning: Scoring method mean_squared_error was renamed to neg_mean_squared_error in version 0.18 and will be removed in 0.20.\n",
      "  sample_weight=sample_weight)\n",
      "/Library/Frameworks/Python.framework/Versions/3.5/lib/python3.5/site-packages/sklearn/metrics/scorer.py:90: DeprecationWarning: Scoring method mean_squared_error was renamed to neg_mean_squared_error in version 0.18 and will be removed in 0.20.\n",
      "  sample_weight=sample_weight)\n",
      "/Library/Frameworks/Python.framework/Versions/3.5/lib/python3.5/site-packages/sklearn/metrics/scorer.py:90: DeprecationWarning: Scoring method mean_squared_error was renamed to neg_mean_squared_error in version 0.18 and will be removed in 0.20.\n",
      "  sample_weight=sample_weight)\n",
      "/Library/Frameworks/Python.framework/Versions/3.5/lib/python3.5/site-packages/sklearn/metrics/scorer.py:90: DeprecationWarning: Scoring method mean_squared_error was renamed to neg_mean_squared_error in version 0.18 and will be removed in 0.20.\n",
      "  sample_weight=sample_weight)\n",
      "/Library/Frameworks/Python.framework/Versions/3.5/lib/python3.5/site-packages/sklearn/metrics/scorer.py:90: DeprecationWarning: Scoring method mean_squared_error was renamed to neg_mean_squared_error in version 0.18 and will be removed in 0.20.\n",
      "  sample_weight=sample_weight)\n",
      "/Library/Frameworks/Python.framework/Versions/3.5/lib/python3.5/site-packages/sklearn/metrics/scorer.py:90: DeprecationWarning: Scoring method mean_squared_error was renamed to neg_mean_squared_error in version 0.18 and will be removed in 0.20.\n",
      "  sample_weight=sample_weight)\n",
      "/Library/Frameworks/Python.framework/Versions/3.5/lib/python3.5/site-packages/sklearn/metrics/scorer.py:90: DeprecationWarning: Scoring method mean_squared_error was renamed to neg_mean_squared_error in version 0.18 and will be removed in 0.20.\n",
      "  sample_weight=sample_weight)\n",
      "/Library/Frameworks/Python.framework/Versions/3.5/lib/python3.5/site-packages/sklearn/metrics/scorer.py:90: DeprecationWarning: Scoring method mean_squared_error was renamed to neg_mean_squared_error in version 0.18 and will be removed in 0.20.\n",
      "  sample_weight=sample_weight)\n",
      "/Library/Frameworks/Python.framework/Versions/3.5/lib/python3.5/site-packages/sklearn/metrics/scorer.py:90: DeprecationWarning: Scoring method mean_squared_error was renamed to neg_mean_squared_error in version 0.18 and will be removed in 0.20.\n",
      "  sample_weight=sample_weight)\n",
      "/Library/Frameworks/Python.framework/Versions/3.5/lib/python3.5/site-packages/sklearn/metrics/scorer.py:90: DeprecationWarning: Scoring method mean_squared_error was renamed to neg_mean_squared_error in version 0.18 and will be removed in 0.20.\n",
      "  sample_weight=sample_weight)\n",
      "/Library/Frameworks/Python.framework/Versions/3.5/lib/python3.5/site-packages/sklearn/metrics/scorer.py:90: DeprecationWarning: Scoring method mean_squared_error was renamed to neg_mean_squared_error in version 0.18 and will be removed in 0.20.\n",
      "  sample_weight=sample_weight)\n",
      "/Library/Frameworks/Python.framework/Versions/3.5/lib/python3.5/site-packages/sklearn/metrics/scorer.py:90: DeprecationWarning: Scoring method mean_squared_error was renamed to neg_mean_squared_error in version 0.18 and will be removed in 0.20.\n",
      "  sample_weight=sample_weight)\n",
      "/Library/Frameworks/Python.framework/Versions/3.5/lib/python3.5/site-packages/sklearn/metrics/scorer.py:90: DeprecationWarning: Scoring method mean_squared_error was renamed to neg_mean_squared_error in version 0.18 and will be removed in 0.20.\n",
      "  sample_weight=sample_weight)\n",
      "/Library/Frameworks/Python.framework/Versions/3.5/lib/python3.5/site-packages/sklearn/metrics/scorer.py:90: DeprecationWarning: Scoring method mean_squared_error was renamed to neg_mean_squared_error in version 0.18 and will be removed in 0.20.\n",
      "  sample_weight=sample_weight)\n",
      "/Library/Frameworks/Python.framework/Versions/3.5/lib/python3.5/site-packages/sklearn/metrics/scorer.py:90: DeprecationWarning: Scoring method mean_squared_error was renamed to neg_mean_squared_error in version 0.18 and will be removed in 0.20.\n",
      "  sample_weight=sample_weight)\n",
      "/Library/Frameworks/Python.framework/Versions/3.5/lib/python3.5/site-packages/sklearn/metrics/scorer.py:90: DeprecationWarning: Scoring method mean_squared_error was renamed to neg_mean_squared_error in version 0.18 and will be removed in 0.20.\n",
      "  sample_weight=sample_weight)\n",
      "/Library/Frameworks/Python.framework/Versions/3.5/lib/python3.5/site-packages/sklearn/metrics/scorer.py:90: DeprecationWarning: Scoring method mean_squared_error was renamed to neg_mean_squared_error in version 0.18 and will be removed in 0.20.\n",
      "  sample_weight=sample_weight)\n",
      "/Library/Frameworks/Python.framework/Versions/3.5/lib/python3.5/site-packages/sklearn/metrics/scorer.py:90: DeprecationWarning: Scoring method mean_squared_error was renamed to neg_mean_squared_error in version 0.18 and will be removed in 0.20.\n",
      "  sample_weight=sample_weight)\n",
      "/Library/Frameworks/Python.framework/Versions/3.5/lib/python3.5/site-packages/sklearn/metrics/scorer.py:90: DeprecationWarning: Scoring method mean_squared_error was renamed to neg_mean_squared_error in version 0.18 and will be removed in 0.20.\n",
      "  sample_weight=sample_weight)\n",
      "/Library/Frameworks/Python.framework/Versions/3.5/lib/python3.5/site-packages/sklearn/metrics/scorer.py:90: DeprecationWarning: Scoring method mean_squared_error was renamed to neg_mean_squared_error in version 0.18 and will be removed in 0.20.\n",
      "  sample_weight=sample_weight)\n",
      "/Library/Frameworks/Python.framework/Versions/3.5/lib/python3.5/site-packages/sklearn/metrics/scorer.py:90: DeprecationWarning: Scoring method mean_squared_error was renamed to neg_mean_squared_error in version 0.18 and will be removed in 0.20.\n",
      "  sample_weight=sample_weight)\n",
      "/Library/Frameworks/Python.framework/Versions/3.5/lib/python3.5/site-packages/sklearn/metrics/scorer.py:90: DeprecationWarning: Scoring method mean_squared_error was renamed to neg_mean_squared_error in version 0.18 and will be removed in 0.20.\n",
      "  sample_weight=sample_weight)\n",
      "/Library/Frameworks/Python.framework/Versions/3.5/lib/python3.5/site-packages/sklearn/metrics/scorer.py:90: DeprecationWarning: Scoring method mean_squared_error was renamed to neg_mean_squared_error in version 0.18 and will be removed in 0.20.\n",
      "  sample_weight=sample_weight)\n",
      "/Library/Frameworks/Python.framework/Versions/3.5/lib/python3.5/site-packages/sklearn/metrics/scorer.py:90: DeprecationWarning: Scoring method mean_squared_error was renamed to neg_mean_squared_error in version 0.18 and will be removed in 0.20.\n",
      "  sample_weight=sample_weight)\n",
      "/Library/Frameworks/Python.framework/Versions/3.5/lib/python3.5/site-packages/sklearn/metrics/scorer.py:90: DeprecationWarning: Scoring method mean_squared_error was renamed to neg_mean_squared_error in version 0.18 and will be removed in 0.20.\n",
      "  sample_weight=sample_weight)\n",
      "/Library/Frameworks/Python.framework/Versions/3.5/lib/python3.5/site-packages/sklearn/metrics/scorer.py:90: DeprecationWarning: Scoring method mean_squared_error was renamed to neg_mean_squared_error in version 0.18 and will be removed in 0.20.\n",
      "  sample_weight=sample_weight)\n",
      "/Library/Frameworks/Python.framework/Versions/3.5/lib/python3.5/site-packages/sklearn/metrics/scorer.py:90: DeprecationWarning: Scoring method mean_squared_error was renamed to neg_mean_squared_error in version 0.18 and will be removed in 0.20.\n",
      "  sample_weight=sample_weight)\n",
      "/Library/Frameworks/Python.framework/Versions/3.5/lib/python3.5/site-packages/sklearn/metrics/scorer.py:90: DeprecationWarning: Scoring method mean_squared_error was renamed to neg_mean_squared_error in version 0.18 and will be removed in 0.20.\n",
      "  sample_weight=sample_weight)\n",
      "/Library/Frameworks/Python.framework/Versions/3.5/lib/python3.5/site-packages/sklearn/metrics/scorer.py:90: DeprecationWarning: Scoring method mean_squared_error was renamed to neg_mean_squared_error in version 0.18 and will be removed in 0.20.\n",
      "  sample_weight=sample_weight)\n",
      "/Library/Frameworks/Python.framework/Versions/3.5/lib/python3.5/site-packages/sklearn/metrics/scorer.py:90: DeprecationWarning: Scoring method mean_squared_error was renamed to neg_mean_squared_error in version 0.18 and will be removed in 0.20.\n",
      "  sample_weight=sample_weight)\n",
      "/Library/Frameworks/Python.framework/Versions/3.5/lib/python3.5/site-packages/sklearn/metrics/scorer.py:90: DeprecationWarning: Scoring method mean_squared_error was renamed to neg_mean_squared_error in version 0.18 and will be removed in 0.20.\n",
      "  sample_weight=sample_weight)\n",
      "/Library/Frameworks/Python.framework/Versions/3.5/lib/python3.5/site-packages/sklearn/metrics/scorer.py:90: DeprecationWarning: Scoring method mean_squared_error was renamed to neg_mean_squared_error in version 0.18 and will be removed in 0.20.\n",
      "  sample_weight=sample_weight)\n",
      "/Library/Frameworks/Python.framework/Versions/3.5/lib/python3.5/site-packages/sklearn/metrics/scorer.py:90: DeprecationWarning: Scoring method mean_squared_error was renamed to neg_mean_squared_error in version 0.18 and will be removed in 0.20.\n",
      "  sample_weight=sample_weight)\n",
      "/Library/Frameworks/Python.framework/Versions/3.5/lib/python3.5/site-packages/sklearn/metrics/scorer.py:90: DeprecationWarning: Scoring method mean_squared_error was renamed to neg_mean_squared_error in version 0.18 and will be removed in 0.20.\n",
      "  sample_weight=sample_weight)\n",
      "/Library/Frameworks/Python.framework/Versions/3.5/lib/python3.5/site-packages/sklearn/metrics/scorer.py:90: DeprecationWarning: Scoring method mean_squared_error was renamed to neg_mean_squared_error in version 0.18 and will be removed in 0.20.\n",
      "  sample_weight=sample_weight)\n",
      "/Library/Frameworks/Python.framework/Versions/3.5/lib/python3.5/site-packages/sklearn/metrics/scorer.py:90: DeprecationWarning: Scoring method mean_squared_error was renamed to neg_mean_squared_error in version 0.18 and will be removed in 0.20.\n",
      "  sample_weight=sample_weight)\n",
      "/Library/Frameworks/Python.framework/Versions/3.5/lib/python3.5/site-packages/sklearn/metrics/scorer.py:90: DeprecationWarning: Scoring method mean_squared_error was renamed to neg_mean_squared_error in version 0.18 and will be removed in 0.20.\n",
      "  sample_weight=sample_weight)\n",
      "/Library/Frameworks/Python.framework/Versions/3.5/lib/python3.5/site-packages/sklearn/metrics/scorer.py:90: DeprecationWarning: Scoring method mean_squared_error was renamed to neg_mean_squared_error in version 0.18 and will be removed in 0.20.\n",
      "  sample_weight=sample_weight)\n",
      "/Library/Frameworks/Python.framework/Versions/3.5/lib/python3.5/site-packages/sklearn/metrics/scorer.py:90: DeprecationWarning: Scoring method mean_squared_error was renamed to neg_mean_squared_error in version 0.18 and will be removed in 0.20.\n",
      "  sample_weight=sample_weight)\n",
      "/Library/Frameworks/Python.framework/Versions/3.5/lib/python3.5/site-packages/sklearn/metrics/scorer.py:90: DeprecationWarning: Scoring method mean_squared_error was renamed to neg_mean_squared_error in version 0.18 and will be removed in 0.20.\n",
      "  sample_weight=sample_weight)\n",
      "/Library/Frameworks/Python.framework/Versions/3.5/lib/python3.5/site-packages/sklearn/metrics/scorer.py:90: DeprecationWarning: Scoring method mean_squared_error was renamed to neg_mean_squared_error in version 0.18 and will be removed in 0.20.\n",
      "  sample_weight=sample_weight)\n",
      "/Library/Frameworks/Python.framework/Versions/3.5/lib/python3.5/site-packages/sklearn/metrics/scorer.py:90: DeprecationWarning: Scoring method mean_squared_error was renamed to neg_mean_squared_error in version 0.18 and will be removed in 0.20.\n",
      "  sample_weight=sample_weight)\n",
      "/Library/Frameworks/Python.framework/Versions/3.5/lib/python3.5/site-packages/sklearn/metrics/scorer.py:90: DeprecationWarning: Scoring method mean_squared_error was renamed to neg_mean_squared_error in version 0.18 and will be removed in 0.20.\n",
      "  sample_weight=sample_weight)\n",
      "/Library/Frameworks/Python.framework/Versions/3.5/lib/python3.5/site-packages/sklearn/metrics/scorer.py:90: DeprecationWarning: Scoring method mean_squared_error was renamed to neg_mean_squared_error in version 0.18 and will be removed in 0.20.\n",
      "  sample_weight=sample_weight)\n",
      "/Library/Frameworks/Python.framework/Versions/3.5/lib/python3.5/site-packages/sklearn/metrics/scorer.py:90: DeprecationWarning: Scoring method mean_squared_error was renamed to neg_mean_squared_error in version 0.18 and will be removed in 0.20.\n",
      "  sample_weight=sample_weight)\n",
      "/Library/Frameworks/Python.framework/Versions/3.5/lib/python3.5/site-packages/sklearn/metrics/scorer.py:90: DeprecationWarning: Scoring method mean_squared_error was renamed to neg_mean_squared_error in version 0.18 and will be removed in 0.20.\n",
      "  sample_weight=sample_weight)\n",
      "/Library/Frameworks/Python.framework/Versions/3.5/lib/python3.5/site-packages/sklearn/metrics/scorer.py:90: DeprecationWarning: Scoring method mean_squared_error was renamed to neg_mean_squared_error in version 0.18 and will be removed in 0.20.\n",
      "  sample_weight=sample_weight)\n",
      "/Library/Frameworks/Python.framework/Versions/3.5/lib/python3.5/site-packages/sklearn/metrics/scorer.py:90: DeprecationWarning: Scoring method mean_squared_error was renamed to neg_mean_squared_error in version 0.18 and will be removed in 0.20.\n",
      "  sample_weight=sample_weight)\n",
      "/Library/Frameworks/Python.framework/Versions/3.5/lib/python3.5/site-packages/sklearn/metrics/scorer.py:90: DeprecationWarning: Scoring method mean_squared_error was renamed to neg_mean_squared_error in version 0.18 and will be removed in 0.20.\n",
      "  sample_weight=sample_weight)\n",
      "/Library/Frameworks/Python.framework/Versions/3.5/lib/python3.5/site-packages/sklearn/metrics/scorer.py:90: DeprecationWarning: Scoring method mean_squared_error was renamed to neg_mean_squared_error in version 0.18 and will be removed in 0.20.\n",
      "  sample_weight=sample_weight)\n",
      "/Library/Frameworks/Python.framework/Versions/3.5/lib/python3.5/site-packages/sklearn/metrics/scorer.py:90: DeprecationWarning: Scoring method mean_squared_error was renamed to neg_mean_squared_error in version 0.18 and will be removed in 0.20.\n",
      "  sample_weight=sample_weight)\n",
      "/Library/Frameworks/Python.framework/Versions/3.5/lib/python3.5/site-packages/sklearn/metrics/scorer.py:90: DeprecationWarning: Scoring method mean_squared_error was renamed to neg_mean_squared_error in version 0.18 and will be removed in 0.20.\n",
      "  sample_weight=sample_weight)\n",
      "/Library/Frameworks/Python.framework/Versions/3.5/lib/python3.5/site-packages/sklearn/metrics/scorer.py:90: DeprecationWarning: Scoring method mean_squared_error was renamed to neg_mean_squared_error in version 0.18 and will be removed in 0.20.\n",
      "  sample_weight=sample_weight)\n",
      "/Library/Frameworks/Python.framework/Versions/3.5/lib/python3.5/site-packages/sklearn/metrics/scorer.py:90: DeprecationWarning: Scoring method mean_squared_error was renamed to neg_mean_squared_error in version 0.18 and will be removed in 0.20.\n",
      "  sample_weight=sample_weight)\n",
      "/Library/Frameworks/Python.framework/Versions/3.5/lib/python3.5/site-packages/sklearn/metrics/scorer.py:90: DeprecationWarning: Scoring method mean_squared_error was renamed to neg_mean_squared_error in version 0.18 and will be removed in 0.20.\n",
      "  sample_weight=sample_weight)\n",
      "/Library/Frameworks/Python.framework/Versions/3.5/lib/python3.5/site-packages/sklearn/metrics/scorer.py:90: DeprecationWarning: Scoring method mean_squared_error was renamed to neg_mean_squared_error in version 0.18 and will be removed in 0.20.\n",
      "  sample_weight=sample_weight)\n",
      "/Library/Frameworks/Python.framework/Versions/3.5/lib/python3.5/site-packages/sklearn/metrics/scorer.py:90: DeprecationWarning: Scoring method mean_squared_error was renamed to neg_mean_squared_error in version 0.18 and will be removed in 0.20.\n",
      "  sample_weight=sample_weight)\n",
      "/Library/Frameworks/Python.framework/Versions/3.5/lib/python3.5/site-packages/sklearn/metrics/scorer.py:90: DeprecationWarning: Scoring method mean_squared_error was renamed to neg_mean_squared_error in version 0.18 and will be removed in 0.20.\n",
      "  sample_weight=sample_weight)\n",
      "/Library/Frameworks/Python.framework/Versions/3.5/lib/python3.5/site-packages/sklearn/metrics/scorer.py:90: DeprecationWarning: Scoring method mean_squared_error was renamed to neg_mean_squared_error in version 0.18 and will be removed in 0.20.\n",
      "  sample_weight=sample_weight)\n",
      "/Library/Frameworks/Python.framework/Versions/3.5/lib/python3.5/site-packages/sklearn/metrics/scorer.py:90: DeprecationWarning: Scoring method mean_squared_error was renamed to neg_mean_squared_error in version 0.18 and will be removed in 0.20.\n",
      "  sample_weight=sample_weight)\n",
      "/Library/Frameworks/Python.framework/Versions/3.5/lib/python3.5/site-packages/sklearn/metrics/scorer.py:90: DeprecationWarning: Scoring method mean_squared_error was renamed to neg_mean_squared_error in version 0.18 and will be removed in 0.20.\n",
      "  sample_weight=sample_weight)\n",
      "/Library/Frameworks/Python.framework/Versions/3.5/lib/python3.5/site-packages/sklearn/metrics/scorer.py:90: DeprecationWarning: Scoring method mean_squared_error was renamed to neg_mean_squared_error in version 0.18 and will be removed in 0.20.\n",
      "  sample_weight=sample_weight)\n",
      "/Library/Frameworks/Python.framework/Versions/3.5/lib/python3.5/site-packages/sklearn/metrics/scorer.py:90: DeprecationWarning: Scoring method mean_squared_error was renamed to neg_mean_squared_error in version 0.18 and will be removed in 0.20.\n",
      "  sample_weight=sample_weight)\n",
      "/Library/Frameworks/Python.framework/Versions/3.5/lib/python3.5/site-packages/sklearn/metrics/scorer.py:90: DeprecationWarning: Scoring method mean_squared_error was renamed to neg_mean_squared_error in version 0.18 and will be removed in 0.20.\n",
      "  sample_weight=sample_weight)\n",
      "/Library/Frameworks/Python.framework/Versions/3.5/lib/python3.5/site-packages/sklearn/metrics/scorer.py:90: DeprecationWarning: Scoring method mean_squared_error was renamed to neg_mean_squared_error in version 0.18 and will be removed in 0.20.\n",
      "  sample_weight=sample_weight)\n",
      "/Library/Frameworks/Python.framework/Versions/3.5/lib/python3.5/site-packages/sklearn/metrics/scorer.py:90: DeprecationWarning: Scoring method mean_squared_error was renamed to neg_mean_squared_error in version 0.18 and will be removed in 0.20.\n",
      "  sample_weight=sample_weight)\n",
      "/Library/Frameworks/Python.framework/Versions/3.5/lib/python3.5/site-packages/sklearn/metrics/scorer.py:90: DeprecationWarning: Scoring method mean_squared_error was renamed to neg_mean_squared_error in version 0.18 and will be removed in 0.20.\n",
      "  sample_weight=sample_weight)\n",
      "/Library/Frameworks/Python.framework/Versions/3.5/lib/python3.5/site-packages/sklearn/metrics/scorer.py:90: DeprecationWarning: Scoring method mean_squared_error was renamed to neg_mean_squared_error in version 0.18 and will be removed in 0.20.\n",
      "  sample_weight=sample_weight)\n",
      "/Library/Frameworks/Python.framework/Versions/3.5/lib/python3.5/site-packages/sklearn/metrics/scorer.py:90: DeprecationWarning: Scoring method mean_squared_error was renamed to neg_mean_squared_error in version 0.18 and will be removed in 0.20.\n",
      "  sample_weight=sample_weight)\n",
      "/Library/Frameworks/Python.framework/Versions/3.5/lib/python3.5/site-packages/sklearn/metrics/scorer.py:90: DeprecationWarning: Scoring method mean_squared_error was renamed to neg_mean_squared_error in version 0.18 and will be removed in 0.20.\n",
      "  sample_weight=sample_weight)\n",
      "/Library/Frameworks/Python.framework/Versions/3.5/lib/python3.5/site-packages/sklearn/metrics/scorer.py:90: DeprecationWarning: Scoring method mean_squared_error was renamed to neg_mean_squared_error in version 0.18 and will be removed in 0.20.\n",
      "  sample_weight=sample_weight)\n",
      "/Library/Frameworks/Python.framework/Versions/3.5/lib/python3.5/site-packages/sklearn/metrics/scorer.py:90: DeprecationWarning: Scoring method mean_squared_error was renamed to neg_mean_squared_error in version 0.18 and will be removed in 0.20.\n",
      "  sample_weight=sample_weight)\n",
      "/Library/Frameworks/Python.framework/Versions/3.5/lib/python3.5/site-packages/sklearn/metrics/scorer.py:90: DeprecationWarning: Scoring method mean_squared_error was renamed to neg_mean_squared_error in version 0.18 and will be removed in 0.20.\n",
      "  sample_weight=sample_weight)\n",
      "/Library/Frameworks/Python.framework/Versions/3.5/lib/python3.5/site-packages/sklearn/metrics/scorer.py:90: DeprecationWarning: Scoring method mean_squared_error was renamed to neg_mean_squared_error in version 0.18 and will be removed in 0.20.\n",
      "  sample_weight=sample_weight)\n",
      "/Library/Frameworks/Python.framework/Versions/3.5/lib/python3.5/site-packages/sklearn/metrics/scorer.py:90: DeprecationWarning: Scoring method mean_squared_error was renamed to neg_mean_squared_error in version 0.18 and will be removed in 0.20.\n",
      "  sample_weight=sample_weight)\n",
      "/Library/Frameworks/Python.framework/Versions/3.5/lib/python3.5/site-packages/sklearn/metrics/scorer.py:90: DeprecationWarning: Scoring method mean_squared_error was renamed to neg_mean_squared_error in version 0.18 and will be removed in 0.20.\n",
      "  sample_weight=sample_weight)\n",
      "/Library/Frameworks/Python.framework/Versions/3.5/lib/python3.5/site-packages/sklearn/metrics/scorer.py:90: DeprecationWarning: Scoring method mean_squared_error was renamed to neg_mean_squared_error in version 0.18 and will be removed in 0.20.\n",
      "  sample_weight=sample_weight)\n",
      "/Library/Frameworks/Python.framework/Versions/3.5/lib/python3.5/site-packages/sklearn/metrics/scorer.py:90: DeprecationWarning: Scoring method mean_squared_error was renamed to neg_mean_squared_error in version 0.18 and will be removed in 0.20.\n",
      "  sample_weight=sample_weight)\n",
      "/Library/Frameworks/Python.framework/Versions/3.5/lib/python3.5/site-packages/sklearn/metrics/scorer.py:90: DeprecationWarning: Scoring method mean_squared_error was renamed to neg_mean_squared_error in version 0.18 and will be removed in 0.20.\n",
      "  sample_weight=sample_weight)\n",
      "/Library/Frameworks/Python.framework/Versions/3.5/lib/python3.5/site-packages/sklearn/metrics/scorer.py:90: DeprecationWarning: Scoring method mean_squared_error was renamed to neg_mean_squared_error in version 0.18 and will be removed in 0.20.\n",
      "  sample_weight=sample_weight)\n",
      "/Library/Frameworks/Python.framework/Versions/3.5/lib/python3.5/site-packages/sklearn/metrics/scorer.py:90: DeprecationWarning: Scoring method mean_squared_error was renamed to neg_mean_squared_error in version 0.18 and will be removed in 0.20.\n",
      "  sample_weight=sample_weight)\n",
      "/Library/Frameworks/Python.framework/Versions/3.5/lib/python3.5/site-packages/sklearn/metrics/scorer.py:90: DeprecationWarning: Scoring method mean_squared_error was renamed to neg_mean_squared_error in version 0.18 and will be removed in 0.20.\n",
      "  sample_weight=sample_weight)\n",
      "/Library/Frameworks/Python.framework/Versions/3.5/lib/python3.5/site-packages/sklearn/metrics/scorer.py:90: DeprecationWarning: Scoring method mean_squared_error was renamed to neg_mean_squared_error in version 0.18 and will be removed in 0.20.\n",
      "  sample_weight=sample_weight)\n",
      "/Library/Frameworks/Python.framework/Versions/3.5/lib/python3.5/site-packages/sklearn/metrics/scorer.py:90: DeprecationWarning: Scoring method mean_squared_error was renamed to neg_mean_squared_error in version 0.18 and will be removed in 0.20.\n",
      "  sample_weight=sample_weight)\n",
      "/Library/Frameworks/Python.framework/Versions/3.5/lib/python3.5/site-packages/sklearn/metrics/scorer.py:90: DeprecationWarning: Scoring method mean_squared_error was renamed to neg_mean_squared_error in version 0.18 and will be removed in 0.20.\n",
      "  sample_weight=sample_weight)\n",
      "/Library/Frameworks/Python.framework/Versions/3.5/lib/python3.5/site-packages/sklearn/metrics/scorer.py:90: DeprecationWarning: Scoring method mean_squared_error was renamed to neg_mean_squared_error in version 0.18 and will be removed in 0.20.\n",
      "  sample_weight=sample_weight)\n",
      "/Library/Frameworks/Python.framework/Versions/3.5/lib/python3.5/site-packages/sklearn/metrics/scorer.py:90: DeprecationWarning: Scoring method mean_squared_error was renamed to neg_mean_squared_error in version 0.18 and will be removed in 0.20.\n",
      "  sample_weight=sample_weight)\n",
      "/Library/Frameworks/Python.framework/Versions/3.5/lib/python3.5/site-packages/sklearn/metrics/scorer.py:90: DeprecationWarning: Scoring method mean_squared_error was renamed to neg_mean_squared_error in version 0.18 and will be removed in 0.20.\n",
      "  sample_weight=sample_weight)\n",
      "/Library/Frameworks/Python.framework/Versions/3.5/lib/python3.5/site-packages/sklearn/metrics/scorer.py:90: DeprecationWarning: Scoring method mean_squared_error was renamed to neg_mean_squared_error in version 0.18 and will be removed in 0.20.\n",
      "  sample_weight=sample_weight)\n",
      "/Library/Frameworks/Python.framework/Versions/3.5/lib/python3.5/site-packages/sklearn/metrics/scorer.py:90: DeprecationWarning: Scoring method mean_squared_error was renamed to neg_mean_squared_error in version 0.18 and will be removed in 0.20.\n",
      "  sample_weight=sample_weight)\n",
      "/Library/Frameworks/Python.framework/Versions/3.5/lib/python3.5/site-packages/sklearn/metrics/scorer.py:90: DeprecationWarning: Scoring method mean_squared_error was renamed to neg_mean_squared_error in version 0.18 and will be removed in 0.20.\n",
      "  sample_weight=sample_weight)\n",
      "/Library/Frameworks/Python.framework/Versions/3.5/lib/python3.5/site-packages/sklearn/metrics/scorer.py:90: DeprecationWarning: Scoring method mean_squared_error was renamed to neg_mean_squared_error in version 0.18 and will be removed in 0.20.\n",
      "  sample_weight=sample_weight)\n",
      "/Library/Frameworks/Python.framework/Versions/3.5/lib/python3.5/site-packages/sklearn/metrics/scorer.py:90: DeprecationWarning: Scoring method mean_squared_error was renamed to neg_mean_squared_error in version 0.18 and will be removed in 0.20.\n",
      "  sample_weight=sample_weight)\n",
      "/Library/Frameworks/Python.framework/Versions/3.5/lib/python3.5/site-packages/sklearn/metrics/scorer.py:90: DeprecationWarning: Scoring method mean_squared_error was renamed to neg_mean_squared_error in version 0.18 and will be removed in 0.20.\n",
      "  sample_weight=sample_weight)\n",
      "/Library/Frameworks/Python.framework/Versions/3.5/lib/python3.5/site-packages/sklearn/metrics/scorer.py:90: DeprecationWarning: Scoring method mean_squared_error was renamed to neg_mean_squared_error in version 0.18 and will be removed in 0.20.\n",
      "  sample_weight=sample_weight)\n",
      "/Library/Frameworks/Python.framework/Versions/3.5/lib/python3.5/site-packages/sklearn/metrics/scorer.py:90: DeprecationWarning: Scoring method mean_squared_error was renamed to neg_mean_squared_error in version 0.18 and will be removed in 0.20.\n",
      "  sample_weight=sample_weight)\n",
      "/Library/Frameworks/Python.framework/Versions/3.5/lib/python3.5/site-packages/sklearn/metrics/scorer.py:90: DeprecationWarning: Scoring method mean_squared_error was renamed to neg_mean_squared_error in version 0.18 and will be removed in 0.20.\n",
      "  sample_weight=sample_weight)\n",
      "/Library/Frameworks/Python.framework/Versions/3.5/lib/python3.5/site-packages/sklearn/metrics/scorer.py:90: DeprecationWarning: Scoring method mean_squared_error was renamed to neg_mean_squared_error in version 0.18 and will be removed in 0.20.\n",
      "  sample_weight=sample_weight)\n",
      "/Library/Frameworks/Python.framework/Versions/3.5/lib/python3.5/site-packages/sklearn/metrics/scorer.py:90: DeprecationWarning: Scoring method mean_squared_error was renamed to neg_mean_squared_error in version 0.18 and will be removed in 0.20.\n",
      "  sample_weight=sample_weight)\n",
      "/Library/Frameworks/Python.framework/Versions/3.5/lib/python3.5/site-packages/sklearn/metrics/scorer.py:90: DeprecationWarning: Scoring method mean_squared_error was renamed to neg_mean_squared_error in version 0.18 and will be removed in 0.20.\n",
      "  sample_weight=sample_weight)\n",
      "/Library/Frameworks/Python.framework/Versions/3.5/lib/python3.5/site-packages/sklearn/metrics/scorer.py:90: DeprecationWarning: Scoring method mean_squared_error was renamed to neg_mean_squared_error in version 0.18 and will be removed in 0.20.\n",
      "  sample_weight=sample_weight)\n",
      "/Library/Frameworks/Python.framework/Versions/3.5/lib/python3.5/site-packages/sklearn/metrics/scorer.py:90: DeprecationWarning: Scoring method mean_squared_error was renamed to neg_mean_squared_error in version 0.18 and will be removed in 0.20.\n",
      "  sample_weight=sample_weight)\n",
      "/Library/Frameworks/Python.framework/Versions/3.5/lib/python3.5/site-packages/sklearn/metrics/scorer.py:90: DeprecationWarning: Scoring method mean_squared_error was renamed to neg_mean_squared_error in version 0.18 and will be removed in 0.20.\n",
      "  sample_weight=sample_weight)\n",
      "/Library/Frameworks/Python.framework/Versions/3.5/lib/python3.5/site-packages/sklearn/metrics/scorer.py:90: DeprecationWarning: Scoring method mean_squared_error was renamed to neg_mean_squared_error in version 0.18 and will be removed in 0.20.\n",
      "  sample_weight=sample_weight)\n",
      "/Library/Frameworks/Python.framework/Versions/3.5/lib/python3.5/site-packages/sklearn/metrics/scorer.py:90: DeprecationWarning: Scoring method mean_squared_error was renamed to neg_mean_squared_error in version 0.18 and will be removed in 0.20.\n",
      "  sample_weight=sample_weight)\n",
      "/Library/Frameworks/Python.framework/Versions/3.5/lib/python3.5/site-packages/sklearn/metrics/scorer.py:90: DeprecationWarning: Scoring method mean_squared_error was renamed to neg_mean_squared_error in version 0.18 and will be removed in 0.20.\n",
      "  sample_weight=sample_weight)\n",
      "/Library/Frameworks/Python.framework/Versions/3.5/lib/python3.5/site-packages/sklearn/metrics/scorer.py:90: DeprecationWarning: Scoring method mean_squared_error was renamed to neg_mean_squared_error in version 0.18 and will be removed in 0.20.\n",
      "  sample_weight=sample_weight)\n",
      "/Library/Frameworks/Python.framework/Versions/3.5/lib/python3.5/site-packages/sklearn/metrics/scorer.py:90: DeprecationWarning: Scoring method mean_squared_error was renamed to neg_mean_squared_error in version 0.18 and will be removed in 0.20.\n",
      "  sample_weight=sample_weight)\n",
      "/Library/Frameworks/Python.framework/Versions/3.5/lib/python3.5/site-packages/sklearn/metrics/scorer.py:90: DeprecationWarning: Scoring method mean_squared_error was renamed to neg_mean_squared_error in version 0.18 and will be removed in 0.20.\n",
      "  sample_weight=sample_weight)\n",
      "/Library/Frameworks/Python.framework/Versions/3.5/lib/python3.5/site-packages/sklearn/metrics/scorer.py:90: DeprecationWarning: Scoring method mean_squared_error was renamed to neg_mean_squared_error in version 0.18 and will be removed in 0.20.\n",
      "  sample_weight=sample_weight)\n",
      "/Library/Frameworks/Python.framework/Versions/3.5/lib/python3.5/site-packages/sklearn/metrics/scorer.py:90: DeprecationWarning: Scoring method mean_squared_error was renamed to neg_mean_squared_error in version 0.18 and will be removed in 0.20.\n",
      "  sample_weight=sample_weight)\n",
      "/Library/Frameworks/Python.framework/Versions/3.5/lib/python3.5/site-packages/sklearn/metrics/scorer.py:90: DeprecationWarning: Scoring method mean_squared_error was renamed to neg_mean_squared_error in version 0.18 and will be removed in 0.20.\n",
      "  sample_weight=sample_weight)\n",
      "/Library/Frameworks/Python.framework/Versions/3.5/lib/python3.5/site-packages/sklearn/metrics/scorer.py:90: DeprecationWarning: Scoring method mean_squared_error was renamed to neg_mean_squared_error in version 0.18 and will be removed in 0.20.\n",
      "  sample_weight=sample_weight)\n",
      "/Library/Frameworks/Python.framework/Versions/3.5/lib/python3.5/site-packages/sklearn/metrics/scorer.py:90: DeprecationWarning: Scoring method mean_squared_error was renamed to neg_mean_squared_error in version 0.18 and will be removed in 0.20.\n",
      "  sample_weight=sample_weight)\n",
      "/Library/Frameworks/Python.framework/Versions/3.5/lib/python3.5/site-packages/sklearn/metrics/scorer.py:90: DeprecationWarning: Scoring method mean_squared_error was renamed to neg_mean_squared_error in version 0.18 and will be removed in 0.20.\n",
      "  sample_weight=sample_weight)\n",
      "/Library/Frameworks/Python.framework/Versions/3.5/lib/python3.5/site-packages/sklearn/metrics/scorer.py:90: DeprecationWarning: Scoring method mean_squared_error was renamed to neg_mean_squared_error in version 0.18 and will be removed in 0.20.\n",
      "  sample_weight=sample_weight)\n",
      "/Library/Frameworks/Python.framework/Versions/3.5/lib/python3.5/site-packages/sklearn/metrics/scorer.py:90: DeprecationWarning: Scoring method mean_squared_error was renamed to neg_mean_squared_error in version 0.18 and will be removed in 0.20.\n",
      "  sample_weight=sample_weight)\n",
      "/Library/Frameworks/Python.framework/Versions/3.5/lib/python3.5/site-packages/sklearn/metrics/scorer.py:90: DeprecationWarning: Scoring method mean_squared_error was renamed to neg_mean_squared_error in version 0.18 and will be removed in 0.20.\n",
      "  sample_weight=sample_weight)\n",
      "/Library/Frameworks/Python.framework/Versions/3.5/lib/python3.5/site-packages/sklearn/metrics/scorer.py:90: DeprecationWarning: Scoring method mean_squared_error was renamed to neg_mean_squared_error in version 0.18 and will be removed in 0.20.\n",
      "  sample_weight=sample_weight)\n",
      "/Library/Frameworks/Python.framework/Versions/3.5/lib/python3.5/site-packages/sklearn/metrics/scorer.py:90: DeprecationWarning: Scoring method mean_squared_error was renamed to neg_mean_squared_error in version 0.18 and will be removed in 0.20.\n",
      "  sample_weight=sample_weight)\n",
      "/Library/Frameworks/Python.framework/Versions/3.5/lib/python3.5/site-packages/sklearn/metrics/scorer.py:90: DeprecationWarning: Scoring method mean_squared_error was renamed to neg_mean_squared_error in version 0.18 and will be removed in 0.20.\n",
      "  sample_weight=sample_weight)\n",
      "/Library/Frameworks/Python.framework/Versions/3.5/lib/python3.5/site-packages/sklearn/metrics/scorer.py:90: DeprecationWarning: Scoring method mean_squared_error was renamed to neg_mean_squared_error in version 0.18 and will be removed in 0.20.\n",
      "  sample_weight=sample_weight)\n",
      "/Library/Frameworks/Python.framework/Versions/3.5/lib/python3.5/site-packages/sklearn/metrics/scorer.py:90: DeprecationWarning: Scoring method mean_squared_error was renamed to neg_mean_squared_error in version 0.18 and will be removed in 0.20.\n",
      "  sample_weight=sample_weight)\n",
      "/Library/Frameworks/Python.framework/Versions/3.5/lib/python3.5/site-packages/sklearn/metrics/scorer.py:90: DeprecationWarning: Scoring method mean_squared_error was renamed to neg_mean_squared_error in version 0.18 and will be removed in 0.20.\n",
      "  sample_weight=sample_weight)\n",
      "/Library/Frameworks/Python.framework/Versions/3.5/lib/python3.5/site-packages/sklearn/metrics/scorer.py:90: DeprecationWarning: Scoring method mean_squared_error was renamed to neg_mean_squared_error in version 0.18 and will be removed in 0.20.\n",
      "  sample_weight=sample_weight)\n",
      "/Library/Frameworks/Python.framework/Versions/3.5/lib/python3.5/site-packages/sklearn/metrics/scorer.py:90: DeprecationWarning: Scoring method mean_squared_error was renamed to neg_mean_squared_error in version 0.18 and will be removed in 0.20.\n",
      "  sample_weight=sample_weight)\n",
      "/Library/Frameworks/Python.framework/Versions/3.5/lib/python3.5/site-packages/sklearn/metrics/scorer.py:90: DeprecationWarning: Scoring method mean_squared_error was renamed to neg_mean_squared_error in version 0.18 and will be removed in 0.20.\n",
      "  sample_weight=sample_weight)\n",
      "/Library/Frameworks/Python.framework/Versions/3.5/lib/python3.5/site-packages/sklearn/metrics/scorer.py:90: DeprecationWarning: Scoring method mean_squared_error was renamed to neg_mean_squared_error in version 0.18 and will be removed in 0.20.\n",
      "  sample_weight=sample_weight)\n",
      "/Library/Frameworks/Python.framework/Versions/3.5/lib/python3.5/site-packages/sklearn/metrics/scorer.py:90: DeprecationWarning: Scoring method mean_squared_error was renamed to neg_mean_squared_error in version 0.18 and will be removed in 0.20.\n",
      "  sample_weight=sample_weight)\n",
      "/Library/Frameworks/Python.framework/Versions/3.5/lib/python3.5/site-packages/sklearn/metrics/scorer.py:90: DeprecationWarning: Scoring method mean_squared_error was renamed to neg_mean_squared_error in version 0.18 and will be removed in 0.20.\n",
      "  sample_weight=sample_weight)\n",
      "/Library/Frameworks/Python.framework/Versions/3.5/lib/python3.5/site-packages/sklearn/metrics/scorer.py:90: DeprecationWarning: Scoring method mean_squared_error was renamed to neg_mean_squared_error in version 0.18 and will be removed in 0.20.\n",
      "  sample_weight=sample_weight)\n",
      "/Library/Frameworks/Python.framework/Versions/3.5/lib/python3.5/site-packages/sklearn/metrics/scorer.py:90: DeprecationWarning: Scoring method mean_squared_error was renamed to neg_mean_squared_error in version 0.18 and will be removed in 0.20.\n",
      "  sample_weight=sample_weight)\n",
      "/Library/Frameworks/Python.framework/Versions/3.5/lib/python3.5/site-packages/sklearn/metrics/scorer.py:90: DeprecationWarning: Scoring method mean_squared_error was renamed to neg_mean_squared_error in version 0.18 and will be removed in 0.20.\n",
      "  sample_weight=sample_weight)\n"
     ]
    },
    {
     "name": "stdout",
     "output_type": "stream",
     "text": [
      "Best score (Kernel Ridge): -0.014468488187391585\n",
      "Best parameters: {'kernel': 'polynomial', 'alpha': 0.1, 'degree': 2}\n"
     ]
    }
   ],
=======
   "execution_count": null,
   "metadata": {
    "collapsed": false
   },
   "outputs": [],
>>>>>>> cf42abfd3744c89910b63f59ec719226011efcca:Project4-MachineLearning/kaggle_wannjiun_sharan/feature_selection.ipynb
   "source": [
    "# Kernel Ridge GridSearch\n",
    "from sklearn.kernel_ridge import KernelRidge\n",
    "from sklearn.grid_search import GridSearchCV\n",
    "from sklearn.metrics import r2_score\n",
    "\n",
    "kridge_grid = KernelRidge()\n",
    "\n",
    "parameter_grid = {'alpha': [0.0001,0.001,0.01,0.1],\n",
    "                 'degree': [1,2,3,4],\n",
    "                 'kernel': ['polynomial']\n",
    "                 #'n_estimators': [200,210,240,250],\n",
    "                 #'min_child_weight': [1,2,3,4]\n",
    "                 }\n",
    "\n",
    "cross_validation = StratifiedKFold(np.array(label_df['SalePrice']), n_folds=10)\n",
    "\n",
    "grid_search_kridge = GridSearchCV(kridge_grid,\n",
    "                           param_grid = parameter_grid,\n",
    "                           scoring = 'mean_squared_error',\n",
    "                           cv = cross_validation)\n",
    "\n",
    "grid_search_kridge.fit(train_df_munged, label_df)\n",
    "\n",
    "print('Best score (Kernel Ridge): {}'.format(grid_search_kridge.best_score_))\n",
    "print('Best parameters: {}'.format(grid_search_kridge.best_params_))"
   ]
  },
  {
   "cell_type": "code",
<<<<<<< HEAD:Project4-MachineLearning/kaggle_wannjiun_sharan/feature_selection_wannjiun.ipynb
   "execution_count": 9,
   "metadata": {
    "collapsed": false
   },
   "outputs": [
    {
     "name": "stdout",
     "output_type": "stream",
     "text": [
      "Kernel Ridge score on training set:  0.060613080189\n"
     ]
    }
   ],
=======
   "execution_count": null,
   "metadata": {
    "collapsed": false
   },
   "outputs": [],
>>>>>>> cf42abfd3744c89910b63f59ec719226011efcca:Project4-MachineLearning/kaggle_wannjiun_sharan/feature_selection.ipynb
   "source": [
    "y_train_pred_kridge = grid_search_kridge.best_estimator_.predict(train_df_munged)\n",
    "print(\"Kernel Ridge score on training set: \", rmse(label_df,y_train_pred_kridge))\n",
    "y_test_pred_kridge = grid_search_kridge.best_estimator_.predict(test_df_munged)"
   ]
  },
  {
   "cell_type": "code",
<<<<<<< HEAD:Project4-MachineLearning/kaggle_wannjiun_sharan/feature_selection_wannjiun.ipynb
   "execution_count": 10,
   "metadata": {
    "collapsed": false
   },
   "outputs": [
    {
     "name": "stderr",
     "output_type": "stream",
     "text": [
      "/Library/Frameworks/Python.framework/Versions/3.5/lib/python3.5/site-packages/ipykernel/__main__.py:4: DataConversionWarning: A column-vector y was passed when a 1d array was expected. Please change the shape of y to (n_samples,), for example using ravel().\n"
     ]
    },
    {
     "name": "stdout",
     "output_type": "stream",
     "text": [
      "Extra Trees Regressor score on training set:  1.51468886044e-05\n"
     ]
    },
    {
     "name": "stderr",
     "output_type": "stream",
     "text": [
      "/Library/Frameworks/Python.framework/Versions/3.5/lib/python3.5/site-packages/ipykernel/__main__.py:23: DataConversionWarning: A column-vector y was passed when a 1d array was expected. Please change the shape of y to (n_samples,), for example using ravel().\n"
     ]
    },
    {
     "name": "stdout",
     "output_type": "stream",
     "text": [
      "Thresh=0.000, n=403, RMSE= 0.0000138485\n"
     ]
    },
    {
     "name": "stderr",
     "output_type": "stream",
     "text": [
      "/Library/Frameworks/Python.framework/Versions/3.5/lib/python3.5/site-packages/ipykernel/__main__.py:23: DataConversionWarning: A column-vector y was passed when a 1d array was expected. Please change the shape of y to (n_samples,), for example using ravel().\n"
     ]
    },
    {
     "name": "stdout",
     "output_type": "stream",
     "text": [
      "Thresh=0.000, n=403, RMSE= 0.0000123486\n"
     ]
    },
    {
     "name": "stderr",
     "output_type": "stream",
     "text": [
      "/Library/Frameworks/Python.framework/Versions/3.5/lib/python3.5/site-packages/ipykernel/__main__.py:23: DataConversionWarning: A column-vector y was passed when a 1d array was expected. Please change the shape of y to (n_samples,), for example using ravel().\n"
     ]
    },
    {
     "name": "stdout",
     "output_type": "stream",
     "text": [
      "Thresh=0.000, n=403, RMSE= 0.0000112900\n"
     ]
    },
    {
     "name": "stderr",
     "output_type": "stream",
     "text": [
      "/Library/Frameworks/Python.framework/Versions/3.5/lib/python3.5/site-packages/ipykernel/__main__.py:23: DataConversionWarning: A column-vector y was passed when a 1d array was expected. Please change the shape of y to (n_samples,), for example using ravel().\n"
     ]
    },
    {
     "name": "stdout",
     "output_type": "stream",
     "text": [
      "Thresh=0.000, n=403, RMSE= 0.0000118367\n"
     ]
    },
    {
     "name": "stderr",
     "output_type": "stream",
     "text": [
      "/Library/Frameworks/Python.framework/Versions/3.5/lib/python3.5/site-packages/ipykernel/__main__.py:23: DataConversionWarning: A column-vector y was passed when a 1d array was expected. Please change the shape of y to (n_samples,), for example using ravel().\n"
     ]
    },
    {
     "name": "stdout",
     "output_type": "stream",
     "text": [
      "Thresh=0.000, n=403, RMSE= 0.0000127017\n"
     ]
    },
    {
     "name": "stderr",
     "output_type": "stream",
     "text": [
      "/Library/Frameworks/Python.framework/Versions/3.5/lib/python3.5/site-packages/ipykernel/__main__.py:23: DataConversionWarning: A column-vector y was passed when a 1d array was expected. Please change the shape of y to (n_samples,), for example using ravel().\n"
     ]
    },
    {
     "name": "stdout",
     "output_type": "stream",
     "text": [
      "Thresh=0.000, n=403, RMSE= 0.0000125318\n"
     ]
    },
    {
     "name": "stderr",
     "output_type": "stream",
     "text": [
      "/Library/Frameworks/Python.framework/Versions/3.5/lib/python3.5/site-packages/ipykernel/__main__.py:23: DataConversionWarning: A column-vector y was passed when a 1d array was expected. Please change the shape of y to (n_samples,), for example using ravel().\n"
     ]
    },
    {
     "name": "stdout",
     "output_type": "stream",
     "text": [
      "Thresh=0.000, n=403, RMSE= 0.0000163835\n"
     ]
    },
    {
     "name": "stderr",
     "output_type": "stream",
     "text": [
      "/Library/Frameworks/Python.framework/Versions/3.5/lib/python3.5/site-packages/ipykernel/__main__.py:23: DataConversionWarning: A column-vector y was passed when a 1d array was expected. Please change the shape of y to (n_samples,), for example using ravel().\n"
     ]
    },
    {
     "name": "stdout",
     "output_type": "stream",
     "text": [
      "Thresh=0.000, n=403, RMSE= 0.0000124770\n"
     ]
    },
    {
     "name": "stderr",
     "output_type": "stream",
     "text": [
      "/Library/Frameworks/Python.framework/Versions/3.5/lib/python3.5/site-packages/ipykernel/__main__.py:23: DataConversionWarning: A column-vector y was passed when a 1d array was expected. Please change the shape of y to (n_samples,), for example using ravel().\n"
     ]
    },
    {
     "name": "stdout",
     "output_type": "stream",
     "text": [
      "Thresh=0.000, n=403, RMSE= 0.0000124756\n"
     ]
    },
    {
     "name": "stderr",
     "output_type": "stream",
     "text": [
      "/Library/Frameworks/Python.framework/Versions/3.5/lib/python3.5/site-packages/ipykernel/__main__.py:23: DataConversionWarning: A column-vector y was passed when a 1d array was expected. Please change the shape of y to (n_samples,), for example using ravel().\n"
     ]
    },
    {
     "name": "stdout",
     "output_type": "stream",
     "text": [
      "Thresh=0.000, n=403, RMSE= 0.0000121166\n"
     ]
    },
    {
     "name": "stderr",
     "output_type": "stream",
     "text": [
      "/Library/Frameworks/Python.framework/Versions/3.5/lib/python3.5/site-packages/ipykernel/__main__.py:23: DataConversionWarning: A column-vector y was passed when a 1d array was expected. Please change the shape of y to (n_samples,), for example using ravel().\n"
     ]
    },
    {
     "name": "stdout",
     "output_type": "stream",
     "text": [
      "Thresh=0.000, n=403, RMSE= 0.0000150777\n"
     ]
    },
    {
     "name": "stderr",
     "output_type": "stream",
     "text": [
      "/Library/Frameworks/Python.framework/Versions/3.5/lib/python3.5/site-packages/ipykernel/__main__.py:23: DataConversionWarning: A column-vector y was passed when a 1d array was expected. Please change the shape of y to (n_samples,), for example using ravel().\n"
     ]
    },
    {
     "name": "stdout",
     "output_type": "stream",
     "text": [
      "Thresh=0.000, n=403, RMSE= 0.0000122989\n"
     ]
    },
    {
     "name": "stderr",
     "output_type": "stream",
     "text": [
      "/Library/Frameworks/Python.framework/Versions/3.5/lib/python3.5/site-packages/ipykernel/__main__.py:23: DataConversionWarning: A column-vector y was passed when a 1d array was expected. Please change the shape of y to (n_samples,), for example using ravel().\n"
     ]
    },
    {
     "name": "stdout",
     "output_type": "stream",
     "text": [
      "Thresh=0.000, n=403, RMSE= 0.0000112031\n"
     ]
    },
    {
     "name": "stderr",
     "output_type": "stream",
     "text": [
      "/Library/Frameworks/Python.framework/Versions/3.5/lib/python3.5/site-packages/ipykernel/__main__.py:23: DataConversionWarning: A column-vector y was passed when a 1d array was expected. Please change the shape of y to (n_samples,), for example using ravel().\n"
     ]
    },
    {
     "name": "stdout",
     "output_type": "stream",
     "text": [
      "Thresh=0.000, n=403, RMSE= 0.0000145975\n"
     ]
    },
    {
     "name": "stderr",
     "output_type": "stream",
     "text": [
      "/Library/Frameworks/Python.framework/Versions/3.5/lib/python3.5/site-packages/ipykernel/__main__.py:23: DataConversionWarning: A column-vector y was passed when a 1d array was expected. Please change the shape of y to (n_samples,), for example using ravel().\n"
     ]
    },
    {
     "name": "stdout",
     "output_type": "stream",
     "text": [
      "Thresh=0.000, n=403, RMSE= 0.0000123675\n"
     ]
    },
    {
     "name": "stderr",
     "output_type": "stream",
     "text": [
      "/Library/Frameworks/Python.framework/Versions/3.5/lib/python3.5/site-packages/ipykernel/__main__.py:23: DataConversionWarning: A column-vector y was passed when a 1d array was expected. Please change the shape of y to (n_samples,), for example using ravel().\n"
     ]
    },
    {
     "name": "stdout",
     "output_type": "stream",
     "text": [
      "Thresh=0.000, n=403, RMSE= 0.0000108205\n"
     ]
    },
    {
     "name": "stderr",
     "output_type": "stream",
     "text": [
      "/Library/Frameworks/Python.framework/Versions/3.5/lib/python3.5/site-packages/ipykernel/__main__.py:23: DataConversionWarning: A column-vector y was passed when a 1d array was expected. Please change the shape of y to (n_samples,), for example using ravel().\n"
     ]
    },
    {
     "name": "stdout",
     "output_type": "stream",
     "text": [
      "Thresh=0.000, n=403, RMSE= 0.0000104498\n"
     ]
    },
    {
     "name": "stderr",
     "output_type": "stream",
     "text": [
      "/Library/Frameworks/Python.framework/Versions/3.5/lib/python3.5/site-packages/ipykernel/__main__.py:23: DataConversionWarning: A column-vector y was passed when a 1d array was expected. Please change the shape of y to (n_samples,), for example using ravel().\n"
     ]
    },
    {
     "name": "stdout",
     "output_type": "stream",
     "text": [
      "Thresh=0.000, n=403, RMSE= 0.0000145653\n"
     ]
    },
    {
     "name": "stderr",
     "output_type": "stream",
     "text": [
      "/Library/Frameworks/Python.framework/Versions/3.5/lib/python3.5/site-packages/ipykernel/__main__.py:23: DataConversionWarning: A column-vector y was passed when a 1d array was expected. Please change the shape of y to (n_samples,), for example using ravel().\n"
     ]
    },
    {
     "name": "stdout",
     "output_type": "stream",
     "text": [
      "Thresh=0.000, n=403, RMSE= 0.0000164703\n"
     ]
    },
    {
     "name": "stderr",
     "output_type": "stream",
     "text": [
      "/Library/Frameworks/Python.framework/Versions/3.5/lib/python3.5/site-packages/ipykernel/__main__.py:23: DataConversionWarning: A column-vector y was passed when a 1d array was expected. Please change the shape of y to (n_samples,), for example using ravel().\n"
     ]
    },
    {
     "name": "stdout",
     "output_type": "stream",
     "text": [
      "Thresh=0.000, n=403, RMSE= 0.0000161529\n"
     ]
    },
    {
     "name": "stderr",
     "output_type": "stream",
     "text": [
      "/Library/Frameworks/Python.framework/Versions/3.5/lib/python3.5/site-packages/ipykernel/__main__.py:23: DataConversionWarning: A column-vector y was passed when a 1d array was expected. Please change the shape of y to (n_samples,), for example using ravel().\n"
     ]
    },
    {
     "name": "stdout",
     "output_type": "stream",
     "text": [
      "Thresh=0.000, n=403, RMSE= 0.0000106614\n"
     ]
    },
    {
     "name": "stderr",
     "output_type": "stream",
     "text": [
      "/Library/Frameworks/Python.framework/Versions/3.5/lib/python3.5/site-packages/ipykernel/__main__.py:23: DataConversionWarning: A column-vector y was passed when a 1d array was expected. Please change the shape of y to (n_samples,), for example using ravel().\n"
     ]
    },
    {
     "name": "stdout",
     "output_type": "stream",
     "text": [
      "Thresh=0.000, n=403, RMSE= 0.0000105032\n"
     ]
    },
    {
     "name": "stderr",
     "output_type": "stream",
     "text": [
      "/Library/Frameworks/Python.framework/Versions/3.5/lib/python3.5/site-packages/ipykernel/__main__.py:23: DataConversionWarning: A column-vector y was passed when a 1d array was expected. Please change the shape of y to (n_samples,), for example using ravel().\n"
     ]
    },
    {
     "name": "stdout",
     "output_type": "stream",
     "text": [
      "Thresh=0.000, n=403, RMSE= 0.0000126914\n"
     ]
    },
    {
     "name": "stderr",
     "output_type": "stream",
     "text": [
      "/Library/Frameworks/Python.framework/Versions/3.5/lib/python3.5/site-packages/ipykernel/__main__.py:23: DataConversionWarning: A column-vector y was passed when a 1d array was expected. Please change the shape of y to (n_samples,), for example using ravel().\n"
     ]
    },
    {
     "name": "stdout",
     "output_type": "stream",
     "text": [
      "Thresh=0.000, n=403, RMSE= 0.0000105527\n"
     ]
    },
    {
     "name": "stderr",
     "output_type": "stream",
     "text": [
      "/Library/Frameworks/Python.framework/Versions/3.5/lib/python3.5/site-packages/ipykernel/__main__.py:23: DataConversionWarning: A column-vector y was passed when a 1d array was expected. Please change the shape of y to (n_samples,), for example using ravel().\n"
     ]
    },
    {
     "name": "stdout",
     "output_type": "stream",
     "text": [
      "Thresh=0.000, n=403, RMSE= 0.0000128777\n"
     ]
    },
    {
     "name": "stderr",
     "output_type": "stream",
     "text": [
      "/Library/Frameworks/Python.framework/Versions/3.5/lib/python3.5/site-packages/ipykernel/__main__.py:23: DataConversionWarning: A column-vector y was passed when a 1d array was expected. Please change the shape of y to (n_samples,), for example using ravel().\n"
     ]
    },
    {
     "name": "stdout",
     "output_type": "stream",
     "text": [
      "Thresh=0.000, n=403, RMSE= 0.0000125240\n"
     ]
    },
    {
     "name": "stderr",
     "output_type": "stream",
     "text": [
      "/Library/Frameworks/Python.framework/Versions/3.5/lib/python3.5/site-packages/ipykernel/__main__.py:23: DataConversionWarning: A column-vector y was passed when a 1d array was expected. Please change the shape of y to (n_samples,), for example using ravel().\n"
     ]
    },
    {
     "name": "stdout",
     "output_type": "stream",
     "text": [
      "Thresh=0.000, n=403, RMSE= 0.0000118432\n"
     ]
    },
    {
     "name": "stderr",
     "output_type": "stream",
     "text": [
      "/Library/Frameworks/Python.framework/Versions/3.5/lib/python3.5/site-packages/ipykernel/__main__.py:23: DataConversionWarning: A column-vector y was passed when a 1d array was expected. Please change the shape of y to (n_samples,), for example using ravel().\n"
     ]
    },
    {
     "name": "stdout",
     "output_type": "stream",
     "text": [
      "Thresh=0.000, n=403, RMSE= 0.0000127553\n"
     ]
    },
    {
     "name": "stderr",
     "output_type": "stream",
     "text": [
      "/Library/Frameworks/Python.framework/Versions/3.5/lib/python3.5/site-packages/ipykernel/__main__.py:23: DataConversionWarning: A column-vector y was passed when a 1d array was expected. Please change the shape of y to (n_samples,), for example using ravel().\n"
     ]
    },
    {
     "name": "stdout",
     "output_type": "stream",
     "text": [
      "Thresh=0.000, n=375, RMSE= 0.0000138490\n"
     ]
    },
    {
     "name": "stderr",
     "output_type": "stream",
     "text": [
      "/Library/Frameworks/Python.framework/Versions/3.5/lib/python3.5/site-packages/ipykernel/__main__.py:23: DataConversionWarning: A column-vector y was passed when a 1d array was expected. Please change the shape of y to (n_samples,), for example using ravel().\n"
     ]
    },
    {
     "name": "stdout",
     "output_type": "stream",
     "text": [
      "Thresh=0.000, n=374, RMSE= 0.0000136385\n"
     ]
    },
    {
     "name": "stderr",
     "output_type": "stream",
     "text": [
      "/Library/Frameworks/Python.framework/Versions/3.5/lib/python3.5/site-packages/ipykernel/__main__.py:23: DataConversionWarning: A column-vector y was passed when a 1d array was expected. Please change the shape of y to (n_samples,), for example using ravel().\n"
     ]
    },
    {
     "name": "stdout",
     "output_type": "stream",
     "text": [
      "Thresh=0.000, n=373, RMSE= 0.0000125834\n"
     ]
    },
    {
     "name": "stderr",
     "output_type": "stream",
     "text": [
      "/Library/Frameworks/Python.framework/Versions/3.5/lib/python3.5/site-packages/ipykernel/__main__.py:23: DataConversionWarning: A column-vector y was passed when a 1d array was expected. Please change the shape of y to (n_samples,), for example using ravel().\n"
     ]
    },
    {
     "name": "stdout",
     "output_type": "stream",
     "text": [
      "Thresh=0.000, n=372, RMSE= 0.0000128651\n"
     ]
    },
    {
     "name": "stderr",
     "output_type": "stream",
     "text": [
      "/Library/Frameworks/Python.framework/Versions/3.5/lib/python3.5/site-packages/ipykernel/__main__.py:23: DataConversionWarning: A column-vector y was passed when a 1d array was expected. Please change the shape of y to (n_samples,), for example using ravel().\n"
     ]
    },
    {
     "name": "stdout",
     "output_type": "stream",
     "text": [
      "Thresh=0.000, n=371, RMSE= 0.0000143156\n"
     ]
    },
    {
     "name": "stderr",
     "output_type": "stream",
     "text": [
      "/Library/Frameworks/Python.framework/Versions/3.5/lib/python3.5/site-packages/ipykernel/__main__.py:23: DataConversionWarning: A column-vector y was passed when a 1d array was expected. Please change the shape of y to (n_samples,), for example using ravel().\n"
     ]
    },
    {
     "name": "stdout",
     "output_type": "stream",
     "text": [
      "Thresh=0.000, n=370, RMSE= 0.0000156454\n"
     ]
    },
    {
     "name": "stderr",
     "output_type": "stream",
     "text": [
      "/Library/Frameworks/Python.framework/Versions/3.5/lib/python3.5/site-packages/ipykernel/__main__.py:23: DataConversionWarning: A column-vector y was passed when a 1d array was expected. Please change the shape of y to (n_samples,), for example using ravel().\n"
     ]
    },
    {
     "name": "stdout",
     "output_type": "stream",
     "text": [
      "Thresh=0.000, n=369, RMSE= 0.0000133987\n"
     ]
    },
    {
     "name": "stderr",
     "output_type": "stream",
     "text": [
      "/Library/Frameworks/Python.framework/Versions/3.5/lib/python3.5/site-packages/ipykernel/__main__.py:23: DataConversionWarning: A column-vector y was passed when a 1d array was expected. Please change the shape of y to (n_samples,), for example using ravel().\n"
     ]
    },
    {
     "name": "stdout",
     "output_type": "stream",
     "text": [
      "Thresh=0.000, n=368, RMSE= 0.0000148406\n"
     ]
    },
    {
     "name": "stderr",
     "output_type": "stream",
     "text": [
      "/Library/Frameworks/Python.framework/Versions/3.5/lib/python3.5/site-packages/ipykernel/__main__.py:23: DataConversionWarning: A column-vector y was passed when a 1d array was expected. Please change the shape of y to (n_samples,), for example using ravel().\n"
     ]
    },
    {
     "name": "stdout",
     "output_type": "stream",
     "text": [
      "Thresh=0.000, n=367, RMSE= 0.0000114640\n"
     ]
    },
    {
     "name": "stderr",
     "output_type": "stream",
     "text": [
      "/Library/Frameworks/Python.framework/Versions/3.5/lib/python3.5/site-packages/ipykernel/__main__.py:23: DataConversionWarning: A column-vector y was passed when a 1d array was expected. Please change the shape of y to (n_samples,), for example using ravel().\n"
     ]
    },
    {
     "name": "stdout",
     "output_type": "stream",
     "text": [
      "Thresh=0.000, n=366, RMSE= 0.0000145123\n"
     ]
    },
    {
     "name": "stderr",
     "output_type": "stream",
     "text": [
      "/Library/Frameworks/Python.framework/Versions/3.5/lib/python3.5/site-packages/ipykernel/__main__.py:23: DataConversionWarning: A column-vector y was passed when a 1d array was expected. Please change the shape of y to (n_samples,), for example using ravel().\n"
     ]
    },
    {
     "name": "stdout",
     "output_type": "stream",
     "text": [
      "Thresh=0.000, n=365, RMSE= 0.0000102096\n"
     ]
    },
    {
     "name": "stderr",
     "output_type": "stream",
     "text": [
      "/Library/Frameworks/Python.framework/Versions/3.5/lib/python3.5/site-packages/ipykernel/__main__.py:23: DataConversionWarning: A column-vector y was passed when a 1d array was expected. Please change the shape of y to (n_samples,), for example using ravel().\n"
     ]
    },
    {
     "name": "stdout",
     "output_type": "stream",
     "text": [
      "Thresh=0.000, n=364, RMSE= 0.0000118499\n"
     ]
    },
    {
     "name": "stderr",
     "output_type": "stream",
     "text": [
      "/Library/Frameworks/Python.framework/Versions/3.5/lib/python3.5/site-packages/ipykernel/__main__.py:23: DataConversionWarning: A column-vector y was passed when a 1d array was expected. Please change the shape of y to (n_samples,), for example using ravel().\n"
     ]
    },
    {
     "name": "stdout",
     "output_type": "stream",
     "text": [
      "Thresh=0.000, n=363, RMSE= 0.0000118364\n"
     ]
    },
    {
     "name": "stderr",
     "output_type": "stream",
     "text": [
      "/Library/Frameworks/Python.framework/Versions/3.5/lib/python3.5/site-packages/ipykernel/__main__.py:23: DataConversionWarning: A column-vector y was passed when a 1d array was expected. Please change the shape of y to (n_samples,), for example using ravel().\n"
     ]
    },
    {
     "name": "stdout",
     "output_type": "stream",
     "text": [
      "Thresh=0.000, n=362, RMSE= 0.0000134193\n"
     ]
    },
    {
     "name": "stderr",
     "output_type": "stream",
     "text": [
      "/Library/Frameworks/Python.framework/Versions/3.5/lib/python3.5/site-packages/ipykernel/__main__.py:23: DataConversionWarning: A column-vector y was passed when a 1d array was expected. Please change the shape of y to (n_samples,), for example using ravel().\n"
     ]
    },
    {
     "name": "stdout",
     "output_type": "stream",
     "text": [
      "Thresh=0.000, n=361, RMSE= 0.0000137365\n"
     ]
    },
    {
     "name": "stderr",
     "output_type": "stream",
     "text": [
      "/Library/Frameworks/Python.framework/Versions/3.5/lib/python3.5/site-packages/ipykernel/__main__.py:23: DataConversionWarning: A column-vector y was passed when a 1d array was expected. Please change the shape of y to (n_samples,), for example using ravel().\n"
     ]
    },
    {
     "name": "stdout",
     "output_type": "stream",
     "text": [
      "Thresh=0.000, n=360, RMSE= 0.0000115177\n"
     ]
    },
    {
     "name": "stderr",
     "output_type": "stream",
     "text": [
      "/Library/Frameworks/Python.framework/Versions/3.5/lib/python3.5/site-packages/ipykernel/__main__.py:23: DataConversionWarning: A column-vector y was passed when a 1d array was expected. Please change the shape of y to (n_samples,), for example using ravel().\n"
     ]
    },
    {
     "name": "stdout",
     "output_type": "stream",
     "text": [
      "Thresh=0.000, n=359, RMSE= 0.0000143331\n"
     ]
    },
    {
     "name": "stderr",
     "output_type": "stream",
     "text": [
      "/Library/Frameworks/Python.framework/Versions/3.5/lib/python3.5/site-packages/ipykernel/__main__.py:23: DataConversionWarning: A column-vector y was passed when a 1d array was expected. Please change the shape of y to (n_samples,), for example using ravel().\n"
     ]
    },
    {
     "name": "stdout",
     "output_type": "stream",
     "text": [
      "Thresh=0.000, n=358, RMSE= 0.0000139456\n"
     ]
    },
    {
     "name": "stderr",
     "output_type": "stream",
     "text": [
      "/Library/Frameworks/Python.framework/Versions/3.5/lib/python3.5/site-packages/ipykernel/__main__.py:23: DataConversionWarning: A column-vector y was passed when a 1d array was expected. Please change the shape of y to (n_samples,), for example using ravel().\n"
     ]
    },
    {
     "name": "stdout",
     "output_type": "stream",
     "text": [
      "Thresh=0.000, n=357, RMSE= 0.0000107657\n"
     ]
    },
    {
     "name": "stderr",
     "output_type": "stream",
     "text": [
      "/Library/Frameworks/Python.framework/Versions/3.5/lib/python3.5/site-packages/ipykernel/__main__.py:23: DataConversionWarning: A column-vector y was passed when a 1d array was expected. Please change the shape of y to (n_samples,), for example using ravel().\n"
     ]
    },
    {
     "name": "stdout",
     "output_type": "stream",
     "text": [
      "Thresh=0.000, n=356, RMSE= 0.0000152354\n"
     ]
    },
    {
     "name": "stderr",
     "output_type": "stream",
     "text": [
      "/Library/Frameworks/Python.framework/Versions/3.5/lib/python3.5/site-packages/ipykernel/__main__.py:23: DataConversionWarning: A column-vector y was passed when a 1d array was expected. Please change the shape of y to (n_samples,), for example using ravel().\n"
     ]
    },
    {
     "name": "stdout",
     "output_type": "stream",
     "text": [
      "Thresh=0.000, n=355, RMSE= 0.0000125971\n"
     ]
    },
    {
     "name": "stderr",
     "output_type": "stream",
     "text": [
      "/Library/Frameworks/Python.framework/Versions/3.5/lib/python3.5/site-packages/ipykernel/__main__.py:23: DataConversionWarning: A column-vector y was passed when a 1d array was expected. Please change the shape of y to (n_samples,), for example using ravel().\n"
     ]
    },
    {
     "name": "stdout",
     "output_type": "stream",
     "text": [
      "Thresh=0.000, n=354, RMSE= 0.0000134466\n"
     ]
    },
    {
     "name": "stderr",
     "output_type": "stream",
     "text": [
      "/Library/Frameworks/Python.framework/Versions/3.5/lib/python3.5/site-packages/ipykernel/__main__.py:23: DataConversionWarning: A column-vector y was passed when a 1d array was expected. Please change the shape of y to (n_samples,), for example using ravel().\n"
     ]
    },
    {
     "name": "stdout",
     "output_type": "stream",
     "text": [
      "Thresh=0.000, n=353, RMSE= 0.0000140764\n"
     ]
    },
    {
     "name": "stderr",
     "output_type": "stream",
     "text": [
      "/Library/Frameworks/Python.framework/Versions/3.5/lib/python3.5/site-packages/ipykernel/__main__.py:23: DataConversionWarning: A column-vector y was passed when a 1d array was expected. Please change the shape of y to (n_samples,), for example using ravel().\n"
     ]
    },
    {
     "name": "stdout",
     "output_type": "stream",
     "text": [
      "Thresh=0.000, n=352, RMSE= 0.0000137541\n"
     ]
    },
    {
     "name": "stderr",
     "output_type": "stream",
     "text": [
      "/Library/Frameworks/Python.framework/Versions/3.5/lib/python3.5/site-packages/ipykernel/__main__.py:23: DataConversionWarning: A column-vector y was passed when a 1d array was expected. Please change the shape of y to (n_samples,), for example using ravel().\n"
     ]
    },
    {
     "name": "stdout",
     "output_type": "stream",
     "text": [
      "Thresh=0.000, n=351, RMSE= 0.0000129480\n"
     ]
    },
    {
     "name": "stderr",
     "output_type": "stream",
     "text": [
      "/Library/Frameworks/Python.framework/Versions/3.5/lib/python3.5/site-packages/ipykernel/__main__.py:23: DataConversionWarning: A column-vector y was passed when a 1d array was expected. Please change the shape of y to (n_samples,), for example using ravel().\n"
     ]
    },
    {
     "name": "stdout",
     "output_type": "stream",
     "text": [
      "Thresh=0.000, n=350, RMSE= 0.0000140247\n"
     ]
    },
    {
     "name": "stderr",
     "output_type": "stream",
     "text": [
      "/Library/Frameworks/Python.framework/Versions/3.5/lib/python3.5/site-packages/ipykernel/__main__.py:23: DataConversionWarning: A column-vector y was passed when a 1d array was expected. Please change the shape of y to (n_samples,), for example using ravel().\n"
     ]
    },
    {
     "name": "stdout",
     "output_type": "stream",
     "text": [
      "Thresh=0.000, n=349, RMSE= 0.0000118160\n"
     ]
    },
    {
     "name": "stderr",
     "output_type": "stream",
     "text": [
      "/Library/Frameworks/Python.framework/Versions/3.5/lib/python3.5/site-packages/ipykernel/__main__.py:23: DataConversionWarning: A column-vector y was passed when a 1d array was expected. Please change the shape of y to (n_samples,), for example using ravel().\n"
     ]
    },
    {
     "name": "stdout",
     "output_type": "stream",
     "text": [
      "Thresh=0.000, n=348, RMSE= 0.0000117272\n"
     ]
    },
    {
     "name": "stderr",
     "output_type": "stream",
     "text": [
      "/Library/Frameworks/Python.framework/Versions/3.5/lib/python3.5/site-packages/ipykernel/__main__.py:23: DataConversionWarning: A column-vector y was passed when a 1d array was expected. Please change the shape of y to (n_samples,), for example using ravel().\n"
     ]
    },
    {
     "name": "stdout",
     "output_type": "stream",
     "text": [
      "Thresh=0.000, n=347, RMSE= 0.0000141270\n"
     ]
    },
    {
     "name": "stderr",
     "output_type": "stream",
     "text": [
      "/Library/Frameworks/Python.framework/Versions/3.5/lib/python3.5/site-packages/ipykernel/__main__.py:23: DataConversionWarning: A column-vector y was passed when a 1d array was expected. Please change the shape of y to (n_samples,), for example using ravel().\n"
     ]
    },
    {
     "name": "stdout",
     "output_type": "stream",
     "text": [
      "Thresh=0.000, n=346, RMSE= 0.0000147961\n"
     ]
    },
    {
     "name": "stderr",
     "output_type": "stream",
     "text": [
      "/Library/Frameworks/Python.framework/Versions/3.5/lib/python3.5/site-packages/ipykernel/__main__.py:23: DataConversionWarning: A column-vector y was passed when a 1d array was expected. Please change the shape of y to (n_samples,), for example using ravel().\n"
     ]
    },
    {
     "name": "stdout",
     "output_type": "stream",
     "text": [
      "Thresh=0.000, n=345, RMSE= 0.0000136933\n"
     ]
    },
    {
     "name": "stderr",
     "output_type": "stream",
     "text": [
      "/Library/Frameworks/Python.framework/Versions/3.5/lib/python3.5/site-packages/ipykernel/__main__.py:23: DataConversionWarning: A column-vector y was passed when a 1d array was expected. Please change the shape of y to (n_samples,), for example using ravel().\n"
     ]
    },
    {
     "name": "stdout",
     "output_type": "stream",
     "text": [
      "Thresh=0.000, n=344, RMSE= 0.0000154478\n"
     ]
    },
    {
     "name": "stderr",
     "output_type": "stream",
     "text": [
      "/Library/Frameworks/Python.framework/Versions/3.5/lib/python3.5/site-packages/ipykernel/__main__.py:23: DataConversionWarning: A column-vector y was passed when a 1d array was expected. Please change the shape of y to (n_samples,), for example using ravel().\n"
     ]
    },
    {
     "name": "stdout",
     "output_type": "stream",
     "text": [
      "Thresh=0.000, n=343, RMSE= 0.0000127457\n"
     ]
    },
    {
     "name": "stderr",
     "output_type": "stream",
     "text": [
      "/Library/Frameworks/Python.framework/Versions/3.5/lib/python3.5/site-packages/ipykernel/__main__.py:23: DataConversionWarning: A column-vector y was passed when a 1d array was expected. Please change the shape of y to (n_samples,), for example using ravel().\n"
     ]
    },
    {
     "name": "stdout",
     "output_type": "stream",
     "text": [
      "Thresh=0.000, n=342, RMSE= 0.0000157528\n"
     ]
    },
    {
     "name": "stderr",
     "output_type": "stream",
     "text": [
      "/Library/Frameworks/Python.framework/Versions/3.5/lib/python3.5/site-packages/ipykernel/__main__.py:23: DataConversionWarning: A column-vector y was passed when a 1d array was expected. Please change the shape of y to (n_samples,), for example using ravel().\n"
     ]
    },
    {
     "name": "stdout",
     "output_type": "stream",
     "text": [
      "Thresh=0.000, n=341, RMSE= 0.0000118123\n"
     ]
    },
    {
     "name": "stderr",
     "output_type": "stream",
     "text": [
      "/Library/Frameworks/Python.framework/Versions/3.5/lib/python3.5/site-packages/ipykernel/__main__.py:23: DataConversionWarning: A column-vector y was passed when a 1d array was expected. Please change the shape of y to (n_samples,), for example using ravel().\n"
     ]
    },
    {
     "name": "stdout",
     "output_type": "stream",
     "text": [
      "Thresh=0.000, n=340, RMSE= 0.0000137215\n"
     ]
    },
    {
     "name": "stderr",
     "output_type": "stream",
     "text": [
      "/Library/Frameworks/Python.framework/Versions/3.5/lib/python3.5/site-packages/ipykernel/__main__.py:23: DataConversionWarning: A column-vector y was passed when a 1d array was expected. Please change the shape of y to (n_samples,), for example using ravel().\n"
     ]
    },
    {
     "name": "stdout",
     "output_type": "stream",
     "text": [
      "Thresh=0.000, n=339, RMSE= 0.0000133611\n"
     ]
    },
    {
     "name": "stderr",
     "output_type": "stream",
     "text": [
      "/Library/Frameworks/Python.framework/Versions/3.5/lib/python3.5/site-packages/ipykernel/__main__.py:23: DataConversionWarning: A column-vector y was passed when a 1d array was expected. Please change the shape of y to (n_samples,), for example using ravel().\n"
     ]
    },
    {
     "name": "stdout",
     "output_type": "stream",
     "text": [
      "Thresh=0.000, n=338, RMSE= 0.0000162740\n"
     ]
    },
    {
     "name": "stderr",
     "output_type": "stream",
     "text": [
      "/Library/Frameworks/Python.framework/Versions/3.5/lib/python3.5/site-packages/ipykernel/__main__.py:23: DataConversionWarning: A column-vector y was passed when a 1d array was expected. Please change the shape of y to (n_samples,), for example using ravel().\n"
     ]
    },
    {
     "name": "stdout",
     "output_type": "stream",
     "text": [
      "Thresh=0.000, n=337, RMSE= 0.0000148845\n"
     ]
    },
    {
     "name": "stderr",
     "output_type": "stream",
     "text": [
      "/Library/Frameworks/Python.framework/Versions/3.5/lib/python3.5/site-packages/ipykernel/__main__.py:23: DataConversionWarning: A column-vector y was passed when a 1d array was expected. Please change the shape of y to (n_samples,), for example using ravel().\n"
     ]
    },
    {
     "name": "stdout",
     "output_type": "stream",
     "text": [
      "Thresh=0.000, n=336, RMSE= 0.0000139237\n"
     ]
    },
    {
     "name": "stderr",
     "output_type": "stream",
     "text": [
      "/Library/Frameworks/Python.framework/Versions/3.5/lib/python3.5/site-packages/ipykernel/__main__.py:23: DataConversionWarning: A column-vector y was passed when a 1d array was expected. Please change the shape of y to (n_samples,), for example using ravel().\n"
     ]
    },
    {
     "name": "stdout",
     "output_type": "stream",
     "text": [
      "Thresh=0.000, n=335, RMSE= 0.0000138481\n"
     ]
    },
    {
     "name": "stderr",
     "output_type": "stream",
     "text": [
      "/Library/Frameworks/Python.framework/Versions/3.5/lib/python3.5/site-packages/ipykernel/__main__.py:23: DataConversionWarning: A column-vector y was passed when a 1d array was expected. Please change the shape of y to (n_samples,), for example using ravel().\n"
     ]
    },
    {
     "name": "stdout",
     "output_type": "stream",
     "text": [
      "Thresh=0.000, n=334, RMSE= 0.0000132257\n"
     ]
    },
    {
     "name": "stderr",
     "output_type": "stream",
     "text": [
      "/Library/Frameworks/Python.framework/Versions/3.5/lib/python3.5/site-packages/ipykernel/__main__.py:23: DataConversionWarning: A column-vector y was passed when a 1d array was expected. Please change the shape of y to (n_samples,), for example using ravel().\n"
     ]
    },
    {
     "name": "stdout",
     "output_type": "stream",
     "text": [
      "Thresh=0.000, n=333, RMSE= 0.0000123635\n"
     ]
    },
    {
     "name": "stderr",
     "output_type": "stream",
     "text": [
      "/Library/Frameworks/Python.framework/Versions/3.5/lib/python3.5/site-packages/ipykernel/__main__.py:23: DataConversionWarning: A column-vector y was passed when a 1d array was expected. Please change the shape of y to (n_samples,), for example using ravel().\n"
     ]
    },
    {
     "name": "stdout",
     "output_type": "stream",
     "text": [
      "Thresh=0.000, n=332, RMSE= 0.0000106816\n"
     ]
    },
    {
     "name": "stderr",
     "output_type": "stream",
     "text": [
      "/Library/Frameworks/Python.framework/Versions/3.5/lib/python3.5/site-packages/ipykernel/__main__.py:23: DataConversionWarning: A column-vector y was passed when a 1d array was expected. Please change the shape of y to (n_samples,), for example using ravel().\n"
     ]
    },
    {
     "name": "stdout",
     "output_type": "stream",
     "text": [
      "Thresh=0.000, n=331, RMSE= 0.0000127137\n"
     ]
    },
    {
     "name": "stderr",
     "output_type": "stream",
     "text": [
      "/Library/Frameworks/Python.framework/Versions/3.5/lib/python3.5/site-packages/ipykernel/__main__.py:23: DataConversionWarning: A column-vector y was passed when a 1d array was expected. Please change the shape of y to (n_samples,), for example using ravel().\n"
     ]
    },
    {
     "name": "stdout",
     "output_type": "stream",
     "text": [
      "Thresh=0.000, n=330, RMSE= 0.0000124619\n"
     ]
    },
    {
     "name": "stderr",
     "output_type": "stream",
     "text": [
      "/Library/Frameworks/Python.framework/Versions/3.5/lib/python3.5/site-packages/ipykernel/__main__.py:23: DataConversionWarning: A column-vector y was passed when a 1d array was expected. Please change the shape of y to (n_samples,), for example using ravel().\n"
     ]
    },
    {
     "name": "stdout",
     "output_type": "stream",
     "text": [
      "Thresh=0.000, n=329, RMSE= 0.0000113865\n"
     ]
    },
    {
     "name": "stderr",
     "output_type": "stream",
     "text": [
      "/Library/Frameworks/Python.framework/Versions/3.5/lib/python3.5/site-packages/ipykernel/__main__.py:23: DataConversionWarning: A column-vector y was passed when a 1d array was expected. Please change the shape of y to (n_samples,), for example using ravel().\n"
     ]
    },
    {
     "name": "stdout",
     "output_type": "stream",
     "text": [
      "Thresh=0.000, n=328, RMSE= 0.0000141370\n"
     ]
    },
    {
     "name": "stderr",
     "output_type": "stream",
     "text": [
      "/Library/Frameworks/Python.framework/Versions/3.5/lib/python3.5/site-packages/ipykernel/__main__.py:23: DataConversionWarning: A column-vector y was passed when a 1d array was expected. Please change the shape of y to (n_samples,), for example using ravel().\n"
     ]
    },
    {
     "name": "stdout",
     "output_type": "stream",
     "text": [
      "Thresh=0.000, n=327, RMSE= 0.0000141990\n"
     ]
    },
    {
     "name": "stderr",
     "output_type": "stream",
     "text": [
      "/Library/Frameworks/Python.framework/Versions/3.5/lib/python3.5/site-packages/ipykernel/__main__.py:23: DataConversionWarning: A column-vector y was passed when a 1d array was expected. Please change the shape of y to (n_samples,), for example using ravel().\n"
     ]
    },
    {
     "name": "stdout",
     "output_type": "stream",
     "text": [
      "Thresh=0.000, n=326, RMSE= 0.0000137592\n"
     ]
    },
    {
     "name": "stderr",
     "output_type": "stream",
     "text": [
      "/Library/Frameworks/Python.framework/Versions/3.5/lib/python3.5/site-packages/ipykernel/__main__.py:23: DataConversionWarning: A column-vector y was passed when a 1d array was expected. Please change the shape of y to (n_samples,), for example using ravel().\n"
     ]
    },
    {
     "name": "stdout",
     "output_type": "stream",
     "text": [
      "Thresh=0.000, n=325, RMSE= 0.0000124184\n"
     ]
    },
    {
     "name": "stderr",
     "output_type": "stream",
     "text": [
      "/Library/Frameworks/Python.framework/Versions/3.5/lib/python3.5/site-packages/ipykernel/__main__.py:23: DataConversionWarning: A column-vector y was passed when a 1d array was expected. Please change the shape of y to (n_samples,), for example using ravel().\n"
     ]
    },
    {
     "name": "stdout",
     "output_type": "stream",
     "text": [
      "Thresh=0.000, n=324, RMSE= 0.0000135720\n"
     ]
    },
    {
     "name": "stderr",
     "output_type": "stream",
     "text": [
      "/Library/Frameworks/Python.framework/Versions/3.5/lib/python3.5/site-packages/ipykernel/__main__.py:23: DataConversionWarning: A column-vector y was passed when a 1d array was expected. Please change the shape of y to (n_samples,), for example using ravel().\n"
     ]
    },
    {
     "name": "stdout",
     "output_type": "stream",
     "text": [
      "Thresh=0.000, n=323, RMSE= 0.0000105769\n"
     ]
    },
    {
     "name": "stderr",
     "output_type": "stream",
     "text": [
      "/Library/Frameworks/Python.framework/Versions/3.5/lib/python3.5/site-packages/ipykernel/__main__.py:23: DataConversionWarning: A column-vector y was passed when a 1d array was expected. Please change the shape of y to (n_samples,), for example using ravel().\n"
     ]
    },
    {
     "name": "stdout",
     "output_type": "stream",
     "text": [
      "Thresh=0.000, n=322, RMSE= 0.0000137632\n"
     ]
    },
    {
     "name": "stderr",
     "output_type": "stream",
     "text": [
      "/Library/Frameworks/Python.framework/Versions/3.5/lib/python3.5/site-packages/ipykernel/__main__.py:23: DataConversionWarning: A column-vector y was passed when a 1d array was expected. Please change the shape of y to (n_samples,), for example using ravel().\n"
     ]
    },
    {
     "name": "stdout",
     "output_type": "stream",
     "text": [
      "Thresh=0.000, n=321, RMSE= 0.0000127380\n"
     ]
    },
    {
     "name": "stderr",
     "output_type": "stream",
     "text": [
      "/Library/Frameworks/Python.framework/Versions/3.5/lib/python3.5/site-packages/ipykernel/__main__.py:23: DataConversionWarning: A column-vector y was passed when a 1d array was expected. Please change the shape of y to (n_samples,), for example using ravel().\n"
     ]
    },
    {
     "name": "stdout",
     "output_type": "stream",
     "text": [
      "Thresh=0.000, n=320, RMSE= 0.0000096254\n"
     ]
    },
    {
     "name": "stderr",
     "output_type": "stream",
     "text": [
      "/Library/Frameworks/Python.framework/Versions/3.5/lib/python3.5/site-packages/ipykernel/__main__.py:23: DataConversionWarning: A column-vector y was passed when a 1d array was expected. Please change the shape of y to (n_samples,), for example using ravel().\n"
     ]
    },
    {
     "name": "stdout",
     "output_type": "stream",
     "text": [
      "Thresh=0.000, n=319, RMSE= 0.0000153767\n"
     ]
    },
    {
     "name": "stderr",
     "output_type": "stream",
     "text": [
      "/Library/Frameworks/Python.framework/Versions/3.5/lib/python3.5/site-packages/ipykernel/__main__.py:23: DataConversionWarning: A column-vector y was passed when a 1d array was expected. Please change the shape of y to (n_samples,), for example using ravel().\n"
     ]
    },
    {
     "name": "stdout",
     "output_type": "stream",
     "text": [
      "Thresh=0.000, n=318, RMSE= 0.0000117962\n"
     ]
    },
    {
     "name": "stderr",
     "output_type": "stream",
     "text": [
      "/Library/Frameworks/Python.framework/Versions/3.5/lib/python3.5/site-packages/ipykernel/__main__.py:23: DataConversionWarning: A column-vector y was passed when a 1d array was expected. Please change the shape of y to (n_samples,), for example using ravel().\n"
     ]
    },
    {
     "name": "stdout",
     "output_type": "stream",
     "text": [
      "Thresh=0.000, n=317, RMSE= 0.0000112622\n"
     ]
    },
    {
     "name": "stderr",
     "output_type": "stream",
     "text": [
      "/Library/Frameworks/Python.framework/Versions/3.5/lib/python3.5/site-packages/ipykernel/__main__.py:23: DataConversionWarning: A column-vector y was passed when a 1d array was expected. Please change the shape of y to (n_samples,), for example using ravel().\n"
     ]
    },
    {
     "name": "stdout",
     "output_type": "stream",
     "text": [
      "Thresh=0.000, n=316, RMSE= 0.0000112971\n"
     ]
    },
    {
     "name": "stderr",
     "output_type": "stream",
     "text": [
      "/Library/Frameworks/Python.framework/Versions/3.5/lib/python3.5/site-packages/ipykernel/__main__.py:23: DataConversionWarning: A column-vector y was passed when a 1d array was expected. Please change the shape of y to (n_samples,), for example using ravel().\n"
     ]
    },
    {
     "name": "stdout",
     "output_type": "stream",
     "text": [
      "Thresh=0.000, n=315, RMSE= 0.0000127061\n"
     ]
    },
    {
     "name": "stderr",
     "output_type": "stream",
     "text": [
      "/Library/Frameworks/Python.framework/Versions/3.5/lib/python3.5/site-packages/ipykernel/__main__.py:23: DataConversionWarning: A column-vector y was passed when a 1d array was expected. Please change the shape of y to (n_samples,), for example using ravel().\n"
     ]
    },
    {
     "name": "stdout",
     "output_type": "stream",
     "text": [
      "Thresh=0.000, n=314, RMSE= 0.0000139896\n"
     ]
    },
    {
     "name": "stderr",
     "output_type": "stream",
     "text": [
      "/Library/Frameworks/Python.framework/Versions/3.5/lib/python3.5/site-packages/ipykernel/__main__.py:23: DataConversionWarning: A column-vector y was passed when a 1d array was expected. Please change the shape of y to (n_samples,), for example using ravel().\n"
     ]
    },
    {
     "name": "stdout",
     "output_type": "stream",
     "text": [
      "Thresh=0.000, n=313, RMSE= 0.0000141393\n"
     ]
    },
    {
     "name": "stderr",
     "output_type": "stream",
     "text": [
      "/Library/Frameworks/Python.framework/Versions/3.5/lib/python3.5/site-packages/ipykernel/__main__.py:23: DataConversionWarning: A column-vector y was passed when a 1d array was expected. Please change the shape of y to (n_samples,), for example using ravel().\n"
     ]
    },
    {
     "name": "stdout",
     "output_type": "stream",
     "text": [
      "Thresh=0.000, n=312, RMSE= 0.0000129360\n"
     ]
    },
    {
     "name": "stderr",
     "output_type": "stream",
     "text": [
      "/Library/Frameworks/Python.framework/Versions/3.5/lib/python3.5/site-packages/ipykernel/__main__.py:23: DataConversionWarning: A column-vector y was passed when a 1d array was expected. Please change the shape of y to (n_samples,), for example using ravel().\n"
     ]
    },
    {
     "name": "stdout",
     "output_type": "stream",
     "text": [
      "Thresh=0.000, n=311, RMSE= 0.0000127902\n"
     ]
    },
    {
     "name": "stderr",
     "output_type": "stream",
     "text": [
      "/Library/Frameworks/Python.framework/Versions/3.5/lib/python3.5/site-packages/ipykernel/__main__.py:23: DataConversionWarning: A column-vector y was passed when a 1d array was expected. Please change the shape of y to (n_samples,), for example using ravel().\n"
     ]
    },
    {
     "name": "stdout",
     "output_type": "stream",
     "text": [
      "Thresh=0.000, n=310, RMSE= 0.0000130605\n"
     ]
    },
    {
     "name": "stderr",
     "output_type": "stream",
     "text": [
      "/Library/Frameworks/Python.framework/Versions/3.5/lib/python3.5/site-packages/ipykernel/__main__.py:23: DataConversionWarning: A column-vector y was passed when a 1d array was expected. Please change the shape of y to (n_samples,), for example using ravel().\n"
     ]
    },
    {
     "name": "stdout",
     "output_type": "stream",
     "text": [
      "Thresh=0.000, n=309, RMSE= 0.0000131205\n"
     ]
    },
    {
     "name": "stderr",
     "output_type": "stream",
     "text": [
      "/Library/Frameworks/Python.framework/Versions/3.5/lib/python3.5/site-packages/ipykernel/__main__.py:23: DataConversionWarning: A column-vector y was passed when a 1d array was expected. Please change the shape of y to (n_samples,), for example using ravel().\n"
     ]
    },
    {
     "name": "stdout",
     "output_type": "stream",
     "text": [
      "Thresh=0.000, n=308, RMSE= 0.0000121157\n"
     ]
    },
    {
     "name": "stderr",
     "output_type": "stream",
     "text": [
      "/Library/Frameworks/Python.framework/Versions/3.5/lib/python3.5/site-packages/ipykernel/__main__.py:23: DataConversionWarning: A column-vector y was passed when a 1d array was expected. Please change the shape of y to (n_samples,), for example using ravel().\n"
     ]
    },
    {
     "name": "stdout",
     "output_type": "stream",
     "text": [
      "Thresh=0.000, n=307, RMSE= 0.0000106021\n"
     ]
    },
    {
     "name": "stderr",
     "output_type": "stream",
     "text": [
      "/Library/Frameworks/Python.framework/Versions/3.5/lib/python3.5/site-packages/ipykernel/__main__.py:23: DataConversionWarning: A column-vector y was passed when a 1d array was expected. Please change the shape of y to (n_samples,), for example using ravel().\n"
     ]
    },
    {
     "name": "stdout",
     "output_type": "stream",
     "text": [
      "Thresh=0.000, n=306, RMSE= 0.0000119577\n"
     ]
    },
    {
     "name": "stderr",
     "output_type": "stream",
     "text": [
      "/Library/Frameworks/Python.framework/Versions/3.5/lib/python3.5/site-packages/ipykernel/__main__.py:23: DataConversionWarning: A column-vector y was passed when a 1d array was expected. Please change the shape of y to (n_samples,), for example using ravel().\n"
     ]
    },
    {
     "name": "stdout",
     "output_type": "stream",
     "text": [
      "Thresh=0.000, n=305, RMSE= 0.0000116061\n"
     ]
    },
    {
     "name": "stderr",
     "output_type": "stream",
     "text": [
      "/Library/Frameworks/Python.framework/Versions/3.5/lib/python3.5/site-packages/ipykernel/__main__.py:23: DataConversionWarning: A column-vector y was passed when a 1d array was expected. Please change the shape of y to (n_samples,), for example using ravel().\n"
     ]
    },
    {
     "name": "stdout",
     "output_type": "stream",
     "text": [
      "Thresh=0.000, n=304, RMSE= 0.0000124859\n"
     ]
    },
    {
     "name": "stderr",
     "output_type": "stream",
     "text": [
      "/Library/Frameworks/Python.framework/Versions/3.5/lib/python3.5/site-packages/ipykernel/__main__.py:23: DataConversionWarning: A column-vector y was passed when a 1d array was expected. Please change the shape of y to (n_samples,), for example using ravel().\n"
     ]
    },
    {
     "name": "stdout",
     "output_type": "stream",
     "text": [
      "Thresh=0.000, n=303, RMSE= 0.0000115287\n"
     ]
    },
    {
     "name": "stderr",
     "output_type": "stream",
     "text": [
      "/Library/Frameworks/Python.framework/Versions/3.5/lib/python3.5/site-packages/ipykernel/__main__.py:23: DataConversionWarning: A column-vector y was passed when a 1d array was expected. Please change the shape of y to (n_samples,), for example using ravel().\n"
     ]
    },
    {
     "name": "stdout",
     "output_type": "stream",
     "text": [
      "Thresh=0.000, n=302, RMSE= 0.0000145601\n"
     ]
    },
    {
     "name": "stderr",
     "output_type": "stream",
     "text": [
      "/Library/Frameworks/Python.framework/Versions/3.5/lib/python3.5/site-packages/ipykernel/__main__.py:23: DataConversionWarning: A column-vector y was passed when a 1d array was expected. Please change the shape of y to (n_samples,), for example using ravel().\n"
     ]
    },
    {
     "name": "stdout",
     "output_type": "stream",
     "text": [
      "Thresh=0.000, n=301, RMSE= 0.0000143650\n"
     ]
    },
    {
     "name": "stderr",
     "output_type": "stream",
     "text": [
      "/Library/Frameworks/Python.framework/Versions/3.5/lib/python3.5/site-packages/ipykernel/__main__.py:23: DataConversionWarning: A column-vector y was passed when a 1d array was expected. Please change the shape of y to (n_samples,), for example using ravel().\n"
     ]
    },
    {
     "name": "stdout",
     "output_type": "stream",
     "text": [
      "Thresh=0.000, n=300, RMSE= 0.0000124670\n"
     ]
    },
    {
     "name": "stderr",
     "output_type": "stream",
     "text": [
      "/Library/Frameworks/Python.framework/Versions/3.5/lib/python3.5/site-packages/ipykernel/__main__.py:23: DataConversionWarning: A column-vector y was passed when a 1d array was expected. Please change the shape of y to (n_samples,), for example using ravel().\n"
     ]
    },
    {
     "name": "stdout",
     "output_type": "stream",
     "text": [
      "Thresh=0.000, n=299, RMSE= 0.0000120102\n"
     ]
    },
    {
     "name": "stderr",
     "output_type": "stream",
     "text": [
      "/Library/Frameworks/Python.framework/Versions/3.5/lib/python3.5/site-packages/ipykernel/__main__.py:23: DataConversionWarning: A column-vector y was passed when a 1d array was expected. Please change the shape of y to (n_samples,), for example using ravel().\n"
     ]
    },
    {
     "name": "stdout",
     "output_type": "stream",
     "text": [
      "Thresh=0.000, n=298, RMSE= 0.0000131291\n"
     ]
    },
    {
     "name": "stderr",
     "output_type": "stream",
     "text": [
      "/Library/Frameworks/Python.framework/Versions/3.5/lib/python3.5/site-packages/ipykernel/__main__.py:23: DataConversionWarning: A column-vector y was passed when a 1d array was expected. Please change the shape of y to (n_samples,), for example using ravel().\n"
     ]
    },
    {
     "name": "stdout",
     "output_type": "stream",
     "text": [
      "Thresh=0.000, n=297, RMSE= 0.0000158080\n"
     ]
    },
    {
     "name": "stderr",
     "output_type": "stream",
     "text": [
      "/Library/Frameworks/Python.framework/Versions/3.5/lib/python3.5/site-packages/ipykernel/__main__.py:23: DataConversionWarning: A column-vector y was passed when a 1d array was expected. Please change the shape of y to (n_samples,), for example using ravel().\n"
     ]
    },
    {
     "name": "stdout",
     "output_type": "stream",
     "text": [
      "Thresh=0.000, n=296, RMSE= 0.0000104557\n"
     ]
    },
    {
     "name": "stderr",
     "output_type": "stream",
     "text": [
      "/Library/Frameworks/Python.framework/Versions/3.5/lib/python3.5/site-packages/ipykernel/__main__.py:23: DataConversionWarning: A column-vector y was passed when a 1d array was expected. Please change the shape of y to (n_samples,), for example using ravel().\n"
     ]
    },
    {
     "name": "stdout",
     "output_type": "stream",
     "text": [
      "Thresh=0.000, n=295, RMSE= 0.0000135200\n"
     ]
    },
    {
     "name": "stderr",
     "output_type": "stream",
     "text": [
      "/Library/Frameworks/Python.framework/Versions/3.5/lib/python3.5/site-packages/ipykernel/__main__.py:23: DataConversionWarning: A column-vector y was passed when a 1d array was expected. Please change the shape of y to (n_samples,), for example using ravel().\n"
     ]
    },
    {
     "name": "stdout",
     "output_type": "stream",
     "text": [
      "Thresh=0.000, n=294, RMSE= 0.0000139573\n"
     ]
    },
    {
     "name": "stderr",
     "output_type": "stream",
     "text": [
      "/Library/Frameworks/Python.framework/Versions/3.5/lib/python3.5/site-packages/ipykernel/__main__.py:23: DataConversionWarning: A column-vector y was passed when a 1d array was expected. Please change the shape of y to (n_samples,), for example using ravel().\n"
     ]
    },
    {
     "name": "stdout",
     "output_type": "stream",
     "text": [
      "Thresh=0.000, n=293, RMSE= 0.0000147824\n"
     ]
    },
    {
     "name": "stderr",
     "output_type": "stream",
     "text": [
      "/Library/Frameworks/Python.framework/Versions/3.5/lib/python3.5/site-packages/ipykernel/__main__.py:23: DataConversionWarning: A column-vector y was passed when a 1d array was expected. Please change the shape of y to (n_samples,), for example using ravel().\n"
     ]
    },
    {
     "name": "stdout",
     "output_type": "stream",
     "text": [
      "Thresh=0.000, n=292, RMSE= 0.0000135846\n"
     ]
    },
    {
     "name": "stderr",
     "output_type": "stream",
     "text": [
      "/Library/Frameworks/Python.framework/Versions/3.5/lib/python3.5/site-packages/ipykernel/__main__.py:23: DataConversionWarning: A column-vector y was passed when a 1d array was expected. Please change the shape of y to (n_samples,), for example using ravel().\n"
     ]
    },
    {
     "name": "stdout",
     "output_type": "stream",
     "text": [
      "Thresh=0.000, n=291, RMSE= 0.0000124191\n"
     ]
    },
    {
     "name": "stderr",
     "output_type": "stream",
     "text": [
      "/Library/Frameworks/Python.framework/Versions/3.5/lib/python3.5/site-packages/ipykernel/__main__.py:23: DataConversionWarning: A column-vector y was passed when a 1d array was expected. Please change the shape of y to (n_samples,), for example using ravel().\n"
     ]
    },
    {
     "name": "stdout",
     "output_type": "stream",
     "text": [
      "Thresh=0.000, n=290, RMSE= 0.0000126496\n"
     ]
    },
    {
     "name": "stderr",
     "output_type": "stream",
     "text": [
      "/Library/Frameworks/Python.framework/Versions/3.5/lib/python3.5/site-packages/ipykernel/__main__.py:23: DataConversionWarning: A column-vector y was passed when a 1d array was expected. Please change the shape of y to (n_samples,), for example using ravel().\n"
     ]
    },
    {
     "name": "stdout",
     "output_type": "stream",
     "text": [
      "Thresh=0.000, n=289, RMSE= 0.0000138724\n"
     ]
    },
    {
     "name": "stderr",
     "output_type": "stream",
     "text": [
      "/Library/Frameworks/Python.framework/Versions/3.5/lib/python3.5/site-packages/ipykernel/__main__.py:23: DataConversionWarning: A column-vector y was passed when a 1d array was expected. Please change the shape of y to (n_samples,), for example using ravel().\n"
     ]
    },
    {
     "name": "stdout",
     "output_type": "stream",
     "text": [
      "Thresh=0.000, n=288, RMSE= 0.0000118290\n"
     ]
    },
    {
     "name": "stderr",
     "output_type": "stream",
     "text": [
      "/Library/Frameworks/Python.framework/Versions/3.5/lib/python3.5/site-packages/ipykernel/__main__.py:23: DataConversionWarning: A column-vector y was passed when a 1d array was expected. Please change the shape of y to (n_samples,), for example using ravel().\n"
     ]
    },
    {
     "name": "stdout",
     "output_type": "stream",
     "text": [
      "Thresh=0.000, n=287, RMSE= 0.0000139190\n"
     ]
    },
    {
     "name": "stderr",
     "output_type": "stream",
     "text": [
      "/Library/Frameworks/Python.framework/Versions/3.5/lib/python3.5/site-packages/ipykernel/__main__.py:23: DataConversionWarning: A column-vector y was passed when a 1d array was expected. Please change the shape of y to (n_samples,), for example using ravel().\n"
     ]
    },
    {
     "name": "stdout",
     "output_type": "stream",
     "text": [
      "Thresh=0.000, n=286, RMSE= 0.0000149011\n"
     ]
    },
    {
     "name": "stderr",
     "output_type": "stream",
     "text": [
      "/Library/Frameworks/Python.framework/Versions/3.5/lib/python3.5/site-packages/ipykernel/__main__.py:23: DataConversionWarning: A column-vector y was passed when a 1d array was expected. Please change the shape of y to (n_samples,), for example using ravel().\n"
     ]
    },
    {
     "name": "stdout",
     "output_type": "stream",
     "text": [
      "Thresh=0.000, n=285, RMSE= 0.0000149928\n"
     ]
    },
    {
     "name": "stderr",
     "output_type": "stream",
     "text": [
      "/Library/Frameworks/Python.framework/Versions/3.5/lib/python3.5/site-packages/ipykernel/__main__.py:23: DataConversionWarning: A column-vector y was passed when a 1d array was expected. Please change the shape of y to (n_samples,), for example using ravel().\n"
     ]
    },
    {
     "name": "stdout",
     "output_type": "stream",
     "text": [
      "Thresh=0.000, n=284, RMSE= 0.0000132997\n"
     ]
    },
    {
     "name": "stderr",
     "output_type": "stream",
     "text": [
      "/Library/Frameworks/Python.framework/Versions/3.5/lib/python3.5/site-packages/ipykernel/__main__.py:23: DataConversionWarning: A column-vector y was passed when a 1d array was expected. Please change the shape of y to (n_samples,), for example using ravel().\n"
     ]
    },
    {
     "name": "stdout",
     "output_type": "stream",
     "text": [
      "Thresh=0.000, n=283, RMSE= 0.0000134696\n"
     ]
    },
    {
     "name": "stderr",
     "output_type": "stream",
     "text": [
      "/Library/Frameworks/Python.framework/Versions/3.5/lib/python3.5/site-packages/ipykernel/__main__.py:23: DataConversionWarning: A column-vector y was passed when a 1d array was expected. Please change the shape of y to (n_samples,), for example using ravel().\n"
     ]
    },
    {
     "name": "stdout",
     "output_type": "stream",
     "text": [
      "Thresh=0.000, n=282, RMSE= 0.0000143018\n"
     ]
    },
    {
     "name": "stderr",
     "output_type": "stream",
     "text": [
      "/Library/Frameworks/Python.framework/Versions/3.5/lib/python3.5/site-packages/ipykernel/__main__.py:23: DataConversionWarning: A column-vector y was passed when a 1d array was expected. Please change the shape of y to (n_samples,), for example using ravel().\n"
     ]
    },
    {
     "name": "stdout",
     "output_type": "stream",
     "text": [
      "Thresh=0.000, n=281, RMSE= 0.0000124450\n"
     ]
    },
    {
     "name": "stderr",
     "output_type": "stream",
     "text": [
      "/Library/Frameworks/Python.framework/Versions/3.5/lib/python3.5/site-packages/ipykernel/__main__.py:23: DataConversionWarning: A column-vector y was passed when a 1d array was expected. Please change the shape of y to (n_samples,), for example using ravel().\n"
     ]
    },
    {
     "name": "stdout",
     "output_type": "stream",
     "text": [
      "Thresh=0.000, n=280, RMSE= 0.0000128925\n"
     ]
    },
    {
     "name": "stderr",
     "output_type": "stream",
     "text": [
      "/Library/Frameworks/Python.framework/Versions/3.5/lib/python3.5/site-packages/ipykernel/__main__.py:23: DataConversionWarning: A column-vector y was passed when a 1d array was expected. Please change the shape of y to (n_samples,), for example using ravel().\n"
     ]
    },
    {
     "name": "stdout",
     "output_type": "stream",
     "text": [
      "Thresh=0.000, n=279, RMSE= 0.0000113192\n"
     ]
    },
    {
     "name": "stderr",
     "output_type": "stream",
     "text": [
      "/Library/Frameworks/Python.framework/Versions/3.5/lib/python3.5/site-packages/ipykernel/__main__.py:23: DataConversionWarning: A column-vector y was passed when a 1d array was expected. Please change the shape of y to (n_samples,), for example using ravel().\n"
     ]
    },
    {
     "name": "stdout",
     "output_type": "stream",
     "text": [
      "Thresh=0.000, n=278, RMSE= 0.0000127189\n"
     ]
    },
    {
     "name": "stderr",
     "output_type": "stream",
     "text": [
      "/Library/Frameworks/Python.framework/Versions/3.5/lib/python3.5/site-packages/ipykernel/__main__.py:23: DataConversionWarning: A column-vector y was passed when a 1d array was expected. Please change the shape of y to (n_samples,), for example using ravel().\n"
     ]
    },
    {
     "name": "stdout",
     "output_type": "stream",
     "text": [
      "Thresh=0.000, n=277, RMSE= 0.0000150037\n"
     ]
    },
    {
     "name": "stderr",
     "output_type": "stream",
     "text": [
      "/Library/Frameworks/Python.framework/Versions/3.5/lib/python3.5/site-packages/ipykernel/__main__.py:23: DataConversionWarning: A column-vector y was passed when a 1d array was expected. Please change the shape of y to (n_samples,), for example using ravel().\n"
     ]
    },
    {
     "name": "stdout",
     "output_type": "stream",
     "text": [
      "Thresh=0.000, n=276, RMSE= 0.0000121881\n"
     ]
    },
    {
     "name": "stderr",
     "output_type": "stream",
     "text": [
      "/Library/Frameworks/Python.framework/Versions/3.5/lib/python3.5/site-packages/ipykernel/__main__.py:23: DataConversionWarning: A column-vector y was passed when a 1d array was expected. Please change the shape of y to (n_samples,), for example using ravel().\n"
     ]
    },
    {
     "name": "stdout",
     "output_type": "stream",
     "text": [
      "Thresh=0.000, n=275, RMSE= 0.0000120519\n"
     ]
    },
    {
     "name": "stderr",
     "output_type": "stream",
     "text": [
      "/Library/Frameworks/Python.framework/Versions/3.5/lib/python3.5/site-packages/ipykernel/__main__.py:23: DataConversionWarning: A column-vector y was passed when a 1d array was expected. Please change the shape of y to (n_samples,), for example using ravel().\n"
     ]
    },
    {
     "name": "stdout",
     "output_type": "stream",
     "text": [
      "Thresh=0.000, n=274, RMSE= 0.0000119619\n"
     ]
    },
    {
     "name": "stderr",
     "output_type": "stream",
     "text": [
      "/Library/Frameworks/Python.framework/Versions/3.5/lib/python3.5/site-packages/ipykernel/__main__.py:23: DataConversionWarning: A column-vector y was passed when a 1d array was expected. Please change the shape of y to (n_samples,), for example using ravel().\n"
     ]
    },
    {
     "name": "stdout",
     "output_type": "stream",
     "text": [
      "Thresh=0.000, n=273, RMSE= 0.0000140273\n"
     ]
    },
    {
     "name": "stderr",
     "output_type": "stream",
     "text": [
      "/Library/Frameworks/Python.framework/Versions/3.5/lib/python3.5/site-packages/ipykernel/__main__.py:23: DataConversionWarning: A column-vector y was passed when a 1d array was expected. Please change the shape of y to (n_samples,), for example using ravel().\n"
     ]
    },
    {
     "name": "stdout",
     "output_type": "stream",
     "text": [
      "Thresh=0.000, n=272, RMSE= 0.0000131200\n"
     ]
    },
    {
     "name": "stderr",
     "output_type": "stream",
     "text": [
      "/Library/Frameworks/Python.framework/Versions/3.5/lib/python3.5/site-packages/ipykernel/__main__.py:23: DataConversionWarning: A column-vector y was passed when a 1d array was expected. Please change the shape of y to (n_samples,), for example using ravel().\n"
     ]
    },
    {
     "name": "stdout",
     "output_type": "stream",
     "text": [
      "Thresh=0.000, n=271, RMSE= 0.0000142248\n"
     ]
    },
    {
     "name": "stderr",
     "output_type": "stream",
     "text": [
      "/Library/Frameworks/Python.framework/Versions/3.5/lib/python3.5/site-packages/ipykernel/__main__.py:23: DataConversionWarning: A column-vector y was passed when a 1d array was expected. Please change the shape of y to (n_samples,), for example using ravel().\n"
     ]
    },
    {
     "name": "stdout",
     "output_type": "stream",
     "text": [
      "Thresh=0.000, n=270, RMSE= 0.0000115274\n"
     ]
    },
    {
     "name": "stderr",
     "output_type": "stream",
     "text": [
      "/Library/Frameworks/Python.framework/Versions/3.5/lib/python3.5/site-packages/ipykernel/__main__.py:23: DataConversionWarning: A column-vector y was passed when a 1d array was expected. Please change the shape of y to (n_samples,), for example using ravel().\n"
     ]
    },
    {
     "name": "stdout",
     "output_type": "stream",
     "text": [
      "Thresh=0.000, n=269, RMSE= 0.0000124904\n"
     ]
    },
    {
     "name": "stderr",
     "output_type": "stream",
     "text": [
      "/Library/Frameworks/Python.framework/Versions/3.5/lib/python3.5/site-packages/ipykernel/__main__.py:23: DataConversionWarning: A column-vector y was passed when a 1d array was expected. Please change the shape of y to (n_samples,), for example using ravel().\n"
     ]
    },
    {
     "name": "stdout",
     "output_type": "stream",
     "text": [
      "Thresh=0.000, n=268, RMSE= 0.0000137217\n"
     ]
    },
    {
     "name": "stderr",
     "output_type": "stream",
     "text": [
      "/Library/Frameworks/Python.framework/Versions/3.5/lib/python3.5/site-packages/ipykernel/__main__.py:23: DataConversionWarning: A column-vector y was passed when a 1d array was expected. Please change the shape of y to (n_samples,), for example using ravel().\n"
     ]
    },
    {
     "name": "stdout",
     "output_type": "stream",
     "text": [
      "Thresh=0.000, n=267, RMSE= 0.0000131955\n"
     ]
    },
    {
     "name": "stderr",
     "output_type": "stream",
     "text": [
      "/Library/Frameworks/Python.framework/Versions/3.5/lib/python3.5/site-packages/ipykernel/__main__.py:23: DataConversionWarning: A column-vector y was passed when a 1d array was expected. Please change the shape of y to (n_samples,), for example using ravel().\n"
     ]
    },
    {
     "name": "stdout",
     "output_type": "stream",
     "text": [
      "Thresh=0.000, n=266, RMSE= 0.0000124655\n"
     ]
    },
    {
     "name": "stderr",
     "output_type": "stream",
     "text": [
      "/Library/Frameworks/Python.framework/Versions/3.5/lib/python3.5/site-packages/ipykernel/__main__.py:23: DataConversionWarning: A column-vector y was passed when a 1d array was expected. Please change the shape of y to (n_samples,), for example using ravel().\n"
     ]
    },
    {
     "name": "stdout",
     "output_type": "stream",
     "text": [
      "Thresh=0.000, n=265, RMSE= 0.0000138399\n"
     ]
    },
    {
     "name": "stderr",
     "output_type": "stream",
     "text": [
      "/Library/Frameworks/Python.framework/Versions/3.5/lib/python3.5/site-packages/ipykernel/__main__.py:23: DataConversionWarning: A column-vector y was passed when a 1d array was expected. Please change the shape of y to (n_samples,), for example using ravel().\n"
     ]
    },
    {
     "name": "stdout",
     "output_type": "stream",
     "text": [
      "Thresh=0.000, n=264, RMSE= 0.0000135866\n"
     ]
    },
    {
     "name": "stderr",
     "output_type": "stream",
     "text": [
      "/Library/Frameworks/Python.framework/Versions/3.5/lib/python3.5/site-packages/ipykernel/__main__.py:23: DataConversionWarning: A column-vector y was passed when a 1d array was expected. Please change the shape of y to (n_samples,), for example using ravel().\n"
     ]
    },
    {
     "name": "stdout",
     "output_type": "stream",
     "text": [
      "Thresh=0.000, n=263, RMSE= 0.0000146278\n"
     ]
    },
    {
     "name": "stderr",
     "output_type": "stream",
     "text": [
      "/Library/Frameworks/Python.framework/Versions/3.5/lib/python3.5/site-packages/ipykernel/__main__.py:23: DataConversionWarning: A column-vector y was passed when a 1d array was expected. Please change the shape of y to (n_samples,), for example using ravel().\n"
     ]
    },
    {
     "name": "stdout",
     "output_type": "stream",
     "text": [
      "Thresh=0.000, n=262, RMSE= 0.0000132551\n"
     ]
    },
    {
     "name": "stderr",
     "output_type": "stream",
     "text": [
      "/Library/Frameworks/Python.framework/Versions/3.5/lib/python3.5/site-packages/ipykernel/__main__.py:23: DataConversionWarning: A column-vector y was passed when a 1d array was expected. Please change the shape of y to (n_samples,), for example using ravel().\n"
     ]
    },
    {
     "name": "stdout",
     "output_type": "stream",
     "text": [
      "Thresh=0.000, n=261, RMSE= 0.0000134837\n"
     ]
    },
    {
     "name": "stderr",
     "output_type": "stream",
     "text": [
      "/Library/Frameworks/Python.framework/Versions/3.5/lib/python3.5/site-packages/ipykernel/__main__.py:23: DataConversionWarning: A column-vector y was passed when a 1d array was expected. Please change the shape of y to (n_samples,), for example using ravel().\n"
     ]
    },
    {
     "name": "stdout",
     "output_type": "stream",
     "text": [
      "Thresh=0.000, n=260, RMSE= 0.0000142478\n"
     ]
    },
    {
     "name": "stderr",
     "output_type": "stream",
     "text": [
      "/Library/Frameworks/Python.framework/Versions/3.5/lib/python3.5/site-packages/ipykernel/__main__.py:23: DataConversionWarning: A column-vector y was passed when a 1d array was expected. Please change the shape of y to (n_samples,), for example using ravel().\n"
     ]
    },
    {
     "name": "stdout",
     "output_type": "stream",
     "text": [
      "Thresh=0.000, n=259, RMSE= 0.0000119432\n"
     ]
    },
    {
     "name": "stderr",
     "output_type": "stream",
     "text": [
      "/Library/Frameworks/Python.framework/Versions/3.5/lib/python3.5/site-packages/ipykernel/__main__.py:23: DataConversionWarning: A column-vector y was passed when a 1d array was expected. Please change the shape of y to (n_samples,), for example using ravel().\n"
     ]
    },
    {
     "name": "stdout",
     "output_type": "stream",
     "text": [
      "Thresh=0.000, n=258, RMSE= 0.0000150866\n"
     ]
    },
    {
     "name": "stderr",
     "output_type": "stream",
     "text": [
      "/Library/Frameworks/Python.framework/Versions/3.5/lib/python3.5/site-packages/ipykernel/__main__.py:23: DataConversionWarning: A column-vector y was passed when a 1d array was expected. Please change the shape of y to (n_samples,), for example using ravel().\n"
     ]
    },
    {
     "name": "stdout",
     "output_type": "stream",
     "text": [
      "Thresh=0.000, n=257, RMSE= 0.0000124826\n"
     ]
    },
    {
     "name": "stderr",
     "output_type": "stream",
     "text": [
      "/Library/Frameworks/Python.framework/Versions/3.5/lib/python3.5/site-packages/ipykernel/__main__.py:23: DataConversionWarning: A column-vector y was passed when a 1d array was expected. Please change the shape of y to (n_samples,), for example using ravel().\n"
     ]
    },
    {
     "name": "stdout",
     "output_type": "stream",
     "text": [
      "Thresh=0.000, n=256, RMSE= 0.0000118238\n"
     ]
    },
    {
     "name": "stderr",
     "output_type": "stream",
     "text": [
      "/Library/Frameworks/Python.framework/Versions/3.5/lib/python3.5/site-packages/ipykernel/__main__.py:23: DataConversionWarning: A column-vector y was passed when a 1d array was expected. Please change the shape of y to (n_samples,), for example using ravel().\n"
     ]
    },
    {
     "name": "stdout",
     "output_type": "stream",
     "text": [
      "Thresh=0.000, n=255, RMSE= 0.0000120533\n"
     ]
    },
    {
     "name": "stderr",
     "output_type": "stream",
     "text": [
      "/Library/Frameworks/Python.framework/Versions/3.5/lib/python3.5/site-packages/ipykernel/__main__.py:23: DataConversionWarning: A column-vector y was passed when a 1d array was expected. Please change the shape of y to (n_samples,), for example using ravel().\n"
     ]
    },
    {
     "name": "stdout",
     "output_type": "stream",
     "text": [
      "Thresh=0.000, n=254, RMSE= 0.0000105239\n"
     ]
    },
    {
     "name": "stderr",
     "output_type": "stream",
     "text": [
      "/Library/Frameworks/Python.framework/Versions/3.5/lib/python3.5/site-packages/ipykernel/__main__.py:23: DataConversionWarning: A column-vector y was passed when a 1d array was expected. Please change the shape of y to (n_samples,), for example using ravel().\n"
     ]
    },
    {
     "name": "stdout",
     "output_type": "stream",
     "text": [
      "Thresh=0.000, n=253, RMSE= 0.0000107549\n"
     ]
    },
    {
     "name": "stderr",
     "output_type": "stream",
     "text": [
      "/Library/Frameworks/Python.framework/Versions/3.5/lib/python3.5/site-packages/ipykernel/__main__.py:23: DataConversionWarning: A column-vector y was passed when a 1d array was expected. Please change the shape of y to (n_samples,), for example using ravel().\n"
     ]
    },
    {
     "name": "stdout",
     "output_type": "stream",
     "text": [
      "Thresh=0.000, n=252, RMSE= 0.0000100644\n"
     ]
    },
    {
     "name": "stderr",
     "output_type": "stream",
     "text": [
      "/Library/Frameworks/Python.framework/Versions/3.5/lib/python3.5/site-packages/ipykernel/__main__.py:23: DataConversionWarning: A column-vector y was passed when a 1d array was expected. Please change the shape of y to (n_samples,), for example using ravel().\n"
     ]
    },
    {
     "name": "stdout",
     "output_type": "stream",
     "text": [
      "Thresh=0.000, n=251, RMSE= 0.0000119337\n"
     ]
    },
    {
     "name": "stderr",
     "output_type": "stream",
     "text": [
      "/Library/Frameworks/Python.framework/Versions/3.5/lib/python3.5/site-packages/ipykernel/__main__.py:23: DataConversionWarning: A column-vector y was passed when a 1d array was expected. Please change the shape of y to (n_samples,), for example using ravel().\n"
     ]
    },
    {
     "name": "stdout",
     "output_type": "stream",
     "text": [
      "Thresh=0.000, n=250, RMSE= 0.0000121284\n"
     ]
    },
    {
     "name": "stderr",
     "output_type": "stream",
     "text": [
      "/Library/Frameworks/Python.framework/Versions/3.5/lib/python3.5/site-packages/ipykernel/__main__.py:23: DataConversionWarning: A column-vector y was passed when a 1d array was expected. Please change the shape of y to (n_samples,), for example using ravel().\n"
     ]
    },
    {
     "name": "stdout",
     "output_type": "stream",
     "text": [
      "Thresh=0.000, n=249, RMSE= 0.0000123096\n"
     ]
    },
    {
     "name": "stderr",
     "output_type": "stream",
     "text": [
      "/Library/Frameworks/Python.framework/Versions/3.5/lib/python3.5/site-packages/ipykernel/__main__.py:23: DataConversionWarning: A column-vector y was passed when a 1d array was expected. Please change the shape of y to (n_samples,), for example using ravel().\n"
     ]
    },
    {
     "name": "stdout",
     "output_type": "stream",
     "text": [
      "Thresh=0.000, n=248, RMSE= 0.0000139386\n"
     ]
    },
    {
     "name": "stderr",
     "output_type": "stream",
     "text": [
      "/Library/Frameworks/Python.framework/Versions/3.5/lib/python3.5/site-packages/ipykernel/__main__.py:23: DataConversionWarning: A column-vector y was passed when a 1d array was expected. Please change the shape of y to (n_samples,), for example using ravel().\n"
     ]
    },
    {
     "name": "stdout",
     "output_type": "stream",
     "text": [
      "Thresh=0.000, n=247, RMSE= 0.0000123647\n"
     ]
    },
    {
     "name": "stderr",
     "output_type": "stream",
     "text": [
      "/Library/Frameworks/Python.framework/Versions/3.5/lib/python3.5/site-packages/ipykernel/__main__.py:23: DataConversionWarning: A column-vector y was passed when a 1d array was expected. Please change the shape of y to (n_samples,), for example using ravel().\n"
     ]
    },
    {
     "name": "stdout",
     "output_type": "stream",
     "text": [
      "Thresh=0.000, n=246, RMSE= 0.0000108268\n"
     ]
    },
    {
     "name": "stderr",
     "output_type": "stream",
     "text": [
      "/Library/Frameworks/Python.framework/Versions/3.5/lib/python3.5/site-packages/ipykernel/__main__.py:23: DataConversionWarning: A column-vector y was passed when a 1d array was expected. Please change the shape of y to (n_samples,), for example using ravel().\n"
     ]
    },
    {
     "name": "stdout",
     "output_type": "stream",
     "text": [
      "Thresh=0.000, n=245, RMSE= 0.0000141114\n"
     ]
    },
    {
     "name": "stderr",
     "output_type": "stream",
     "text": [
      "/Library/Frameworks/Python.framework/Versions/3.5/lib/python3.5/site-packages/ipykernel/__main__.py:23: DataConversionWarning: A column-vector y was passed when a 1d array was expected. Please change the shape of y to (n_samples,), for example using ravel().\n"
     ]
    },
    {
     "name": "stdout",
     "output_type": "stream",
     "text": [
      "Thresh=0.000, n=244, RMSE= 0.0000159640\n"
     ]
    },
    {
     "name": "stderr",
     "output_type": "stream",
     "text": [
      "/Library/Frameworks/Python.framework/Versions/3.5/lib/python3.5/site-packages/ipykernel/__main__.py:23: DataConversionWarning: A column-vector y was passed when a 1d array was expected. Please change the shape of y to (n_samples,), for example using ravel().\n"
     ]
    },
    {
     "name": "stdout",
     "output_type": "stream",
     "text": [
      "Thresh=0.000, n=243, RMSE= 0.0000124751\n"
     ]
    },
    {
     "name": "stderr",
     "output_type": "stream",
     "text": [
      "/Library/Frameworks/Python.framework/Versions/3.5/lib/python3.5/site-packages/ipykernel/__main__.py:23: DataConversionWarning: A column-vector y was passed when a 1d array was expected. Please change the shape of y to (n_samples,), for example using ravel().\n"
     ]
    },
    {
     "name": "stdout",
     "output_type": "stream",
     "text": [
      "Thresh=0.000, n=242, RMSE= 0.0000149523\n"
     ]
    },
    {
     "name": "stderr",
     "output_type": "stream",
     "text": [
      "/Library/Frameworks/Python.framework/Versions/3.5/lib/python3.5/site-packages/ipykernel/__main__.py:23: DataConversionWarning: A column-vector y was passed when a 1d array was expected. Please change the shape of y to (n_samples,), for example using ravel().\n"
     ]
    },
    {
     "name": "stdout",
     "output_type": "stream",
     "text": [
      "Thresh=0.000, n=241, RMSE= 0.0000117852\n"
     ]
    },
    {
     "name": "stderr",
     "output_type": "stream",
     "text": [
      "/Library/Frameworks/Python.framework/Versions/3.5/lib/python3.5/site-packages/ipykernel/__main__.py:23: DataConversionWarning: A column-vector y was passed when a 1d array was expected. Please change the shape of y to (n_samples,), for example using ravel().\n"
     ]
    },
    {
     "name": "stdout",
     "output_type": "stream",
     "text": [
      "Thresh=0.000, n=240, RMSE= 0.0000136200\n"
     ]
    },
    {
     "name": "stderr",
     "output_type": "stream",
     "text": [
      "/Library/Frameworks/Python.framework/Versions/3.5/lib/python3.5/site-packages/ipykernel/__main__.py:23: DataConversionWarning: A column-vector y was passed when a 1d array was expected. Please change the shape of y to (n_samples,), for example using ravel().\n"
     ]
    },
    {
     "name": "stdout",
     "output_type": "stream",
     "text": [
      "Thresh=0.000, n=239, RMSE= 0.0000143779\n"
     ]
    },
    {
     "name": "stderr",
     "output_type": "stream",
     "text": [
      "/Library/Frameworks/Python.framework/Versions/3.5/lib/python3.5/site-packages/ipykernel/__main__.py:23: DataConversionWarning: A column-vector y was passed when a 1d array was expected. Please change the shape of y to (n_samples,), for example using ravel().\n"
     ]
    },
    {
     "name": "stdout",
     "output_type": "stream",
     "text": [
      "Thresh=0.000, n=238, RMSE= 0.0000141146\n"
     ]
    },
    {
     "name": "stderr",
     "output_type": "stream",
     "text": [
      "/Library/Frameworks/Python.framework/Versions/3.5/lib/python3.5/site-packages/ipykernel/__main__.py:23: DataConversionWarning: A column-vector y was passed when a 1d array was expected. Please change the shape of y to (n_samples,), for example using ravel().\n"
     ]
    },
    {
     "name": "stdout",
     "output_type": "stream",
     "text": [
      "Thresh=0.000, n=237, RMSE= 0.0000132318\n"
     ]
    },
    {
     "name": "stderr",
     "output_type": "stream",
     "text": [
      "/Library/Frameworks/Python.framework/Versions/3.5/lib/python3.5/site-packages/ipykernel/__main__.py:23: DataConversionWarning: A column-vector y was passed when a 1d array was expected. Please change the shape of y to (n_samples,), for example using ravel().\n"
     ]
    },
    {
     "name": "stdout",
     "output_type": "stream",
     "text": [
      "Thresh=0.000, n=236, RMSE= 0.0000135734\n"
     ]
    },
    {
     "name": "stderr",
     "output_type": "stream",
     "text": [
      "/Library/Frameworks/Python.framework/Versions/3.5/lib/python3.5/site-packages/ipykernel/__main__.py:23: DataConversionWarning: A column-vector y was passed when a 1d array was expected. Please change the shape of y to (n_samples,), for example using ravel().\n"
     ]
    },
    {
     "name": "stdout",
     "output_type": "stream",
     "text": [
      "Thresh=0.000, n=235, RMSE= 0.0000142701\n"
     ]
    },
    {
     "name": "stderr",
     "output_type": "stream",
     "text": [
      "/Library/Frameworks/Python.framework/Versions/3.5/lib/python3.5/site-packages/ipykernel/__main__.py:23: DataConversionWarning: A column-vector y was passed when a 1d array was expected. Please change the shape of y to (n_samples,), for example using ravel().\n"
     ]
    },
    {
     "name": "stdout",
     "output_type": "stream",
     "text": [
      "Thresh=0.000, n=234, RMSE= 0.0000144866\n"
     ]
    },
    {
     "name": "stderr",
     "output_type": "stream",
     "text": [
      "/Library/Frameworks/Python.framework/Versions/3.5/lib/python3.5/site-packages/ipykernel/__main__.py:23: DataConversionWarning: A column-vector y was passed when a 1d array was expected. Please change the shape of y to (n_samples,), for example using ravel().\n"
     ]
    },
    {
     "name": "stdout",
     "output_type": "stream",
     "text": [
      "Thresh=0.000, n=233, RMSE= 0.0000113003\n"
     ]
    },
    {
     "name": "stderr",
     "output_type": "stream",
     "text": [
      "/Library/Frameworks/Python.framework/Versions/3.5/lib/python3.5/site-packages/ipykernel/__main__.py:23: DataConversionWarning: A column-vector y was passed when a 1d array was expected. Please change the shape of y to (n_samples,), for example using ravel().\n"
     ]
    },
    {
     "name": "stdout",
     "output_type": "stream",
     "text": [
      "Thresh=0.000, n=232, RMSE= 0.0000123883\n"
     ]
    },
    {
     "name": "stderr",
     "output_type": "stream",
     "text": [
      "/Library/Frameworks/Python.framework/Versions/3.5/lib/python3.5/site-packages/ipykernel/__main__.py:23: DataConversionWarning: A column-vector y was passed when a 1d array was expected. Please change the shape of y to (n_samples,), for example using ravel().\n"
     ]
    },
    {
     "name": "stdout",
     "output_type": "stream",
     "text": [
      "Thresh=0.000, n=231, RMSE= 0.0000098490\n"
     ]
    },
    {
     "name": "stderr",
     "output_type": "stream",
     "text": [
      "/Library/Frameworks/Python.framework/Versions/3.5/lib/python3.5/site-packages/ipykernel/__main__.py:23: DataConversionWarning: A column-vector y was passed when a 1d array was expected. Please change the shape of y to (n_samples,), for example using ravel().\n"
     ]
    },
    {
     "name": "stdout",
     "output_type": "stream",
     "text": [
      "Thresh=0.000, n=230, RMSE= 0.0000120649\n"
     ]
    },
    {
     "name": "stderr",
     "output_type": "stream",
     "text": [
      "/Library/Frameworks/Python.framework/Versions/3.5/lib/python3.5/site-packages/ipykernel/__main__.py:23: DataConversionWarning: A column-vector y was passed when a 1d array was expected. Please change the shape of y to (n_samples,), for example using ravel().\n"
     ]
    },
    {
     "name": "stdout",
     "output_type": "stream",
     "text": [
      "Thresh=0.000, n=229, RMSE= 0.0000123990\n"
     ]
    },
    {
     "name": "stderr",
     "output_type": "stream",
     "text": [
      "/Library/Frameworks/Python.framework/Versions/3.5/lib/python3.5/site-packages/ipykernel/__main__.py:23: DataConversionWarning: A column-vector y was passed when a 1d array was expected. Please change the shape of y to (n_samples,), for example using ravel().\n"
     ]
    },
    {
     "name": "stdout",
     "output_type": "stream",
     "text": [
      "Thresh=0.000, n=228, RMSE= 0.0000133182\n"
     ]
    },
    {
     "name": "stderr",
     "output_type": "stream",
     "text": [
      "/Library/Frameworks/Python.framework/Versions/3.5/lib/python3.5/site-packages/ipykernel/__main__.py:23: DataConversionWarning: A column-vector y was passed when a 1d array was expected. Please change the shape of y to (n_samples,), for example using ravel().\n"
     ]
    },
    {
     "name": "stdout",
     "output_type": "stream",
     "text": [
      "Thresh=0.000, n=227, RMSE= 0.0000118631\n"
     ]
    },
    {
     "name": "stderr",
     "output_type": "stream",
     "text": [
      "/Library/Frameworks/Python.framework/Versions/3.5/lib/python3.5/site-packages/ipykernel/__main__.py:23: DataConversionWarning: A column-vector y was passed when a 1d array was expected. Please change the shape of y to (n_samples,), for example using ravel().\n"
     ]
    },
    {
     "name": "stdout",
     "output_type": "stream",
     "text": [
      "Thresh=0.000, n=226, RMSE= 0.0000117850\n"
     ]
    },
    {
     "name": "stderr",
     "output_type": "stream",
     "text": [
      "/Library/Frameworks/Python.framework/Versions/3.5/lib/python3.5/site-packages/ipykernel/__main__.py:23: DataConversionWarning: A column-vector y was passed when a 1d array was expected. Please change the shape of y to (n_samples,), for example using ravel().\n"
     ]
    },
    {
     "name": "stdout",
     "output_type": "stream",
     "text": [
      "Thresh=0.000, n=225, RMSE= 0.0000149754\n"
     ]
    },
    {
     "name": "stderr",
     "output_type": "stream",
     "text": [
      "/Library/Frameworks/Python.framework/Versions/3.5/lib/python3.5/site-packages/ipykernel/__main__.py:23: DataConversionWarning: A column-vector y was passed when a 1d array was expected. Please change the shape of y to (n_samples,), for example using ravel().\n"
     ]
    },
    {
     "name": "stdout",
     "output_type": "stream",
     "text": [
      "Thresh=0.000, n=224, RMSE= 0.0000132724\n"
     ]
    },
    {
     "name": "stderr",
     "output_type": "stream",
     "text": [
      "/Library/Frameworks/Python.framework/Versions/3.5/lib/python3.5/site-packages/ipykernel/__main__.py:23: DataConversionWarning: A column-vector y was passed when a 1d array was expected. Please change the shape of y to (n_samples,), for example using ravel().\n"
     ]
    },
    {
     "name": "stdout",
     "output_type": "stream",
     "text": [
      "Thresh=0.000, n=223, RMSE= 0.0000142355\n"
     ]
    },
    {
     "name": "stderr",
     "output_type": "stream",
     "text": [
      "/Library/Frameworks/Python.framework/Versions/3.5/lib/python3.5/site-packages/ipykernel/__main__.py:23: DataConversionWarning: A column-vector y was passed when a 1d array was expected. Please change the shape of y to (n_samples,), for example using ravel().\n"
     ]
    },
    {
     "name": "stdout",
     "output_type": "stream",
     "text": [
      "Thresh=0.000, n=222, RMSE= 0.0000131605\n"
     ]
    },
    {
     "name": "stderr",
     "output_type": "stream",
     "text": [
      "/Library/Frameworks/Python.framework/Versions/3.5/lib/python3.5/site-packages/ipykernel/__main__.py:23: DataConversionWarning: A column-vector y was passed when a 1d array was expected. Please change the shape of y to (n_samples,), for example using ravel().\n"
     ]
    },
    {
     "name": "stdout",
     "output_type": "stream",
     "text": [
      "Thresh=0.000, n=221, RMSE= 0.0000150393\n"
     ]
    },
    {
     "name": "stderr",
     "output_type": "stream",
     "text": [
      "/Library/Frameworks/Python.framework/Versions/3.5/lib/python3.5/site-packages/ipykernel/__main__.py:23: DataConversionWarning: A column-vector y was passed when a 1d array was expected. Please change the shape of y to (n_samples,), for example using ravel().\n"
     ]
    },
    {
     "name": "stdout",
     "output_type": "stream",
     "text": [
      "Thresh=0.000, n=220, RMSE= 0.0000120591\n"
     ]
    },
    {
     "name": "stderr",
     "output_type": "stream",
     "text": [
      "/Library/Frameworks/Python.framework/Versions/3.5/lib/python3.5/site-packages/ipykernel/__main__.py:23: DataConversionWarning: A column-vector y was passed when a 1d array was expected. Please change the shape of y to (n_samples,), for example using ravel().\n"
     ]
    },
    {
     "name": "stdout",
     "output_type": "stream",
     "text": [
      "Thresh=0.000, n=219, RMSE= 0.0000138776\n"
     ]
    },
    {
     "name": "stderr",
     "output_type": "stream",
     "text": [
      "/Library/Frameworks/Python.framework/Versions/3.5/lib/python3.5/site-packages/ipykernel/__main__.py:23: DataConversionWarning: A column-vector y was passed when a 1d array was expected. Please change the shape of y to (n_samples,), for example using ravel().\n"
     ]
    },
    {
     "name": "stdout",
     "output_type": "stream",
     "text": [
      "Thresh=0.000, n=218, RMSE= 0.0000097335\n"
     ]
    },
    {
     "name": "stderr",
     "output_type": "stream",
     "text": [
      "/Library/Frameworks/Python.framework/Versions/3.5/lib/python3.5/site-packages/ipykernel/__main__.py:23: DataConversionWarning: A column-vector y was passed when a 1d array was expected. Please change the shape of y to (n_samples,), for example using ravel().\n"
     ]
    },
    {
     "name": "stdout",
     "output_type": "stream",
     "text": [
      "Thresh=0.000, n=217, RMSE= 0.0000119114\n"
     ]
    },
    {
     "name": "stderr",
     "output_type": "stream",
     "text": [
      "/Library/Frameworks/Python.framework/Versions/3.5/lib/python3.5/site-packages/ipykernel/__main__.py:23: DataConversionWarning: A column-vector y was passed when a 1d array was expected. Please change the shape of y to (n_samples,), for example using ravel().\n"
     ]
    },
    {
     "name": "stdout",
     "output_type": "stream",
     "text": [
      "Thresh=0.000, n=216, RMSE= 0.0000110018\n"
     ]
    },
    {
     "name": "stderr",
     "output_type": "stream",
     "text": [
      "/Library/Frameworks/Python.framework/Versions/3.5/lib/python3.5/site-packages/ipykernel/__main__.py:23: DataConversionWarning: A column-vector y was passed when a 1d array was expected. Please change the shape of y to (n_samples,), for example using ravel().\n"
     ]
    },
    {
     "name": "stdout",
     "output_type": "stream",
     "text": [
      "Thresh=0.000, n=215, RMSE= 0.0000136543\n"
     ]
    },
    {
     "name": "stderr",
     "output_type": "stream",
     "text": [
      "/Library/Frameworks/Python.framework/Versions/3.5/lib/python3.5/site-packages/ipykernel/__main__.py:23: DataConversionWarning: A column-vector y was passed when a 1d array was expected. Please change the shape of y to (n_samples,), for example using ravel().\n"
     ]
    },
    {
     "name": "stdout",
     "output_type": "stream",
     "text": [
      "Thresh=0.000, n=214, RMSE= 0.0000123555\n"
     ]
    },
    {
     "name": "stderr",
     "output_type": "stream",
     "text": [
      "/Library/Frameworks/Python.framework/Versions/3.5/lib/python3.5/site-packages/ipykernel/__main__.py:23: DataConversionWarning: A column-vector y was passed when a 1d array was expected. Please change the shape of y to (n_samples,), for example using ravel().\n"
     ]
    },
    {
     "name": "stdout",
     "output_type": "stream",
     "text": [
      "Thresh=0.000, n=213, RMSE= 0.0000129536\n"
     ]
    },
    {
     "name": "stderr",
     "output_type": "stream",
     "text": [
      "/Library/Frameworks/Python.framework/Versions/3.5/lib/python3.5/site-packages/ipykernel/__main__.py:23: DataConversionWarning: A column-vector y was passed when a 1d array was expected. Please change the shape of y to (n_samples,), for example using ravel().\n"
     ]
    },
    {
     "name": "stdout",
     "output_type": "stream",
     "text": [
      "Thresh=0.000, n=212, RMSE= 0.0000137392\n"
     ]
    },
    {
     "name": "stderr",
     "output_type": "stream",
     "text": [
      "/Library/Frameworks/Python.framework/Versions/3.5/lib/python3.5/site-packages/ipykernel/__main__.py:23: DataConversionWarning: A column-vector y was passed when a 1d array was expected. Please change the shape of y to (n_samples,), for example using ravel().\n"
     ]
    },
    {
     "name": "stdout",
     "output_type": "stream",
     "text": [
      "Thresh=0.000, n=211, RMSE= 0.0000127277\n"
     ]
    },
    {
     "name": "stderr",
     "output_type": "stream",
     "text": [
      "/Library/Frameworks/Python.framework/Versions/3.5/lib/python3.5/site-packages/ipykernel/__main__.py:23: DataConversionWarning: A column-vector y was passed when a 1d array was expected. Please change the shape of y to (n_samples,), for example using ravel().\n"
     ]
    },
    {
     "name": "stdout",
     "output_type": "stream",
     "text": [
      "Thresh=0.000, n=210, RMSE= 0.0000127940\n"
     ]
    },
    {
     "name": "stderr",
     "output_type": "stream",
     "text": [
      "/Library/Frameworks/Python.framework/Versions/3.5/lib/python3.5/site-packages/ipykernel/__main__.py:23: DataConversionWarning: A column-vector y was passed when a 1d array was expected. Please change the shape of y to (n_samples,), for example using ravel().\n"
     ]
    },
    {
     "name": "stdout",
     "output_type": "stream",
     "text": [
      "Thresh=0.000, n=209, RMSE= 0.0000112957\n"
     ]
    },
    {
     "name": "stderr",
     "output_type": "stream",
     "text": [
      "/Library/Frameworks/Python.framework/Versions/3.5/lib/python3.5/site-packages/ipykernel/__main__.py:23: DataConversionWarning: A column-vector y was passed when a 1d array was expected. Please change the shape of y to (n_samples,), for example using ravel().\n"
     ]
    },
    {
     "name": "stdout",
     "output_type": "stream",
     "text": [
      "Thresh=0.000, n=208, RMSE= 0.0000112920\n"
     ]
    },
    {
     "name": "stderr",
     "output_type": "stream",
     "text": [
      "/Library/Frameworks/Python.framework/Versions/3.5/lib/python3.5/site-packages/ipykernel/__main__.py:23: DataConversionWarning: A column-vector y was passed when a 1d array was expected. Please change the shape of y to (n_samples,), for example using ravel().\n"
     ]
    },
    {
     "name": "stdout",
     "output_type": "stream",
     "text": [
      "Thresh=0.000, n=207, RMSE= 0.0000140119\n"
     ]
    },
    {
     "name": "stderr",
     "output_type": "stream",
     "text": [
      "/Library/Frameworks/Python.framework/Versions/3.5/lib/python3.5/site-packages/ipykernel/__main__.py:23: DataConversionWarning: A column-vector y was passed when a 1d array was expected. Please change the shape of y to (n_samples,), for example using ravel().\n"
     ]
    },
    {
     "name": "stdout",
     "output_type": "stream",
     "text": [
      "Thresh=0.000, n=206, RMSE= 0.0000138285\n"
     ]
    },
    {
     "name": "stderr",
     "output_type": "stream",
     "text": [
      "/Library/Frameworks/Python.framework/Versions/3.5/lib/python3.5/site-packages/ipykernel/__main__.py:23: DataConversionWarning: A column-vector y was passed when a 1d array was expected. Please change the shape of y to (n_samples,), for example using ravel().\n"
     ]
    },
    {
     "name": "stdout",
     "output_type": "stream",
     "text": [
      "Thresh=0.000, n=205, RMSE= 0.0000150602\n"
     ]
    },
    {
     "name": "stderr",
     "output_type": "stream",
     "text": [
      "/Library/Frameworks/Python.framework/Versions/3.5/lib/python3.5/site-packages/ipykernel/__main__.py:23: DataConversionWarning: A column-vector y was passed when a 1d array was expected. Please change the shape of y to (n_samples,), for example using ravel().\n"
     ]
    },
    {
     "name": "stdout",
     "output_type": "stream",
     "text": [
      "Thresh=0.000, n=204, RMSE= 0.0000117837\n"
     ]
    },
    {
     "name": "stderr",
     "output_type": "stream",
     "text": [
      "/Library/Frameworks/Python.framework/Versions/3.5/lib/python3.5/site-packages/ipykernel/__main__.py:23: DataConversionWarning: A column-vector y was passed when a 1d array was expected. Please change the shape of y to (n_samples,), for example using ravel().\n"
     ]
    },
    {
     "name": "stdout",
     "output_type": "stream",
     "text": [
      "Thresh=0.000, n=203, RMSE= 0.0000129104\n"
     ]
    },
    {
     "name": "stderr",
     "output_type": "stream",
     "text": [
      "/Library/Frameworks/Python.framework/Versions/3.5/lib/python3.5/site-packages/ipykernel/__main__.py:23: DataConversionWarning: A column-vector y was passed when a 1d array was expected. Please change the shape of y to (n_samples,), for example using ravel().\n"
     ]
    },
    {
     "name": "stdout",
     "output_type": "stream",
     "text": [
      "Thresh=0.000, n=202, RMSE= 0.0000132032\n"
     ]
    },
    {
     "name": "stderr",
     "output_type": "stream",
     "text": [
      "/Library/Frameworks/Python.framework/Versions/3.5/lib/python3.5/site-packages/ipykernel/__main__.py:23: DataConversionWarning: A column-vector y was passed when a 1d array was expected. Please change the shape of y to (n_samples,), for example using ravel().\n"
     ]
    },
    {
     "name": "stdout",
     "output_type": "stream",
     "text": [
      "Thresh=0.000, n=201, RMSE= 0.0000131865\n"
     ]
    },
    {
     "name": "stderr",
     "output_type": "stream",
     "text": [
      "/Library/Frameworks/Python.framework/Versions/3.5/lib/python3.5/site-packages/ipykernel/__main__.py:23: DataConversionWarning: A column-vector y was passed when a 1d array was expected. Please change the shape of y to (n_samples,), for example using ravel().\n"
     ]
    },
    {
     "name": "stdout",
     "output_type": "stream",
     "text": [
      "Thresh=0.000, n=200, RMSE= 0.0000132502\n"
     ]
    },
    {
     "name": "stderr",
     "output_type": "stream",
     "text": [
      "/Library/Frameworks/Python.framework/Versions/3.5/lib/python3.5/site-packages/ipykernel/__main__.py:23: DataConversionWarning: A column-vector y was passed when a 1d array was expected. Please change the shape of y to (n_samples,), for example using ravel().\n"
     ]
    },
    {
     "name": "stdout",
     "output_type": "stream",
     "text": [
      "Thresh=0.000, n=199, RMSE= 0.0000124772\n"
     ]
    },
    {
     "name": "stderr",
     "output_type": "stream",
     "text": [
      "/Library/Frameworks/Python.framework/Versions/3.5/lib/python3.5/site-packages/ipykernel/__main__.py:23: DataConversionWarning: A column-vector y was passed when a 1d array was expected. Please change the shape of y to (n_samples,), for example using ravel().\n"
     ]
    },
    {
     "name": "stdout",
     "output_type": "stream",
     "text": [
      "Thresh=0.000, n=198, RMSE= 0.0000138646\n"
     ]
    },
    {
     "name": "stderr",
     "output_type": "stream",
     "text": [
      "/Library/Frameworks/Python.framework/Versions/3.5/lib/python3.5/site-packages/ipykernel/__main__.py:23: DataConversionWarning: A column-vector y was passed when a 1d array was expected. Please change the shape of y to (n_samples,), for example using ravel().\n"
     ]
    },
    {
     "name": "stdout",
     "output_type": "stream",
     "text": [
      "Thresh=0.000, n=197, RMSE= 0.0000130781\n"
     ]
    },
    {
     "name": "stderr",
     "output_type": "stream",
     "text": [
      "/Library/Frameworks/Python.framework/Versions/3.5/lib/python3.5/site-packages/ipykernel/__main__.py:23: DataConversionWarning: A column-vector y was passed when a 1d array was expected. Please change the shape of y to (n_samples,), for example using ravel().\n"
     ]
    },
    {
     "name": "stdout",
     "output_type": "stream",
     "text": [
      "Thresh=0.000, n=196, RMSE= 0.0000148985\n"
     ]
    },
    {
     "name": "stderr",
     "output_type": "stream",
     "text": [
      "/Library/Frameworks/Python.framework/Versions/3.5/lib/python3.5/site-packages/ipykernel/__main__.py:23: DataConversionWarning: A column-vector y was passed when a 1d array was expected. Please change the shape of y to (n_samples,), for example using ravel().\n"
     ]
    },
    {
     "name": "stdout",
     "output_type": "stream",
     "text": [
      "Thresh=0.000, n=195, RMSE= 0.0000123135\n"
     ]
    },
    {
     "name": "stderr",
     "output_type": "stream",
     "text": [
      "/Library/Frameworks/Python.framework/Versions/3.5/lib/python3.5/site-packages/ipykernel/__main__.py:23: DataConversionWarning: A column-vector y was passed when a 1d array was expected. Please change the shape of y to (n_samples,), for example using ravel().\n"
     ]
    },
    {
     "name": "stdout",
     "output_type": "stream",
     "text": [
      "Thresh=0.000, n=194, RMSE= 0.0000110501\n"
     ]
    },
    {
     "name": "stderr",
     "output_type": "stream",
     "text": [
      "/Library/Frameworks/Python.framework/Versions/3.5/lib/python3.5/site-packages/ipykernel/__main__.py:23: DataConversionWarning: A column-vector y was passed when a 1d array was expected. Please change the shape of y to (n_samples,), for example using ravel().\n"
     ]
    },
    {
     "name": "stdout",
     "output_type": "stream",
     "text": [
      "Thresh=0.000, n=193, RMSE= 0.0000122141\n"
     ]
    },
    {
     "name": "stderr",
     "output_type": "stream",
     "text": [
      "/Library/Frameworks/Python.framework/Versions/3.5/lib/python3.5/site-packages/ipykernel/__main__.py:23: DataConversionWarning: A column-vector y was passed when a 1d array was expected. Please change the shape of y to (n_samples,), for example using ravel().\n"
     ]
    },
    {
     "name": "stdout",
     "output_type": "stream",
     "text": [
      "Thresh=0.000, n=192, RMSE= 0.0000136783\n"
     ]
    },
    {
     "name": "stderr",
     "output_type": "stream",
     "text": [
      "/Library/Frameworks/Python.framework/Versions/3.5/lib/python3.5/site-packages/ipykernel/__main__.py:23: DataConversionWarning: A column-vector y was passed when a 1d array was expected. Please change the shape of y to (n_samples,), for example using ravel().\n"
     ]
    },
    {
     "name": "stdout",
     "output_type": "stream",
     "text": [
      "Thresh=0.000, n=191, RMSE= 0.0000119762\n"
     ]
    },
    {
     "name": "stderr",
     "output_type": "stream",
     "text": [
      "/Library/Frameworks/Python.framework/Versions/3.5/lib/python3.5/site-packages/ipykernel/__main__.py:23: DataConversionWarning: A column-vector y was passed when a 1d array was expected. Please change the shape of y to (n_samples,), for example using ravel().\n"
     ]
    },
    {
     "name": "stdout",
     "output_type": "stream",
     "text": [
      "Thresh=0.000, n=190, RMSE= 0.0000149855\n"
     ]
    },
    {
     "name": "stderr",
     "output_type": "stream",
     "text": [
      "/Library/Frameworks/Python.framework/Versions/3.5/lib/python3.5/site-packages/ipykernel/__main__.py:23: DataConversionWarning: A column-vector y was passed when a 1d array was expected. Please change the shape of y to (n_samples,), for example using ravel().\n"
     ]
    },
    {
     "name": "stdout",
     "output_type": "stream",
     "text": [
      "Thresh=0.000, n=189, RMSE= 0.0000122070\n"
     ]
    },
    {
     "name": "stderr",
     "output_type": "stream",
     "text": [
      "/Library/Frameworks/Python.framework/Versions/3.5/lib/python3.5/site-packages/ipykernel/__main__.py:23: DataConversionWarning: A column-vector y was passed when a 1d array was expected. Please change the shape of y to (n_samples,), for example using ravel().\n"
     ]
    },
    {
     "name": "stdout",
     "output_type": "stream",
     "text": [
      "Thresh=0.000, n=188, RMSE= 0.0000118922\n"
     ]
    },
    {
     "name": "stderr",
     "output_type": "stream",
     "text": [
      "/Library/Frameworks/Python.framework/Versions/3.5/lib/python3.5/site-packages/ipykernel/__main__.py:23: DataConversionWarning: A column-vector y was passed when a 1d array was expected. Please change the shape of y to (n_samples,), for example using ravel().\n"
     ]
    },
    {
     "name": "stdout",
     "output_type": "stream",
     "text": [
      "Thresh=0.000, n=187, RMSE= 0.0000137595\n"
     ]
    },
    {
     "name": "stderr",
     "output_type": "stream",
     "text": [
      "/Library/Frameworks/Python.framework/Versions/3.5/lib/python3.5/site-packages/ipykernel/__main__.py:23: DataConversionWarning: A column-vector y was passed when a 1d array was expected. Please change the shape of y to (n_samples,), for example using ravel().\n"
     ]
    },
    {
     "name": "stdout",
     "output_type": "stream",
     "text": [
      "Thresh=0.000, n=186, RMSE= 0.0000142543\n"
     ]
    },
    {
     "name": "stderr",
     "output_type": "stream",
     "text": [
      "/Library/Frameworks/Python.framework/Versions/3.5/lib/python3.5/site-packages/ipykernel/__main__.py:23: DataConversionWarning: A column-vector y was passed when a 1d array was expected. Please change the shape of y to (n_samples,), for example using ravel().\n"
     ]
    },
    {
     "name": "stdout",
     "output_type": "stream",
     "text": [
      "Thresh=0.000, n=185, RMSE= 0.0000133174\n"
     ]
    },
    {
     "name": "stderr",
     "output_type": "stream",
     "text": [
      "/Library/Frameworks/Python.framework/Versions/3.5/lib/python3.5/site-packages/ipykernel/__main__.py:23: DataConversionWarning: A column-vector y was passed when a 1d array was expected. Please change the shape of y to (n_samples,), for example using ravel().\n"
     ]
    },
    {
     "name": "stdout",
     "output_type": "stream",
     "text": [
      "Thresh=0.000, n=184, RMSE= 0.0000147067\n"
     ]
    },
    {
     "name": "stderr",
     "output_type": "stream",
     "text": [
      "/Library/Frameworks/Python.framework/Versions/3.5/lib/python3.5/site-packages/ipykernel/__main__.py:23: DataConversionWarning: A column-vector y was passed when a 1d array was expected. Please change the shape of y to (n_samples,), for example using ravel().\n"
     ]
    },
    {
     "name": "stdout",
     "output_type": "stream",
     "text": [
      "Thresh=0.000, n=183, RMSE= 0.0000108684\n"
     ]
    },
    {
     "name": "stderr",
     "output_type": "stream",
     "text": [
      "/Library/Frameworks/Python.framework/Versions/3.5/lib/python3.5/site-packages/ipykernel/__main__.py:23: DataConversionWarning: A column-vector y was passed when a 1d array was expected. Please change the shape of y to (n_samples,), for example using ravel().\n"
     ]
    },
    {
     "name": "stdout",
     "output_type": "stream",
     "text": [
      "Thresh=0.000, n=182, RMSE= 0.0000124897\n"
     ]
    },
    {
     "name": "stderr",
     "output_type": "stream",
     "text": [
      "/Library/Frameworks/Python.framework/Versions/3.5/lib/python3.5/site-packages/ipykernel/__main__.py:23: DataConversionWarning: A column-vector y was passed when a 1d array was expected. Please change the shape of y to (n_samples,), for example using ravel().\n"
     ]
    },
    {
     "name": "stdout",
     "output_type": "stream",
     "text": [
      "Thresh=0.000, n=181, RMSE= 0.0000135540\n"
     ]
    },
    {
     "name": "stderr",
     "output_type": "stream",
     "text": [
      "/Library/Frameworks/Python.framework/Versions/3.5/lib/python3.5/site-packages/ipykernel/__main__.py:23: DataConversionWarning: A column-vector y was passed when a 1d array was expected. Please change the shape of y to (n_samples,), for example using ravel().\n"
     ]
    },
    {
     "name": "stdout",
     "output_type": "stream",
     "text": [
      "Thresh=0.000, n=180, RMSE= 0.0000124451\n"
     ]
    },
    {
     "name": "stderr",
     "output_type": "stream",
     "text": [
      "/Library/Frameworks/Python.framework/Versions/3.5/lib/python3.5/site-packages/ipykernel/__main__.py:23: DataConversionWarning: A column-vector y was passed when a 1d array was expected. Please change the shape of y to (n_samples,), for example using ravel().\n"
     ]
    },
    {
     "name": "stdout",
     "output_type": "stream",
     "text": [
      "Thresh=0.000, n=179, RMSE= 0.0000132411\n"
     ]
    },
    {
     "name": "stderr",
     "output_type": "stream",
     "text": [
      "/Library/Frameworks/Python.framework/Versions/3.5/lib/python3.5/site-packages/ipykernel/__main__.py:23: DataConversionWarning: A column-vector y was passed when a 1d array was expected. Please change the shape of y to (n_samples,), for example using ravel().\n"
     ]
    },
    {
     "name": "stdout",
     "output_type": "stream",
     "text": [
      "Thresh=0.000, n=178, RMSE= 0.0000119755\n"
     ]
    },
    {
     "name": "stderr",
     "output_type": "stream",
     "text": [
      "/Library/Frameworks/Python.framework/Versions/3.5/lib/python3.5/site-packages/ipykernel/__main__.py:23: DataConversionWarning: A column-vector y was passed when a 1d array was expected. Please change the shape of y to (n_samples,), for example using ravel().\n"
     ]
    },
    {
     "name": "stdout",
     "output_type": "stream",
     "text": [
      "Thresh=0.000, n=177, RMSE= 0.0000113319\n"
     ]
    },
    {
     "name": "stderr",
     "output_type": "stream",
     "text": [
      "/Library/Frameworks/Python.framework/Versions/3.5/lib/python3.5/site-packages/ipykernel/__main__.py:23: DataConversionWarning: A column-vector y was passed when a 1d array was expected. Please change the shape of y to (n_samples,), for example using ravel().\n"
     ]
    },
    {
     "name": "stdout",
     "output_type": "stream",
     "text": [
      "Thresh=0.000, n=176, RMSE= 0.0000131287\n"
     ]
    },
    {
     "name": "stderr",
     "output_type": "stream",
     "text": [
      "/Library/Frameworks/Python.framework/Versions/3.5/lib/python3.5/site-packages/ipykernel/__main__.py:23: DataConversionWarning: A column-vector y was passed when a 1d array was expected. Please change the shape of y to (n_samples,), for example using ravel().\n"
     ]
    },
    {
     "name": "stdout",
     "output_type": "stream",
     "text": [
      "Thresh=0.000, n=175, RMSE= 0.0000113947\n"
     ]
    },
    {
     "name": "stderr",
     "output_type": "stream",
     "text": [
      "/Library/Frameworks/Python.framework/Versions/3.5/lib/python3.5/site-packages/ipykernel/__main__.py:23: DataConversionWarning: A column-vector y was passed when a 1d array was expected. Please change the shape of y to (n_samples,), for example using ravel().\n"
     ]
    },
    {
     "name": "stdout",
     "output_type": "stream",
     "text": [
      "Thresh=0.000, n=174, RMSE= 0.0000110542\n"
     ]
    },
    {
     "name": "stderr",
     "output_type": "stream",
     "text": [
      "/Library/Frameworks/Python.framework/Versions/3.5/lib/python3.5/site-packages/ipykernel/__main__.py:23: DataConversionWarning: A column-vector y was passed when a 1d array was expected. Please change the shape of y to (n_samples,), for example using ravel().\n"
     ]
    },
    {
     "name": "stdout",
     "output_type": "stream",
     "text": [
      "Thresh=0.000, n=173, RMSE= 0.0000142076\n"
     ]
    },
    {
     "name": "stderr",
     "output_type": "stream",
     "text": [
      "/Library/Frameworks/Python.framework/Versions/3.5/lib/python3.5/site-packages/ipykernel/__main__.py:23: DataConversionWarning: A column-vector y was passed when a 1d array was expected. Please change the shape of y to (n_samples,), for example using ravel().\n"
     ]
    },
    {
     "name": "stdout",
     "output_type": "stream",
     "text": [
      "Thresh=0.000, n=172, RMSE= 0.0000109808\n"
     ]
    },
    {
     "name": "stderr",
     "output_type": "stream",
     "text": [
      "/Library/Frameworks/Python.framework/Versions/3.5/lib/python3.5/site-packages/ipykernel/__main__.py:23: DataConversionWarning: A column-vector y was passed when a 1d array was expected. Please change the shape of y to (n_samples,), for example using ravel().\n"
     ]
    },
    {
     "name": "stdout",
     "output_type": "stream",
     "text": [
      "Thresh=0.000, n=171, RMSE= 0.0000118475\n"
     ]
    },
    {
     "name": "stderr",
     "output_type": "stream",
     "text": [
      "/Library/Frameworks/Python.framework/Versions/3.5/lib/python3.5/site-packages/ipykernel/__main__.py:23: DataConversionWarning: A column-vector y was passed when a 1d array was expected. Please change the shape of y to (n_samples,), for example using ravel().\n"
     ]
    },
    {
     "name": "stdout",
     "output_type": "stream",
     "text": [
      "Thresh=0.000, n=170, RMSE= 0.0000119120\n"
     ]
    },
    {
     "name": "stderr",
     "output_type": "stream",
     "text": [
      "/Library/Frameworks/Python.framework/Versions/3.5/lib/python3.5/site-packages/ipykernel/__main__.py:23: DataConversionWarning: A column-vector y was passed when a 1d array was expected. Please change the shape of y to (n_samples,), for example using ravel().\n"
     ]
    },
    {
     "name": "stdout",
     "output_type": "stream",
     "text": [
      "Thresh=0.000, n=169, RMSE= 0.0000131870\n"
     ]
    },
    {
     "name": "stderr",
     "output_type": "stream",
     "text": [
      "/Library/Frameworks/Python.framework/Versions/3.5/lib/python3.5/site-packages/ipykernel/__main__.py:23: DataConversionWarning: A column-vector y was passed when a 1d array was expected. Please change the shape of y to (n_samples,), for example using ravel().\n"
     ]
    },
    {
     "name": "stdout",
     "output_type": "stream",
     "text": [
      "Thresh=0.000, n=168, RMSE= 0.0000144795\n"
     ]
    },
    {
     "name": "stderr",
     "output_type": "stream",
     "text": [
      "/Library/Frameworks/Python.framework/Versions/3.5/lib/python3.5/site-packages/ipykernel/__main__.py:23: DataConversionWarning: A column-vector y was passed when a 1d array was expected. Please change the shape of y to (n_samples,), for example using ravel().\n"
     ]
    },
    {
     "name": "stdout",
     "output_type": "stream",
     "text": [
      "Thresh=0.000, n=167, RMSE= 0.0000135660\n"
     ]
    },
    {
     "name": "stderr",
     "output_type": "stream",
     "text": [
      "/Library/Frameworks/Python.framework/Versions/3.5/lib/python3.5/site-packages/ipykernel/__main__.py:23: DataConversionWarning: A column-vector y was passed when a 1d array was expected. Please change the shape of y to (n_samples,), for example using ravel().\n"
     ]
    },
    {
     "name": "stdout",
     "output_type": "stream",
     "text": [
      "Thresh=0.000, n=166, RMSE= 0.0000101678\n"
     ]
    },
    {
     "name": "stderr",
     "output_type": "stream",
     "text": [
      "/Library/Frameworks/Python.framework/Versions/3.5/lib/python3.5/site-packages/ipykernel/__main__.py:23: DataConversionWarning: A column-vector y was passed when a 1d array was expected. Please change the shape of y to (n_samples,), for example using ravel().\n"
     ]
    },
    {
     "name": "stdout",
     "output_type": "stream",
     "text": [
      "Thresh=0.000, n=165, RMSE= 0.0000126447\n"
     ]
    },
    {
     "name": "stderr",
     "output_type": "stream",
     "text": [
      "/Library/Frameworks/Python.framework/Versions/3.5/lib/python3.5/site-packages/ipykernel/__main__.py:23: DataConversionWarning: A column-vector y was passed when a 1d array was expected. Please change the shape of y to (n_samples,), for example using ravel().\n"
     ]
    },
    {
     "name": "stdout",
     "output_type": "stream",
     "text": [
      "Thresh=0.000, n=164, RMSE= 0.0000091344\n"
     ]
    },
    {
     "name": "stderr",
     "output_type": "stream",
     "text": [
      "/Library/Frameworks/Python.framework/Versions/3.5/lib/python3.5/site-packages/ipykernel/__main__.py:23: DataConversionWarning: A column-vector y was passed when a 1d array was expected. Please change the shape of y to (n_samples,), for example using ravel().\n"
     ]
    },
    {
     "name": "stdout",
     "output_type": "stream",
     "text": [
      "Thresh=0.000, n=163, RMSE= 0.0000118143\n"
     ]
    },
    {
     "name": "stderr",
     "output_type": "stream",
     "text": [
      "/Library/Frameworks/Python.framework/Versions/3.5/lib/python3.5/site-packages/ipykernel/__main__.py:23: DataConversionWarning: A column-vector y was passed when a 1d array was expected. Please change the shape of y to (n_samples,), for example using ravel().\n"
     ]
    },
    {
     "name": "stdout",
     "output_type": "stream",
     "text": [
      "Thresh=0.000, n=162, RMSE= 0.0000143643\n"
     ]
    },
    {
     "name": "stderr",
     "output_type": "stream",
     "text": [
      "/Library/Frameworks/Python.framework/Versions/3.5/lib/python3.5/site-packages/ipykernel/__main__.py:23: DataConversionWarning: A column-vector y was passed when a 1d array was expected. Please change the shape of y to (n_samples,), for example using ravel().\n"
     ]
    },
    {
     "name": "stdout",
     "output_type": "stream",
     "text": [
      "Thresh=0.000, n=161, RMSE= 0.0000148913\n"
     ]
    },
    {
     "name": "stderr",
     "output_type": "stream",
     "text": [
      "/Library/Frameworks/Python.framework/Versions/3.5/lib/python3.5/site-packages/ipykernel/__main__.py:23: DataConversionWarning: A column-vector y was passed when a 1d array was expected. Please change the shape of y to (n_samples,), for example using ravel().\n"
     ]
    },
    {
     "name": "stdout",
     "output_type": "stream",
     "text": [
      "Thresh=0.000, n=160, RMSE= 0.0000142714\n"
     ]
    },
    {
     "name": "stderr",
     "output_type": "stream",
     "text": [
      "/Library/Frameworks/Python.framework/Versions/3.5/lib/python3.5/site-packages/ipykernel/__main__.py:23: DataConversionWarning: A column-vector y was passed when a 1d array was expected. Please change the shape of y to (n_samples,), for example using ravel().\n"
     ]
    },
    {
     "name": "stdout",
     "output_type": "stream",
     "text": [
      "Thresh=0.000, n=159, RMSE= 0.0000133071\n"
     ]
    },
    {
     "name": "stderr",
     "output_type": "stream",
     "text": [
      "/Library/Frameworks/Python.framework/Versions/3.5/lib/python3.5/site-packages/ipykernel/__main__.py:23: DataConversionWarning: A column-vector y was passed when a 1d array was expected. Please change the shape of y to (n_samples,), for example using ravel().\n"
     ]
    },
    {
     "name": "stdout",
     "output_type": "stream",
     "text": [
      "Thresh=0.000, n=158, RMSE= 0.0000130325\n"
     ]
    },
    {
     "name": "stderr",
     "output_type": "stream",
     "text": [
      "/Library/Frameworks/Python.framework/Versions/3.5/lib/python3.5/site-packages/ipykernel/__main__.py:23: DataConversionWarning: A column-vector y was passed when a 1d array was expected. Please change the shape of y to (n_samples,), for example using ravel().\n"
     ]
    },
    {
     "name": "stdout",
     "output_type": "stream",
     "text": [
      "Thresh=0.000, n=157, RMSE= 0.0000142697\n"
     ]
    },
    {
     "name": "stderr",
     "output_type": "stream",
     "text": [
      "/Library/Frameworks/Python.framework/Versions/3.5/lib/python3.5/site-packages/ipykernel/__main__.py:23: DataConversionWarning: A column-vector y was passed when a 1d array was expected. Please change the shape of y to (n_samples,), for example using ravel().\n"
     ]
    },
    {
     "name": "stdout",
     "output_type": "stream",
     "text": [
      "Thresh=0.000, n=156, RMSE= 0.0000117899\n"
     ]
    },
    {
     "name": "stderr",
     "output_type": "stream",
     "text": [
      "/Library/Frameworks/Python.framework/Versions/3.5/lib/python3.5/site-packages/ipykernel/__main__.py:23: DataConversionWarning: A column-vector y was passed when a 1d array was expected. Please change the shape of y to (n_samples,), for example using ravel().\n"
     ]
    },
    {
     "name": "stdout",
     "output_type": "stream",
     "text": [
      "Thresh=0.000, n=155, RMSE= 0.0000123469\n"
     ]
    },
    {
     "name": "stderr",
     "output_type": "stream",
     "text": [
      "/Library/Frameworks/Python.framework/Versions/3.5/lib/python3.5/site-packages/ipykernel/__main__.py:23: DataConversionWarning: A column-vector y was passed when a 1d array was expected. Please change the shape of y to (n_samples,), for example using ravel().\n"
     ]
    },
    {
     "name": "stdout",
     "output_type": "stream",
     "text": [
      "Thresh=0.000, n=154, RMSE= 0.0000112207\n"
     ]
    },
    {
     "name": "stderr",
     "output_type": "stream",
     "text": [
      "/Library/Frameworks/Python.framework/Versions/3.5/lib/python3.5/site-packages/ipykernel/__main__.py:23: DataConversionWarning: A column-vector y was passed when a 1d array was expected. Please change the shape of y to (n_samples,), for example using ravel().\n"
     ]
    },
    {
     "name": "stdout",
     "output_type": "stream",
     "text": [
      "Thresh=0.000, n=153, RMSE= 0.0000136723\n"
     ]
    },
    {
     "name": "stderr",
     "output_type": "stream",
     "text": [
      "/Library/Frameworks/Python.framework/Versions/3.5/lib/python3.5/site-packages/ipykernel/__main__.py:23: DataConversionWarning: A column-vector y was passed when a 1d array was expected. Please change the shape of y to (n_samples,), for example using ravel().\n"
     ]
    },
    {
     "name": "stdout",
     "output_type": "stream",
     "text": [
      "Thresh=0.000, n=152, RMSE= 0.0000112076\n"
     ]
    },
    {
     "name": "stderr",
     "output_type": "stream",
     "text": [
      "/Library/Frameworks/Python.framework/Versions/3.5/lib/python3.5/site-packages/ipykernel/__main__.py:23: DataConversionWarning: A column-vector y was passed when a 1d array was expected. Please change the shape of y to (n_samples,), for example using ravel().\n"
     ]
    },
    {
     "name": "stdout",
     "output_type": "stream",
     "text": [
      "Thresh=0.000, n=151, RMSE= 0.0000126209\n"
     ]
    },
    {
     "name": "stderr",
     "output_type": "stream",
     "text": [
      "/Library/Frameworks/Python.framework/Versions/3.5/lib/python3.5/site-packages/ipykernel/__main__.py:23: DataConversionWarning: A column-vector y was passed when a 1d array was expected. Please change the shape of y to (n_samples,), for example using ravel().\n"
     ]
    },
    {
     "name": "stdout",
     "output_type": "stream",
     "text": [
      "Thresh=0.000, n=150, RMSE= 0.0000110111\n"
     ]
    },
    {
     "name": "stderr",
     "output_type": "stream",
     "text": [
      "/Library/Frameworks/Python.framework/Versions/3.5/lib/python3.5/site-packages/ipykernel/__main__.py:23: DataConversionWarning: A column-vector y was passed when a 1d array was expected. Please change the shape of y to (n_samples,), for example using ravel().\n"
     ]
    },
    {
     "name": "stdout",
     "output_type": "stream",
     "text": [
      "Thresh=0.000, n=149, RMSE= 0.0000112314\n"
     ]
    },
    {
     "name": "stderr",
     "output_type": "stream",
     "text": [
      "/Library/Frameworks/Python.framework/Versions/3.5/lib/python3.5/site-packages/ipykernel/__main__.py:23: DataConversionWarning: A column-vector y was passed when a 1d array was expected. Please change the shape of y to (n_samples,), for example using ravel().\n"
     ]
    },
    {
     "name": "stdout",
     "output_type": "stream",
     "text": [
      "Thresh=0.000, n=148, RMSE= 0.0000147763\n"
     ]
    },
    {
     "name": "stderr",
     "output_type": "stream",
     "text": [
      "/Library/Frameworks/Python.framework/Versions/3.5/lib/python3.5/site-packages/ipykernel/__main__.py:23: DataConversionWarning: A column-vector y was passed when a 1d array was expected. Please change the shape of y to (n_samples,), for example using ravel().\n"
     ]
    },
    {
     "name": "stdout",
     "output_type": "stream",
     "text": [
      "Thresh=0.000, n=147, RMSE= 0.0000130230\n"
     ]
    },
    {
     "name": "stderr",
     "output_type": "stream",
     "text": [
      "/Library/Frameworks/Python.framework/Versions/3.5/lib/python3.5/site-packages/ipykernel/__main__.py:23: DataConversionWarning: A column-vector y was passed when a 1d array was expected. Please change the shape of y to (n_samples,), for example using ravel().\n"
     ]
    },
    {
     "name": "stdout",
     "output_type": "stream",
     "text": [
      "Thresh=0.000, n=146, RMSE= 0.0000120386\n"
     ]
    },
    {
     "name": "stderr",
     "output_type": "stream",
     "text": [
      "/Library/Frameworks/Python.framework/Versions/3.5/lib/python3.5/site-packages/ipykernel/__main__.py:23: DataConversionWarning: A column-vector y was passed when a 1d array was expected. Please change the shape of y to (n_samples,), for example using ravel().\n"
     ]
    },
    {
     "name": "stdout",
     "output_type": "stream",
     "text": [
      "Thresh=0.000, n=145, RMSE= 0.0000125193\n"
     ]
    },
    {
     "name": "stderr",
     "output_type": "stream",
     "text": [
      "/Library/Frameworks/Python.framework/Versions/3.5/lib/python3.5/site-packages/ipykernel/__main__.py:23: DataConversionWarning: A column-vector y was passed when a 1d array was expected. Please change the shape of y to (n_samples,), for example using ravel().\n"
     ]
    },
    {
     "name": "stdout",
     "output_type": "stream",
     "text": [
      "Thresh=0.000, n=144, RMSE= 0.0000124695\n"
     ]
    },
    {
     "name": "stderr",
     "output_type": "stream",
     "text": [
      "/Library/Frameworks/Python.framework/Versions/3.5/lib/python3.5/site-packages/ipykernel/__main__.py:23: DataConversionWarning: A column-vector y was passed when a 1d array was expected. Please change the shape of y to (n_samples,), for example using ravel().\n"
     ]
    },
    {
     "name": "stdout",
     "output_type": "stream",
     "text": [
      "Thresh=0.000, n=143, RMSE= 0.0000118842\n"
     ]
    },
    {
     "name": "stderr",
     "output_type": "stream",
     "text": [
      "/Library/Frameworks/Python.framework/Versions/3.5/lib/python3.5/site-packages/ipykernel/__main__.py:23: DataConversionWarning: A column-vector y was passed when a 1d array was expected. Please change the shape of y to (n_samples,), for example using ravel().\n"
     ]
    },
    {
     "name": "stdout",
     "output_type": "stream",
     "text": [
      "Thresh=0.000, n=142, RMSE= 0.0000141170\n"
     ]
    },
    {
     "name": "stderr",
     "output_type": "stream",
     "text": [
      "/Library/Frameworks/Python.framework/Versions/3.5/lib/python3.5/site-packages/ipykernel/__main__.py:23: DataConversionWarning: A column-vector y was passed when a 1d array was expected. Please change the shape of y to (n_samples,), for example using ravel().\n"
     ]
    },
    {
     "name": "stdout",
     "output_type": "stream",
     "text": [
      "Thresh=0.000, n=141, RMSE= 0.0000089274\n"
     ]
    },
    {
     "name": "stderr",
     "output_type": "stream",
     "text": [
      "/Library/Frameworks/Python.framework/Versions/3.5/lib/python3.5/site-packages/ipykernel/__main__.py:23: DataConversionWarning: A column-vector y was passed when a 1d array was expected. Please change the shape of y to (n_samples,), for example using ravel().\n"
     ]
    },
    {
     "name": "stdout",
     "output_type": "stream",
     "text": [
      "Thresh=0.000, n=140, RMSE= 0.0000125574\n"
     ]
    },
    {
     "name": "stderr",
     "output_type": "stream",
     "text": [
      "/Library/Frameworks/Python.framework/Versions/3.5/lib/python3.5/site-packages/ipykernel/__main__.py:23: DataConversionWarning: A column-vector y was passed when a 1d array was expected. Please change the shape of y to (n_samples,), for example using ravel().\n"
     ]
    },
    {
     "name": "stdout",
     "output_type": "stream",
     "text": [
      "Thresh=0.000, n=139, RMSE= 0.0000134020\n"
     ]
    },
    {
     "name": "stderr",
     "output_type": "stream",
     "text": [
      "/Library/Frameworks/Python.framework/Versions/3.5/lib/python3.5/site-packages/ipykernel/__main__.py:23: DataConversionWarning: A column-vector y was passed when a 1d array was expected. Please change the shape of y to (n_samples,), for example using ravel().\n"
     ]
    },
    {
     "name": "stdout",
     "output_type": "stream",
     "text": [
      "Thresh=0.001, n=138, RMSE= 0.0000133440\n"
     ]
    },
    {
     "name": "stderr",
     "output_type": "stream",
     "text": [
      "/Library/Frameworks/Python.framework/Versions/3.5/lib/python3.5/site-packages/ipykernel/__main__.py:23: DataConversionWarning: A column-vector y was passed when a 1d array was expected. Please change the shape of y to (n_samples,), for example using ravel().\n"
     ]
    },
    {
     "name": "stdout",
     "output_type": "stream",
     "text": [
      "Thresh=0.001, n=137, RMSE= 0.0000113124\n"
     ]
    },
    {
     "name": "stderr",
     "output_type": "stream",
     "text": [
      "/Library/Frameworks/Python.framework/Versions/3.5/lib/python3.5/site-packages/ipykernel/__main__.py:23: DataConversionWarning: A column-vector y was passed when a 1d array was expected. Please change the shape of y to (n_samples,), for example using ravel().\n"
     ]
    },
    {
     "name": "stdout",
     "output_type": "stream",
     "text": [
      "Thresh=0.001, n=136, RMSE= 0.0000116355\n"
     ]
    },
    {
     "name": "stderr",
     "output_type": "stream",
     "text": [
      "/Library/Frameworks/Python.framework/Versions/3.5/lib/python3.5/site-packages/ipykernel/__main__.py:23: DataConversionWarning: A column-vector y was passed when a 1d array was expected. Please change the shape of y to (n_samples,), for example using ravel().\n"
     ]
    },
    {
     "name": "stdout",
     "output_type": "stream",
     "text": [
      "Thresh=0.001, n=135, RMSE= 0.0000134400\n"
     ]
    },
    {
     "name": "stderr",
     "output_type": "stream",
     "text": [
      "/Library/Frameworks/Python.framework/Versions/3.5/lib/python3.5/site-packages/ipykernel/__main__.py:23: DataConversionWarning: A column-vector y was passed when a 1d array was expected. Please change the shape of y to (n_samples,), for example using ravel().\n"
     ]
    },
    {
     "name": "stdout",
     "output_type": "stream",
     "text": [
      "Thresh=0.001, n=134, RMSE= 0.0000124366\n"
     ]
    },
    {
     "name": "stderr",
     "output_type": "stream",
     "text": [
      "/Library/Frameworks/Python.framework/Versions/3.5/lib/python3.5/site-packages/ipykernel/__main__.py:23: DataConversionWarning: A column-vector y was passed when a 1d array was expected. Please change the shape of y to (n_samples,), for example using ravel().\n"
     ]
    },
    {
     "name": "stdout",
     "output_type": "stream",
     "text": [
      "Thresh=0.001, n=133, RMSE= 0.0000131328\n"
     ]
    },
    {
     "name": "stderr",
     "output_type": "stream",
     "text": [
      "/Library/Frameworks/Python.framework/Versions/3.5/lib/python3.5/site-packages/ipykernel/__main__.py:23: DataConversionWarning: A column-vector y was passed when a 1d array was expected. Please change the shape of y to (n_samples,), for example using ravel().\n"
     ]
    },
    {
     "name": "stdout",
     "output_type": "stream",
     "text": [
      "Thresh=0.001, n=132, RMSE= 0.0000114143\n"
     ]
    },
    {
     "name": "stderr",
     "output_type": "stream",
     "text": [
      "/Library/Frameworks/Python.framework/Versions/3.5/lib/python3.5/site-packages/ipykernel/__main__.py:23: DataConversionWarning: A column-vector y was passed when a 1d array was expected. Please change the shape of y to (n_samples,), for example using ravel().\n"
     ]
    },
    {
     "name": "stdout",
     "output_type": "stream",
     "text": [
      "Thresh=0.001, n=131, RMSE= 0.0000122905\n"
     ]
    },
    {
     "name": "stderr",
     "output_type": "stream",
     "text": [
      "/Library/Frameworks/Python.framework/Versions/3.5/lib/python3.5/site-packages/ipykernel/__main__.py:23: DataConversionWarning: A column-vector y was passed when a 1d array was expected. Please change the shape of y to (n_samples,), for example using ravel().\n"
     ]
    },
    {
     "name": "stdout",
     "output_type": "stream",
     "text": [
      "Thresh=0.001, n=130, RMSE= 0.0000132570\n"
     ]
    },
    {
     "name": "stderr",
     "output_type": "stream",
     "text": [
      "/Library/Frameworks/Python.framework/Versions/3.5/lib/python3.5/site-packages/ipykernel/__main__.py:23: DataConversionWarning: A column-vector y was passed when a 1d array was expected. Please change the shape of y to (n_samples,), for example using ravel().\n"
     ]
    },
    {
     "name": "stdout",
     "output_type": "stream",
     "text": [
      "Thresh=0.001, n=129, RMSE= 0.0000117388\n"
     ]
    },
    {
     "name": "stderr",
     "output_type": "stream",
     "text": [
      "/Library/Frameworks/Python.framework/Versions/3.5/lib/python3.5/site-packages/ipykernel/__main__.py:23: DataConversionWarning: A column-vector y was passed when a 1d array was expected. Please change the shape of y to (n_samples,), for example using ravel().\n"
     ]
    },
    {
     "name": "stdout",
     "output_type": "stream",
     "text": [
      "Thresh=0.001, n=128, RMSE= 0.0000122487\n"
     ]
    },
    {
     "name": "stderr",
     "output_type": "stream",
     "text": [
      "/Library/Frameworks/Python.framework/Versions/3.5/lib/python3.5/site-packages/ipykernel/__main__.py:23: DataConversionWarning: A column-vector y was passed when a 1d array was expected. Please change the shape of y to (n_samples,), for example using ravel().\n"
     ]
    },
    {
     "name": "stdout",
     "output_type": "stream",
     "text": [
      "Thresh=0.001, n=127, RMSE= 0.0000117338\n"
     ]
    },
    {
     "name": "stderr",
     "output_type": "stream",
     "text": [
      "/Library/Frameworks/Python.framework/Versions/3.5/lib/python3.5/site-packages/ipykernel/__main__.py:23: DataConversionWarning: A column-vector y was passed when a 1d array was expected. Please change the shape of y to (n_samples,), for example using ravel().\n"
     ]
    },
    {
     "name": "stdout",
     "output_type": "stream",
     "text": [
      "Thresh=0.001, n=126, RMSE= 0.0000122948\n"
     ]
    },
    {
     "name": "stderr",
     "output_type": "stream",
     "text": [
      "/Library/Frameworks/Python.framework/Versions/3.5/lib/python3.5/site-packages/ipykernel/__main__.py:23: DataConversionWarning: A column-vector y was passed when a 1d array was expected. Please change the shape of y to (n_samples,), for example using ravel().\n"
     ]
    },
    {
     "name": "stdout",
     "output_type": "stream",
     "text": [
      "Thresh=0.001, n=125, RMSE= 0.0000135312\n"
     ]
    },
    {
     "name": "stderr",
     "output_type": "stream",
     "text": [
      "/Library/Frameworks/Python.framework/Versions/3.5/lib/python3.5/site-packages/ipykernel/__main__.py:23: DataConversionWarning: A column-vector y was passed when a 1d array was expected. Please change the shape of y to (n_samples,), for example using ravel().\n"
     ]
    },
    {
     "name": "stdout",
     "output_type": "stream",
     "text": [
      "Thresh=0.001, n=124, RMSE= 0.0000141623\n"
     ]
    },
    {
     "name": "stderr",
     "output_type": "stream",
     "text": [
      "/Library/Frameworks/Python.framework/Versions/3.5/lib/python3.5/site-packages/ipykernel/__main__.py:23: DataConversionWarning: A column-vector y was passed when a 1d array was expected. Please change the shape of y to (n_samples,), for example using ravel().\n"
     ]
    },
    {
     "name": "stdout",
     "output_type": "stream",
     "text": [
      "Thresh=0.001, n=123, RMSE= 0.0000124458\n"
     ]
    },
    {
     "name": "stderr",
     "output_type": "stream",
     "text": [
      "/Library/Frameworks/Python.framework/Versions/3.5/lib/python3.5/site-packages/ipykernel/__main__.py:23: DataConversionWarning: A column-vector y was passed when a 1d array was expected. Please change the shape of y to (n_samples,), for example using ravel().\n"
     ]
    },
    {
     "name": "stdout",
     "output_type": "stream",
     "text": [
      "Thresh=0.001, n=122, RMSE= 0.0000141382\n"
     ]
    },
    {
     "name": "stderr",
     "output_type": "stream",
     "text": [
      "/Library/Frameworks/Python.framework/Versions/3.5/lib/python3.5/site-packages/ipykernel/__main__.py:23: DataConversionWarning: A column-vector y was passed when a 1d array was expected. Please change the shape of y to (n_samples,), for example using ravel().\n"
     ]
    },
    {
     "name": "stdout",
     "output_type": "stream",
     "text": [
      "Thresh=0.001, n=121, RMSE= 0.0000122641\n"
     ]
    },
    {
     "name": "stderr",
     "output_type": "stream",
     "text": [
      "/Library/Frameworks/Python.framework/Versions/3.5/lib/python3.5/site-packages/ipykernel/__main__.py:23: DataConversionWarning: A column-vector y was passed when a 1d array was expected. Please change the shape of y to (n_samples,), for example using ravel().\n"
     ]
    },
    {
     "name": "stdout",
     "output_type": "stream",
     "text": [
      "Thresh=0.001, n=120, RMSE= 0.0000130504\n"
     ]
    },
    {
     "name": "stderr",
     "output_type": "stream",
     "text": [
      "/Library/Frameworks/Python.framework/Versions/3.5/lib/python3.5/site-packages/ipykernel/__main__.py:23: DataConversionWarning: A column-vector y was passed when a 1d array was expected. Please change the shape of y to (n_samples,), for example using ravel().\n"
     ]
    },
    {
     "name": "stdout",
     "output_type": "stream",
     "text": [
      "Thresh=0.001, n=119, RMSE= 0.0000119178\n"
     ]
    },
    {
     "name": "stderr",
     "output_type": "stream",
     "text": [
      "/Library/Frameworks/Python.framework/Versions/3.5/lib/python3.5/site-packages/ipykernel/__main__.py:23: DataConversionWarning: A column-vector y was passed when a 1d array was expected. Please change the shape of y to (n_samples,), for example using ravel().\n"
     ]
    },
    {
     "name": "stdout",
     "output_type": "stream",
     "text": [
      "Thresh=0.001, n=118, RMSE= 0.0000146904\n"
     ]
    },
    {
     "name": "stderr",
     "output_type": "stream",
     "text": [
      "/Library/Frameworks/Python.framework/Versions/3.5/lib/python3.5/site-packages/ipykernel/__main__.py:23: DataConversionWarning: A column-vector y was passed when a 1d array was expected. Please change the shape of y to (n_samples,), for example using ravel().\n"
     ]
    },
    {
     "name": "stdout",
     "output_type": "stream",
     "text": [
      "Thresh=0.001, n=117, RMSE= 0.0000099741\n"
     ]
    },
    {
     "name": "stderr",
     "output_type": "stream",
     "text": [
      "/Library/Frameworks/Python.framework/Versions/3.5/lib/python3.5/site-packages/ipykernel/__main__.py:23: DataConversionWarning: A column-vector y was passed when a 1d array was expected. Please change the shape of y to (n_samples,), for example using ravel().\n"
     ]
    },
    {
     "name": "stdout",
     "output_type": "stream",
     "text": [
      "Thresh=0.001, n=116, RMSE= 0.0000122237\n"
     ]
    },
    {
     "name": "stderr",
     "output_type": "stream",
     "text": [
      "/Library/Frameworks/Python.framework/Versions/3.5/lib/python3.5/site-packages/ipykernel/__main__.py:23: DataConversionWarning: A column-vector y was passed when a 1d array was expected. Please change the shape of y to (n_samples,), for example using ravel().\n"
     ]
    },
    {
     "name": "stdout",
     "output_type": "stream",
     "text": [
      "Thresh=0.001, n=115, RMSE= 0.0000110920\n"
     ]
    },
    {
     "name": "stderr",
     "output_type": "stream",
     "text": [
      "/Library/Frameworks/Python.framework/Versions/3.5/lib/python3.5/site-packages/ipykernel/__main__.py:23: DataConversionWarning: A column-vector y was passed when a 1d array was expected. Please change the shape of y to (n_samples,), for example using ravel().\n"
     ]
    },
    {
     "name": "stdout",
     "output_type": "stream",
     "text": [
      "Thresh=0.001, n=114, RMSE= 0.0000106794\n"
     ]
    },
    {
     "name": "stderr",
     "output_type": "stream",
     "text": [
      "/Library/Frameworks/Python.framework/Versions/3.5/lib/python3.5/site-packages/ipykernel/__main__.py:23: DataConversionWarning: A column-vector y was passed when a 1d array was expected. Please change the shape of y to (n_samples,), for example using ravel().\n"
     ]
    },
    {
     "name": "stdout",
     "output_type": "stream",
     "text": [
      "Thresh=0.001, n=113, RMSE= 0.0000141577\n"
     ]
    },
    {
     "name": "stderr",
     "output_type": "stream",
     "text": [
      "/Library/Frameworks/Python.framework/Versions/3.5/lib/python3.5/site-packages/ipykernel/__main__.py:23: DataConversionWarning: A column-vector y was passed when a 1d array was expected. Please change the shape of y to (n_samples,), for example using ravel().\n"
     ]
    },
    {
     "name": "stdout",
     "output_type": "stream",
     "text": [
      "Thresh=0.001, n=112, RMSE= 0.0000091806\n"
     ]
    },
    {
     "name": "stderr",
     "output_type": "stream",
     "text": [
      "/Library/Frameworks/Python.framework/Versions/3.5/lib/python3.5/site-packages/ipykernel/__main__.py:23: DataConversionWarning: A column-vector y was passed when a 1d array was expected. Please change the shape of y to (n_samples,), for example using ravel().\n"
     ]
    },
    {
     "name": "stdout",
     "output_type": "stream",
     "text": [
      "Thresh=0.001, n=111, RMSE= 0.0000140959\n"
     ]
    },
    {
     "name": "stderr",
     "output_type": "stream",
     "text": [
      "/Library/Frameworks/Python.framework/Versions/3.5/lib/python3.5/site-packages/ipykernel/__main__.py:23: DataConversionWarning: A column-vector y was passed when a 1d array was expected. Please change the shape of y to (n_samples,), for example using ravel().\n"
     ]
    },
    {
     "name": "stdout",
     "output_type": "stream",
     "text": [
      "Thresh=0.001, n=110, RMSE= 0.0000128072\n"
     ]
    },
    {
     "name": "stderr",
     "output_type": "stream",
     "text": [
      "/Library/Frameworks/Python.framework/Versions/3.5/lib/python3.5/site-packages/ipykernel/__main__.py:23: DataConversionWarning: A column-vector y was passed when a 1d array was expected. Please change the shape of y to (n_samples,), for example using ravel().\n"
     ]
    },
    {
     "name": "stdout",
     "output_type": "stream",
     "text": [
      "Thresh=0.001, n=109, RMSE= 0.0000129083\n"
     ]
    },
    {
     "name": "stderr",
     "output_type": "stream",
     "text": [
      "/Library/Frameworks/Python.framework/Versions/3.5/lib/python3.5/site-packages/ipykernel/__main__.py:23: DataConversionWarning: A column-vector y was passed when a 1d array was expected. Please change the shape of y to (n_samples,), for example using ravel().\n"
     ]
    },
    {
     "name": "stdout",
     "output_type": "stream",
     "text": [
      "Thresh=0.001, n=108, RMSE= 0.0000122909\n"
     ]
    },
    {
     "name": "stderr",
     "output_type": "stream",
     "text": [
      "/Library/Frameworks/Python.framework/Versions/3.5/lib/python3.5/site-packages/ipykernel/__main__.py:23: DataConversionWarning: A column-vector y was passed when a 1d array was expected. Please change the shape of y to (n_samples,), for example using ravel().\n"
     ]
    },
    {
     "name": "stdout",
     "output_type": "stream",
     "text": [
      "Thresh=0.001, n=107, RMSE= 0.0000101831\n"
     ]
    },
    {
     "name": "stderr",
     "output_type": "stream",
     "text": [
      "/Library/Frameworks/Python.framework/Versions/3.5/lib/python3.5/site-packages/ipykernel/__main__.py:23: DataConversionWarning: A column-vector y was passed when a 1d array was expected. Please change the shape of y to (n_samples,), for example using ravel().\n"
     ]
    },
    {
     "name": "stdout",
     "output_type": "stream",
     "text": [
      "Thresh=0.001, n=106, RMSE= 0.0000145917\n"
     ]
    },
    {
     "name": "stderr",
     "output_type": "stream",
     "text": [
      "/Library/Frameworks/Python.framework/Versions/3.5/lib/python3.5/site-packages/ipykernel/__main__.py:23: DataConversionWarning: A column-vector y was passed when a 1d array was expected. Please change the shape of y to (n_samples,), for example using ravel().\n"
     ]
    },
    {
     "name": "stdout",
     "output_type": "stream",
     "text": [
      "Thresh=0.001, n=105, RMSE= 0.0000109008\n"
     ]
    },
    {
     "name": "stderr",
     "output_type": "stream",
     "text": [
      "/Library/Frameworks/Python.framework/Versions/3.5/lib/python3.5/site-packages/ipykernel/__main__.py:23: DataConversionWarning: A column-vector y was passed when a 1d array was expected. Please change the shape of y to (n_samples,), for example using ravel().\n"
     ]
    },
    {
     "name": "stdout",
     "output_type": "stream",
     "text": [
      "Thresh=0.001, n=104, RMSE= 0.0000117833\n"
     ]
    },
    {
     "name": "stderr",
     "output_type": "stream",
     "text": [
      "/Library/Frameworks/Python.framework/Versions/3.5/lib/python3.5/site-packages/ipykernel/__main__.py:23: DataConversionWarning: A column-vector y was passed when a 1d array was expected. Please change the shape of y to (n_samples,), for example using ravel().\n"
     ]
    },
    {
     "name": "stdout",
     "output_type": "stream",
     "text": [
      "Thresh=0.001, n=103, RMSE= 0.0000122949\n"
     ]
    },
    {
     "name": "stderr",
     "output_type": "stream",
     "text": [
      "/Library/Frameworks/Python.framework/Versions/3.5/lib/python3.5/site-packages/ipykernel/__main__.py:23: DataConversionWarning: A column-vector y was passed when a 1d array was expected. Please change the shape of y to (n_samples,), for example using ravel().\n"
     ]
    },
    {
     "name": "stdout",
     "output_type": "stream",
     "text": [
      "Thresh=0.001, n=102, RMSE= 0.0000108523\n"
     ]
    },
    {
     "name": "stderr",
     "output_type": "stream",
     "text": [
      "/Library/Frameworks/Python.framework/Versions/3.5/lib/python3.5/site-packages/ipykernel/__main__.py:23: DataConversionWarning: A column-vector y was passed when a 1d array was expected. Please change the shape of y to (n_samples,), for example using ravel().\n"
     ]
    },
    {
     "name": "stdout",
     "output_type": "stream",
     "text": [
      "Thresh=0.001, n=101, RMSE= 0.0000133332\n"
     ]
    },
    {
     "name": "stderr",
     "output_type": "stream",
     "text": [
      "/Library/Frameworks/Python.framework/Versions/3.5/lib/python3.5/site-packages/ipykernel/__main__.py:23: DataConversionWarning: A column-vector y was passed when a 1d array was expected. Please change the shape of y to (n_samples,), for example using ravel().\n"
     ]
    },
    {
     "name": "stdout",
     "output_type": "stream",
     "text": [
      "Thresh=0.001, n=100, RMSE= 0.0000147382\n"
     ]
    },
    {
     "name": "stderr",
     "output_type": "stream",
     "text": [
      "/Library/Frameworks/Python.framework/Versions/3.5/lib/python3.5/site-packages/ipykernel/__main__.py:23: DataConversionWarning: A column-vector y was passed when a 1d array was expected. Please change the shape of y to (n_samples,), for example using ravel().\n",
      "/Library/Frameworks/Python.framework/Versions/3.5/lib/python3.5/site-packages/ipykernel/__main__.py:23: DataConversionWarning: A column-vector y was passed when a 1d array was expected. Please change the shape of y to (n_samples,), for example using ravel().\n"
     ]
    },
    {
     "name": "stdout",
     "output_type": "stream",
     "text": [
      "Thresh=0.001, n=99, RMSE= 0.0000121834\n",
      "Thresh=0.001, n=98, RMSE= 0.0000106594\n",
      "Thresh=0.001, n=97, RMSE= 0.0000104343"
     ]
    },
    {
     "name": "stderr",
     "output_type": "stream",
     "text": [
      "/Library/Frameworks/Python.framework/Versions/3.5/lib/python3.5/site-packages/ipykernel/__main__.py:23: DataConversionWarning: A column-vector y was passed when a 1d array was expected. Please change the shape of y to (n_samples,), for example using ravel().\n",
      "/Library/Frameworks/Python.framework/Versions/3.5/lib/python3.5/site-packages/ipykernel/__main__.py:23: DataConversionWarning: A column-vector y was passed when a 1d array was expected. Please change the shape of y to (n_samples,), for example using ravel().\n"
     ]
    },
    {
     "name": "stdout",
     "output_type": "stream",
     "text": [
      "\n",
      "Thresh=0.001, n=96, RMSE= 0.0000087866\n",
      "Thresh=0.001, n=95, RMSE= 0.0000119010\n"
     ]
    },
    {
     "name": "stderr",
     "output_type": "stream",
     "text": [
      "/Library/Frameworks/Python.framework/Versions/3.5/lib/python3.5/site-packages/ipykernel/__main__.py:23: DataConversionWarning: A column-vector y was passed when a 1d array was expected. Please change the shape of y to (n_samples,), for example using ravel().\n",
      "/Library/Frameworks/Python.framework/Versions/3.5/lib/python3.5/site-packages/ipykernel/__main__.py:23: DataConversionWarning: A column-vector y was passed when a 1d array was expected. Please change the shape of y to (n_samples,), for example using ravel().\n"
     ]
    },
    {
     "name": "stdout",
     "output_type": "stream",
     "text": [
      "Thresh=0.001, n=94, RMSE= 0.0000118973\n",
      "Thresh=0.001, n=93, RMSE= 0.0000120497\n"
     ]
    },
    {
     "name": "stderr",
     "output_type": "stream",
     "text": [
      "/Library/Frameworks/Python.framework/Versions/3.5/lib/python3.5/site-packages/ipykernel/__main__.py:23: DataConversionWarning: A column-vector y was passed when a 1d array was expected. Please change the shape of y to (n_samples,), for example using ravel().\n",
      "/Library/Frameworks/Python.framework/Versions/3.5/lib/python3.5/site-packages/ipykernel/__main__.py:23: DataConversionWarning: A column-vector y was passed when a 1d array was expected. Please change the shape of y to (n_samples,), for example using ravel().\n"
     ]
    },
    {
     "name": "stdout",
     "output_type": "stream",
     "text": [
      "Thresh=0.001, n=92, RMSE= 0.0000115952\n",
      "Thresh=0.001, n=91, RMSE= 0.0000123359\n"
     ]
    },
    {
     "name": "stderr",
     "output_type": "stream",
     "text": [
      "/Library/Frameworks/Python.framework/Versions/3.5/lib/python3.5/site-packages/ipykernel/__main__.py:23: DataConversionWarning: A column-vector y was passed when a 1d array was expected. Please change the shape of y to (n_samples,), for example using ravel().\n",
      "/Library/Frameworks/Python.framework/Versions/3.5/lib/python3.5/site-packages/ipykernel/__main__.py:23: DataConversionWarning: A column-vector y was passed when a 1d array was expected. Please change the shape of y to (n_samples,), for example using ravel().\n"
     ]
    },
    {
     "name": "stdout",
     "output_type": "stream",
     "text": [
      "Thresh=0.001, n=90, RMSE= 0.0000120276\n",
      "Thresh=0.001, n=89, RMSE= 0.0000136453\n"
     ]
    },
    {
     "name": "stderr",
     "output_type": "stream",
     "text": [
      "/Library/Frameworks/Python.framework/Versions/3.5/lib/python3.5/site-packages/ipykernel/__main__.py:23: DataConversionWarning: A column-vector y was passed when a 1d array was expected. Please change the shape of y to (n_samples,), for example using ravel().\n",
      "/Library/Frameworks/Python.framework/Versions/3.5/lib/python3.5/site-packages/ipykernel/__main__.py:23: DataConversionWarning: A column-vector y was passed when a 1d array was expected. Please change the shape of y to (n_samples,), for example using ravel().\n"
     ]
    },
    {
     "name": "stdout",
     "output_type": "stream",
     "text": [
      "Thresh=0.001, n=88, RMSE= 0.0000133138\n",
      "Thresh=0.001, n=87, RMSE= 0.0000135830\n"
     ]
    },
    {
     "name": "stderr",
     "output_type": "stream",
     "text": [
      "/Library/Frameworks/Python.framework/Versions/3.5/lib/python3.5/site-packages/ipykernel/__main__.py:23: DataConversionWarning: A column-vector y was passed when a 1d array was expected. Please change the shape of y to (n_samples,), for example using ravel().\n",
      "/Library/Frameworks/Python.framework/Versions/3.5/lib/python3.5/site-packages/ipykernel/__main__.py:23: DataConversionWarning: A column-vector y was passed when a 1d array was expected. Please change the shape of y to (n_samples,), for example using ravel().\n"
     ]
    },
    {
     "name": "stdout",
     "output_type": "stream",
     "text": [
      "Thresh=0.001, n=86, RMSE= 0.0000113202\n",
      "Thresh=0.001, n=85, RMSE= 0.0000118104\n"
     ]
    },
    {
     "name": "stderr",
     "output_type": "stream",
     "text": [
      "/Library/Frameworks/Python.framework/Versions/3.5/lib/python3.5/site-packages/ipykernel/__main__.py:23: DataConversionWarning: A column-vector y was passed when a 1d array was expected. Please change the shape of y to (n_samples,), for example using ravel().\n",
      "/Library/Frameworks/Python.framework/Versions/3.5/lib/python3.5/site-packages/ipykernel/__main__.py:23: DataConversionWarning: A column-vector y was passed when a 1d array was expected. Please change the shape of y to (n_samples,), for example using ravel().\n"
     ]
    },
    {
     "name": "stdout",
     "output_type": "stream",
     "text": [
      "Thresh=0.001, n=84, RMSE= 0.0000107050\n",
      "Thresh=0.001, n=83, RMSE= 0.0000103093\n"
     ]
    },
    {
     "name": "stderr",
     "output_type": "stream",
     "text": [
      "/Library/Frameworks/Python.framework/Versions/3.5/lib/python3.5/site-packages/ipykernel/__main__.py:23: DataConversionWarning: A column-vector y was passed when a 1d array was expected. Please change the shape of y to (n_samples,), for example using ravel().\n",
      "/Library/Frameworks/Python.framework/Versions/3.5/lib/python3.5/site-packages/ipykernel/__main__.py:23: DataConversionWarning: A column-vector y was passed when a 1d array was expected. Please change the shape of y to (n_samples,), for example using ravel().\n"
     ]
    },
    {
     "name": "stdout",
     "output_type": "stream",
     "text": [
      "Thresh=0.001, n=82, RMSE= 0.0000089899\n",
      "Thresh=0.001, n=81, RMSE= 0.0000110248\n"
     ]
    },
    {
     "name": "stderr",
     "output_type": "stream",
     "text": [
      "/Library/Frameworks/Python.framework/Versions/3.5/lib/python3.5/site-packages/ipykernel/__main__.py:23: DataConversionWarning: A column-vector y was passed when a 1d array was expected. Please change the shape of y to (n_samples,), for example using ravel().\n",
      "/Library/Frameworks/Python.framework/Versions/3.5/lib/python3.5/site-packages/ipykernel/__main__.py:23: DataConversionWarning: A column-vector y was passed when a 1d array was expected. Please change the shape of y to (n_samples,), for example using ravel().\n"
     ]
    },
    {
     "name": "stdout",
     "output_type": "stream",
     "text": [
      "Thresh=0.001, n=80, RMSE= 0.0000130391\n",
      "Thresh=0.001, n=79, RMSE= 0.0010395021\n"
     ]
    },
    {
     "name": "stderr",
     "output_type": "stream",
     "text": [
      "/Library/Frameworks/Python.framework/Versions/3.5/lib/python3.5/site-packages/ipykernel/__main__.py:23: DataConversionWarning: A column-vector y was passed when a 1d array was expected. Please change the shape of y to (n_samples,), for example using ravel().\n",
      "/Library/Frameworks/Python.framework/Versions/3.5/lib/python3.5/site-packages/ipykernel/__main__.py:23: DataConversionWarning: A column-vector y was passed when a 1d array was expected. Please change the shape of y to (n_samples,), for example using ravel().\n"
     ]
    },
    {
     "name": "stdout",
     "output_type": "stream",
     "text": [
      "Thresh=0.001, n=78, RMSE= 0.0010394590\n",
      "Thresh=0.001, n=77, RMSE= 0.0010394634\n"
     ]
    },
    {
     "name": "stderr",
     "output_type": "stream",
     "text": [
      "/Library/Frameworks/Python.framework/Versions/3.5/lib/python3.5/site-packages/ipykernel/__main__.py:23: DataConversionWarning: A column-vector y was passed when a 1d array was expected. Please change the shape of y to (n_samples,), for example using ravel().\n",
      "/Library/Frameworks/Python.framework/Versions/3.5/lib/python3.5/site-packages/ipykernel/__main__.py:23: DataConversionWarning: A column-vector y was passed when a 1d array was expected. Please change the shape of y to (n_samples,), for example using ravel().\n"
     ]
    },
    {
     "name": "stdout",
     "output_type": "stream",
     "text": [
      "Thresh=0.001, n=76, RMSE= 0.0010394919\n",
      "Thresh=0.001, n=75, RMSE= 0.0010394593\n"
     ]
    },
    {
     "name": "stderr",
     "output_type": "stream",
     "text": [
      "/Library/Frameworks/Python.framework/Versions/3.5/lib/python3.5/site-packages/ipykernel/__main__.py:23: DataConversionWarning: A column-vector y was passed when a 1d array was expected. Please change the shape of y to (n_samples,), for example using ravel().\n",
      "/Library/Frameworks/Python.framework/Versions/3.5/lib/python3.5/site-packages/ipykernel/__main__.py:23: DataConversionWarning: A column-vector y was passed when a 1d array was expected. Please change the shape of y to (n_samples,), for example using ravel().\n"
     ]
    },
    {
     "name": "stdout",
     "output_type": "stream",
     "text": [
      "Thresh=0.001, n=74, RMSE= 0.0010395050\n",
      "Thresh=0.001, n=73, RMSE= 0.0010394774\n"
     ]
    },
    {
     "name": "stderr",
     "output_type": "stream",
     "text": [
      "/Library/Frameworks/Python.framework/Versions/3.5/lib/python3.5/site-packages/ipykernel/__main__.py:23: DataConversionWarning: A column-vector y was passed when a 1d array was expected. Please change the shape of y to (n_samples,), for example using ravel().\n",
      "/Library/Frameworks/Python.framework/Versions/3.5/lib/python3.5/site-packages/ipykernel/__main__.py:23: DataConversionWarning: A column-vector y was passed when a 1d array was expected. Please change the shape of y to (n_samples,), for example using ravel().\n"
     ]
    },
    {
     "name": "stdout",
     "output_type": "stream",
     "text": [
      "Thresh=0.001, n=72, RMSE= 0.0010394495\n",
      "Thresh=0.001, n=71, RMSE= 0.0010394555\n"
     ]
    },
    {
     "name": "stderr",
     "output_type": "stream",
     "text": [
      "/Library/Frameworks/Python.framework/Versions/3.5/lib/python3.5/site-packages/ipykernel/__main__.py:23: DataConversionWarning: A column-vector y was passed when a 1d array was expected. Please change the shape of y to (n_samples,), for example using ravel().\n",
      "/Library/Frameworks/Python.framework/Versions/3.5/lib/python3.5/site-packages/ipykernel/__main__.py:23: DataConversionWarning: A column-vector y was passed when a 1d array was expected. Please change the shape of y to (n_samples,), for example using ravel().\n"
     ]
    },
    {
     "name": "stdout",
     "output_type": "stream",
     "text": [
      "Thresh=0.001, n=70, RMSE= 0.0010394892\n",
      "Thresh=0.001, n=69, RMSE= 0.0010394971\n"
     ]
    },
    {
     "name": "stderr",
     "output_type": "stream",
     "text": [
      "/Library/Frameworks/Python.framework/Versions/3.5/lib/python3.5/site-packages/ipykernel/__main__.py:23: DataConversionWarning: A column-vector y was passed when a 1d array was expected. Please change the shape of y to (n_samples,), for example using ravel().\n",
      "/Library/Frameworks/Python.framework/Versions/3.5/lib/python3.5/site-packages/ipykernel/__main__.py:23: DataConversionWarning: A column-vector y was passed when a 1d array was expected. Please change the shape of y to (n_samples,), for example using ravel().\n"
     ]
    },
    {
     "name": "stdout",
     "output_type": "stream",
     "text": [
      "Thresh=0.001, n=68, RMSE= 0.0010394712\n",
      "Thresh=0.001, n=67, RMSE= 0.0010394764\n"
     ]
    },
    {
     "name": "stderr",
     "output_type": "stream",
     "text": [
      "/Library/Frameworks/Python.framework/Versions/3.5/lib/python3.5/site-packages/ipykernel/__main__.py:23: DataConversionWarning: A column-vector y was passed when a 1d array was expected. Please change the shape of y to (n_samples,), for example using ravel().\n",
      "/Library/Frameworks/Python.framework/Versions/3.5/lib/python3.5/site-packages/ipykernel/__main__.py:23: DataConversionWarning: A column-vector y was passed when a 1d array was expected. Please change the shape of y to (n_samples,), for example using ravel().\n"
     ]
    },
    {
     "name": "stdout",
     "output_type": "stream",
     "text": [
      "Thresh=0.001, n=66, RMSE= 0.0010394983\n",
      "Thresh=0.001, n=65, RMSE= 0.0010394532\n"
     ]
    },
    {
     "name": "stderr",
     "output_type": "stream",
     "text": [
      "/Library/Frameworks/Python.framework/Versions/3.5/lib/python3.5/site-packages/ipykernel/__main__.py:23: DataConversionWarning: A column-vector y was passed when a 1d array was expected. Please change the shape of y to (n_samples,), for example using ravel().\n",
      "/Library/Frameworks/Python.framework/Versions/3.5/lib/python3.5/site-packages/ipykernel/__main__.py:23: DataConversionWarning: A column-vector y was passed when a 1d array was expected. Please change the shape of y to (n_samples,), for example using ravel().\n"
     ]
    },
    {
     "name": "stdout",
     "output_type": "stream",
     "text": [
      "Thresh=0.001, n=64, RMSE= 0.0010394647\n",
      "Thresh=0.001, n=63, RMSE= 0.0010394524\n"
     ]
    },
    {
     "name": "stderr",
     "output_type": "stream",
     "text": [
      "/Library/Frameworks/Python.framework/Versions/3.5/lib/python3.5/site-packages/ipykernel/__main__.py:23: DataConversionWarning: A column-vector y was passed when a 1d array was expected. Please change the shape of y to (n_samples,), for example using ravel().\n",
      "/Library/Frameworks/Python.framework/Versions/3.5/lib/python3.5/site-packages/ipykernel/__main__.py:23: DataConversionWarning: A column-vector y was passed when a 1d array was expected. Please change the shape of y to (n_samples,), for example using ravel().\n"
     ]
    },
    {
     "name": "stdout",
     "output_type": "stream",
     "text": [
      "Thresh=0.001, n=62, RMSE= 0.0010394406\n",
      "Thresh=0.001, n=61, RMSE= 0.0010394942\n"
     ]
    },
    {
     "name": "stderr",
     "output_type": "stream",
     "text": [
      "/Library/Frameworks/Python.framework/Versions/3.5/lib/python3.5/site-packages/ipykernel/__main__.py:23: DataConversionWarning: A column-vector y was passed when a 1d array was expected. Please change the shape of y to (n_samples,), for example using ravel().\n",
      "/Library/Frameworks/Python.framework/Versions/3.5/lib/python3.5/site-packages/ipykernel/__main__.py:23: DataConversionWarning: A column-vector y was passed when a 1d array was expected. Please change the shape of y to (n_samples,), for example using ravel().\n"
     ]
    },
    {
     "name": "stdout",
     "output_type": "stream",
     "text": [
      "Thresh=0.001, n=60, RMSE= 0.0010394573\n",
      "Thresh=0.001, n=59, RMSE= 0.0010394488\n"
     ]
    },
    {
     "name": "stderr",
     "output_type": "stream",
     "text": [
      "/Library/Frameworks/Python.framework/Versions/3.5/lib/python3.5/site-packages/ipykernel/__main__.py:23: DataConversionWarning: A column-vector y was passed when a 1d array was expected. Please change the shape of y to (n_samples,), for example using ravel().\n",
      "/Library/Frameworks/Python.framework/Versions/3.5/lib/python3.5/site-packages/ipykernel/__main__.py:23: DataConversionWarning: A column-vector y was passed when a 1d array was expected. Please change the shape of y to (n_samples,), for example using ravel().\n"
     ]
    },
    {
     "name": "stdout",
     "output_type": "stream",
     "text": [
      "Thresh=0.001, n=58, RMSE= 0.0010394742\n",
      "Thresh=0.001, n=57, RMSE= 0.0010394774\n"
     ]
    },
    {
     "name": "stderr",
     "output_type": "stream",
     "text": [
      "/Library/Frameworks/Python.framework/Versions/3.5/lib/python3.5/site-packages/ipykernel/__main__.py:23: DataConversionWarning: A column-vector y was passed when a 1d array was expected. Please change the shape of y to (n_samples,), for example using ravel().\n",
      "/Library/Frameworks/Python.framework/Versions/3.5/lib/python3.5/site-packages/ipykernel/__main__.py:23: DataConversionWarning: A column-vector y was passed when a 1d array was expected. Please change the shape of y to (n_samples,), for example using ravel().\n"
     ]
    },
    {
     "name": "stdout",
     "output_type": "stream",
     "text": [
      "Thresh=0.001, n=56, RMSE= 0.0010394593\n",
      "Thresh=0.001, n=55, RMSE= 0.0010394479\n"
     ]
    },
    {
     "name": "stderr",
     "output_type": "stream",
     "text": [
      "/Library/Frameworks/Python.framework/Versions/3.5/lib/python3.5/site-packages/ipykernel/__main__.py:23: DataConversionWarning: A column-vector y was passed when a 1d array was expected. Please change the shape of y to (n_samples,), for example using ravel().\n",
      "/Library/Frameworks/Python.framework/Versions/3.5/lib/python3.5/site-packages/ipykernel/__main__.py:23: DataConversionWarning: A column-vector y was passed when a 1d array was expected. Please change the shape of y to (n_samples,), for example using ravel().\n"
     ]
    },
    {
     "name": "stdout",
     "output_type": "stream",
     "text": [
      "Thresh=0.001, n=54, RMSE= 0.0010395041\n",
      "Thresh=0.001, n=53, RMSE= 0.0010394676\n"
     ]
    },
    {
     "name": "stderr",
     "output_type": "stream",
     "text": [
      "/Library/Frameworks/Python.framework/Versions/3.5/lib/python3.5/site-packages/ipykernel/__main__.py:23: DataConversionWarning: A column-vector y was passed when a 1d array was expected. Please change the shape of y to (n_samples,), for example using ravel().\n",
      "/Library/Frameworks/Python.framework/Versions/3.5/lib/python3.5/site-packages/ipykernel/__main__.py:23: DataConversionWarning: A column-vector y was passed when a 1d array was expected. Please change the shape of y to (n_samples,), for example using ravel().\n"
     ]
    },
    {
     "name": "stdout",
     "output_type": "stream",
     "text": [
      "Thresh=0.001, n=52, RMSE= 0.0010394755\n",
      "Thresh=0.002, n=51, RMSE= 0.0010394804\n"
     ]
    },
    {
     "name": "stderr",
     "output_type": "stream",
     "text": [
      "/Library/Frameworks/Python.framework/Versions/3.5/lib/python3.5/site-packages/ipykernel/__main__.py:23: DataConversionWarning: A column-vector y was passed when a 1d array was expected. Please change the shape of y to (n_samples,), for example using ravel().\n",
      "/Library/Frameworks/Python.framework/Versions/3.5/lib/python3.5/site-packages/ipykernel/__main__.py:23: DataConversionWarning: A column-vector y was passed when a 1d array was expected. Please change the shape of y to (n_samples,), for example using ravel().\n"
     ]
    },
    {
     "name": "stdout",
     "output_type": "stream",
     "text": [
      "Thresh=0.002, n=50, RMSE= 0.0010394580\n",
      "Thresh=0.002, n=49, RMSE= 0.0010394641\n"
     ]
    },
    {
     "name": "stderr",
     "output_type": "stream",
     "text": [
      "/Library/Frameworks/Python.framework/Versions/3.5/lib/python3.5/site-packages/ipykernel/__main__.py:23: DataConversionWarning: A column-vector y was passed when a 1d array was expected. Please change the shape of y to (n_samples,), for example using ravel().\n",
      "/Library/Frameworks/Python.framework/Versions/3.5/lib/python3.5/site-packages/ipykernel/__main__.py:23: DataConversionWarning: A column-vector y was passed when a 1d array was expected. Please change the shape of y to (n_samples,), for example using ravel().\n"
     ]
    },
    {
     "name": "stdout",
     "output_type": "stream",
     "text": [
      "Thresh=0.002, n=48, RMSE= 0.0010394528\n",
      "Thresh=0.002, n=47, RMSE= 0.0010394913\n"
     ]
    },
    {
     "name": "stderr",
     "output_type": "stream",
     "text": [
      "/Library/Frameworks/Python.framework/Versions/3.5/lib/python3.5/site-packages/ipykernel/__main__.py:23: DataConversionWarning: A column-vector y was passed when a 1d array was expected. Please change the shape of y to (n_samples,), for example using ravel().\n",
      "/Library/Frameworks/Python.framework/Versions/3.5/lib/python3.5/site-packages/ipykernel/__main__.py:23: DataConversionWarning: A column-vector y was passed when a 1d array was expected. Please change the shape of y to (n_samples,), for example using ravel().\n"
     ]
    },
    {
     "name": "stdout",
     "output_type": "stream",
     "text": [
      "Thresh=0.002, n=46, RMSE= 0.0010394565\n",
      "Thresh=0.002, n=45, RMSE= 0.0010394662\n"
     ]
    },
    {
     "name": "stderr",
     "output_type": "stream",
     "text": [
      "/Library/Frameworks/Python.framework/Versions/3.5/lib/python3.5/site-packages/ipykernel/__main__.py:23: DataConversionWarning: A column-vector y was passed when a 1d array was expected. Please change the shape of y to (n_samples,), for example using ravel().\n",
      "/Library/Frameworks/Python.framework/Versions/3.5/lib/python3.5/site-packages/ipykernel/__main__.py:23: DataConversionWarning: A column-vector y was passed when a 1d array was expected. Please change the shape of y to (n_samples,), for example using ravel().\n"
     ]
    },
    {
     "name": "stdout",
     "output_type": "stream",
     "text": [
      "Thresh=0.002, n=44, RMSE= 0.0010394544\n",
      "Thresh=0.002, n=43, RMSE= 0.0010394309\n"
     ]
    },
    {
     "name": "stderr",
     "output_type": "stream",
     "text": [
      "/Library/Frameworks/Python.framework/Versions/3.5/lib/python3.5/site-packages/ipykernel/__main__.py:23: DataConversionWarning: A column-vector y was passed when a 1d array was expected. Please change the shape of y to (n_samples,), for example using ravel().\n",
      "/Library/Frameworks/Python.framework/Versions/3.5/lib/python3.5/site-packages/ipykernel/__main__.py:23: DataConversionWarning: A column-vector y was passed when a 1d array was expected. Please change the shape of y to (n_samples,), for example using ravel().\n"
     ]
    },
    {
     "name": "stdout",
     "output_type": "stream",
     "text": [
      "Thresh=0.002, n=42, RMSE= 0.0010394332\n",
      "Thresh=0.002, n=41, RMSE= 0.0010394755\n"
     ]
    },
    {
     "name": "stderr",
     "output_type": "stream",
     "text": [
      "/Library/Frameworks/Python.framework/Versions/3.5/lib/python3.5/site-packages/ipykernel/__main__.py:23: DataConversionWarning: A column-vector y was passed when a 1d array was expected. Please change the shape of y to (n_samples,), for example using ravel().\n",
      "/Library/Frameworks/Python.framework/Versions/3.5/lib/python3.5/site-packages/ipykernel/__main__.py:23: DataConversionWarning: A column-vector y was passed when a 1d array was expected. Please change the shape of y to (n_samples,), for example using ravel().\n",
      "/Library/Frameworks/Python.framework/Versions/3.5/lib/python3.5/site-packages/ipykernel/__main__.py:23: DataConversionWarning: A column-vector y was passed when a 1d array was expected. Please change the shape of y to (n_samples,), for example using ravel().\n"
     ]
    },
    {
     "name": "stdout",
     "output_type": "stream",
     "text": [
      "Thresh=0.002, n=40, RMSE= 0.0010462852\n",
      "Thresh=0.002, n=39, RMSE= 0.0011692908\n",
      "Thresh=0.002, n=38, RMSE= 0.0015781888\n"
     ]
    },
    {
     "name": "stderr",
     "output_type": "stream",
     "text": [
      "/Library/Frameworks/Python.framework/Versions/3.5/lib/python3.5/site-packages/ipykernel/__main__.py:23: DataConversionWarning: A column-vector y was passed when a 1d array was expected. Please change the shape of y to (n_samples,), for example using ravel().\n",
      "/Library/Frameworks/Python.framework/Versions/3.5/lib/python3.5/site-packages/ipykernel/__main__.py:23: DataConversionWarning: A column-vector y was passed when a 1d array was expected. Please change the shape of y to (n_samples,), for example using ravel().\n",
      "/Library/Frameworks/Python.framework/Versions/3.5/lib/python3.5/site-packages/ipykernel/__main__.py:23: DataConversionWarning: A column-vector y was passed when a 1d array was expected. Please change the shape of y to (n_samples,), for example using ravel().\n"
     ]
    },
    {
     "name": "stdout",
     "output_type": "stream",
     "text": [
      "Thresh=0.002, n=37, RMSE= 0.0015782068\n",
      "Thresh=0.002, n=36, RMSE= 0.0015781908\n",
      "Thresh=0.003, n=35, RMSE= 0.0015781948\n"
     ]
    },
    {
     "name": "stderr",
     "output_type": "stream",
     "text": [
      "/Library/Frameworks/Python.framework/Versions/3.5/lib/python3.5/site-packages/ipykernel/__main__.py:23: DataConversionWarning: A column-vector y was passed when a 1d array was expected. Please change the shape of y to (n_samples,), for example using ravel().\n",
      "/Library/Frameworks/Python.framework/Versions/3.5/lib/python3.5/site-packages/ipykernel/__main__.py:23: DataConversionWarning: A column-vector y was passed when a 1d array was expected. Please change the shape of y to (n_samples,), for example using ravel().\n",
      "/Library/Frameworks/Python.framework/Versions/3.5/lib/python3.5/site-packages/ipykernel/__main__.py:23: DataConversionWarning: A column-vector y was passed when a 1d array was expected. Please change the shape of y to (n_samples,), for example using ravel().\n"
     ]
    },
    {
     "name": "stdout",
     "output_type": "stream",
     "text": [
      "Thresh=0.003, n=34, RMSE= 0.0015782047\n",
      "Thresh=0.003, n=33, RMSE= 0.0015781974\n",
      "Thresh=0.003, n=32, RMSE= 0.0015781856\n"
     ]
    },
    {
     "name": "stderr",
     "output_type": "stream",
     "text": [
      "/Library/Frameworks/Python.framework/Versions/3.5/lib/python3.5/site-packages/ipykernel/__main__.py:23: DataConversionWarning: A column-vector y was passed when a 1d array was expected. Please change the shape of y to (n_samples,), for example using ravel().\n",
      "/Library/Frameworks/Python.framework/Versions/3.5/lib/python3.5/site-packages/ipykernel/__main__.py:23: DataConversionWarning: A column-vector y was passed when a 1d array was expected. Please change the shape of y to (n_samples,), for example using ravel().\n",
      "/Library/Frameworks/Python.framework/Versions/3.5/lib/python3.5/site-packages/ipykernel/__main__.py:23: DataConversionWarning: A column-vector y was passed when a 1d array was expected. Please change the shape of y to (n_samples,), for example using ravel().\n"
     ]
    },
    {
     "name": "stdout",
     "output_type": "stream",
     "text": [
      "Thresh=0.003, n=31, RMSE= 0.0015781967\n",
      "Thresh=0.003, n=30, RMSE= 0.0015782065\n",
      "Thresh=0.003, n=29, RMSE= 0.0015781867\n"
     ]
    },
    {
     "name": "stderr",
     "output_type": "stream",
     "text": [
      "/Library/Frameworks/Python.framework/Versions/3.5/lib/python3.5/site-packages/ipykernel/__main__.py:23: DataConversionWarning: A column-vector y was passed when a 1d array was expected. Please change the shape of y to (n_samples,), for example using ravel().\n",
      "/Library/Frameworks/Python.framework/Versions/3.5/lib/python3.5/site-packages/ipykernel/__main__.py:23: DataConversionWarning: A column-vector y was passed when a 1d array was expected. Please change the shape of y to (n_samples,), for example using ravel().\n",
      "/Library/Frameworks/Python.framework/Versions/3.5/lib/python3.5/site-packages/ipykernel/__main__.py:23: DataConversionWarning: A column-vector y was passed when a 1d array was expected. Please change the shape of y to (n_samples,), for example using ravel().\n"
     ]
    },
    {
     "name": "stdout",
     "output_type": "stream",
     "text": [
      "Thresh=0.003, n=28, RMSE= 0.0015781951\n",
      "Thresh=0.003, n=27, RMSE= 0.0015781846\n",
      "Thresh=0.003, n=26, RMSE= 0.0015781809\n"
     ]
    },
    {
     "name": "stderr",
     "output_type": "stream",
     "text": [
      "/Library/Frameworks/Python.framework/Versions/3.5/lib/python3.5/site-packages/ipykernel/__main__.py:23: DataConversionWarning: A column-vector y was passed when a 1d array was expected. Please change the shape of y to (n_samples,), for example using ravel().\n",
      "/Library/Frameworks/Python.framework/Versions/3.5/lib/python3.5/site-packages/ipykernel/__main__.py:23: DataConversionWarning: A column-vector y was passed when a 1d array was expected. Please change the shape of y to (n_samples,), for example using ravel().\n",
      "/Library/Frameworks/Python.framework/Versions/3.5/lib/python3.5/site-packages/ipykernel/__main__.py:23: DataConversionWarning: A column-vector y was passed when a 1d array was expected. Please change the shape of y to (n_samples,), for example using ravel().\n"
     ]
    },
    {
     "name": "stdout",
     "output_type": "stream",
     "text": [
      "Thresh=0.003, n=25, RMSE= 0.0015781831\n",
      "Thresh=0.004, n=24, RMSE= 0.0015781930\n",
      "Thresh=0.004, n=23, RMSE= 0.0015781836\n"
     ]
    },
    {
     "name": "stderr",
     "output_type": "stream",
     "text": [
      "/Library/Frameworks/Python.framework/Versions/3.5/lib/python3.5/site-packages/ipykernel/__main__.py:23: DataConversionWarning: A column-vector y was passed when a 1d array was expected. Please change the shape of y to (n_samples,), for example using ravel().\n",
      "/Library/Frameworks/Python.framework/Versions/3.5/lib/python3.5/site-packages/ipykernel/__main__.py:23: DataConversionWarning: A column-vector y was passed when a 1d array was expected. Please change the shape of y to (n_samples,), for example using ravel().\n",
      "/Library/Frameworks/Python.framework/Versions/3.5/lib/python3.5/site-packages/ipykernel/__main__.py:23: DataConversionWarning: A column-vector y was passed when a 1d array was expected. Please change the shape of y to (n_samples,), for example using ravel().\n",
      "/Library/Frameworks/Python.framework/Versions/3.5/lib/python3.5/site-packages/ipykernel/__main__.py:23: DataConversionWarning: A column-vector y was passed when a 1d array was expected. Please change the shape of y to (n_samples,), for example using ravel().\n"
     ]
    },
    {
     "name": "stdout",
     "output_type": "stream",
     "text": [
      "Thresh=0.004, n=22, RMSE= 0.0015781831\n",
      "Thresh=0.005, n=21, RMSE= 0.0015781885\n",
      "Thresh=0.005, n=20, RMSE= 0.0015781916\n",
      "Thresh=0.005, n=19, RMSE= 0.0015781842\n"
     ]
    },
    {
     "name": "stderr",
     "output_type": "stream",
     "text": [
      "/Library/Frameworks/Python.framework/Versions/3.5/lib/python3.5/site-packages/ipykernel/__main__.py:23: DataConversionWarning: A column-vector y was passed when a 1d array was expected. Please change the shape of y to (n_samples,), for example using ravel().\n",
      "/Library/Frameworks/Python.framework/Versions/3.5/lib/python3.5/site-packages/ipykernel/__main__.py:23: DataConversionWarning: A column-vector y was passed when a 1d array was expected. Please change the shape of y to (n_samples,), for example using ravel().\n",
      "/Library/Frameworks/Python.framework/Versions/3.5/lib/python3.5/site-packages/ipykernel/__main__.py:23: DataConversionWarning: A column-vector y was passed when a 1d array was expected. Please change the shape of y to (n_samples,), for example using ravel().\n",
      "/Library/Frameworks/Python.framework/Versions/3.5/lib/python3.5/site-packages/ipykernel/__main__.py:23: DataConversionWarning: A column-vector y was passed when a 1d array was expected. Please change the shape of y to (n_samples,), for example using ravel().\n"
     ]
    },
    {
     "name": "stdout",
     "output_type": "stream",
     "text": [
      "Thresh=0.006, n=18, RMSE= 0.0015781865\n",
      "Thresh=0.007, n=17, RMSE= 0.0015781812\n",
      "Thresh=0.007, n=16, RMSE= 0.0015781953\n",
      "Thresh=0.011, n=15, RMSE= 0.0015781865\n"
     ]
    },
    {
     "name": "stderr",
     "output_type": "stream",
     "text": [
      "/Library/Frameworks/Python.framework/Versions/3.5/lib/python3.5/site-packages/ipykernel/__main__.py:23: DataConversionWarning: A column-vector y was passed when a 1d array was expected. Please change the shape of y to (n_samples,), for example using ravel().\n",
      "/Library/Frameworks/Python.framework/Versions/3.5/lib/python3.5/site-packages/ipykernel/__main__.py:23: DataConversionWarning: A column-vector y was passed when a 1d array was expected. Please change the shape of y to (n_samples,), for example using ravel().\n",
      "/Library/Frameworks/Python.framework/Versions/3.5/lib/python3.5/site-packages/ipykernel/__main__.py:23: DataConversionWarning: A column-vector y was passed when a 1d array was expected. Please change the shape of y to (n_samples,), for example using ravel().\n",
      "/Library/Frameworks/Python.framework/Versions/3.5/lib/python3.5/site-packages/ipykernel/__main__.py:23: DataConversionWarning: A column-vector y was passed when a 1d array was expected. Please change the shape of y to (n_samples,), for example using ravel().\n",
      "/Library/Frameworks/Python.framework/Versions/3.5/lib/python3.5/site-packages/ipykernel/__main__.py:23: DataConversionWarning: A column-vector y was passed when a 1d array was expected. Please change the shape of y to (n_samples,), for example using ravel().\n"
     ]
    },
    {
     "name": "stdout",
     "output_type": "stream",
     "text": [
      "Thresh=0.011, n=14, RMSE= 0.0015781863\n",
      "Thresh=0.012, n=13, RMSE= 0.0015781800\n",
      "Thresh=0.014, n=12, RMSE= 0.0015781858\n",
      "Thresh=0.024, n=11, RMSE= 0.0035269488\n",
      "Thresh=0.027, n=10, RMSE= 0.0274567254\n"
     ]
    },
    {
     "name": "stderr",
     "output_type": "stream",
     "text": [
      "/Library/Frameworks/Python.framework/Versions/3.5/lib/python3.5/site-packages/ipykernel/__main__.py:23: DataConversionWarning: A column-vector y was passed when a 1d array was expected. Please change the shape of y to (n_samples,), for example using ravel().\n",
      "/Library/Frameworks/Python.framework/Versions/3.5/lib/python3.5/site-packages/ipykernel/__main__.py:23: DataConversionWarning: A column-vector y was passed when a 1d array was expected. Please change the shape of y to (n_samples,), for example using ravel().\n",
      "/Library/Frameworks/Python.framework/Versions/3.5/lib/python3.5/site-packages/ipykernel/__main__.py:23: DataConversionWarning: A column-vector y was passed when a 1d array was expected. Please change the shape of y to (n_samples,), for example using ravel().\n",
      "/Library/Frameworks/Python.framework/Versions/3.5/lib/python3.5/site-packages/ipykernel/__main__.py:23: DataConversionWarning: A column-vector y was passed when a 1d array was expected. Please change the shape of y to (n_samples,), for example using ravel().\n",
      "/Library/Frameworks/Python.framework/Versions/3.5/lib/python3.5/site-packages/ipykernel/__main__.py:23: DataConversionWarning: A column-vector y was passed when a 1d array was expected. Please change the shape of y to (n_samples,), for example using ravel().\n",
      "/Library/Frameworks/Python.framework/Versions/3.5/lib/python3.5/site-packages/ipykernel/__main__.py:23: DataConversionWarning: A column-vector y was passed when a 1d array was expected. Please change the shape of y to (n_samples,), for example using ravel().\n",
      "/Library/Frameworks/Python.framework/Versions/3.5/lib/python3.5/site-packages/ipykernel/__main__.py:23: DataConversionWarning: A column-vector y was passed when a 1d array was expected. Please change the shape of y to (n_samples,), for example using ravel().\n"
     ]
    },
    {
     "name": "stdout",
     "output_type": "stream",
     "text": [
      "Thresh=0.028, n=9, RMSE= 0.0286606682\n",
      "Thresh=0.028, n=8, RMSE= 0.0287790217\n",
      "Thresh=0.037, n=7, RMSE= 0.0411125967\n",
      "Thresh=0.038, n=6, RMSE= 0.0415698264\n",
      "Thresh=0.040, n=5, RMSE= 0.0581093959\n",
      "Thresh=0.042, n=4, RMSE= 0.0596042377\n",
      "Thresh=0.073, n=3, RMSE= 0.2208722096\n",
      "Thresh=0.149, n=2, RMSE= 0.2658359419\n",
      "Thresh=0.243, n=1, RMSE= 0.3056922385\n"
     ]
    },
    {
     "name": "stderr",
     "output_type": "stream",
     "text": [
      "/Library/Frameworks/Python.framework/Versions/3.5/lib/python3.5/site-packages/ipykernel/__main__.py:23: DataConversionWarning: A column-vector y was passed when a 1d array was expected. Please change the shape of y to (n_samples,), for example using ravel().\n",
      "/Library/Frameworks/Python.framework/Versions/3.5/lib/python3.5/site-packages/ipykernel/__main__.py:23: DataConversionWarning: A column-vector y was passed when a 1d array was expected. Please change the shape of y to (n_samples,), for example using ravel().\n",
      "/Library/Frameworks/Python.framework/Versions/3.5/lib/python3.5/site-packages/ipykernel/__main__.py:23: DataConversionWarning: A column-vector y was passed when a 1d array was expected. Please change the shape of y to (n_samples,), for example using ravel().\n"
     ]
    }
   ],
=======
   "execution_count": null,
   "metadata": {
    "collapsed": false
   },
   "outputs": [],
>>>>>>> cf42abfd3744c89910b63f59ec719226011efcca:Project4-MachineLearning/kaggle_wannjiun_sharan/feature_selection.ipynb
   "source": [
    "# Extra Trees Regressor\n",
    "\n",
    "et_regr = ExtraTreesRegressor()\n",
    "et_regr.fit(train_df_munged, label_df)\n",
    "\n",
    "# Run prediction on training set to get a rough idea of how well it does.\n",
    "y_pred = et_regr.predict(train_df_munged)\n",
    "y_test = label_df\n",
    "print(\"Extra Trees Regressor score on training set: \", rmse(y_test, y_pred))\n",
    "\n",
    "# Run prediction on the Kaggle test set.\n",
    "y_test_pred_et = et_regr.predict(test_df_munged)\n",
    "\n",
    "# Fit model using each importance as a threshold\n",
    "thresholds = sort(et_regr.feature_importances_)\n",
    "#thresholds = sort([0.1,0.2])\n",
    "for thresh in thresholds:\n",
    "    # select features using threshold\n",
    "    selection = SelectFromModel(et_regr, threshold=thresh, prefit=True)\n",
    "    select_X_train = selection.transform(train_df_munged)\n",
    "    # train model\n",
    "    selection_model = ExtraTreesRegressor()\n",
    "    selection_model.fit(select_X_train, y_test)\n",
    "    # eval model\n",
    "    select_X_test = selection.transform(train_df_munged)\n",
    "    \n",
    "    y_pred = selection_model.predict(select_X_test)\n",
    "    print(\"Thresh=%.3f, n=%d, RMSE= %.10f\" % (thresh, select_X_train.shape[1], rmse(y_test, y_pred)))"
   ]
  },
  {
   "cell_type": "code",
<<<<<<< HEAD:Project4-MachineLearning/kaggle_wannjiun_sharan/feature_selection_wannjiun.ipynb
   "execution_count": 11,
   "metadata": {
    "collapsed": false
   },
   "outputs": [
    {
     "name": "stderr",
     "output_type": "stream",
     "text": [
      "/Library/Frameworks/Python.framework/Versions/3.5/lib/python3.5/site-packages/ipykernel/__main__.py:5: DataConversionWarning: A column-vector y was passed when a 1d array was expected. Please change the shape of y to (n_samples,), for example using ravel().\n"
     ]
    }
   ],
=======
   "execution_count": null,
   "metadata": {
    "collapsed": false
   },
   "outputs": [],
>>>>>>> cf42abfd3744c89910b63f59ec719226011efcca:Project4-MachineLearning/kaggle_wannjiun_sharan/feature_selection.ipynb
   "source": [
    "selection = SelectFromModel(et_regr, threshold=0.01, prefit=True)\n",
    "select_X_train = selection.transform(train_df_munged)\n",
    "# train model\n",
    "selection_model = ExtraTreesRegressor()\n",
    "selection_model.fit(select_X_train, y_test)\n",
    "# eval model\n",
    "select_X_test = selection.transform(test_df_munged)\n",
    "\n",
    "y_test_pred_et_selec = selection_model.predict(select_X_test)"
   ]
  },
  {
   "cell_type": "code",
<<<<<<< HEAD:Project4-MachineLearning/kaggle_wannjiun_sharan/feature_selection_wannjiun.ipynb
   "execution_count": 12,
   "metadata": {
    "collapsed": false
   },
   "outputs": [
    {
     "name": "stderr",
     "output_type": "stream",
     "text": [
      "/Library/Frameworks/Python.framework/Versions/3.5/lib/python3.5/site-packages/ipykernel/__main__.py:4: DataConversionWarning: A column-vector y was passed when a 1d array was expected. Please change the shape of y to (n_samples,), for example using ravel().\n"
     ]
    },
    {
     "name": "stdout",
     "output_type": "stream",
     "text": [
      "Random Forest score on training set:  0.117799883698\n"
     ]
    },
    {
     "name": "stderr",
     "output_type": "stream",
     "text": [
      "/Library/Frameworks/Python.framework/Versions/3.5/lib/python3.5/site-packages/ipykernel/__main__.py:23: DataConversionWarning: A column-vector y was passed when a 1d array was expected. Please change the shape of y to (n_samples,), for example using ravel().\n"
     ]
    },
    {
     "name": "stdout",
     "output_type": "stream",
     "text": [
      "Thresh=0.000, n=403, RMSE= 0.1175800783\n"
     ]
    },
    {
     "name": "stderr",
     "output_type": "stream",
     "text": [
      "/Library/Frameworks/Python.framework/Versions/3.5/lib/python3.5/site-packages/ipykernel/__main__.py:23: DataConversionWarning: A column-vector y was passed when a 1d array was expected. Please change the shape of y to (n_samples,), for example using ravel().\n"
     ]
    },
    {
     "name": "stdout",
     "output_type": "stream",
     "text": [
      "Thresh=0.000, n=402, RMSE= 0.1173835036\n"
     ]
    },
    {
     "name": "stderr",
     "output_type": "stream",
     "text": [
      "/Library/Frameworks/Python.framework/Versions/3.5/lib/python3.5/site-packages/ipykernel/__main__.py:23: DataConversionWarning: A column-vector y was passed when a 1d array was expected. Please change the shape of y to (n_samples,), for example using ravel().\n"
     ]
    },
    {
     "name": "stdout",
     "output_type": "stream",
     "text": [
      "Thresh=0.000, n=401, RMSE= 0.1172720239\n"
     ]
    },
    {
     "name": "stderr",
     "output_type": "stream",
     "text": [
      "/Library/Frameworks/Python.framework/Versions/3.5/lib/python3.5/site-packages/ipykernel/__main__.py:23: DataConversionWarning: A column-vector y was passed when a 1d array was expected. Please change the shape of y to (n_samples,), for example using ravel().\n"
     ]
    },
    {
     "name": "stdout",
     "output_type": "stream",
     "text": [
      "Thresh=0.000, n=400, RMSE= 0.1173156437\n"
     ]
    },
    {
     "name": "stderr",
     "output_type": "stream",
     "text": [
      "/Library/Frameworks/Python.framework/Versions/3.5/lib/python3.5/site-packages/ipykernel/__main__.py:23: DataConversionWarning: A column-vector y was passed when a 1d array was expected. Please change the shape of y to (n_samples,), for example using ravel().\n"
     ]
    },
    {
     "name": "stdout",
     "output_type": "stream",
     "text": [
      "Thresh=0.000, n=399, RMSE= 0.1183646815\n"
     ]
    },
    {
     "name": "stderr",
     "output_type": "stream",
     "text": [
      "/Library/Frameworks/Python.framework/Versions/3.5/lib/python3.5/site-packages/ipykernel/__main__.py:23: DataConversionWarning: A column-vector y was passed when a 1d array was expected. Please change the shape of y to (n_samples,), for example using ravel().\n"
     ]
    },
    {
     "name": "stdout",
     "output_type": "stream",
     "text": [
      "Thresh=0.000, n=398, RMSE= 0.1181649307\n"
     ]
    },
    {
     "name": "stderr",
     "output_type": "stream",
     "text": [
      "/Library/Frameworks/Python.framework/Versions/3.5/lib/python3.5/site-packages/ipykernel/__main__.py:23: DataConversionWarning: A column-vector y was passed when a 1d array was expected. Please change the shape of y to (n_samples,), for example using ravel().\n"
     ]
    },
    {
     "name": "stdout",
     "output_type": "stream",
     "text": [
      "Thresh=0.000, n=397, RMSE= 0.1183040180\n"
     ]
    },
    {
     "name": "stderr",
     "output_type": "stream",
     "text": [
      "/Library/Frameworks/Python.framework/Versions/3.5/lib/python3.5/site-packages/ipykernel/__main__.py:23: DataConversionWarning: A column-vector y was passed when a 1d array was expected. Please change the shape of y to (n_samples,), for example using ravel().\n"
     ]
    },
    {
     "name": "stdout",
     "output_type": "stream",
     "text": [
      "Thresh=0.000, n=396, RMSE= 0.1181695986\n"
     ]
    },
    {
     "name": "stderr",
     "output_type": "stream",
     "text": [
      "/Library/Frameworks/Python.framework/Versions/3.5/lib/python3.5/site-packages/ipykernel/__main__.py:23: DataConversionWarning: A column-vector y was passed when a 1d array was expected. Please change the shape of y to (n_samples,), for example using ravel().\n"
     ]
    },
    {
     "name": "stdout",
     "output_type": "stream",
     "text": [
      "Thresh=0.000, n=395, RMSE= 0.1181606868\n"
     ]
    },
    {
     "name": "stderr",
     "output_type": "stream",
     "text": [
      "/Library/Frameworks/Python.framework/Versions/3.5/lib/python3.5/site-packages/ipykernel/__main__.py:23: DataConversionWarning: A column-vector y was passed when a 1d array was expected. Please change the shape of y to (n_samples,), for example using ravel().\n"
     ]
    },
    {
     "name": "stdout",
     "output_type": "stream",
     "text": [
      "Thresh=0.000, n=394, RMSE= 0.1179914733\n"
     ]
    },
    {
     "name": "stderr",
     "output_type": "stream",
     "text": [
      "/Library/Frameworks/Python.framework/Versions/3.5/lib/python3.5/site-packages/ipykernel/__main__.py:23: DataConversionWarning: A column-vector y was passed when a 1d array was expected. Please change the shape of y to (n_samples,), for example using ravel().\n"
     ]
    },
    {
     "name": "stdout",
     "output_type": "stream",
     "text": [
      "Thresh=0.000, n=393, RMSE= 0.1179651026\n"
     ]
    },
    {
     "name": "stderr",
     "output_type": "stream",
     "text": [
      "/Library/Frameworks/Python.framework/Versions/3.5/lib/python3.5/site-packages/ipykernel/__main__.py:23: DataConversionWarning: A column-vector y was passed when a 1d array was expected. Please change the shape of y to (n_samples,), for example using ravel().\n"
     ]
    },
    {
     "name": "stdout",
     "output_type": "stream",
     "text": [
      "Thresh=0.000, n=392, RMSE= 0.1181402657\n"
     ]
    },
    {
     "name": "stderr",
     "output_type": "stream",
     "text": [
      "/Library/Frameworks/Python.framework/Versions/3.5/lib/python3.5/site-packages/ipykernel/__main__.py:23: DataConversionWarning: A column-vector y was passed when a 1d array was expected. Please change the shape of y to (n_samples,), for example using ravel().\n"
     ]
    },
    {
     "name": "stdout",
     "output_type": "stream",
     "text": [
      "Thresh=0.000, n=391, RMSE= 0.1179642530\n"
     ]
    },
    {
     "name": "stderr",
     "output_type": "stream",
     "text": [
      "/Library/Frameworks/Python.framework/Versions/3.5/lib/python3.5/site-packages/ipykernel/__main__.py:23: DataConversionWarning: A column-vector y was passed when a 1d array was expected. Please change the shape of y to (n_samples,), for example using ravel().\n"
     ]
    },
    {
     "name": "stdout",
     "output_type": "stream",
     "text": [
      "Thresh=0.000, n=390, RMSE= 0.1180725885\n"
     ]
    },
    {
     "name": "stderr",
     "output_type": "stream",
     "text": [
      "/Library/Frameworks/Python.framework/Versions/3.5/lib/python3.5/site-packages/ipykernel/__main__.py:23: DataConversionWarning: A column-vector y was passed when a 1d array was expected. Please change the shape of y to (n_samples,), for example using ravel().\n"
     ]
    },
    {
     "name": "stdout",
     "output_type": "stream",
     "text": [
      "Thresh=0.000, n=389, RMSE= 0.1176567779\n"
     ]
    },
    {
     "name": "stderr",
     "output_type": "stream",
     "text": [
      "/Library/Frameworks/Python.framework/Versions/3.5/lib/python3.5/site-packages/ipykernel/__main__.py:23: DataConversionWarning: A column-vector y was passed when a 1d array was expected. Please change the shape of y to (n_samples,), for example using ravel().\n"
     ]
    },
    {
     "name": "stdout",
     "output_type": "stream",
     "text": [
      "Thresh=0.000, n=388, RMSE= 0.1177774338\n"
     ]
    },
    {
     "name": "stderr",
     "output_type": "stream",
     "text": [
      "/Library/Frameworks/Python.framework/Versions/3.5/lib/python3.5/site-packages/ipykernel/__main__.py:23: DataConversionWarning: A column-vector y was passed when a 1d array was expected. Please change the shape of y to (n_samples,), for example using ravel().\n"
     ]
    },
    {
     "name": "stdout",
     "output_type": "stream",
     "text": [
      "Thresh=0.000, n=387, RMSE= 0.1178099958\n"
     ]
    },
    {
     "name": "stderr",
     "output_type": "stream",
     "text": [
      "/Library/Frameworks/Python.framework/Versions/3.5/lib/python3.5/site-packages/ipykernel/__main__.py:23: DataConversionWarning: A column-vector y was passed when a 1d array was expected. Please change the shape of y to (n_samples,), for example using ravel().\n"
     ]
    },
    {
     "name": "stdout",
     "output_type": "stream",
     "text": [
      "Thresh=0.000, n=386, RMSE= 0.1174433557\n"
     ]
    },
    {
     "name": "stderr",
     "output_type": "stream",
     "text": [
      "/Library/Frameworks/Python.framework/Versions/3.5/lib/python3.5/site-packages/ipykernel/__main__.py:23: DataConversionWarning: A column-vector y was passed when a 1d array was expected. Please change the shape of y to (n_samples,), for example using ravel().\n"
     ]
    },
    {
     "name": "stdout",
     "output_type": "stream",
     "text": [
      "Thresh=0.000, n=385, RMSE= 0.1176529452\n"
     ]
    },
    {
     "name": "stderr",
     "output_type": "stream",
     "text": [
      "/Library/Frameworks/Python.framework/Versions/3.5/lib/python3.5/site-packages/ipykernel/__main__.py:23: DataConversionWarning: A column-vector y was passed when a 1d array was expected. Please change the shape of y to (n_samples,), for example using ravel().\n"
     ]
    },
    {
     "name": "stdout",
     "output_type": "stream",
     "text": [
      "Thresh=0.000, n=384, RMSE= 0.1175899913\n"
     ]
    },
    {
     "name": "stderr",
     "output_type": "stream",
     "text": [
      "/Library/Frameworks/Python.framework/Versions/3.5/lib/python3.5/site-packages/ipykernel/__main__.py:23: DataConversionWarning: A column-vector y was passed when a 1d array was expected. Please change the shape of y to (n_samples,), for example using ravel().\n"
     ]
    },
    {
     "name": "stdout",
     "output_type": "stream",
     "text": [
      "Thresh=0.000, n=383, RMSE= 0.1174543094\n"
     ]
    },
    {
     "name": "stderr",
     "output_type": "stream",
     "text": [
      "/Library/Frameworks/Python.framework/Versions/3.5/lib/python3.5/site-packages/ipykernel/__main__.py:23: DataConversionWarning: A column-vector y was passed when a 1d array was expected. Please change the shape of y to (n_samples,), for example using ravel().\n"
     ]
    },
    {
     "name": "stdout",
     "output_type": "stream",
     "text": [
      "Thresh=0.000, n=382, RMSE= 0.1173891749\n"
     ]
    },
    {
     "name": "stderr",
     "output_type": "stream",
     "text": [
      "/Library/Frameworks/Python.framework/Versions/3.5/lib/python3.5/site-packages/ipykernel/__main__.py:23: DataConversionWarning: A column-vector y was passed when a 1d array was expected. Please change the shape of y to (n_samples,), for example using ravel().\n"
     ]
    },
    {
     "name": "stdout",
     "output_type": "stream",
     "text": [
      "Thresh=0.000, n=381, RMSE= 0.1173702003\n"
     ]
    },
    {
     "name": "stderr",
     "output_type": "stream",
     "text": [
      "/Library/Frameworks/Python.framework/Versions/3.5/lib/python3.5/site-packages/ipykernel/__main__.py:23: DataConversionWarning: A column-vector y was passed when a 1d array was expected. Please change the shape of y to (n_samples,), for example using ravel().\n"
     ]
    },
    {
     "name": "stdout",
     "output_type": "stream",
     "text": [
      "Thresh=0.000, n=380, RMSE= 0.1173893360\n"
     ]
    },
    {
     "name": "stderr",
     "output_type": "stream",
     "text": [
      "/Library/Frameworks/Python.framework/Versions/3.5/lib/python3.5/site-packages/ipykernel/__main__.py:23: DataConversionWarning: A column-vector y was passed when a 1d array was expected. Please change the shape of y to (n_samples,), for example using ravel().\n"
     ]
    },
    {
     "name": "stdout",
     "output_type": "stream",
     "text": [
      "Thresh=0.000, n=379, RMSE= 0.1170921778\n"
     ]
    },
    {
     "name": "stderr",
     "output_type": "stream",
     "text": [
      "/Library/Frameworks/Python.framework/Versions/3.5/lib/python3.5/site-packages/ipykernel/__main__.py:23: DataConversionWarning: A column-vector y was passed when a 1d array was expected. Please change the shape of y to (n_samples,), for example using ravel().\n"
     ]
    },
    {
     "name": "stdout",
     "output_type": "stream",
     "text": [
      "Thresh=0.000, n=378, RMSE= 0.1170693106\n"
     ]
    },
    {
     "name": "stderr",
     "output_type": "stream",
     "text": [
      "/Library/Frameworks/Python.framework/Versions/3.5/lib/python3.5/site-packages/ipykernel/__main__.py:23: DataConversionWarning: A column-vector y was passed when a 1d array was expected. Please change the shape of y to (n_samples,), for example using ravel().\n"
     ]
    },
    {
     "name": "stdout",
     "output_type": "stream",
     "text": [
      "Thresh=0.000, n=377, RMSE= 0.1172643060\n"
     ]
    },
    {
     "name": "stderr",
     "output_type": "stream",
     "text": [
      "/Library/Frameworks/Python.framework/Versions/3.5/lib/python3.5/site-packages/ipykernel/__main__.py:23: DataConversionWarning: A column-vector y was passed when a 1d array was expected. Please change the shape of y to (n_samples,), for example using ravel().\n"
     ]
    },
    {
     "name": "stdout",
     "output_type": "stream",
     "text": [
      "Thresh=0.000, n=376, RMSE= 0.1171275185\n"
     ]
    },
    {
     "name": "stderr",
     "output_type": "stream",
     "text": [
      "/Library/Frameworks/Python.framework/Versions/3.5/lib/python3.5/site-packages/ipykernel/__main__.py:23: DataConversionWarning: A column-vector y was passed when a 1d array was expected. Please change the shape of y to (n_samples,), for example using ravel().\n"
     ]
    },
    {
     "name": "stdout",
     "output_type": "stream",
     "text": [
      "Thresh=0.000, n=375, RMSE= 0.1169115155\n"
     ]
    },
    {
     "name": "stderr",
     "output_type": "stream",
     "text": [
      "/Library/Frameworks/Python.framework/Versions/3.5/lib/python3.5/site-packages/ipykernel/__main__.py:23: DataConversionWarning: A column-vector y was passed when a 1d array was expected. Please change the shape of y to (n_samples,), for example using ravel().\n"
     ]
    },
    {
     "name": "stdout",
     "output_type": "stream",
     "text": [
      "Thresh=0.000, n=374, RMSE= 0.1169541385\n"
     ]
    },
    {
     "name": "stderr",
     "output_type": "stream",
     "text": [
      "/Library/Frameworks/Python.framework/Versions/3.5/lib/python3.5/site-packages/ipykernel/__main__.py:23: DataConversionWarning: A column-vector y was passed when a 1d array was expected. Please change the shape of y to (n_samples,), for example using ravel().\n"
     ]
    },
    {
     "name": "stdout",
     "output_type": "stream",
     "text": [
      "Thresh=0.000, n=373, RMSE= 0.1169307289\n"
     ]
    },
    {
     "name": "stderr",
     "output_type": "stream",
     "text": [
      "/Library/Frameworks/Python.framework/Versions/3.5/lib/python3.5/site-packages/ipykernel/__main__.py:23: DataConversionWarning: A column-vector y was passed when a 1d array was expected. Please change the shape of y to (n_samples,), for example using ravel().\n"
     ]
    },
    {
     "name": "stdout",
     "output_type": "stream",
     "text": [
      "Thresh=0.000, n=372, RMSE= 0.1168099397\n"
     ]
    },
    {
     "name": "stderr",
     "output_type": "stream",
     "text": [
      "/Library/Frameworks/Python.framework/Versions/3.5/lib/python3.5/site-packages/ipykernel/__main__.py:23: DataConversionWarning: A column-vector y was passed when a 1d array was expected. Please change the shape of y to (n_samples,), for example using ravel().\n"
     ]
    },
    {
     "name": "stdout",
     "output_type": "stream",
     "text": [
      "Thresh=0.000, n=371, RMSE= 0.1167662355\n"
     ]
    },
    {
     "name": "stderr",
     "output_type": "stream",
     "text": [
      "/Library/Frameworks/Python.framework/Versions/3.5/lib/python3.5/site-packages/ipykernel/__main__.py:23: DataConversionWarning: A column-vector y was passed when a 1d array was expected. Please change the shape of y to (n_samples,), for example using ravel().\n"
     ]
    },
    {
     "name": "stdout",
     "output_type": "stream",
     "text": [
      "Thresh=0.000, n=370, RMSE= 0.1168847583\n"
     ]
    },
    {
     "name": "stderr",
     "output_type": "stream",
     "text": [
      "/Library/Frameworks/Python.framework/Versions/3.5/lib/python3.5/site-packages/ipykernel/__main__.py:23: DataConversionWarning: A column-vector y was passed when a 1d array was expected. Please change the shape of y to (n_samples,), for example using ravel().\n"
     ]
    },
    {
     "name": "stdout",
     "output_type": "stream",
     "text": [
      "Thresh=0.000, n=369, RMSE= 0.1166532197\n"
     ]
    },
    {
     "name": "stderr",
     "output_type": "stream",
     "text": [
      "/Library/Frameworks/Python.framework/Versions/3.5/lib/python3.5/site-packages/ipykernel/__main__.py:23: DataConversionWarning: A column-vector y was passed when a 1d array was expected. Please change the shape of y to (n_samples,), for example using ravel().\n"
     ]
    },
    {
     "name": "stdout",
     "output_type": "stream",
     "text": [
      "Thresh=0.000, n=368, RMSE= 0.1163876832\n"
     ]
    },
    {
     "name": "stderr",
     "output_type": "stream",
     "text": [
      "/Library/Frameworks/Python.framework/Versions/3.5/lib/python3.5/site-packages/ipykernel/__main__.py:23: DataConversionWarning: A column-vector y was passed when a 1d array was expected. Please change the shape of y to (n_samples,), for example using ravel().\n"
     ]
    },
    {
     "name": "stdout",
     "output_type": "stream",
     "text": [
      "Thresh=0.000, n=367, RMSE= 0.1165588523\n"
     ]
    },
    {
     "name": "stderr",
     "output_type": "stream",
     "text": [
      "/Library/Frameworks/Python.framework/Versions/3.5/lib/python3.5/site-packages/ipykernel/__main__.py:23: DataConversionWarning: A column-vector y was passed when a 1d array was expected. Please change the shape of y to (n_samples,), for example using ravel().\n"
     ]
    },
    {
     "name": "stdout",
     "output_type": "stream",
     "text": [
      "Thresh=0.000, n=366, RMSE= 0.1165353431\n"
     ]
    },
    {
     "name": "stderr",
     "output_type": "stream",
     "text": [
      "/Library/Frameworks/Python.framework/Versions/3.5/lib/python3.5/site-packages/ipykernel/__main__.py:23: DataConversionWarning: A column-vector y was passed when a 1d array was expected. Please change the shape of y to (n_samples,), for example using ravel().\n"
     ]
    },
    {
     "name": "stdout",
     "output_type": "stream",
     "text": [
      "Thresh=0.000, n=365, RMSE= 0.1164598972\n"
     ]
    },
    {
     "name": "stderr",
     "output_type": "stream",
     "text": [
      "/Library/Frameworks/Python.framework/Versions/3.5/lib/python3.5/site-packages/ipykernel/__main__.py:23: DataConversionWarning: A column-vector y was passed when a 1d array was expected. Please change the shape of y to (n_samples,), for example using ravel().\n"
     ]
    },
    {
     "name": "stdout",
     "output_type": "stream",
     "text": [
      "Thresh=0.000, n=364, RMSE= 0.1163017875\n"
     ]
    },
    {
     "name": "stderr",
     "output_type": "stream",
     "text": [
      "/Library/Frameworks/Python.framework/Versions/3.5/lib/python3.5/site-packages/ipykernel/__main__.py:23: DataConversionWarning: A column-vector y was passed when a 1d array was expected. Please change the shape of y to (n_samples,), for example using ravel().\n"
     ]
    },
    {
     "name": "stdout",
     "output_type": "stream",
     "text": [
      "Thresh=0.000, n=363, RMSE= 0.1164257103\n"
     ]
    },
    {
     "name": "stderr",
     "output_type": "stream",
     "text": [
      "/Library/Frameworks/Python.framework/Versions/3.5/lib/python3.5/site-packages/ipykernel/__main__.py:23: DataConversionWarning: A column-vector y was passed when a 1d array was expected. Please change the shape of y to (n_samples,), for example using ravel().\n"
     ]
    },
    {
     "name": "stdout",
     "output_type": "stream",
     "text": [
      "Thresh=0.000, n=362, RMSE= 0.1163305699\n"
     ]
    },
    {
     "name": "stderr",
     "output_type": "stream",
     "text": [
      "/Library/Frameworks/Python.framework/Versions/3.5/lib/python3.5/site-packages/ipykernel/__main__.py:23: DataConversionWarning: A column-vector y was passed when a 1d array was expected. Please change the shape of y to (n_samples,), for example using ravel().\n"
     ]
    },
    {
     "name": "stdout",
     "output_type": "stream",
     "text": [
      "Thresh=0.000, n=361, RMSE= 0.1162546036\n"
     ]
    },
    {
     "name": "stderr",
     "output_type": "stream",
     "text": [
      "/Library/Frameworks/Python.framework/Versions/3.5/lib/python3.5/site-packages/ipykernel/__main__.py:23: DataConversionWarning: A column-vector y was passed when a 1d array was expected. Please change the shape of y to (n_samples,), for example using ravel().\n"
     ]
    },
    {
     "name": "stdout",
     "output_type": "stream",
     "text": [
      "Thresh=0.000, n=360, RMSE= 0.1171741728\n"
     ]
    },
    {
     "name": "stderr",
     "output_type": "stream",
     "text": [
      "/Library/Frameworks/Python.framework/Versions/3.5/lib/python3.5/site-packages/ipykernel/__main__.py:23: DataConversionWarning: A column-vector y was passed when a 1d array was expected. Please change the shape of y to (n_samples,), for example using ravel().\n"
     ]
    },
    {
     "name": "stdout",
     "output_type": "stream",
     "text": [
      "Thresh=0.000, n=359, RMSE= 0.1172146978\n"
     ]
    },
    {
     "name": "stderr",
     "output_type": "stream",
     "text": [
      "/Library/Frameworks/Python.framework/Versions/3.5/lib/python3.5/site-packages/ipykernel/__main__.py:23: DataConversionWarning: A column-vector y was passed when a 1d array was expected. Please change the shape of y to (n_samples,), for example using ravel().\n"
     ]
    },
    {
     "name": "stdout",
     "output_type": "stream",
     "text": [
      "Thresh=0.000, n=358, RMSE= 0.1173183502\n"
     ]
    },
    {
     "name": "stderr",
     "output_type": "stream",
     "text": [
      "/Library/Frameworks/Python.framework/Versions/3.5/lib/python3.5/site-packages/ipykernel/__main__.py:23: DataConversionWarning: A column-vector y was passed when a 1d array was expected. Please change the shape of y to (n_samples,), for example using ravel().\n"
     ]
    },
    {
     "name": "stdout",
     "output_type": "stream",
     "text": [
      "Thresh=0.000, n=357, RMSE= 0.1172521267\n"
     ]
    },
    {
     "name": "stderr",
     "output_type": "stream",
     "text": [
      "/Library/Frameworks/Python.framework/Versions/3.5/lib/python3.5/site-packages/ipykernel/__main__.py:23: DataConversionWarning: A column-vector y was passed when a 1d array was expected. Please change the shape of y to (n_samples,), for example using ravel().\n"
     ]
    },
    {
     "name": "stdout",
     "output_type": "stream",
     "text": [
      "Thresh=0.000, n=356, RMSE= 0.1170437933\n"
     ]
    },
    {
     "name": "stderr",
     "output_type": "stream",
     "text": [
      "/Library/Frameworks/Python.framework/Versions/3.5/lib/python3.5/site-packages/ipykernel/__main__.py:23: DataConversionWarning: A column-vector y was passed when a 1d array was expected. Please change the shape of y to (n_samples,), for example using ravel().\n"
     ]
    },
    {
     "name": "stdout",
     "output_type": "stream",
     "text": [
      "Thresh=0.000, n=355, RMSE= 0.1173045153\n"
     ]
    },
    {
     "name": "stderr",
     "output_type": "stream",
     "text": [
      "/Library/Frameworks/Python.framework/Versions/3.5/lib/python3.5/site-packages/ipykernel/__main__.py:23: DataConversionWarning: A column-vector y was passed when a 1d array was expected. Please change the shape of y to (n_samples,), for example using ravel().\n"
     ]
    },
    {
     "name": "stdout",
     "output_type": "stream",
     "text": [
      "Thresh=0.000, n=354, RMSE= 0.1170074158\n"
     ]
    },
    {
     "name": "stderr",
     "output_type": "stream",
     "text": [
      "/Library/Frameworks/Python.framework/Versions/3.5/lib/python3.5/site-packages/ipykernel/__main__.py:23: DataConversionWarning: A column-vector y was passed when a 1d array was expected. Please change the shape of y to (n_samples,), for example using ravel().\n"
     ]
    },
    {
     "ename": "KeyboardInterrupt",
     "evalue": "",
     "output_type": "error",
     "traceback": [
      "\u001b[0;31m---------------------------------------------------------------------------\u001b[0m",
      "\u001b[0;31mKeyboardInterrupt\u001b[0m                         Traceback (most recent call last)",
      "\u001b[0;32m<ipython-input-12-2a1a1743deea>\u001b[0m in \u001b[0;36m<module>\u001b[0;34m()\u001b[0m\n\u001b[1;32m     21\u001b[0m     \u001b[0;31m# train model\u001b[0m\u001b[0;34m\u001b[0m\u001b[0;34m\u001b[0m\u001b[0m\n\u001b[1;32m     22\u001b[0m     \u001b[0mselection_model\u001b[0m \u001b[0;34m=\u001b[0m \u001b[0mRandomForestRegressor\u001b[0m\u001b[0;34m(\u001b[0m\u001b[0mn_estimators\u001b[0m\u001b[0;34m=\u001b[0m\u001b[0;36m5000\u001b[0m\u001b[0;34m,\u001b[0m \u001b[0mmax_depth\u001b[0m\u001b[0;34m=\u001b[0m\u001b[0;36m8\u001b[0m\u001b[0;34m,\u001b[0m \u001b[0mmax_features\u001b[0m\u001b[0;34m=\u001b[0m\u001b[0;34m'sqrt'\u001b[0m\u001b[0;34m,\u001b[0m\u001b[0mmin_samples_split\u001b[0m\u001b[0;34m=\u001b[0m\u001b[0;36m20\u001b[0m\u001b[0;34m,\u001b[0m\u001b[0mn_jobs\u001b[0m\u001b[0;34m=\u001b[0m\u001b[0;34m-\u001b[0m\u001b[0;36m1\u001b[0m\u001b[0;34m)\u001b[0m\u001b[0;34m\u001b[0m\u001b[0m\n\u001b[0;32m---> 23\u001b[0;31m     \u001b[0mselection_model\u001b[0m\u001b[0;34m.\u001b[0m\u001b[0mfit\u001b[0m\u001b[0;34m(\u001b[0m\u001b[0mselect_X_train\u001b[0m\u001b[0;34m,\u001b[0m \u001b[0my_test\u001b[0m\u001b[0;34m)\u001b[0m\u001b[0;34m\u001b[0m\u001b[0m\n\u001b[0m\u001b[1;32m     24\u001b[0m     \u001b[0;31m# eval model\u001b[0m\u001b[0;34m\u001b[0m\u001b[0;34m\u001b[0m\u001b[0m\n\u001b[1;32m     25\u001b[0m     \u001b[0mselect_X_test\u001b[0m \u001b[0;34m=\u001b[0m \u001b[0mselection\u001b[0m\u001b[0;34m.\u001b[0m\u001b[0mtransform\u001b[0m\u001b[0;34m(\u001b[0m\u001b[0mtrain_df_munged\u001b[0m\u001b[0;34m)\u001b[0m\u001b[0;34m\u001b[0m\u001b[0m\n",
      "\u001b[0;32m/Library/Frameworks/Python.framework/Versions/3.5/lib/python3.5/site-packages/sklearn/ensemble/forest.py\u001b[0m in \u001b[0;36mfit\u001b[0;34m(self, X, y, sample_weight)\u001b[0m\n\u001b[1;32m    312\u001b[0m             \u001b[0;32mfor\u001b[0m \u001b[0mi\u001b[0m \u001b[0;32min\u001b[0m \u001b[0mrange\u001b[0m\u001b[0;34m(\u001b[0m\u001b[0mn_more_estimators\u001b[0m\u001b[0;34m)\u001b[0m\u001b[0;34m:\u001b[0m\u001b[0;34m\u001b[0m\u001b[0m\n\u001b[1;32m    313\u001b[0m                 tree = self._make_estimator(append=False,\n\u001b[0;32m--> 314\u001b[0;31m                                             random_state=random_state)\n\u001b[0m\u001b[1;32m    315\u001b[0m                 \u001b[0mtrees\u001b[0m\u001b[0;34m.\u001b[0m\u001b[0mappend\u001b[0m\u001b[0;34m(\u001b[0m\u001b[0mtree\u001b[0m\u001b[0;34m)\u001b[0m\u001b[0;34m\u001b[0m\u001b[0m\n\u001b[1;32m    316\u001b[0m \u001b[0;34m\u001b[0m\u001b[0m\n",
      "\u001b[0;32m/Library/Frameworks/Python.framework/Versions/3.5/lib/python3.5/site-packages/sklearn/ensemble/base.py\u001b[0m in \u001b[0;36m_make_estimator\u001b[0;34m(self, append, random_state)\u001b[0m\n\u001b[1;32m    117\u001b[0m         \u001b[0msub\u001b[0m\u001b[0;34m-\u001b[0m\u001b[0mestimators\u001b[0m\u001b[0;34m.\u001b[0m\u001b[0;34m\u001b[0m\u001b[0m\n\u001b[1;32m    118\u001b[0m         \"\"\"\n\u001b[0;32m--> 119\u001b[0;31m         \u001b[0mestimator\u001b[0m \u001b[0;34m=\u001b[0m \u001b[0mclone\u001b[0m\u001b[0;34m(\u001b[0m\u001b[0mself\u001b[0m\u001b[0;34m.\u001b[0m\u001b[0mbase_estimator_\u001b[0m\u001b[0;34m)\u001b[0m\u001b[0;34m\u001b[0m\u001b[0m\n\u001b[0m\u001b[1;32m    120\u001b[0m         estimator.set_params(**dict((p, getattr(self, p))\n\u001b[1;32m    121\u001b[0m                                     for p in self.estimator_params))\n",
      "\u001b[0;32m/Library/Frameworks/Python.framework/Versions/3.5/lib/python3.5/site-packages/sklearn/base.py\u001b[0m in \u001b[0;36mclone\u001b[0;34m(estimator, safe)\u001b[0m\n\u001b[1;32m     69\u001b[0m         \u001b[0mnew_object_params\u001b[0m\u001b[0;34m[\u001b[0m\u001b[0mname\u001b[0m\u001b[0;34m]\u001b[0m \u001b[0;34m=\u001b[0m \u001b[0mclone\u001b[0m\u001b[0;34m(\u001b[0m\u001b[0mparam\u001b[0m\u001b[0;34m,\u001b[0m \u001b[0msafe\u001b[0m\u001b[0;34m=\u001b[0m\u001b[0;32mFalse\u001b[0m\u001b[0;34m)\u001b[0m\u001b[0;34m\u001b[0m\u001b[0m\n\u001b[1;32m     70\u001b[0m     \u001b[0mnew_object\u001b[0m \u001b[0;34m=\u001b[0m \u001b[0mklass\u001b[0m\u001b[0;34m(\u001b[0m\u001b[0;34m**\u001b[0m\u001b[0mnew_object_params\u001b[0m\u001b[0;34m)\u001b[0m\u001b[0;34m\u001b[0m\u001b[0m\n\u001b[0;32m---> 71\u001b[0;31m     \u001b[0mparams_set\u001b[0m \u001b[0;34m=\u001b[0m \u001b[0mnew_object\u001b[0m\u001b[0;34m.\u001b[0m\u001b[0mget_params\u001b[0m\u001b[0;34m(\u001b[0m\u001b[0mdeep\u001b[0m\u001b[0;34m=\u001b[0m\u001b[0;32mFalse\u001b[0m\u001b[0;34m)\u001b[0m\u001b[0;34m\u001b[0m\u001b[0m\n\u001b[0m\u001b[1;32m     72\u001b[0m \u001b[0;34m\u001b[0m\u001b[0m\n\u001b[1;32m     73\u001b[0m     \u001b[0;31m# quick sanity check of the parameters of the clone\u001b[0m\u001b[0;34m\u001b[0m\u001b[0;34m\u001b[0m\u001b[0m\n",
      "\u001b[0;32m/Library/Frameworks/Python.framework/Versions/3.5/lib/python3.5/site-packages/sklearn/base.py\u001b[0m in \u001b[0;36mget_params\u001b[0;34m(self, deep)\u001b[0m\n\u001b[1;32m    241\u001b[0m             \u001b[0;32mtry\u001b[0m\u001b[0;34m:\u001b[0m\u001b[0;34m\u001b[0m\u001b[0m\n\u001b[1;32m    242\u001b[0m                 \u001b[0;32mwith\u001b[0m \u001b[0mwarnings\u001b[0m\u001b[0;34m.\u001b[0m\u001b[0mcatch_warnings\u001b[0m\u001b[0;34m(\u001b[0m\u001b[0mrecord\u001b[0m\u001b[0;34m=\u001b[0m\u001b[0;32mTrue\u001b[0m\u001b[0;34m)\u001b[0m \u001b[0;32mas\u001b[0m \u001b[0mw\u001b[0m\u001b[0;34m:\u001b[0m\u001b[0;34m\u001b[0m\u001b[0m\n\u001b[0;32m--> 243\u001b[0;31m                     \u001b[0mvalue\u001b[0m \u001b[0;34m=\u001b[0m \u001b[0mgetattr\u001b[0m\u001b[0;34m(\u001b[0m\u001b[0mself\u001b[0m\u001b[0;34m,\u001b[0m \u001b[0mkey\u001b[0m\u001b[0;34m,\u001b[0m \u001b[0;32mNone\u001b[0m\u001b[0;34m)\u001b[0m\u001b[0;34m\u001b[0m\u001b[0m\n\u001b[0m\u001b[1;32m    244\u001b[0m                 \u001b[0;32mif\u001b[0m \u001b[0mlen\u001b[0m\u001b[0;34m(\u001b[0m\u001b[0mw\u001b[0m\u001b[0;34m)\u001b[0m \u001b[0;32mand\u001b[0m \u001b[0mw\u001b[0m\u001b[0;34m[\u001b[0m\u001b[0;36m0\u001b[0m\u001b[0;34m]\u001b[0m\u001b[0;34m.\u001b[0m\u001b[0mcategory\u001b[0m \u001b[0;34m==\u001b[0m \u001b[0mDeprecationWarning\u001b[0m\u001b[0;34m:\u001b[0m\u001b[0;34m\u001b[0m\u001b[0m\n\u001b[1;32m    245\u001b[0m                     \u001b[0;31m# if the parameter is deprecated, don't show it\u001b[0m\u001b[0;34m\u001b[0m\u001b[0;34m\u001b[0m\u001b[0m\n",
      "\u001b[0;32m/Library/Frameworks/Python.framework/Versions/3.5/lib/python3.5/warnings.py\u001b[0m in \u001b[0;36m__exit__\u001b[0;34m(self, *exc_info)\u001b[0m\n\u001b[1;32m    389\u001b[0m         \u001b[0;32mif\u001b[0m \u001b[0;32mnot\u001b[0m \u001b[0mself\u001b[0m\u001b[0;34m.\u001b[0m\u001b[0m_entered\u001b[0m\u001b[0;34m:\u001b[0m\u001b[0;34m\u001b[0m\u001b[0m\n\u001b[1;32m    390\u001b[0m             \u001b[0;32mraise\u001b[0m \u001b[0mRuntimeError\u001b[0m\u001b[0;34m(\u001b[0m\u001b[0;34m\"Cannot exit %r without entering first\"\u001b[0m \u001b[0;34m%\u001b[0m \u001b[0mself\u001b[0m\u001b[0;34m)\u001b[0m\u001b[0;34m\u001b[0m\u001b[0m\n\u001b[0;32m--> 391\u001b[0;31m         \u001b[0mself\u001b[0m\u001b[0;34m.\u001b[0m\u001b[0m_module\u001b[0m\u001b[0;34m.\u001b[0m\u001b[0mfilters\u001b[0m \u001b[0;34m=\u001b[0m \u001b[0mself\u001b[0m\u001b[0;34m.\u001b[0m\u001b[0m_filters\u001b[0m\u001b[0;34m\u001b[0m\u001b[0m\n\u001b[0m\u001b[1;32m    392\u001b[0m         \u001b[0mself\u001b[0m\u001b[0;34m.\u001b[0m\u001b[0m_module\u001b[0m\u001b[0;34m.\u001b[0m\u001b[0m_filters_mutated\u001b[0m\u001b[0;34m(\u001b[0m\u001b[0;34m)\u001b[0m\u001b[0;34m\u001b[0m\u001b[0m\n\u001b[1;32m    393\u001b[0m         \u001b[0mself\u001b[0m\u001b[0;34m.\u001b[0m\u001b[0m_module\u001b[0m\u001b[0;34m.\u001b[0m\u001b[0mshowwarning\u001b[0m \u001b[0;34m=\u001b[0m \u001b[0mself\u001b[0m\u001b[0;34m.\u001b[0m\u001b[0m_showwarning\u001b[0m\u001b[0;34m\u001b[0m\u001b[0m\n",
      "\u001b[0;31mKeyboardInterrupt\u001b[0m: "
     ]
    }
   ],
=======
   "execution_count": null,
   "metadata": {
    "collapsed": false
   },
   "outputs": [],
>>>>>>> cf42abfd3744c89910b63f59ec719226011efcca:Project4-MachineLearning/kaggle_wannjiun_sharan/feature_selection.ipynb
   "source": [
    "## Random Forest\n",
    "\n",
    "rf_regr = RandomForestRegressor(n_estimators=5000, max_depth=8, max_features='sqrt',min_samples_split=20,n_jobs=-1)\n",
    "rf_regr.fit(train_df_munged, label_df)\n",
    "\n",
    "# Run prediction on training set to get a rough idea of how well it does.\n",
    "y_train_pred_rf = rf_regr.predict(train_df_munged)\n",
    "y_test = label_df\n",
    "print(\"Random Forest score on training set: \", rmse(y_test, y_train_pred_rf))\n",
    "\n",
    "# Run prediction on the Kaggle test set.\n",
    "y_test_pred_rf = rf_regr.predict(test_df_munged)\n",
    "\n",
    "# Fit model using each importance as a threshold\n",
    "thresholds = sort(rf_regr.feature_importances_)\n",
    "#thresholds = sort([0.1,0.2])\n",
    "for thresh in thresholds:\n",
    "    # select features using threshold\n",
    "    selection = SelectFromModel(rf_regr, threshold=thresh, prefit=True)\n",
    "    select_X_train = selection.transform(train_df_munged)\n",
    "    # train model\n",
    "    selection_model = RandomForestRegressor(n_estimators=5000, max_depth=8, max_features='sqrt',min_samples_split=20,n_jobs=-1) \n",
    "    selection_model.fit(select_X_train, y_test)\n",
    "    # eval model\n",
    "    select_X_test = selection.transform(train_df_munged)\n",
    "    \n",
    "    y_pred = selection_model.predict(select_X_test)\n",
    "    print(\"Thresh=%.3f, n=%d, RMSE= %.10f\" % (thresh, select_X_train.shape[1], rmse(y_test, y_pred)))"
   ]
  },
  {
   "cell_type": "code",
   "execution_count": null,
   "metadata": {
    "collapsed": false
   },
   "outputs": [],
   "source": [
    "gbm_grid = GradientBoostingRegressor(max_features='sqrt')\n",
    "\n",
    "parameter_grid = {'max_depth' : [4,6,8],\n",
    "                 'n_estimators': [5000],\n",
    "                 'min_samples_split':[5,10,15,20]}\n",
    "\n",
    "cross_validation = StratifiedKFold(label_df['SalePrice'], n_folds=5)\n",
    "\n",
    "grid_search_gbm = GridSearchCV(gbm_grid,\n",
    "                           param_grid = parameter_grid,\n",
    "                           cv = cross_validation)\n",
    "\n",
    "grid_search_gbm.fit(train_df_munged, label_df)\n",
    "\n",
    "print('Best score (GradientBoostingRegressor): {}'.format(grid_search_gbm.best_score_))\n",
    "print('Best parameters: {}'.format(grid_search_gbm.best_params_))\n",
    "\n",
    "y_train_pred_gbm = grid_search_gbm.best_estimator_.predict(train_df_munged)\n",
    "print(\"GBM score on training set: \", rmse(label_df,y_train_pred_gbm))\n",
    "y_test_pred_gbm = grid_search_gbm.best_estimator_.predict(test_df_munged)"
   ]
  },
  {
   "cell_type": "code",
   "execution_count": null,
   "metadata": {
    "collapsed": false
   },
   "outputs": [],
   "source": [
    "#y_final = (1*np.ravel(y_test_pred_xgb) + 1*np.ravel(y_test_pred_kridge) + 1*np.ravel(y_test_pred_lasso))/3\n",
    "#y_final = 1*np.ravel(y_test_pred_et)\n",
    "y_final = 1*np.ravel(y_test_pred_et_selec)\n",
    "y_final.shape"
   ]
  },
  {
   "cell_type": "code",
   "execution_count": null,
   "metadata": {
    "collapsed": false
   },
   "outputs": [],
   "source": [
    "y_pred = np.exp(y_final)\n",
    "\n",
    "# Final Conversion.\n",
    "#output_file = 'xg_ls_rd_feat_selec'\n",
    "output_file = 'et_selec'\n",
    "final_file = '0111_'+ output_file +'.csv'\n",
    "\n",
    "pred_df = pd.DataFrame(y_pred, index=test_df[\"Id\"], columns=[\"SalePrice\"])\n",
    "pred_df.shape\n",
    "pred_df.to_csv(path+final_file, header=True, index_label='Id')"
   ]
  },
  {
   "cell_type": "code",
   "execution_count": null,
   "metadata": {
    "collapsed": true
   },
   "outputs": [],
   "source": []
  }
 ],
 "metadata": {
  "anaconda-cloud": {},
  "kernelspec": {
   "display_name": "Python 3",
   "language": "python",
   "name": "python3"
  },
  "language_info": {
   "codemirror_mode": {
    "name": "ipython",
    "version": 3
   },
   "file_extension": ".py",
   "mimetype": "text/x-python",
   "name": "python",
   "nbconvert_exporter": "python",
   "pygments_lexer": "ipython3",
   "version": "3.5.2"
  }
 },
 "nbformat": 4,
 "nbformat_minor": 0
}
