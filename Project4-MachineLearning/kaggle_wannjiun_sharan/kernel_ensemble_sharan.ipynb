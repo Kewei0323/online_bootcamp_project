{
 "cells": [
  {
   "cell_type": "code",
   "execution_count": 1,
   "metadata": {
    "collapsed": false
   },
   "outputs": [
    {
     "name": "stderr",
     "output_type": "stream",
     "text": [
      "/Library/Frameworks/Python.framework/Versions/3.5/lib/python3.5/site-packages/sklearn/cross_validation.py:44: DeprecationWarning: This module was deprecated in version 0.18 in favor of the model_selection module into which all the refactored classes and functions are moved. Also note that the interface of the new CV iterators are different from that of this module. This module will be removed in 0.20.\n",
      "  \"This module will be removed in 0.20.\", DeprecationWarning)\n"
     ]
    }
   ],
   "source": [
    "import pandas as pd\n",
    "import numpy as np\n",
    "import gc\n",
    "import sys\n",
    "from sys import stdout\n",
    "#sys.path.append(path+'/src/python/')\n",
    "from time import time\n",
    "\n",
    "from scipy import stats\n",
    "import matplotlib.pyplot as plt\n",
    "%matplotlib inline\n",
    "import matplotlib.gridspec as gridspec\n",
    "import matplotlib as mpl\n",
    "import seaborn as sns\n",
    "from seaborn.linearmodels import *\n",
    "\n",
    "import xgboost as xgb\n",
    "\n",
    "from sklearn.cross_validation import KFold, StratifiedKFold\n",
    "from sklearn.ensemble import RandomForestRegressor, GradientBoostingRegressor,ExtraTreesRegressor\n",
    "from sklearn.cross_validation import train_test_split\n",
    "from sklearn import metrics\n",
    "from sklearn.metrics import mean_squared_error\n",
    "def rmse(y_true, y_pred):\n",
    "    return np.sqrt(mean_squared_error(y_true, y_pred)) \n",
    "\n",
    "path = './data/'\n",
    "train_file = path + 'train.csv'\n",
    "test_file = path + 'test.csv'"
   ]
  },
  {
   "cell_type": "code",
   "execution_count": 2,
   "metadata": {
    "collapsed": true
   },
   "outputs": [],
   "source": [
    "train_df = pd.read_csv(train_file)\n",
    "test_df = pd.read_csv(test_file) "
   ]
  },
  {
   "cell_type": "code",
   "execution_count": 3,
   "metadata": {
    "collapsed": false
   },
   "outputs": [
    {
     "name": "stdout",
     "output_type": "stream",
     "text": [
      "<class 'pandas.core.frame.DataFrame'>\n",
      "RangeIndex: 1460 entries, 0 to 1459\n",
      "Data columns (total 81 columns):\n",
      "Id               1460 non-null int64\n",
      "MSSubClass       1460 non-null int64\n",
      "MSZoning         1460 non-null object\n",
      "LotFrontage      1201 non-null float64\n",
      "LotArea          1460 non-null int64\n",
      "Street           1460 non-null object\n",
      "Alley            91 non-null object\n",
      "LotShape         1460 non-null object\n",
      "LandContour      1460 non-null object\n",
      "Utilities        1460 non-null object\n",
      "LotConfig        1460 non-null object\n",
      "LandSlope        1460 non-null object\n",
      "Neighborhood     1460 non-null object\n",
      "Condition1       1460 non-null object\n",
      "Condition2       1460 non-null object\n",
      "BldgType         1460 non-null object\n",
      "HouseStyle       1460 non-null object\n",
      "OverallQual      1460 non-null int64\n",
      "OverallCond      1460 non-null int64\n",
      "YearBuilt        1460 non-null int64\n",
      "YearRemodAdd     1460 non-null int64\n",
      "RoofStyle        1460 non-null object\n",
      "RoofMatl         1460 non-null object\n",
      "Exterior1st      1460 non-null object\n",
      "Exterior2nd      1460 non-null object\n",
      "MasVnrType       1452 non-null object\n",
      "MasVnrArea       1452 non-null float64\n",
      "ExterQual        1460 non-null object\n",
      "ExterCond        1460 non-null object\n",
      "Foundation       1460 non-null object\n",
      "BsmtQual         1423 non-null object\n",
      "BsmtCond         1423 non-null object\n",
      "BsmtExposure     1422 non-null object\n",
      "BsmtFinType1     1423 non-null object\n",
      "BsmtFinSF1       1460 non-null int64\n",
      "BsmtFinType2     1422 non-null object\n",
      "BsmtFinSF2       1460 non-null int64\n",
      "BsmtUnfSF        1460 non-null int64\n",
      "TotalBsmtSF      1460 non-null int64\n",
      "Heating          1460 non-null object\n",
      "HeatingQC        1460 non-null object\n",
      "CentralAir       1460 non-null object\n",
      "Electrical       1459 non-null object\n",
      "1stFlrSF         1460 non-null int64\n",
      "2ndFlrSF         1460 non-null int64\n",
      "LowQualFinSF     1460 non-null int64\n",
      "GrLivArea        1460 non-null int64\n",
      "BsmtFullBath     1460 non-null int64\n",
      "BsmtHalfBath     1460 non-null int64\n",
      "FullBath         1460 non-null int64\n",
      "HalfBath         1460 non-null int64\n",
      "BedroomAbvGr     1460 non-null int64\n",
      "KitchenAbvGr     1460 non-null int64\n",
      "KitchenQual      1460 non-null object\n",
      "TotRmsAbvGrd     1460 non-null int64\n",
      "Functional       1460 non-null object\n",
      "Fireplaces       1460 non-null int64\n",
      "FireplaceQu      770 non-null object\n",
      "GarageType       1379 non-null object\n",
      "GarageYrBlt      1379 non-null float64\n",
      "GarageFinish     1379 non-null object\n",
      "GarageCars       1460 non-null int64\n",
      "GarageArea       1460 non-null int64\n",
      "GarageQual       1379 non-null object\n",
      "GarageCond       1379 non-null object\n",
      "PavedDrive       1460 non-null object\n",
      "WoodDeckSF       1460 non-null int64\n",
      "OpenPorchSF      1460 non-null int64\n",
      "EnclosedPorch    1460 non-null int64\n",
      "3SsnPorch        1460 non-null int64\n",
      "ScreenPorch      1460 non-null int64\n",
      "PoolArea         1460 non-null int64\n",
      "PoolQC           7 non-null object\n",
      "Fence            281 non-null object\n",
      "MiscFeature      54 non-null object\n",
      "MiscVal          1460 non-null int64\n",
      "MoSold           1460 non-null int64\n",
      "YrSold           1460 non-null int64\n",
      "SaleType         1460 non-null object\n",
      "SaleCondition    1460 non-null object\n",
      "SalePrice        1460 non-null int64\n",
      "dtypes: float64(3), int64(35), object(43)\n",
      "memory usage: 924.0+ KB\n"
     ]
    }
   ],
   "source": [
    "train_df.info()"
   ]
  },
  {
   "cell_type": "code",
   "execution_count": 4,
   "metadata": {
    "collapsed": false
   },
   "outputs": [
    {
     "name": "stdout",
     "output_type": "stream",
     "text": [
      "(1456, 111)\n",
      "(1459, 111)\n",
      "Training set size: (1456, 403)\n",
      "Test set size: (1459, 403)\n"
     ]
    }
   ],
   "source": [
    "train_df.drop(train_df[train_df[\"GrLivArea\"] > 4000].index, inplace=True)\n",
    "\n",
    "test_df.loc[666, \"GarageQual\"] = \"TA\"\n",
    "test_df.loc[666, \"GarageCond\"] = \"TA\"\n",
    "test_df.loc[666, \"GarageFinish\"] = \"Unf\"\n",
    "test_df.loc[666, \"GarageYrBlt\"] = \"1980\"\n",
    "\n",
    "test_df.loc[1116, \"GarageType\"] = np.nan\n",
    "\n",
    "lot_frontage_by_neighborhood = train_df[\"LotFrontage\"].groupby(train_df[\"Neighborhood\"])\n",
    "\n",
    "# Used to convert categorical features into ordinal numbers.\n",
    "# (There's probably an easier way to do this, but it works.)\n",
    "from sklearn.preprocessing import LabelEncoder\n",
    "le = LabelEncoder()\n",
    "\n",
    "def factorize(df, factor_df, column, fill_na=None):\n",
    "    factor_df[column] = df[column]\n",
    "    if fill_na is not None:\n",
    "        factor_df[column].fillna(fill_na, inplace=True)\n",
    "    le.fit(factor_df[column].unique())\n",
    "    factor_df[column] = le.transform(factor_df[column])\n",
    "    return factor_df\n",
    "\n",
    "# Combine all the (numerical) features into one big DataFrame. We don't add \n",
    "# the one-hot encoded variables here yet, that happens later on.\n",
    "def munge(df):\n",
    "    all_df = pd.DataFrame(index = df.index)\n",
    "   \n",
    "    all_df[\"LotFrontage\"] = df[\"LotFrontage\"]   \n",
    "    for key, group in lot_frontage_by_neighborhood:\n",
    "        idx = (df[\"Neighborhood\"] == key) & (df[\"LotFrontage\"].isnull())\n",
    "        all_df.loc[idx, \"LotFrontage\"] = group.median()    \n",
    "\n",
    "    all_df[\"LotArea\"] = df[\"LotArea\"]\n",
    "\n",
    "    all_df[\"MasVnrArea\"] = df[\"MasVnrArea\"]\n",
    "    all_df[\"MasVnrArea\"].fillna(0, inplace=True)\n",
    "   \n",
    "    all_df[\"BsmtFinSF1\"] = df[\"BsmtFinSF1\"]\n",
    "    all_df[\"BsmtFinSF1\"].fillna(0, inplace=True)\n",
    "\n",
    "    all_df[\"BsmtFinSF2\"] = df[\"BsmtFinSF2\"]\n",
    "    all_df[\"BsmtFinSF2\"].fillna(0, inplace=True)\n",
    "\n",
    "    all_df[\"BsmtUnfSF\"] = df[\"BsmtUnfSF\"]\n",
    "    all_df[\"BsmtUnfSF\"].fillna(0, inplace=True)\n",
    "\n",
    "    all_df[\"TotalBsmtSF\"] = df[\"TotalBsmtSF\"]\n",
    "    all_df[\"TotalBsmtSF\"].fillna(0, inplace=True)\n",
    "\n",
    "    all_df[\"1stFlrSF\"] = df[\"1stFlrSF\"]\n",
    "    all_df[\"2ndFlrSF\"] = df[\"2ndFlrSF\"]\n",
    "    all_df[\"GrLivArea\"] = df[\"GrLivArea\"]\n",
    "    \n",
    "    all_df[\"GarageArea\"] = df[\"GarageArea\"]\n",
    "    all_df[\"GarageArea\"].fillna(0, inplace=True)\n",
    "\n",
    "    all_df[\"WoodDeckSF\"] = df[\"WoodDeckSF\"]\n",
    "    all_df[\"OpenPorchSF\"] = df[\"OpenPorchSF\"]\n",
    "    all_df[\"EnclosedPorch\"] = df[\"EnclosedPorch\"]\n",
    "    all_df[\"3SsnPorch\"] = df[\"3SsnPorch\"]\n",
    "    all_df[\"ScreenPorch\"] = df[\"ScreenPorch\"]\n",
    "    \n",
    "    all_df[\"BsmtFullBath\"] = df[\"BsmtFullBath\"]\n",
    "    all_df[\"BsmtFullBath\"].fillna(0, inplace=True)\n",
    "\n",
    "    all_df[\"BsmtHalfBath\"] = df[\"BsmtHalfBath\"]\n",
    "    all_df[\"BsmtHalfBath\"].fillna(0, inplace=True)\n",
    "\n",
    "    all_df[\"FullBath\"] = df[\"FullBath\"] \n",
    "    all_df[\"HalfBath\"] = df[\"HalfBath\"] \n",
    "    all_df[\"BedroomAbvGr\"] = df[\"BedroomAbvGr\"] \n",
    "    all_df[\"KitchenAbvGr\"] = df[\"KitchenAbvGr\"] \n",
    "    all_df[\"TotRmsAbvGrd\"] = df[\"TotRmsAbvGrd\"] \n",
    "    all_df[\"Fireplaces\"] = df[\"Fireplaces\"] \n",
    "\n",
    "    all_df[\"GarageCars\"] = df[\"GarageCars\"]\n",
    "    all_df[\"GarageCars\"].fillna(0, inplace=True)\n",
    "\n",
    "    all_df[\"CentralAir\"] = (df[\"CentralAir\"] == \"Y\") * 1.0\n",
    "   \n",
    "    all_df[\"OverallQual\"] = df[\"OverallQual\"]\n",
    "    all_df[\"OverallCond\"] = df[\"OverallCond\"]\n",
    "\n",
    "    # Quality measurements are stored as text but we can convert them to \n",
    "    # numbers where a higher number means higher quality.\n",
    "\n",
    "    qual_dict = {None: 0, \"Po\": 1, \"Fa\": 2, \"TA\": 3, \"Gd\": 4, \"Ex\": 5}\n",
    "    all_df[\"ExterQual\"] = df[\"ExterQual\"].map(qual_dict).astype(int)\n",
    "    all_df[\"ExterCond\"] = df[\"ExterCond\"].map(qual_dict).astype(int)\n",
    "    all_df[\"BsmtQual\"] = df[\"BsmtQual\"].map(qual_dict).astype(int)\n",
    "    all_df[\"BsmtCond\"] = df[\"BsmtCond\"].map(qual_dict).astype(int)\n",
    "    all_df[\"HeatingQC\"] = df[\"HeatingQC\"].map(qual_dict).astype(int)\n",
    "    all_df[\"KitchenQual\"] = df[\"KitchenQual\"].map(qual_dict).astype(int)\n",
    "    all_df[\"FireplaceQu\"] = df[\"FireplaceQu\"].map(qual_dict).astype(int)\n",
    "    all_df[\"GarageQual\"] = df[\"GarageQual\"].map(qual_dict).astype(int)\n",
    "    all_df[\"GarageCond\"] = df[\"GarageCond\"].map(qual_dict).astype(int)\n",
    "\n",
    "    all_df[\"BsmtExposure\"] = df[\"BsmtExposure\"].map(\n",
    "        {None: 0, \"No\": 1, \"Mn\": 2, \"Av\": 3, \"Gd\": 4}).astype(int)\n",
    "\n",
    "    bsmt_fin_dict = {None: 0, \"Unf\": 1, \"LwQ\": 2, \"Rec\": 3, \"BLQ\": 4, \"ALQ\": 5, \"GLQ\": 6}\n",
    "    all_df[\"BsmtFinType1\"] = df[\"BsmtFinType1\"].map(bsmt_fin_dict).astype(int)\n",
    "    all_df[\"BsmtFinType2\"] = df[\"BsmtFinType2\"].map(bsmt_fin_dict).astype(int)\n",
    "\n",
    "    all_df[\"Functional\"] = df[\"Functional\"].map(\n",
    "        {None: 0, \"Sal\": 1, \"Sev\": 2, \"Maj2\": 3, \"Maj1\": 4, \n",
    "         \"Mod\": 5, \"Min2\": 6, \"Min1\": 7, \"Typ\": 8}).astype(int)\n",
    "\n",
    "    all_df[\"GarageFinish\"] = df[\"GarageFinish\"].map(\n",
    "        {None: 0, \"Unf\": 1, \"RFn\": 2, \"Fin\": 3}).astype(int)\n",
    "\n",
    "    all_df[\"Fence\"] = df[\"Fence\"].map(\n",
    "        {None: 0, \"MnWw\": 1, \"GdWo\": 2, \"MnPrv\": 3, \"GdPrv\": 4}).astype(int)\n",
    "\n",
    "    all_df[\"YearBuilt\"] = df[\"YearBuilt\"]\n",
    "    all_df[\"YearRemodAdd\"] = df[\"YearRemodAdd\"]\n",
    "\n",
    "    all_df[\"GarageYrBlt\"] = df[\"GarageYrBlt\"]\n",
    "    all_df[\"GarageYrBlt\"].fillna(0.0, inplace=True)\n",
    "\n",
    "    all_df[\"MoSold\"] = df[\"MoSold\"]\n",
    "    all_df[\"YrSold\"] = df[\"YrSold\"]\n",
    "    \n",
    "    all_df[\"LowQualFinSF\"] = df[\"LowQualFinSF\"]\n",
    "    all_df[\"MiscVal\"] = df[\"MiscVal\"]\n",
    "\n",
    "    all_df[\"PoolQC\"] = df[\"PoolQC\"].map(qual_dict).astype(int)\n",
    "\n",
    "    all_df[\"PoolArea\"] = df[\"PoolArea\"]\n",
    "    all_df[\"PoolArea\"].fillna(0, inplace=True)\n",
    "    \n",
    "    # Add categorical features as numbers too. It seems to help a bit.\n",
    "    all_df = factorize(df, all_df, \"MSSubClass\")\n",
    "    all_df = factorize(df, all_df, \"MSZoning\", \"RL\")\n",
    "    all_df = factorize(df, all_df, \"LotConfig\")\n",
    "    all_df = factorize(df, all_df, \"Neighborhood\")\n",
    "    all_df = factorize(df, all_df, \"Condition1\")\n",
    "    all_df = factorize(df, all_df, \"BldgType\")\n",
    "    all_df = factorize(df, all_df, \"HouseStyle\")\n",
    "    all_df = factorize(df, all_df, \"RoofStyle\")\n",
    "    all_df = factorize(df, all_df, \"Exterior1st\", \"Other\")\n",
    "    all_df = factorize(df, all_df, \"Exterior2nd\", \"Other\")\n",
    "    all_df = factorize(df, all_df, \"MasVnrType\", \"None\")\n",
    "    all_df = factorize(df, all_df, \"Foundation\")\n",
    "    all_df = factorize(df, all_df, \"SaleType\", \"Oth\")\n",
    "    all_df = factorize(df, all_df, \"SaleCondition\")\n",
    "\n",
    "    # IR2 and IR3 don't appear that often, so just make a distinction\n",
    "    # between regular and irregular.\n",
    "    all_df[\"IsRegularLotShape\"] = (df[\"LotShape\"] == \"Reg\") * 1\n",
    "\n",
    "    # Most properties are level; bin the other possibilities together\n",
    "    # as \"not level\".\n",
    "    all_df[\"IsLandLevel\"] = (df[\"LandContour\"] == \"Lvl\") * 1\n",
    "\n",
    "    # Most land slopes are gentle; treat the others as \"not gentle\".\n",
    "    all_df[\"IsLandSlopeGentle\"] = (df[\"LandSlope\"] == \"Gtl\") * 1\n",
    "\n",
    "    # Most properties use standard circuit breakers.\n",
    "    all_df[\"IsElectricalSBrkr\"] = (df[\"Electrical\"] == \"SBrkr\") * 1\n",
    "\n",
    "    # About 2/3rd have an attached garage.\n",
    "    all_df[\"IsGarageDetached\"] = (df[\"GarageType\"] == \"Detchd\") * 1\n",
    "\n",
    "    # Most have a paved drive. Treat dirt/gravel and partial pavement\n",
    "    # as \"not paved\".\n",
    "    all_df[\"IsPavedDrive\"] = (df[\"PavedDrive\"] == \"Y\") * 1\n",
    "\n",
    "    # The only interesting \"misc. feature\" is the presence of a shed.\n",
    "    all_df[\"HasShed\"] = (df[\"MiscFeature\"] == \"Shed\") * 1.  \n",
    "\n",
    "    # If YearRemodAdd != YearBuilt, then a remodeling took place at some point.\n",
    "    all_df[\"Remodeled\"] = (all_df[\"YearRemodAdd\"] != all_df[\"YearBuilt\"]) * 1\n",
    "    \n",
    "    # Did a remodeling happen in the year the house was sold?\n",
    "    all_df[\"RecentRemodel\"] = (all_df[\"YearRemodAdd\"] == all_df[\"YrSold\"]) * 1\n",
    "    \n",
    "    # Was this house sold in the year it was built?\n",
    "    all_df[\"VeryNewHouse\"] = (all_df[\"YearBuilt\"] == all_df[\"YrSold\"]) * 1\n",
    "\n",
    "    all_df[\"Has2ndFloor\"] = (all_df[\"2ndFlrSF\"] == 0) * 1\n",
    "    all_df[\"HasMasVnr\"] = (all_df[\"MasVnrArea\"] == 0) * 1\n",
    "    all_df[\"HasWoodDeck\"] = (all_df[\"WoodDeckSF\"] == 0) * 1\n",
    "    all_df[\"HasOpenPorch\"] = (all_df[\"OpenPorchSF\"] == 0) * 1\n",
    "    all_df[\"HasEnclosedPorch\"] = (all_df[\"EnclosedPorch\"] == 0) * 1\n",
    "    all_df[\"Has3SsnPorch\"] = (all_df[\"3SsnPorch\"] == 0) * 1\n",
    "    all_df[\"HasScreenPorch\"] = (all_df[\"ScreenPorch\"] == 0) * 1\n",
    "\n",
    "    # These features actually lower the score a little.\n",
    "    # all_df[\"HasBasement\"] = df[\"BsmtQual\"].isnull() * 1\n",
    "    # all_df[\"HasGarage\"] = df[\"GarageQual\"].isnull() * 1\n",
    "    # all_df[\"HasFireplace\"] = df[\"FireplaceQu\"].isnull() * 1\n",
    "    # all_df[\"HasFence\"] = df[\"Fence\"].isnull() * 1\n",
    "\n",
    "    # Months with the largest number of deals may be significant.\n",
    "    all_df[\"HighSeason\"] = df[\"MoSold\"].replace( \n",
    "        {1: 0, 2: 0, 3: 0, 4: 1, 5: 1, 6: 1, 7: 1, 8: 0, 9: 0, 10: 0, 11: 0, 12: 0})\n",
    "\n",
    "    all_df[\"NewerDwelling\"] = df[\"MSSubClass\"].replace(\n",
    "        {20: 1, 30: 0, 40: 0, 45: 0,50: 0, 60: 1, 70: 0, 75: 0, 80: 0, 85: 0,\n",
    "         90: 0, 120: 1, 150: 0, 160: 0, 180: 0, 190: 0})   \n",
    "    \n",
    "    all_df.loc[df.Neighborhood == 'NridgHt', \"Neighborhood_Good\"] = 1\n",
    "    all_df.loc[df.Neighborhood == 'Crawfor', \"Neighborhood_Good\"] = 1\n",
    "    all_df.loc[df.Neighborhood == 'StoneBr', \"Neighborhood_Good\"] = 1\n",
    "    all_df.loc[df.Neighborhood == 'Somerst', \"Neighborhood_Good\"] = 1\n",
    "    all_df.loc[df.Neighborhood == 'NoRidge', \"Neighborhood_Good\"] = 1\n",
    "    all_df[\"Neighborhood_Good\"].fillna(0, inplace=True)\n",
    "\n",
    "    all_df[\"SaleCondition_PriceDown\"] = df.SaleCondition.replace(\n",
    "        {'Abnorml': 1, 'Alloca': 1, 'AdjLand': 1, 'Family': 1, 'Normal': 0, 'Partial': 0})\n",
    "\n",
    "    # House completed before sale or not\n",
    "    all_df[\"BoughtOffPlan\"] = df.SaleCondition.replace(\n",
    "        {\"Abnorml\" : 0, \"Alloca\" : 0, \"AdjLand\" : 0, \"Family\" : 0, \"Normal\" : 0, \"Partial\" : 1})\n",
    "    \n",
    "    all_df[\"BadHeating\"] = df.HeatingQC.replace(\n",
    "        {'Ex': 0, 'Gd': 0, 'TA': 0, 'Fa': 1, 'Po': 1})\n",
    "\n",
    "    area_cols = ['LotFrontage', 'LotArea', 'MasVnrArea', 'BsmtFinSF1', 'BsmtFinSF2', 'BsmtUnfSF',\n",
    "                 'TotalBsmtSF', '1stFlrSF', '2ndFlrSF', 'GrLivArea', 'GarageArea', 'WoodDeckSF', \n",
    "                 'OpenPorchSF', 'EnclosedPorch', '3SsnPorch', 'ScreenPorch', 'LowQualFinSF', 'PoolArea' ]\n",
    "    all_df[\"TotalArea\"] = all_df[area_cols].sum(axis=1)\n",
    "\n",
    "    all_df[\"TotalArea1st2nd\"] = all_df[\"1stFlrSF\"] + all_df[\"2ndFlrSF\"]\n",
    "\n",
    "    all_df[\"Age\"] = 2010 - all_df[\"YearBuilt\"]\n",
    "    all_df[\"TimeSinceSold\"] = 2010 - all_df[\"YrSold\"]\n",
    "\n",
    "    all_df[\"SeasonSold\"] = all_df[\"MoSold\"].map({12:0, 1:0, 2:0, 3:1, 4:1, 5:1, \n",
    "                                                  6:2, 7:2, 8:2, 9:3, 10:3, 11:3}).astype(int)\n",
    "    \n",
    "    all_df[\"YearsSinceRemodel\"] = all_df[\"YrSold\"] - all_df[\"YearRemodAdd\"]\n",
    "    \n",
    "    # Simplifications of existing features into bad/average/good.\n",
    "    all_df[\"SimplOverallQual\"] = all_df.OverallQual.replace(\n",
    "        {1 : 1, 2 : 1, 3 : 1, 4 : 2, 5 : 2, 6 : 2, 7 : 3, 8 : 3, 9 : 3, 10 : 3})\n",
    "    all_df[\"SimplOverallCond\"] = all_df.OverallCond.replace(\n",
    "        {1 : 1, 2 : 1, 3 : 1, 4 : 2, 5 : 2, 6 : 2, 7 : 3, 8 : 3, 9 : 3, 10 : 3})\n",
    "    all_df[\"SimplPoolQC\"] = all_df.PoolQC.replace(\n",
    "        {1 : 1, 2 : 1, 3 : 2, 4 : 2})\n",
    "    all_df[\"SimplGarageCond\"] = all_df.GarageCond.replace(\n",
    "        {1 : 1, 2 : 1, 3 : 1, 4 : 2, 5 : 2})\n",
    "    all_df[\"SimplGarageQual\"] = all_df.GarageQual.replace(\n",
    "        {1 : 1, 2 : 1, 3 : 1, 4 : 2, 5 : 2})\n",
    "    all_df[\"SimplFireplaceQu\"] = all_df.FireplaceQu.replace(\n",
    "        {1 : 1, 2 : 1, 3 : 1, 4 : 2, 5 : 2})\n",
    "    all_df[\"SimplFireplaceQu\"] = all_df.FireplaceQu.replace(\n",
    "        {1 : 1, 2 : 1, 3 : 1, 4 : 2, 5 : 2})\n",
    "    all_df[\"SimplFunctional\"] = all_df.Functional.replace(\n",
    "        {1 : 1, 2 : 1, 3 : 2, 4 : 2, 5 : 3, 6 : 3, 7 : 3, 8 : 4})\n",
    "    all_df[\"SimplKitchenQual\"] = all_df.KitchenQual.replace(\n",
    "        {1 : 1, 2 : 1, 3 : 1, 4 : 2, 5 : 2})\n",
    "    all_df[\"SimplHeatingQC\"] = all_df.HeatingQC.replace(\n",
    "        {1 : 1, 2 : 1, 3 : 1, 4 : 2, 5 : 2})\n",
    "    all_df[\"SimplBsmtFinType1\"] = all_df.BsmtFinType1.replace(\n",
    "        {1 : 1, 2 : 1, 3 : 1, 4 : 2, 5 : 2, 6 : 2})\n",
    "    all_df[\"SimplBsmtFinType2\"] = all_df.BsmtFinType2.replace(\n",
    "        {1 : 1, 2 : 1, 3 : 1, 4 : 2, 5 : 2, 6 : 2})\n",
    "    all_df[\"SimplBsmtCond\"] = all_df.BsmtCond.replace(\n",
    "        {1 : 1, 2 : 1, 3 : 1, 4 : 2, 5 : 2})\n",
    "    all_df[\"SimplBsmtQual\"] = all_df.BsmtQual.replace(\n",
    "        {1 : 1, 2 : 1, 3 : 1, 4 : 2, 5 : 2})\n",
    "    all_df[\"SimplExterCond\"] = all_df.ExterCond.replace(\n",
    "        {1 : 1, 2 : 1, 3 : 1, 4 : 2, 5 : 2})\n",
    "    all_df[\"SimplExterQual\"] = all_df.ExterQual.replace(\n",
    "        {1 : 1, 2 : 1, 3 : 1, 4 : 2, 5 : 2})\n",
    "            \n",
    "    # Bin by neighborhood (a little arbitrarily). Values were computed by: \n",
    "    # train_df[\"SalePrice\"].groupby(train_df[\"Neighborhood\"]).median().sort_values()\n",
    "    neighborhood_map = {\n",
    "        \"MeadowV\" : 0,  #  88000\n",
    "        \"IDOTRR\" : 1,   # 103000\n",
    "        \"BrDale\" : 1,   # 106000\n",
    "        \"OldTown\" : 1,  # 119000\n",
    "        \"Edwards\" : 1,  # 119500\n",
    "        \"BrkSide\" : 1,  # 124300\n",
    "        \"Sawyer\" : 1,   # 135000\n",
    "        \"Blueste\" : 1,  # 137500\n",
    "        \"SWISU\" : 2,    # 139500\n",
    "        \"NAmes\" : 2,    # 140000\n",
    "        \"NPkVill\" : 2,  # 146000\n",
    "        \"Mitchel\" : 2,  # 153500\n",
    "        \"SawyerW\" : 2,  # 179900\n",
    "        \"Gilbert\" : 2,  # 181000\n",
    "        \"NWAmes\" : 2,   # 182900\n",
    "        \"Blmngtn\" : 2,  # 191000\n",
    "        \"CollgCr\" : 2,  # 197200\n",
    "        \"ClearCr\" : 3,  # 200250\n",
    "        \"Crawfor\" : 3,  # 200624\n",
    "        \"Veenker\" : 3,  # 218000\n",
    "        \"Somerst\" : 3,  # 225500\n",
    "        \"Timber\" : 3,   # 228475\n",
    "        \"StoneBr\" : 4,  # 278000\n",
    "        \"NoRidge\" : 4,  # 290000\n",
    "        \"NridgHt\" : 4,  # 315000\n",
    "    }\n",
    "\n",
    "    all_df[\"NeighborhoodBin\"] = df[\"Neighborhood\"].map(neighborhood_map)\n",
    "    return all_df\n",
    "\n",
    "train_df_munged = munge(train_df)\n",
    "test_df_munged = munge(test_df)\n",
    "\n",
    "print(train_df_munged.shape)\n",
    "print(test_df_munged.shape)\n",
    "\n",
    "# Copy NeighborhoodBin into a temporary DataFrame because we want to use the\n",
    "# unscaled version later on (to one-hot encode it). \n",
    "neighborhood_bin_train = pd.DataFrame(index = train_df.index)\n",
    "neighborhood_bin_train[\"NeighborhoodBin\"] = train_df_munged[\"NeighborhoodBin\"]\n",
    "neighborhood_bin_test = pd.DataFrame(index = test_df.index)\n",
    "neighborhood_bin_test[\"NeighborhoodBin\"] = test_df_munged[\"NeighborhoodBin\"]\n",
    "\n",
    "################################################################################\n",
    "\n",
    "numeric_features = train_df_munged.dtypes[train_df_munged.dtypes != \"object\"].index\n",
    "\n",
    "# Transform the skewed numeric features by taking log(feature + 1).\n",
    "# This will make the features more normal.\n",
    "from scipy.stats import skew\n",
    "\n",
    "skewed = train_df_munged[numeric_features].apply(lambda x: skew(x.dropna().astype(float)))\n",
    "skewed = skewed[skewed > 0.75]\n",
    "skewed = skewed.index\n",
    "\n",
    "train_df_munged[skewed] = np.log1p(train_df_munged[skewed])\n",
    "test_df_munged[skewed] = np.log1p(test_df_munged[skewed])\n",
    "\n",
    "# Additional processing: scale the data.   \n",
    "from sklearn.preprocessing import StandardScaler\n",
    "scaler = StandardScaler()\n",
    "scaler.fit(train_df_munged[numeric_features])\n",
    "\n",
    "scaled = scaler.transform(train_df_munged[numeric_features])\n",
    "for i, col in enumerate(numeric_features):\n",
    "    train_df_munged[col] = scaled[:, i]\n",
    "\n",
    "scaled = scaler.transform(test_df_munged[numeric_features])\n",
    "for i, col in enumerate(numeric_features):\n",
    "    test_df_munged[col] = scaled[:, i]\n",
    "\n",
    "################################################################################\n",
    "\n",
    "# Convert categorical features using one-hot encoding.\n",
    "def onehot(onehot_df, df, column_name, fill_na, drop_name):\n",
    "    onehot_df[column_name] = df[column_name]\n",
    "    if fill_na is not None:\n",
    "        onehot_df[column_name].fillna(fill_na, inplace=True)\n",
    "\n",
    "    dummies = pd.get_dummies(onehot_df[column_name], prefix=\"_\" + column_name)\n",
    "    \n",
    "    # Dropping one of the columns actually made the results slightly worse.\n",
    "    # if drop_name is not None:\n",
    "    #     dummies.drop([\"_\" + column_name + \"_\" + drop_name], axis=1, inplace=True)\n",
    "\n",
    "    onehot_df = onehot_df.join(dummies)\n",
    "    onehot_df = onehot_df.drop([column_name], axis=1)\n",
    "    return onehot_df\n",
    "\n",
    "def munge_onehot(df):\n",
    "    onehot_df = pd.DataFrame(index = df.index)\n",
    "\n",
    "    onehot_df = onehot(onehot_df, df, \"MSSubClass\", None, \"40\")\n",
    "    onehot_df = onehot(onehot_df, df, \"MSZoning\", \"RL\", \"RH\")\n",
    "    onehot_df = onehot(onehot_df, df, \"LotConfig\", None, \"FR3\")\n",
    "    onehot_df = onehot(onehot_df, df, \"Neighborhood\", None, \"OldTown\")\n",
    "    onehot_df = onehot(onehot_df, df, \"Condition1\", None, \"RRNe\")\n",
    "    onehot_df = onehot(onehot_df, df, \"BldgType\", None, \"2fmCon\")\n",
    "    onehot_df = onehot(onehot_df, df, \"HouseStyle\", None, \"1.5Unf\")\n",
    "    onehot_df = onehot(onehot_df, df, \"RoofStyle\", None, \"Shed\")\n",
    "    onehot_df = onehot(onehot_df, df, \"Exterior1st\", \"VinylSd\", \"CBlock\")\n",
    "    onehot_df = onehot(onehot_df, df, \"Exterior2nd\", \"VinylSd\", \"CBlock\")\n",
    "    onehot_df = onehot(onehot_df, df, \"Foundation\", None, \"Wood\")\n",
    "    onehot_df = onehot(onehot_df, df, \"SaleType\", \"WD\", \"Oth\")\n",
    "    onehot_df = onehot(onehot_df, df, \"SaleCondition\", \"Normal\", \"AdjLand\")\n",
    "\n",
    "    # Fill in missing MasVnrType for rows that do have a MasVnrArea.\n",
    "    temp_df = df[[\"MasVnrType\", \"MasVnrArea\"]].copy()\n",
    "    idx = (df[\"MasVnrArea\"] != 0) & ((df[\"MasVnrType\"] == \"None\") | (df[\"MasVnrType\"].isnull()))\n",
    "    temp_df.loc[idx, \"MasVnrType\"] = \"BrkFace\"\n",
    "    onehot_df = onehot(onehot_df, temp_df, \"MasVnrType\", \"None\", \"BrkCmn\")\n",
    "\n",
    "    # Also add the booleans from calc_df as dummy variables.\n",
    "    onehot_df = onehot(onehot_df, df, \"LotShape\", None, \"IR3\")\n",
    "    onehot_df = onehot(onehot_df, df, \"LandContour\", None, \"Low\")\n",
    "    onehot_df = onehot(onehot_df, df, \"LandSlope\", None, \"Sev\")\n",
    "    onehot_df = onehot(onehot_df, df, \"Electrical\", \"SBrkr\", \"FuseP\")\n",
    "    onehot_df = onehot(onehot_df, df, \"GarageType\", \"None\", \"CarPort\")\n",
    "    onehot_df = onehot(onehot_df, df, \"PavedDrive\", None, \"P\")\n",
    "    onehot_df = onehot(onehot_df, df, \"MiscFeature\", \"None\", \"Othr\")\n",
    "\n",
    "    # Features we can probably ignore (but want to include anyway to see\n",
    "    # if they make any positive difference).\n",
    "    # Definitely ignoring Utilities: all records are \"AllPub\", except for\n",
    "    # one \"NoSeWa\" in the train set and 2 NA in the test set.\n",
    "    onehot_df = onehot(onehot_df, df, \"Street\", None, \"Grvl\")\n",
    "    onehot_df = onehot(onehot_df, df, \"Alley\", \"None\", \"Grvl\")\n",
    "    onehot_df = onehot(onehot_df, df, \"Condition2\", None, \"PosA\")\n",
    "    onehot_df = onehot(onehot_df, df, \"RoofMatl\", None, \"WdShake\")\n",
    "    onehot_df = onehot(onehot_df, df, \"Heating\", None, \"Wall\")\n",
    "\n",
    "    # I have these as numerical variables too.\n",
    "    onehot_df = onehot(onehot_df, df, \"ExterQual\", \"None\", \"Ex\")\n",
    "    onehot_df = onehot(onehot_df, df, \"ExterCond\", \"None\", \"Ex\")\n",
    "    onehot_df = onehot(onehot_df, df, \"BsmtQual\", \"None\", \"Ex\")\n",
    "    onehot_df = onehot(onehot_df, df, \"BsmtCond\", \"None\", \"Ex\")\n",
    "    onehot_df = onehot(onehot_df, df, \"HeatingQC\", \"None\", \"Ex\")\n",
    "    onehot_df = onehot(onehot_df, df, \"KitchenQual\", \"TA\", \"Ex\")\n",
    "    onehot_df = onehot(onehot_df, df, \"FireplaceQu\", \"None\", \"Ex\")\n",
    "    onehot_df = onehot(onehot_df, df, \"GarageQual\", \"None\", \"Ex\")\n",
    "    onehot_df = onehot(onehot_df, df, \"GarageCond\", \"None\", \"Ex\")\n",
    "    onehot_df = onehot(onehot_df, df, \"PoolQC\", \"None\", \"Ex\")\n",
    "    onehot_df = onehot(onehot_df, df, \"BsmtExposure\", \"None\", \"Gd\")\n",
    "    onehot_df = onehot(onehot_df, df, \"BsmtFinType1\", \"None\", \"GLQ\")\n",
    "    onehot_df = onehot(onehot_df, df, \"BsmtFinType2\", \"None\", \"GLQ\")\n",
    "    onehot_df = onehot(onehot_df, df, \"Functional\", \"Typ\", \"Typ\")\n",
    "    onehot_df = onehot(onehot_df, df, \"GarageFinish\", \"None\", \"Fin\")\n",
    "    onehot_df = onehot(onehot_df, df, \"Fence\", \"None\", \"MnPrv\")\n",
    "    onehot_df = onehot(onehot_df, df, \"MoSold\", None, None)\n",
    "    \n",
    "    # Divide up the years between 1871 and 2010 in slices of 20 years.\n",
    "    year_map = pd.concat(pd.Series(\"YearBin\" + str(i+1), index=range(1871+i*20,1891+i*20)) for i in range(0, 7))\n",
    "\n",
    "    yearbin_df = pd.DataFrame(index = df.index)\n",
    "    yearbin_df[\"GarageYrBltBin\"] = df.GarageYrBlt.map(year_map)\n",
    "    yearbin_df[\"GarageYrBltBin\"].fillna(\"NoGarage\", inplace=True)\n",
    "\n",
    "    yearbin_df[\"YearBuiltBin\"] = df.YearBuilt.map(year_map)\n",
    "    yearbin_df[\"YearRemodAddBin\"] = df.YearRemodAdd.map(year_map)\n",
    "    \n",
    "    onehot_df = onehot(onehot_df, yearbin_df, \"GarageYrBltBin\", None, None)\n",
    "    onehot_df = onehot(onehot_df, yearbin_df, \"YearBuiltBin\", None, None)\n",
    "    onehot_df = onehot(onehot_df, yearbin_df, \"YearRemodAddBin\", None, None)\n",
    "\n",
    "    return onehot_df\n",
    "\n",
    "# Add the one-hot encoded categorical features.\n",
    "onehot_df = munge_onehot(train_df)\n",
    "onehot_df = onehot(onehot_df, neighborhood_bin_train, \"NeighborhoodBin\", None, None)\n",
    "train_df_munged = train_df_munged.join(onehot_df)\n",
    "\n",
    "# These onehot columns are missing in the test data, so drop them from the\n",
    "# training data or we might overfit on them.\n",
    "drop_cols = [\n",
    "                \"_Exterior1st_ImStucc\", \"_Exterior1st_Stone\",\n",
    "                \"_Exterior2nd_Other\",\"_HouseStyle_2.5Fin\", \n",
    "            \n",
    "                \"_RoofMatl_Membran\", \"_RoofMatl_Metal\", \"_RoofMatl_Roll\",\n",
    "                \"_Condition2_RRAe\", \"_Condition2_RRAn\", \"_Condition2_RRNn\",\n",
    "                \"_Heating_Floor\", \"_Heating_OthW\",\n",
    "\n",
    "                \"_Electrical_Mix\", \n",
    "                \"_MiscFeature_TenC\",\n",
    "                \"_GarageQual_Ex\", \"_PoolQC_Fa\"\n",
    "            ]\n",
    "train_df_munged.drop(drop_cols, axis=1, inplace=True)\n",
    "\n",
    "onehot_df = munge_onehot(test_df)\n",
    "onehot_df = onehot(onehot_df, neighborhood_bin_test, \"NeighborhoodBin\", None, None)\n",
    "test_df_munged = test_df_munged.join(onehot_df)\n",
    "\n",
    "# This column is missing in the training data. There is only one example with\n",
    "# this value in the test set. So just drop it.\n",
    "test_df_munged.drop([\"_MSSubClass_150\"], axis=1, inplace=True)\n",
    "\n",
    "# Drop these columns. They are either not very helpful or they cause overfitting.\n",
    "drop_cols = [\n",
    "    \"_Condition2_PosN\",    # only two are not zero\n",
    "    \"_MSZoning_C (all)\",\n",
    "    \"_MSSubClass_160\",\n",
    "]\n",
    "train_df_munged.drop(drop_cols, axis=1, inplace=True)\n",
    "test_df_munged.drop(drop_cols, axis=1, inplace=True)\n",
    "\n",
    "################################################################################\n",
    "\n",
    "# We take the log here because the error metric is between the log of the\n",
    "# SalePrice and the log of the predicted price. That does mean we need to \n",
    "# exp() the prediction to get an actual sale price.\n",
    "label_df = pd.DataFrame(index = train_df_munged.index, columns=[\"SalePrice\"])\n",
    "label_df[\"SalePrice\"] = np.log(train_df[\"SalePrice\"])\n",
    "\n",
    "print(\"Training set size:\", train_df_munged.shape)\n",
    "print(\"Test set size:\", test_df_munged.shape)"
   ]
  },
  {
   "cell_type": "code",
   "execution_count": 98,
   "metadata": {
    "collapsed": false
   },
   "outputs": [
    {
     "name": "stdout",
     "output_type": "stream",
     "text": [
      "XGBoost score on training set:  0.0671731289779\n"
     ]
    }
   ],
   "source": [
    "# XGBoost -- I did some \"manual\" cross-validation here but should really find\n",
    "# these hyperparameters using CV. ;-)\n",
    "\n",
    "xgb_regr = xgb.XGBRegressor(\n",
    "                 colsample_bytree=0.2,\n",
    "                 gamma=0.0,\n",
    "                 learning_rate=0.01,\n",
    "                 max_depth=4,\n",
    "                 min_child_weight=1.5,\n",
    "                 n_estimators=7200,                                                                  \n",
    "                 reg_alpha=0.9,\n",
    "                 reg_lambda=0.6,\n",
    "                 subsample=0.2,\n",
    "                 seed=42,\n",
    "                 silent=1)\n",
    "\n",
    "xgb_regr.fit(train_df_munged, label_df)\n",
    "\n",
    "# Run prediction on training set to get a rough idea of how well it does.\n",
    "y_train_pred_xgb = xgb_regr.predict(train_df_munged)\n",
    "y_test = label_df\n",
    "print(\"XGBoost score on training set: \", rmse(y_test, y_train_pred_xgb))\n",
    "\n",
    "# Run prediction on the Kaggle test set.\n",
    "y_test_pred_xgb = xgb_regr.predict(test_df_munged)"
   ]
  },
  {
   "cell_type": "code",
   "execution_count": 6,
   "metadata": {
    "collapsed": false
   },
   "outputs": [
    {
     "data": {
      "text/plain": [
       "array(['SalePrice'], dtype=object)"
      ]
     },
     "execution_count": 6,
     "metadata": {},
     "output_type": "execute_result"
    }
   ],
   "source": [
    "label_df.columns.values"
   ]
  },
  {
   "cell_type": "code",
   "execution_count": 7,
   "metadata": {
    "collapsed": false
   },
   "outputs": [
    {
     "name": "stderr",
     "output_type": "stream",
     "text": [
      "/Library/Frameworks/Python.framework/Versions/3.5/lib/python3.5/site-packages/sklearn/grid_search.py:43: DeprecationWarning: This module was deprecated in version 0.18 in favor of the model_selection module into which all the refactored classes and functions are moved. This module will be removed in 0.20.\n",
      "  DeprecationWarning)\n",
      "/Library/Frameworks/Python.framework/Versions/3.5/lib/python3.5/site-packages/sklearn/cross_validation.py:552: Warning: The least populated class in y has only 1 members, which is too few. The minimum number of labels for any class cannot be less than n_folds=5.\n",
      "  % (min_labels, self.n_folds)), Warning)\n"
     ]
    },
    {
     "name": "stdout",
     "output_type": "stream",
     "text": [
      "Best score: 0.8655027391296536\n",
      "Best parameters: {'max_depth': 4, 'n_estimators': 100}\n"
     ]
    }
   ],
   "source": [
    "## Xgboost gridsearch\n",
    "from sklearn.grid_search import GridSearchCV\n",
    "from sklearn.metrics import r2_score\n",
    "\n",
    "xtreme_forest = xgb.XGBRegressor()\n",
    "\n",
    "parameter_grid = {\n",
    "                 'max_depth' : [4,5,6],\n",
    "                 'n_estimators':[100]\n",
    "                 #'n_estimators': [200,210,240,250],\n",
    "                 #'min_child_weight': [1,2,3,4]\n",
    "                 }\n",
    "\n",
    "cross_validation = StratifiedKFold(np.array(label_df['SalePrice']), n_folds=5)\n",
    "\n",
    "grid_search_xgboost = GridSearchCV(xtreme_forest,\n",
    "                           param_grid=parameter_grid,\n",
    "                           scoring= \"r2\",\n",
    "                           cv=cross_validation)\n",
    "\n",
    "grid_search_xgboost.fit(train_df_munged, label_df)\n",
    "\n",
    "print('Best score: {}'.format(grid_search_xgboost.best_score_))\n",
    "print('Best parameters: {}'.format(grid_search_xgboost.best_params_))"
   ]
  },
  {
   "cell_type": "code",
   "execution_count": 10,
   "metadata": {
    "collapsed": false
   },
   "outputs": [
    {
     "data": {
      "text/plain": [
       "0.8655027391296536"
      ]
     },
     "execution_count": 10,
     "metadata": {},
     "output_type": "execute_result"
    }
   ],
   "source": [
    "grid_search_xgboost.best_score_"
   ]
  },
  {
   "cell_type": "code",
   "execution_count": 95,
   "metadata": {
    "collapsed": false
   },
   "outputs": [
    {
     "name": "stdout",
     "output_type": "stream",
     "text": [
      "Lasso score on training set:  0.10155983007\n"
     ]
    }
   ],
   "source": [
    "from sklearn.linear_model import Lasso\n",
    "\n",
    "# I found this best alpha through cross-validation.\n",
    "best_alpha = 0.00099\n",
    "\n",
    "lasso_regr = Lasso(alpha=best_alpha, max_iter=50000)\n",
    "lasso_regr.fit(train_df_munged, label_df)\n",
    "\n",
    "# Run prediction on training set to get a rough idea of how well it does.\n",
    "y_train_pred_lasso = lasso_regr.predict(train_df_munged)\n",
    "y_test = label_df\n",
    "print(\"Lasso score on training set: \", rmse(y_test, y_train_pred_lasso))\n",
    "\n",
    "# Run prediction on the Kaggle test set.\n",
    "y_test_pred_lasso = lasso_regr.predict(test_df_munged)"
   ]
  },
  {
   "cell_type": "code",
   "execution_count": 97,
   "metadata": {
    "collapsed": false
   },
   "outputs": [
    {
     "name": "stderr",
     "output_type": "stream",
     "text": [
      "/Library/Frameworks/Python.framework/Versions/3.5/lib/python3.5/site-packages/ipykernel/__main__.py:4: DataConversionWarning: A column-vector y was passed when a 1d array was expected. Please change the shape of y to (n_samples,), for example using ravel().\n"
     ]
    },
    {
     "name": "stdout",
     "output_type": "stream",
     "text": [
      "Random Forest score on training set:  0.117486108576\n"
     ]
    }
   ],
   "source": [
    "## Random Forest\n",
    "\n",
    "rf_regr = RandomForestRegressor(n_estimators=5000, max_depth=8, max_features='sqrt',min_samples_split=20,n_jobs=-1)\n",
    "rf_regr.fit(train_df_munged, label_df)\n",
    "\n",
    "# Run prediction on training set to get a rough idea of how well it does.\n",
    "y_train_pred_rf = rf_regr.predict(train_df_munged)\n",
    "y_test = label_df\n",
    "print(\"Random Forest score on training set: \", rmse(y_test, y_train_pred_rf))\n",
    "\n",
    "# Run prediction on the Kaggle test set.\n",
    "y_test_pred_rf = rf_regr.predict(test_df_munged)\n"
   ]
  },
  {
   "cell_type": "markdown",
   "metadata": {},
   "source": [
    "Random Forests don't perform well with this dataset"
   ]
  },
  {
   "cell_type": "code",
   "execution_count": 28,
   "metadata": {
    "collapsed": false
   },
   "outputs": [
    {
     "name": "stderr",
     "output_type": "stream",
     "text": [
      "/Library/Frameworks/Python.framework/Versions/3.5/lib/python3.5/site-packages/ipykernel/__main__.py:4: DataConversionWarning: A column-vector y was passed when a 1d array was expected. Please change the shape of y to (n_samples,), for example using ravel().\n"
     ]
    },
    {
     "name": "stdout",
     "output_type": "stream",
     "text": [
      "Extra Trees Regressor score on training set:  0.112615570569\n"
     ]
    }
   ],
   "source": [
    "# Extra Trees Regressor\n",
    "\n",
    "et_regr = ExtraTreesRegressor(n_estimators=5000, max_depth=8, max_features='sqrt',n_jobs=-1)\n",
    "et_regr.fit(train_df_munged, label_df)\n",
    "\n",
    "# Run prediction on training set to get a rough idea of how well it does.\n",
    "y_pred = et_regr.predict(train_df_munged)\n",
    "y_test = label_df\n",
    "print(\"Extra Trees Regressor score on training set: \", rmse(y_test, y_pred))\n",
    "\n",
    "# Run prediction on the Kaggle test set.\n",
    "y_pred_et = et_regr.predict(test_df_munged)"
   ]
  },
  {
   "cell_type": "markdown",
   "metadata": {},
   "source": [
    "Extra Trees Regressor also no where in the range of performance of Lasso XGBoost"
   ]
  },
  {
   "cell_type": "code",
   "execution_count": 29,
   "metadata": {
    "collapsed": false
   },
   "outputs": [
    {
     "name": "stderr",
     "output_type": "stream",
     "text": [
      "/Library/Frameworks/Python.framework/Versions/3.5/lib/python3.5/site-packages/sklearn/cross_validation.py:552: Warning: The least populated class in y has only 1 members, which is too few. The minimum number of labels for any class cannot be less than n_folds=10.\n",
      "  % (min_labels, self.n_folds)), Warning)\n"
     ]
    },
    {
     "name": "stdout",
     "output_type": "stream",
     "text": [
      "Best score: -0.014468488187391585\n",
      "Best parameters: {'kernel': 'polynomial', 'alpha': 0.1, 'degree': 2}\n"
     ]
    }
   ],
   "source": [
    "# Kernel Ridge GridSearch\n",
    "from sklearn.kernel_ridge import KernelRidge\n",
    "\n",
    "kridge_grid = KernelRidge()\n",
    "\n",
    "parameter_grid = {\n",
    "                 'alpha': [0.0001,0.001,0.01,0.1],\n",
    "                 'degree': [1,2,3,4],\n",
    "                 'kernel': ['polynomial']\n",
    "                 #'n_estimators': [200,210,240,250],\n",
    "                 #'min_child_weight': [1,2,3,4]\n",
    "                 }\n",
    "\n",
    "cross_validation = StratifiedKFold(np.array(label_df['SalePrice']), n_folds=10)\n",
    "\n",
    "grid_search_kridge = GridSearchCV(kridge_grid,\n",
    "                           param_grid=parameter_grid,\n",
    "                           scoring= \"neg_mean_squared_error\",\n",
    "                           cv=cross_validation)\n",
    "\n",
    "grid_search_kridge.fit(train_df_munged, label_df)\n",
    "\n",
    "print('Best score: {}'.format(grid_search_kridge.best_score_))\n",
    "print('Best parameters: {}'.format(grid_search_kridge.best_params_))"
   ]
  },
  {
   "cell_type": "code",
   "execution_count": 74,
   "metadata": {
    "collapsed": false
   },
   "outputs": [
    {
     "name": "stdout",
     "output_type": "stream",
     "text": [
      "Kernel Ridge score on training set:  0.060613080189\n"
     ]
    }
   ],
   "source": [
    "y_train_pred_kridge = grid_search_kridge.best_estimator_.predict(train_df_munged)\n",
    "print(\"Kernel Ridge score on training set: \", rmse(label_df,y_train_pred_kridge))\n",
    "y_test_pred_kridge = grid_search_kridge.best_estimator_.predict(test_df_munged)"
   ]
  },
  {
   "cell_type": "code",
   "execution_count": 38,
   "metadata": {
    "collapsed": false
   },
   "outputs": [
    {
     "name": "stderr",
     "output_type": "stream",
     "text": [
      "/Library/Frameworks/Python.framework/Versions/3.5/lib/python3.5/site-packages/sklearn/cross_validation.py:552: Warning: The least populated class in y has only 1 members, which is too few. The minimum number of labels for any class cannot be less than n_folds=5.\n",
      "  % (min_labels, self.n_folds)), Warning)\n",
      "/Library/Frameworks/Python.framework/Versions/3.5/lib/python3.5/site-packages/sklearn/utils/validation.py:526: DataConversionWarning: A column-vector y was passed when a 1d array was expected. Please change the shape of y to (n_samples, ), for example using ravel().\n",
      "  y = column_or_1d(y, warn=True)\n",
      "/Library/Frameworks/Python.framework/Versions/3.5/lib/python3.5/site-packages/sklearn/utils/validation.py:526: DataConversionWarning: A column-vector y was passed when a 1d array was expected. Please change the shape of y to (n_samples, ), for example using ravel().\n",
      "  y = column_or_1d(y, warn=True)\n",
      "/Library/Frameworks/Python.framework/Versions/3.5/lib/python3.5/site-packages/sklearn/utils/validation.py:526: DataConversionWarning: A column-vector y was passed when a 1d array was expected. Please change the shape of y to (n_samples, ), for example using ravel().\n",
      "  y = column_or_1d(y, warn=True)\n",
      "/Library/Frameworks/Python.framework/Versions/3.5/lib/python3.5/site-packages/sklearn/utils/validation.py:526: DataConversionWarning: A column-vector y was passed when a 1d array was expected. Please change the shape of y to (n_samples, ), for example using ravel().\n",
      "  y = column_or_1d(y, warn=True)\n",
      "/Library/Frameworks/Python.framework/Versions/3.5/lib/python3.5/site-packages/sklearn/utils/validation.py:526: DataConversionWarning: A column-vector y was passed when a 1d array was expected. Please change the shape of y to (n_samples, ), for example using ravel().\n",
      "  y = column_or_1d(y, warn=True)\n",
      "/Library/Frameworks/Python.framework/Versions/3.5/lib/python3.5/site-packages/sklearn/utils/validation.py:526: DataConversionWarning: A column-vector y was passed when a 1d array was expected. Please change the shape of y to (n_samples, ), for example using ravel().\n",
      "  y = column_or_1d(y, warn=True)\n",
      "/Library/Frameworks/Python.framework/Versions/3.5/lib/python3.5/site-packages/sklearn/utils/validation.py:526: DataConversionWarning: A column-vector y was passed when a 1d array was expected. Please change the shape of y to (n_samples, ), for example using ravel().\n",
      "  y = column_or_1d(y, warn=True)\n",
      "/Library/Frameworks/Python.framework/Versions/3.5/lib/python3.5/site-packages/sklearn/utils/validation.py:526: DataConversionWarning: A column-vector y was passed when a 1d array was expected. Please change the shape of y to (n_samples, ), for example using ravel().\n",
      "  y = column_or_1d(y, warn=True)\n",
      "/Library/Frameworks/Python.framework/Versions/3.5/lib/python3.5/site-packages/sklearn/utils/validation.py:526: DataConversionWarning: A column-vector y was passed when a 1d array was expected. Please change the shape of y to (n_samples, ), for example using ravel().\n",
      "  y = column_or_1d(y, warn=True)\n",
      "/Library/Frameworks/Python.framework/Versions/3.5/lib/python3.5/site-packages/sklearn/utils/validation.py:526: DataConversionWarning: A column-vector y was passed when a 1d array was expected. Please change the shape of y to (n_samples, ), for example using ravel().\n",
      "  y = column_or_1d(y, warn=True)\n",
      "/Library/Frameworks/Python.framework/Versions/3.5/lib/python3.5/site-packages/sklearn/utils/validation.py:526: DataConversionWarning: A column-vector y was passed when a 1d array was expected. Please change the shape of y to (n_samples, ), for example using ravel().\n",
      "  y = column_or_1d(y, warn=True)\n",
      "/Library/Frameworks/Python.framework/Versions/3.5/lib/python3.5/site-packages/sklearn/utils/validation.py:526: DataConversionWarning: A column-vector y was passed when a 1d array was expected. Please change the shape of y to (n_samples, ), for example using ravel().\n",
      "  y = column_or_1d(y, warn=True)\n",
      "/Library/Frameworks/Python.framework/Versions/3.5/lib/python3.5/site-packages/sklearn/utils/validation.py:526: DataConversionWarning: A column-vector y was passed when a 1d array was expected. Please change the shape of y to (n_samples, ), for example using ravel().\n",
      "  y = column_or_1d(y, warn=True)\n",
      "/Library/Frameworks/Python.framework/Versions/3.5/lib/python3.5/site-packages/sklearn/utils/validation.py:526: DataConversionWarning: A column-vector y was passed when a 1d array was expected. Please change the shape of y to (n_samples, ), for example using ravel().\n",
      "  y = column_or_1d(y, warn=True)\n",
      "/Library/Frameworks/Python.framework/Versions/3.5/lib/python3.5/site-packages/sklearn/utils/validation.py:526: DataConversionWarning: A column-vector y was passed when a 1d array was expected. Please change the shape of y to (n_samples, ), for example using ravel().\n",
      "  y = column_or_1d(y, warn=True)\n",
      "/Library/Frameworks/Python.framework/Versions/3.5/lib/python3.5/site-packages/sklearn/utils/validation.py:526: DataConversionWarning: A column-vector y was passed when a 1d array was expected. Please change the shape of y to (n_samples, ), for example using ravel().\n",
      "  y = column_or_1d(y, warn=True)\n",
      "/Library/Frameworks/Python.framework/Versions/3.5/lib/python3.5/site-packages/sklearn/utils/validation.py:526: DataConversionWarning: A column-vector y was passed when a 1d array was expected. Please change the shape of y to (n_samples, ), for example using ravel().\n",
      "  y = column_or_1d(y, warn=True)\n",
      "/Library/Frameworks/Python.framework/Versions/3.5/lib/python3.5/site-packages/sklearn/utils/validation.py:526: DataConversionWarning: A column-vector y was passed when a 1d array was expected. Please change the shape of y to (n_samples, ), for example using ravel().\n",
      "  y = column_or_1d(y, warn=True)\n",
      "/Library/Frameworks/Python.framework/Versions/3.5/lib/python3.5/site-packages/sklearn/utils/validation.py:526: DataConversionWarning: A column-vector y was passed when a 1d array was expected. Please change the shape of y to (n_samples, ), for example using ravel().\n",
      "  y = column_or_1d(y, warn=True)\n",
      "/Library/Frameworks/Python.framework/Versions/3.5/lib/python3.5/site-packages/sklearn/utils/validation.py:526: DataConversionWarning: A column-vector y was passed when a 1d array was expected. Please change the shape of y to (n_samples, ), for example using ravel().\n",
      "  y = column_or_1d(y, warn=True)\n",
      "/Library/Frameworks/Python.framework/Versions/3.5/lib/python3.5/site-packages/sklearn/utils/validation.py:526: DataConversionWarning: A column-vector y was passed when a 1d array was expected. Please change the shape of y to (n_samples, ), for example using ravel().\n",
      "  y = column_or_1d(y, warn=True)\n",
      "/Library/Frameworks/Python.framework/Versions/3.5/lib/python3.5/site-packages/sklearn/utils/validation.py:526: DataConversionWarning: A column-vector y was passed when a 1d array was expected. Please change the shape of y to (n_samples, ), for example using ravel().\n",
      "  y = column_or_1d(y, warn=True)\n",
      "/Library/Frameworks/Python.framework/Versions/3.5/lib/python3.5/site-packages/sklearn/utils/validation.py:526: DataConversionWarning: A column-vector y was passed when a 1d array was expected. Please change the shape of y to (n_samples, ), for example using ravel().\n",
      "  y = column_or_1d(y, warn=True)\n",
      "/Library/Frameworks/Python.framework/Versions/3.5/lib/python3.5/site-packages/sklearn/utils/validation.py:526: DataConversionWarning: A column-vector y was passed when a 1d array was expected. Please change the shape of y to (n_samples, ), for example using ravel().\n",
      "  y = column_or_1d(y, warn=True)\n",
      "/Library/Frameworks/Python.framework/Versions/3.5/lib/python3.5/site-packages/sklearn/utils/validation.py:526: DataConversionWarning: A column-vector y was passed when a 1d array was expected. Please change the shape of y to (n_samples, ), for example using ravel().\n",
      "  y = column_or_1d(y, warn=True)\n",
      "/Library/Frameworks/Python.framework/Versions/3.5/lib/python3.5/site-packages/sklearn/utils/validation.py:526: DataConversionWarning: A column-vector y was passed when a 1d array was expected. Please change the shape of y to (n_samples, ), for example using ravel().\n",
      "  y = column_or_1d(y, warn=True)\n",
      "/Library/Frameworks/Python.framework/Versions/3.5/lib/python3.5/site-packages/sklearn/utils/validation.py:526: DataConversionWarning: A column-vector y was passed when a 1d array was expected. Please change the shape of y to (n_samples, ), for example using ravel().\n",
      "  y = column_or_1d(y, warn=True)\n",
      "/Library/Frameworks/Python.framework/Versions/3.5/lib/python3.5/site-packages/sklearn/utils/validation.py:526: DataConversionWarning: A column-vector y was passed when a 1d array was expected. Please change the shape of y to (n_samples, ), for example using ravel().\n",
      "  y = column_or_1d(y, warn=True)\n",
      "/Library/Frameworks/Python.framework/Versions/3.5/lib/python3.5/site-packages/sklearn/utils/validation.py:526: DataConversionWarning: A column-vector y was passed when a 1d array was expected. Please change the shape of y to (n_samples, ), for example using ravel().\n",
      "  y = column_or_1d(y, warn=True)\n",
      "/Library/Frameworks/Python.framework/Versions/3.5/lib/python3.5/site-packages/sklearn/utils/validation.py:526: DataConversionWarning: A column-vector y was passed when a 1d array was expected. Please change the shape of y to (n_samples, ), for example using ravel().\n",
      "  y = column_or_1d(y, warn=True)\n",
      "/Library/Frameworks/Python.framework/Versions/3.5/lib/python3.5/site-packages/sklearn/utils/validation.py:526: DataConversionWarning: A column-vector y was passed when a 1d array was expected. Please change the shape of y to (n_samples, ), for example using ravel().\n",
      "  y = column_or_1d(y, warn=True)\n",
      "/Library/Frameworks/Python.framework/Versions/3.5/lib/python3.5/site-packages/sklearn/utils/validation.py:526: DataConversionWarning: A column-vector y was passed when a 1d array was expected. Please change the shape of y to (n_samples, ), for example using ravel().\n",
      "  y = column_or_1d(y, warn=True)\n",
      "/Library/Frameworks/Python.framework/Versions/3.5/lib/python3.5/site-packages/sklearn/utils/validation.py:526: DataConversionWarning: A column-vector y was passed when a 1d array was expected. Please change the shape of y to (n_samples, ), for example using ravel().\n",
      "  y = column_or_1d(y, warn=True)\n",
      "/Library/Frameworks/Python.framework/Versions/3.5/lib/python3.5/site-packages/sklearn/utils/validation.py:526: DataConversionWarning: A column-vector y was passed when a 1d array was expected. Please change the shape of y to (n_samples, ), for example using ravel().\n",
      "  y = column_or_1d(y, warn=True)\n",
      "/Library/Frameworks/Python.framework/Versions/3.5/lib/python3.5/site-packages/sklearn/utils/validation.py:526: DataConversionWarning: A column-vector y was passed when a 1d array was expected. Please change the shape of y to (n_samples, ), for example using ravel().\n",
      "  y = column_or_1d(y, warn=True)\n",
      "/Library/Frameworks/Python.framework/Versions/3.5/lib/python3.5/site-packages/sklearn/utils/validation.py:526: DataConversionWarning: A column-vector y was passed when a 1d array was expected. Please change the shape of y to (n_samples, ), for example using ravel().\n",
      "  y = column_or_1d(y, warn=True)\n",
      "/Library/Frameworks/Python.framework/Versions/3.5/lib/python3.5/site-packages/sklearn/utils/validation.py:526: DataConversionWarning: A column-vector y was passed when a 1d array was expected. Please change the shape of y to (n_samples, ), for example using ravel().\n",
      "  y = column_or_1d(y, warn=True)\n",
      "/Library/Frameworks/Python.framework/Versions/3.5/lib/python3.5/site-packages/sklearn/utils/validation.py:526: DataConversionWarning: A column-vector y was passed when a 1d array was expected. Please change the shape of y to (n_samples, ), for example using ravel().\n",
      "  y = column_or_1d(y, warn=True)\n",
      "/Library/Frameworks/Python.framework/Versions/3.5/lib/python3.5/site-packages/sklearn/utils/validation.py:526: DataConversionWarning: A column-vector y was passed when a 1d array was expected. Please change the shape of y to (n_samples, ), for example using ravel().\n",
      "  y = column_or_1d(y, warn=True)\n",
      "/Library/Frameworks/Python.framework/Versions/3.5/lib/python3.5/site-packages/sklearn/utils/validation.py:526: DataConversionWarning: A column-vector y was passed when a 1d array was expected. Please change the shape of y to (n_samples, ), for example using ravel().\n",
      "  y = column_or_1d(y, warn=True)\n",
      "/Library/Frameworks/Python.framework/Versions/3.5/lib/python3.5/site-packages/sklearn/utils/validation.py:526: DataConversionWarning: A column-vector y was passed when a 1d array was expected. Please change the shape of y to (n_samples, ), for example using ravel().\n",
      "  y = column_or_1d(y, warn=True)\n",
      "/Library/Frameworks/Python.framework/Versions/3.5/lib/python3.5/site-packages/sklearn/utils/validation.py:526: DataConversionWarning: A column-vector y was passed when a 1d array was expected. Please change the shape of y to (n_samples, ), for example using ravel().\n",
      "  y = column_or_1d(y, warn=True)\n",
      "/Library/Frameworks/Python.framework/Versions/3.5/lib/python3.5/site-packages/sklearn/utils/validation.py:526: DataConversionWarning: A column-vector y was passed when a 1d array was expected. Please change the shape of y to (n_samples, ), for example using ravel().\n",
      "  y = column_or_1d(y, warn=True)\n",
      "/Library/Frameworks/Python.framework/Versions/3.5/lib/python3.5/site-packages/sklearn/utils/validation.py:526: DataConversionWarning: A column-vector y was passed when a 1d array was expected. Please change the shape of y to (n_samples, ), for example using ravel().\n",
      "  y = column_or_1d(y, warn=True)\n",
      "/Library/Frameworks/Python.framework/Versions/3.5/lib/python3.5/site-packages/sklearn/utils/validation.py:526: DataConversionWarning: A column-vector y was passed when a 1d array was expected. Please change the shape of y to (n_samples, ), for example using ravel().\n",
      "  y = column_or_1d(y, warn=True)\n",
      "/Library/Frameworks/Python.framework/Versions/3.5/lib/python3.5/site-packages/sklearn/utils/validation.py:526: DataConversionWarning: A column-vector y was passed when a 1d array was expected. Please change the shape of y to (n_samples, ), for example using ravel().\n",
      "  y = column_or_1d(y, warn=True)\n",
      "/Library/Frameworks/Python.framework/Versions/3.5/lib/python3.5/site-packages/sklearn/utils/validation.py:526: DataConversionWarning: A column-vector y was passed when a 1d array was expected. Please change the shape of y to (n_samples, ), for example using ravel().\n",
      "  y = column_or_1d(y, warn=True)\n",
      "/Library/Frameworks/Python.framework/Versions/3.5/lib/python3.5/site-packages/sklearn/utils/validation.py:526: DataConversionWarning: A column-vector y was passed when a 1d array was expected. Please change the shape of y to (n_samples, ), for example using ravel().\n",
      "  y = column_or_1d(y, warn=True)\n",
      "/Library/Frameworks/Python.framework/Versions/3.5/lib/python3.5/site-packages/sklearn/utils/validation.py:526: DataConversionWarning: A column-vector y was passed when a 1d array was expected. Please change the shape of y to (n_samples, ), for example using ravel().\n",
      "  y = column_or_1d(y, warn=True)\n",
      "/Library/Frameworks/Python.framework/Versions/3.5/lib/python3.5/site-packages/sklearn/utils/validation.py:526: DataConversionWarning: A column-vector y was passed when a 1d array was expected. Please change the shape of y to (n_samples, ), for example using ravel().\n",
      "  y = column_or_1d(y, warn=True)\n",
      "/Library/Frameworks/Python.framework/Versions/3.5/lib/python3.5/site-packages/sklearn/utils/validation.py:526: DataConversionWarning: A column-vector y was passed when a 1d array was expected. Please change the shape of y to (n_samples, ), for example using ravel().\n",
      "  y = column_or_1d(y, warn=True)\n",
      "/Library/Frameworks/Python.framework/Versions/3.5/lib/python3.5/site-packages/sklearn/utils/validation.py:526: DataConversionWarning: A column-vector y was passed when a 1d array was expected. Please change the shape of y to (n_samples, ), for example using ravel().\n",
      "  y = column_or_1d(y, warn=True)\n",
      "/Library/Frameworks/Python.framework/Versions/3.5/lib/python3.5/site-packages/sklearn/utils/validation.py:526: DataConversionWarning: A column-vector y was passed when a 1d array was expected. Please change the shape of y to (n_samples, ), for example using ravel().\n",
      "  y = column_or_1d(y, warn=True)\n",
      "/Library/Frameworks/Python.framework/Versions/3.5/lib/python3.5/site-packages/sklearn/utils/validation.py:526: DataConversionWarning: A column-vector y was passed when a 1d array was expected. Please change the shape of y to (n_samples, ), for example using ravel().\n",
      "  y = column_or_1d(y, warn=True)\n",
      "/Library/Frameworks/Python.framework/Versions/3.5/lib/python3.5/site-packages/sklearn/utils/validation.py:526: DataConversionWarning: A column-vector y was passed when a 1d array was expected. Please change the shape of y to (n_samples, ), for example using ravel().\n",
      "  y = column_or_1d(y, warn=True)\n",
      "/Library/Frameworks/Python.framework/Versions/3.5/lib/python3.5/site-packages/sklearn/utils/validation.py:526: DataConversionWarning: A column-vector y was passed when a 1d array was expected. Please change the shape of y to (n_samples, ), for example using ravel().\n",
      "  y = column_or_1d(y, warn=True)\n",
      "/Library/Frameworks/Python.framework/Versions/3.5/lib/python3.5/site-packages/sklearn/utils/validation.py:526: DataConversionWarning: A column-vector y was passed when a 1d array was expected. Please change the shape of y to (n_samples, ), for example using ravel().\n",
      "  y = column_or_1d(y, warn=True)\n",
      "/Library/Frameworks/Python.framework/Versions/3.5/lib/python3.5/site-packages/sklearn/utils/validation.py:526: DataConversionWarning: A column-vector y was passed when a 1d array was expected. Please change the shape of y to (n_samples, ), for example using ravel().\n",
      "  y = column_or_1d(y, warn=True)\n",
      "/Library/Frameworks/Python.framework/Versions/3.5/lib/python3.5/site-packages/sklearn/utils/validation.py:526: DataConversionWarning: A column-vector y was passed when a 1d array was expected. Please change the shape of y to (n_samples, ), for example using ravel().\n",
      "  y = column_or_1d(y, warn=True)\n",
      "/Library/Frameworks/Python.framework/Versions/3.5/lib/python3.5/site-packages/sklearn/utils/validation.py:526: DataConversionWarning: A column-vector y was passed when a 1d array was expected. Please change the shape of y to (n_samples, ), for example using ravel().\n",
      "  y = column_or_1d(y, warn=True)\n",
      "/Library/Frameworks/Python.framework/Versions/3.5/lib/python3.5/site-packages/sklearn/utils/validation.py:526: DataConversionWarning: A column-vector y was passed when a 1d array was expected. Please change the shape of y to (n_samples, ), for example using ravel().\n",
      "  y = column_or_1d(y, warn=True)\n"
     ]
    },
    {
     "name": "stdout",
     "output_type": "stream",
     "text": [
      "Best score: 0.8828656408618457\n",
      "Best parameters: {'min_samples_split': 15, 'max_depth': 4, 'n_estimators': 5000}\n"
     ]
    }
   ],
   "source": [
    "gbm_grid = GradientBoostingRegressor(max_features='sqrt')\n",
    "\n",
    "parameter_grid = {\n",
    "                 'max_depth' : [4,6,8],\n",
    "                 'n_estimators': [5000],\n",
    "                 'min_samples_split':[5,10,15,20]\n",
    "                 }\n",
    "\n",
    "cross_validation = StratifiedKFold(label_df['SalePrice'], n_folds=5)\n",
    "\n",
    "grid_search_gbm = GridSearchCV(gbm_grid,\n",
    "                           param_grid=parameter_grid,\n",
    "                           cv=cross_validation)\n",
    "\n",
    "grid_search_gbm.fit(train_df_munged, label_df)\n",
    "\n",
    "print('Best score: {}'.format(grid_search_gbm.best_score_))\n",
    "print('Best parameters: {}'.format(grid_search_gbm.best_params_))"
   ]
  },
  {
   "cell_type": "code",
   "execution_count": 78,
   "metadata": {
    "collapsed": false
   },
   "outputs": [
    {
     "name": "stdout",
     "output_type": "stream",
     "text": [
      "GBM score on training set:  0.000382064400006\n"
     ]
    }
   ],
   "source": [
    "y_train_pred_gbm = grid_search_gbm.best_estimator_.predict(train_df_munged)\n",
    "print(\"GBM score on training set: \", rmse(label_df,y_train_pred_gbm))\n",
    "y_test_pred_gbm = grid_search_gbm.best_estimator_.predict(test_df_munged)"
   ]
  },
  {
   "cell_type": "code",
   "execution_count": 101,
   "metadata": {
    "collapsed": false
   },
   "outputs": [
    {
     "data": {
      "text/plain": [
       "(1456, 1456)"
      ]
     },
     "execution_count": 101,
     "metadata": {},
     "output_type": "execute_result"
    }
   ],
   "source": [
    "y_pred_avg.shape"
   ]
  },
  {
   "cell_type": "code",
   "execution_count": 207,
   "metadata": {
    "collapsed": false
   },
   "outputs": [
    {
     "name": "stdout",
     "output_type": "stream",
     "text": [
      "RMSE Training Error for ::wt_xgb=0, wt_lasso=0, wt_kridge=1:: = 60.613080189\n",
      "\n",
      "RMSE Training Error for ::wt_xgb=0, wt_lasso=0, wt_kridge=2:: = 60.613080189\n",
      "\n",
      "RMSE Training Error for ::wt_xgb=0, wt_lasso=0, wt_kridge=3:: = 60.613080189\n",
      "\n",
      "RMSE Training Error for ::wt_xgb=0, wt_lasso=0, wt_kridge=4:: = 60.613080189\n",
      "\n",
      "RMSE Training Error for ::wt_xgb=0, wt_lasso=1, wt_kridge=0:: = 101.55983007\n",
      "\n",
      "RMSE Training Error for ::wt_xgb=0, wt_lasso=1, wt_kridge=1:: = 78.7236626469\n",
      "\n",
      "RMSE Training Error for ::wt_xgb=0, wt_lasso=1, wt_kridge=2:: = 71.9666685043\n",
      "\n",
      "RMSE Training Error for ::wt_xgb=0, wt_lasso=1, wt_kridge=3:: = 68.8221691657\n",
      "\n",
      "RMSE Training Error for ::wt_xgb=0, wt_lasso=1, wt_kridge=4:: = 67.0232167527\n",
      "\n",
      "RMSE Training Error for ::wt_xgb=0, wt_lasso=2, wt_kridge=0:: = 101.55983007\n",
      "\n",
      "RMSE Training Error for ::wt_xgb=0, wt_lasso=2, wt_kridge=1:: = 85.9807298579\n",
      "\n",
      "RMSE Training Error for ::wt_xgb=0, wt_lasso=2, wt_kridge=2:: = 78.7236626469\n",
      "\n",
      "RMSE Training Error for ::wt_xgb=0, wt_lasso=2, wt_kridge=3:: = 74.6005361255\n",
      "\n",
      "RMSE Training Error for ::wt_xgb=0, wt_lasso=2, wt_kridge=4:: = 71.9666685043\n",
      "\n",
      "RMSE Training Error for ::wt_xgb=0, wt_lasso=3, wt_kridge=0:: = 101.55983007\n",
      "\n",
      "RMSE Training Error for ::wt_xgb=0, wt_lasso=3, wt_kridge=1:: = 89.7592210617\n",
      "\n",
      "RMSE Training Error for ::wt_xgb=0, wt_lasso=3, wt_kridge=2:: = 83.0260845095\n",
      "\n",
      "RMSE Training Error for ::wt_xgb=0, wt_lasso=3, wt_kridge=3:: = 78.7236626469\n",
      "\n",
      "RMSE Training Error for ::wt_xgb=0, wt_lasso=3, wt_kridge=4:: = 75.758546041\n",
      "\n",
      "RMSE Training Error for ::wt_xgb=0, wt_lasso=4, wt_kridge=0:: = 101.55983007\n",
      "\n",
      "RMSE Training Error for ::wt_xgb=0, wt_lasso=4, wt_kridge=1:: = 92.067278336\n",
      "\n",
      "RMSE Training Error for ::wt_xgb=0, wt_lasso=4, wt_kridge=2:: = 85.9807298579\n",
      "\n",
      "RMSE Training Error for ::wt_xgb=0, wt_lasso=4, wt_kridge=3:: = 81.780153619\n",
      "\n",
      "RMSE Training Error for ::wt_xgb=0, wt_lasso=4, wt_kridge=4:: = 78.7236626469\n",
      "\n",
      "RMSE Training Error for ::wt_xgb=1, wt_lasso=0, wt_kridge=0:: = 67.1731289779\n",
      "\n",
      "RMSE Training Error for ::wt_xgb=1, wt_lasso=0, wt_kridge=1:: = 62.03674099\n",
      "\n",
      "RMSE Training Error for ::wt_xgb=1, wt_lasso=0, wt_kridge=2:: = 61.1229358521\n",
      "\n",
      "RMSE Training Error for ::wt_xgb=1, wt_lasso=0, wt_kridge=3:: = 60.8286020402\n",
      "\n",
      "RMSE Training Error for ::wt_xgb=1, wt_lasso=0, wt_kridge=4:: = 60.7050488288\n",
      "\n",
      "RMSE Training Error for ::wt_xgb=1, wt_lasso=1, wt_kridge=0:: = 82.0674648183\n",
      "\n",
      "RMSE Training Error for ::wt_xgb=1, wt_lasso=1, wt_kridge=1:: = 73.5025248766\n",
      "\n",
      "RMSE Training Error for ::wt_xgb=1, wt_lasso=1, wt_kridge=2:: = 69.6665256738\n",
      "\n",
      "RMSE Training Error for ::wt_xgb=1, wt_lasso=1, wt_kridge=3:: = 67.5378098826\n",
      "\n",
      "RMSE Training Error for ::wt_xgb=1, wt_lasso=1, wt_kridge=4:: = 66.1985402608\n",
      "\n",
      "RMSE Training Error for ::wt_xgb=1, wt_lasso=2, wt_kridge=0:: = 88.1898955945\n",
      "\n",
      "RMSE Training Error for ::wt_xgb=1, wt_lasso=2, wt_kridge=1:: = 80.0319272912\n",
      "\n",
      "RMSE Training Error for ::wt_xgb=1, wt_lasso=2, wt_kridge=2:: = 75.4491278056\n",
      "\n",
      "RMSE Training Error for ::wt_xgb=1, wt_lasso=2, wt_kridge=3:: = 72.5516454244\n",
      "\n",
      "RMSE Training Error for ::wt_xgb=1, wt_lasso=2, wt_kridge=4:: = 70.5695472692\n",
      "\n",
      "RMSE Training Error for ::wt_xgb=1, wt_lasso=3, wt_kridge=0:: = 91.40663316\n",
      "\n",
      "RMSE Training Error for ::wt_xgb=1, wt_lasso=3, wt_kridge=1:: = 84.1352977172\n",
      "\n",
      "RMSE Training Error for ::wt_xgb=1, wt_lasso=3, wt_kridge=2:: = 79.5128476181\n",
      "\n",
      "RMSE Training Error for ::wt_xgb=1, wt_lasso=3, wt_kridge=3:: = 76.3429793555\n",
      "\n",
      "RMSE Training Error for ::wt_xgb=1, wt_lasso=3, wt_kridge=4:: = 74.047482018\n",
      "\n",
      "RMSE Training Error for ::wt_xgb=1, wt_lasso=4, wt_kridge=0:: = 93.3803409168\n",
      "\n",
      "RMSE Training Error for ::wt_xgb=1, wt_lasso=4, wt_kridge=1:: = 86.9361937302\n",
      "\n",
      "RMSE Training Error for ::wt_xgb=1, wt_lasso=4, wt_kridge=2:: = 82.5016533437\n",
      "\n",
      "RMSE Training Error for ::wt_xgb=1, wt_lasso=4, wt_kridge=3:: = 79.2841667009\n",
      "\n",
      "RMSE Training Error for ::wt_xgb=1, wt_lasso=4, wt_kridge=4:: = 76.8543272525\n",
      "\n",
      "RMSE Training Error for ::wt_xgb=2, wt_lasso=0, wt_kridge=0:: = 67.1731289779\n",
      "\n",
      "RMSE Training Error for ::wt_xgb=2, wt_lasso=0, wt_kridge=1:: = 63.367509099\n",
      "\n",
      "RMSE Training Error for ::wt_xgb=2, wt_lasso=0, wt_kridge=2:: = 62.03674099\n",
      "\n",
      "RMSE Training Error for ::wt_xgb=2, wt_lasso=0, wt_kridge=3:: = 61.4370414459\n",
      "\n",
      "RMSE Training Error for ::wt_xgb=2, wt_lasso=0, wt_kridge=4:: = 61.1229358521\n",
      "\n",
      "RMSE Training Error for ::wt_xgb=2, wt_lasso=1, wt_kridge=0:: = 76.4421420154\n",
      "\n",
      "RMSE Training Error for ::wt_xgb=2, wt_lasso=1, wt_kridge=1:: = 71.3626211723\n",
      "\n",
      "RMSE Training Error for ::wt_xgb=2, wt_lasso=1, wt_kridge=2:: = 68.6210579095\n",
      "\n",
      "RMSE Training Error for ::wt_xgb=2, wt_lasso=1, wt_kridge=3:: = 66.9386931789\n",
      "\n",
      "RMSE Training Error for ::wt_xgb=2, wt_lasso=1, wt_kridge=4:: = 65.8141219366\n",
      "\n",
      "RMSE Training Error for ::wt_xgb=2, wt_lasso=2, wt_kridge=0:: = 82.0674648183\n",
      "\n",
      "RMSE Training Error for ::wt_xgb=2, wt_lasso=2, wt_kridge=1:: = 76.7994233577\n",
      "\n",
      "RMSE Training Error for ::wt_xgb=2, wt_lasso=2, wt_kridge=2:: = 73.5025248766\n",
      "\n",
      "RMSE Training Error for ::wt_xgb=2, wt_lasso=2, wt_kridge=3:: = 71.2687968805\n",
      "\n",
      "RMSE Training Error for ::wt_xgb=2, wt_lasso=2, wt_kridge=4:: = 69.6665256738\n",
      "\n",
      "RMSE Training Error for ::wt_xgb=2, wt_lasso=3, wt_kridge=0:: = 85.6878963446\n",
      "\n",
      "RMSE Training Error for ::wt_xgb=2, wt_lasso=3, wt_kridge=1:: = 80.6319467915\n",
      "\n",
      "RMSE Training Error for ::wt_xgb=2, wt_lasso=3, wt_kridge=2:: = 77.1820379607\n",
      "\n",
      "RMSE Training Error for ::wt_xgb=2, wt_lasso=3, wt_kridge=3:: = 74.6958483857\n",
      "\n",
      "RMSE Training Error for ::wt_xgb=2, wt_lasso=3, wt_kridge=4:: = 72.8285436878\n",
      "\n",
      "RMSE Training Error for ::wt_xgb=2, wt_lasso=4, wt_kridge=0:: = 88.1898955945\n",
      "\n",
      "RMSE Training Error for ::wt_xgb=2, wt_lasso=4, wt_kridge=1:: = 83.4564279802\n",
      "\n",
      "RMSE Training Error for ::wt_xgb=2, wt_lasso=4, wt_kridge=2:: = 80.0319272912\n",
      "\n",
      "RMSE Training Error for ::wt_xgb=2, wt_lasso=4, wt_kridge=3:: = 77.4531398906\n",
      "\n",
      "RMSE Training Error for ::wt_xgb=2, wt_lasso=4, wt_kridge=4:: = 75.4491278056\n",
      "\n",
      "RMSE Training Error for ::wt_xgb=3, wt_lasso=0, wt_kridge=0:: = 67.1731384419\n",
      "\n",
      "RMSE Training Error for ::wt_xgb=3, wt_lasso=0, wt_kridge=1:: = 64.1814740505\n",
      "\n",
      "RMSE Training Error for ::wt_xgb=3, wt_lasso=0, wt_kridge=2:: = 62.786682597\n",
      "\n",
      "RMSE Training Error for ::wt_xgb=3, wt_lasso=0, wt_kridge=3:: = 62.0367455572\n",
      "\n",
      "RMSE Training Error for ::wt_xgb=3, wt_lasso=0, wt_kridge=4:: = 61.5927813063\n",
      "\n",
      "RMSE Training Error for ::wt_xgb=3, wt_lasso=1, wt_kridge=0:: = 73.8518027387\n",
      "\n",
      "RMSE Training Error for ::wt_xgb=3, wt_lasso=1, wt_kridge=1:: = 70.2466645415\n",
      "\n",
      "RMSE Training Error for ::wt_xgb=3, wt_lasso=1, wt_kridge=2:: = 68.0710749176\n",
      "\n",
      "RMSE Training Error for ::wt_xgb=3, wt_lasso=1, wt_kridge=3:: = 66.6405792463\n",
      "\n",
      "RMSE Training Error for ::wt_xgb=3, wt_lasso=1, wt_kridge=4:: = 65.6399355561\n",
      "\n",
      "RMSE Training Error for ::wt_xgb=3, wt_lasso=2, wt_kridge=0:: = 78.6255846357\n",
      "\n",
      "RMSE Training Error for ::wt_xgb=3, wt_lasso=2, wt_kridge=1:: = 74.8053597209\n",
      "\n",
      "RMSE Training Error for ::wt_xgb=3, wt_lasso=2, wt_kridge=2:: = 72.2381181094\n",
      "\n",
      "RMSE Training Error for ::wt_xgb=3, wt_lasso=2, wt_kridge=3:: = 70.4112322377\n",
      "\n",
      "RMSE Training Error for ::wt_xgb=3, wt_lasso=2, wt_kridge=4:: = 69.0535558233\n",
      "\n",
      "RMSE Training Error for ::wt_xgb=3, wt_lasso=3, wt_kridge=0:: = 82.067469846\n",
      "\n",
      "RMSE Training Error for ::wt_xgb=3, wt_lasso=3, wt_kridge=1:: = 78.267537499\n",
      "\n",
      "RMSE Training Error for ::wt_xgb=3, wt_lasso=3, wt_kridge=2:: = 75.5412255922\n",
      "\n",
      "RMSE Training Error for ::wt_xgb=3, wt_lasso=3, wt_kridge=3:: = 73.5025281237\n",
      "\n",
      "RMSE Training Error for ::wt_xgb=3, wt_lasso=3, wt_kridge=4:: = 71.9276083197\n",
      "\n",
      "RMSE Training Error for ::wt_xgb=3, wt_lasso=4, wt_kridge=0:: = 84.6365875777\n",
      "\n",
      "RMSE Training Error for ::wt_xgb=3, wt_lasso=4, wt_kridge=1:: = 80.9617598376\n",
      "\n",
      "RMSE Training Error for ::wt_xgb=3, wt_lasso=4, wt_kridge=2:: = 78.2019295225\n",
      "\n",
      "RMSE Training Error for ::wt_xgb=3, wt_lasso=4, wt_kridge=3:: = 76.0630028283\n",
      "\n",
      "RMSE Training Error for ::wt_xgb=3, wt_lasso=4, wt_kridge=4:: = 74.3625853763\n",
      "\n",
      "RMSE Training Error for ::wt_xgb=4, wt_lasso=0, wt_kridge=0:: = 67.1731289779\n",
      "\n",
      "RMSE Training Error for ::wt_xgb=4, wt_lasso=0, wt_kridge=1:: = 64.7153244086\n",
      "\n",
      "RMSE Training Error for ::wt_xgb=4, wt_lasso=0, wt_kridge=2:: = 63.367509099\n",
      "\n",
      "RMSE Training Error for ::wt_xgb=4, wt_lasso=0, wt_kridge=3:: = 62.5573741105\n",
      "\n",
      "RMSE Training Error for ::wt_xgb=4, wt_lasso=0, wt_kridge=4:: = 62.03674099\n",
      "\n",
      "RMSE Training Error for ::wt_xgb=4, wt_lasso=1, wt_kridge=0:: = 72.3780779893\n",
      "\n",
      "RMSE Training Error for ::wt_xgb=4, wt_lasso=1, wt_kridge=1:: = 69.5765230659\n",
      "\n",
      "RMSE Training Error for ::wt_xgb=4, wt_lasso=1, wt_kridge=2:: = 67.7521746174\n",
      "\n",
      "RMSE Training Error for ::wt_xgb=4, wt_lasso=1, wt_kridge=3:: = 66.4890452629\n",
      "\n",
      "RMSE Training Error for ::wt_xgb=4, wt_lasso=1, wt_kridge=4:: = 65.572682489\n",
      "\n",
      "RMSE Training Error for ::wt_xgb=4, wt_lasso=2, wt_kridge=0:: = 76.4421420154\n",
      "\n",
      "RMSE Training Error for ::wt_xgb=4, wt_lasso=2, wt_kridge=1:: = 73.4668094288\n",
      "\n",
      "RMSE Training Error for ::wt_xgb=4, wt_lasso=2, wt_kridge=2:: = 71.3626211723\n",
      "\n",
      "RMSE Training Error for ::wt_xgb=4, wt_lasso=2, wt_kridge=3:: = 69.8086000892\n",
      "\n",
      "RMSE Training Error for ::wt_xgb=4, wt_lasso=2, wt_kridge=4:: = 68.6210579095\n",
      "\n",
      "RMSE Training Error for ::wt_xgb=4, wt_lasso=3, wt_kridge=0:: = 79.5893825983\n",
      "\n",
      "RMSE Training Error for ::wt_xgb=4, wt_lasso=3, wt_kridge=1:: = 76.5770782577\n",
      "\n",
      "RMSE Training Error for ::wt_xgb=4, wt_lasso=3, wt_kridge=2:: = 74.3330120188\n",
      "\n",
      "RMSE Training Error for ::wt_xgb=4, wt_lasso=3, wt_kridge=3:: = 72.6059929985\n",
      "\n",
      "RMSE Training Error for ::wt_xgb=4, wt_lasso=3, wt_kridge=4:: = 71.241459056\n",
      "\n",
      "RMSE Training Error for ::wt_xgb=4, wt_lasso=4, wt_kridge=0:: = 82.0674648183\n",
      "\n",
      "RMSE Training Error for ::wt_xgb=4, wt_lasso=4, wt_kridge=1:: = 79.0964270804\n",
      "\n",
      "RMSE Training Error for ::wt_xgb=4, wt_lasso=4, wt_kridge=2:: = 76.7994233577\n",
      "\n",
      "RMSE Training Error for ::wt_xgb=4, wt_lasso=4, wt_kridge=3:: = 74.9778121266\n",
      "\n",
      "RMSE Training Error for ::wt_xgb=4, wt_lasso=4, wt_kridge=4:: = 73.5025248766\n",
      "\n"
     ]
    }
   ],
   "source": [
    "## Analyzing the Weighting performances\n",
    "## XGboost + Lasso + Kernel Ridge\n",
    "rmse_arr = np.empty([5,5,5])\n",
    "\n",
    "for wt_xgb in np.arange(0,5):\n",
    "    for wt_lasso in np.arange(0,5):\n",
    "        for wt_kridge in np.arange(0,5):\n",
    "            if(wt_lasso + wt_kridge + wt_xgb == 0):\n",
    "                rmse_arr[wt_xgb,wt_lasso,wt_kridge] = 0.1\n",
    "                continue\n",
    "            #for wt_gbm in np.arange(0,4):\n",
    "            y_pred_avg = (wt_xgb*np.ravel(y_train_pred_xgb) + wt_lasso*np.ravel(y_train_pred_lasso) + wt_kridge*np.ravel(y_train_pred_kridge) + 0*np.ravel(y_train_pred_gbm))\n",
    "            y_pred_avg = y_pred_avg / (wt_xgb + wt_lasso + wt_kridge)\n",
    "            if rmse(label_df,y_pred_avg) < 0.0005:\n",
    "                rmse_arr[wt_xgb,wt_lasso,wt_kridge] = 0.1\n",
    "            else:    \n",
    "                rmse_arr[wt_xgb,wt_lasso,wt_kridge] = rmse(label_df,y_pred_avg)\n",
    "            print(\"RMSE Training Error for ::wt_xgb=%s, wt_lasso=%s, wt_kridge=%s:: = %s\\n\" %(str(wt_xgb), str(wt_lasso), str(wt_kridge), str(1000*rmse(label_df,y_pred_avg))))"
   ]
  },
  {
   "cell_type": "code",
   "execution_count": null,
   "metadata": {
    "collapsed": false
   },
   "outputs": [],
   "source": [
    "## Lasso + Kernel Ridge Weight Analysis\n",
    "rmse_arr = np.zeros([5,5])\n",
    "\n",
    "for wt_lasso in np.arange(0,5):\n",
    "    for wt_kridge in np.arange(0,5):\n",
    "        if(wt_lasso + wt_kridge == 0):\n",
    "            rmse_arr[wt_lasso,wt_kridge] = 0.1\n",
    "            continue\n",
    "        #for wt_gbm in np.arange(0,4):\n",
    "        y_pred_avg = (wt_lasso*np.ravel(y_train_pred_lasso) + wt_kridge*np.ravel(y_train_pred_kridge))\n",
    "        y_pred_avg = y_pred_avg / (wt_lasso + wt_kridge)\n",
    "        rmse_arr[wt_lasso,wt_kridge] = rmse(label_df,y_pred_avg)\n",
    "        print(\"RMSE Training Error for ::wt_lasso=%s, wt_kridge=%s:: = %s\\n\" %(str(wt_lasso), str(wt_kridge),  str(1000*rmse(label_df,y_pred_avg))))"
   ]
  },
  {
   "cell_type": "code",
   "execution_count": 208,
   "metadata": {
    "collapsed": false
   },
   "outputs": [
    {
     "name": "stdout",
     "output_type": "stream",
     "text": [
      "101.55983007\n",
      "60.613080189\n"
     ]
    },
    {
     "data": {
      "text/plain": [
       "[<matplotlib.lines.Line2D at 0x12eef0390>]"
      ]
     },
     "execution_count": 208,
     "metadata": {},
     "output_type": "execute_result"
    },
    {
     "data": {
      "image/png": "[encoded data removed]",
      "text/plain": [
       "<matplotlib.figure.Figure at 0x12d8013c8>"
      ]
     },
     "metadata": {},
     "output_type": "display_data"
    }
   ],
   "source": [
    "## Analyzing the error\n",
    "ravel_rmse = 1000*np.ravel(rmse_arr)\n",
    "ravel_rmse = ravel_rmse[ravel_rmse>1]\n",
    "#sorted_rmse = sorted_rmse[sorted_rmse<100000]\n",
    "print(np.max(ravel_rmse))\n",
    "print(np.min(ravel_rmse))\n",
    "plt.plot(ravel_rmse)#, np.linspace(0,1,sorted_rmse.size))"
   ]
  },
  {
   "cell_type": "code",
   "execution_count": 209,
   "metadata": {
    "collapsed": false
   },
   "outputs": [
    {
     "name": "stdout",
     "output_type": "stream",
     "text": [
      "(5, 5, 5)\n",
      "Min =  0.060613080189\n",
      "(array([0, 0, 0, 0]), array([0, 0, 0, 0]), array([1, 2, 3, 4]))\n",
      "Max =  0.10155983007\n",
      "(array([0, 0, 0]), array([1, 2, 4]), array([0, 0, 0]))\n"
     ]
    }
   ],
   "source": [
    "print(rmse_arr.shape)\n",
    "\n",
    "print(\"Min = \", np.min(rmse_arr))\n",
    "print(np.where(rmse_arr == np.min(rmse_arr)))\n",
    "\n",
    "print(\"Max = \", np.max(rmse_arr))\n",
    "print(np.where(rmse_arr == np.max(rmse_arr)))"
   ]
  },
  {
   "cell_type": "code",
   "execution_count": 211,
   "metadata": {
    "collapsed": false
   },
   "outputs": [
    {
     "data": {
      "text/plain": [
       "(array([0, 0, 0, 0]), array([0, 0, 0, 0]), array([1, 2, 3, 4]))"
      ]
     },
     "execution_count": 211,
     "metadata": {},
     "output_type": "execute_result"
    }
   ],
   "source": [
    "np.where(rmse_arr == np.min(rmse_arr))"
   ]
  },
  {
   "cell_type": "code",
   "execution_count": 214,
   "metadata": {
    "collapsed": false
   },
   "outputs": [
    {
     "data": {
      "text/plain": [
       "(1459,)"
      ]
     },
     "execution_count": 214,
     "metadata": {},
     "output_type": "execute_result"
    }
   ],
   "source": [
    "y_final = (2*np.ravel(y_pred_xgb) + 3*np.ravel(y_test_pred_kridge) + 1*np.ravel(y_test_pred_lasso))/6\n",
    "y_final.shape"
   ]
  },
  {
   "cell_type": "code",
   "execution_count": 15,
   "metadata": {
    "collapsed": true
   },
   "outputs": [],
   "source": [
    "def logloss(attempt, actual, epsilon=1.0e-15):\n",
    "    \"\"\"Logloss, i.e. the score of the bioresponse competition.\n",
    "    \"\"\"\n",
    "    attempt = np.clip(attempt, epsilon, 1.0-epsilon)\n",
    "    return - np.mean(actual * np.log(attempt) +\n",
    "                     (1.0 - actual) * np.log(1.0 - attempt))"
   ]
  },
  {
   "cell_type": "code",
   "execution_count": 62,
   "metadata": {
    "collapsed": false
   },
   "outputs": [
    {
     "name": "stderr",
     "output_type": "stream",
     "text": [
      "/Library/Frameworks/Python.framework/Versions/3.5/lib/python3.5/site-packages/sklearn/cross_validation.py:552: Warning: The least populated class in y has only 1 members, which is too few. The minimum number of labels for any class cannot be less than n_folds=10.\n",
      "  % (min_labels, self.n_folds)), Warning)\n"
     ]
    }
   ],
   "source": [
    "np.random.seed(0)  # seed to shuffle the train set\n",
    "\n",
    "n_folds = 10\n",
    "verbose = True\n",
    "shuffle = False\n",
    "\n",
    "X_ens = np.array(train_df_munged)\n",
    "y_ens = np.array(label_df['SalePrice'])\n",
    "X_submission = np.array(test_df_munged)\n",
    "\n",
    "if shuffle:\n",
    "    idx = np.random.permutation(y.size)\n",
    "    X_ens = train_df_munged[idx]\n",
    "    y_ens = targets_munged[idx]\n",
    "\n",
    "skf = list(StratifiedKFold(y_ens, n_folds))\n",
    "\n",
    "clfs = [lasso_regr,\n",
    "        xgb_regr,\n",
    "        #RandomForestRegressor(n_estimators=5000, max_depth=4, max_features='sqrt',n_jobs=-1),\n",
    "        #ExtraTreesRegressor(n_estimators=5000, max_depth=4,n_jobs=-1),\n",
    "        GradientBoostingRegressor(learning_rate=0.05, subsample=0.5, max_features='sqrt',max_depth=4, n_estimators=5000),\n",
    "        ]"
   ]
  },
  {
   "cell_type": "code",
   "execution_count": 63,
   "metadata": {
    "collapsed": true
   },
   "outputs": [],
   "source": [
    "## Creating train and test sets for blending\n",
    "\n",
    "dataset_blend_train = np.zeros((X_ens.shape[0], len(clfs)))\n",
    "dataset_blend_test = np.zeros((X_submission.shape[0], len(clfs)))"
   ]
  },
  {
   "cell_type": "code",
   "execution_count": null,
   "metadata": {
    "collapsed": false
   },
   "outputs": [],
   "source": [
    "for j, clf in enumerate(clfs):\n",
    "    print(j, clf)\n",
    "    dataset_blend_test_j = np.zeros((X_submission.shape[0], len(skf)))\n",
    "    for i, (train_curr, test_curr) in enumerate(skf):\n",
    "        print(\"Fold\", i)\n",
    "        X_train = X_ens[train_curr]\n",
    "        y_train = y_ens[train_curr]\n",
    "        X_test = X_ens[test_curr]\n",
    "        y_test = y_ens[test_curr]\n",
    "        clf.fit(X_train, y_train)\n",
    "        y_submission = clf.predict(X_test)\n",
    "        dataset_blend_train[test_curr, j] = y_submission\n",
    "        dataset_blend_test_j[:, i] = clf.predict(X_submission)\n",
    "        dataset_blend_test[:, j] = dataset_blend_test_j.mean(1)\n",
    "\n",
    "print (\"Blending over.\")"
   ]
  },
  {
   "cell_type": "code",
   "execution_count": 80,
   "metadata": {
    "collapsed": false
   },
   "outputs": [
    {
     "data": {
      "text/plain": [
       "{'alpha': 1,\n",
       " 'coef0': 1,\n",
       " 'degree': 3,\n",
       " 'gamma': None,\n",
       " 'kernel': 'linear',\n",
       " 'kernel_params': None}"
      ]
     },
     "execution_count": 80,
     "metadata": {},
     "output_type": "execute_result"
    }
   ],
   "source": [
    "#y_final = np.mean(dataset_blend_test,axis=1)\n",
    "from sklearn.kernel_ridge import KernelRidge\n",
    "dd = KernelRidge()\n",
    "dd.get_params()\n"
   ]
  },
  {
   "cell_type": "code",
   "execution_count": 74,
   "metadata": {
    "collapsed": false
   },
   "outputs": [
    {
     "name": "stdout",
     "output_type": "stream",
     "text": [
      "Best score: 0.8826642021596418\n",
      "Best parameters: {'fit_intercept': False, 'normalize': True}\n"
     ]
    },
    {
     "name": "stderr",
     "output_type": "stream",
     "text": [
      "/Library/Frameworks/Python.framework/Versions/3.5/lib/python3.5/site-packages/sklearn/cross_validation.py:552: Warning: The least populated class in y has only 1 members, which is too few. The minimum number of labels for any class cannot be less than n_folds=5.\n",
      "  % (min_labels, self.n_folds)), Warning)\n",
      "/Library/Frameworks/Python.framework/Versions/3.5/lib/python3.5/site-packages/scipy/linalg/basic.py:884: RuntimeWarning: internal gelsd driver lwork query error, required iwork dimension not returned. This is likely the result of LAPACK bug 0038, fixed in LAPACK 3.2.2 (released July 21, 2010). Falling back to 'gelss' driver.\n",
      "  warnings.warn(mesg, RuntimeWarning)\n"
     ]
    }
   ],
   "source": [
    "from sklearn.linear_model import Ridge, LinearRegression\n",
    "\n",
    "linear_grid = LinearRegression()\n",
    "\n",
    "parameter_grid = {\n",
    "                 'fit_intercept': [True,False],\n",
    "                 'normalize':[True,False]\n",
    "                 #'n_estimators': [200,210,240,250],\n",
    "                 #'min_child_weight': [1,2,3,4]\n",
    "                 }\n",
    "\n",
    "cross_validation = StratifiedKFold(np.array(label_df['SalePrice']), n_folds=5)\n",
    "\n",
    "grid_search_linear = GridSearchCV(linear_grid,\n",
    "                           param_grid=parameter_grid,\n",
    "                           scoring= \"r2\",\n",
    "                           cv=cross_validation)\n",
    "\n",
    "grid_search_linear.fit(dataset_blend_train, y_ens)\n",
    "\n",
    "print('Best score: {}'.format(grid_search_linear.best_score_))\n",
    "print('Best parameters: {}'.format(grid_search_linear.best_params_))\n",
    "\n",
    "#clf.fit(dataset_blend_train, y_ens)\n",
    "#y_final = clf.predict(dataset_blend_test)"
   ]
  },
  {
   "cell_type": "code",
   "execution_count": 86,
   "metadata": {
    "collapsed": false
   },
   "outputs": [
    {
     "name": "stderr",
     "output_type": "stream",
     "text": [
      "/Library/Frameworks/Python.framework/Versions/3.5/lib/python3.5/site-packages/sklearn/cross_validation.py:552: Warning: The least populated class in y has only 1 members, which is too few. The minimum number of labels for any class cannot be less than n_folds=10.\n",
      "  % (min_labels, self.n_folds)), Warning)\n"
     ]
    },
    {
     "name": "stdout",
     "output_type": "stream",
     "text": [
      "Best score: -0.01805736864258649\n",
      "Best parameters: {'kernel': 'polynomial', 'alpha': 0.1, 'degree': 2}\n"
     ]
    }
   ],
   "source": [
    "from sklearn.kernel_ridge import KernelRidge\n",
    "\n",
    "kridge_grid = KernelRidge()\n",
    "\n",
    "parameter_grid = {\n",
    "                 'alpha': [0.0001,0.001,0.01,0.1],\n",
    "                 'degree': [1,2,3,4],\n",
    "                 'kernel': ['polynomial']\n",
    "                 #'n_estimators': [200,210,240,250],\n",
    "                 #'min_child_weight': [1,2,3,4]\n",
    "                 }\n",
    "\n",
    "cross_validation = StratifiedKFold(np.array(label_df['SalePrice']), n_folds=10)\n",
    "\n",
    "grid_search_kridge = GridSearchCV(kridge_grid,\n",
    "                           param_grid=parameter_grid,\n",
    "                           scoring= \"neg_mean_squared_error\",\n",
    "                           cv=cross_validation)\n",
    "\n",
    "grid_search_kridge.fit(dataset_blend_train, y_ens)\n",
    "\n",
    "print('Best score: {}'.format(grid_search_kridge.best_score_))\n",
    "print('Best parameters: {}'.format(grid_search_kridge.best_params_))"
   ]
  },
  {
   "cell_type": "code",
   "execution_count": 87,
   "metadata": {
    "collapsed": false
   },
   "outputs": [
    {
     "data": {
      "text/plain": [
       "[mean: -0.01812, std: 0.00821, params: {'kernel': 'polynomial', 'alpha': 0.0001, 'degree': 1},\n",
       " mean: -0.02040, std: 0.00893, params: {'kernel': 'polynomial', 'alpha': 0.0001, 'degree': 2},\n",
       " mean: -0.02201, std: 0.00943, params: {'kernel': 'polynomial', 'alpha': 0.0001, 'degree': 3},\n",
       " mean: -0.02139, std: 0.00851, params: {'kernel': 'polynomial', 'alpha': 0.0001, 'degree': 4},\n",
       " mean: -0.01812, std: 0.00821, params: {'kernel': 'polynomial', 'alpha': 0.001, 'degree': 1},\n",
       " mean: -0.01883, std: 0.00843, params: {'kernel': 'polynomial', 'alpha': 0.001, 'degree': 2},\n",
       " mean: -0.02175, std: 0.00935, params: {'kernel': 'polynomial', 'alpha': 0.001, 'degree': 3},\n",
       " mean: -0.02367, std: 0.01011, params: {'kernel': 'polynomial', 'alpha': 0.001, 'degree': 4},\n",
       " mean: -0.01813, std: 0.00822, params: {'kernel': 'polynomial', 'alpha': 0.01, 'degree': 1},\n",
       " mean: -0.01808, std: 0.00821, params: {'kernel': 'polynomial', 'alpha': 0.01, 'degree': 2},\n",
       " mean: -0.02133, std: 0.00921, params: {'kernel': 'polynomial', 'alpha': 0.01, 'degree': 3},\n",
       " mean: -0.02317, std: 0.00990, params: {'kernel': 'polynomial', 'alpha': 0.01, 'degree': 4},\n",
       " mean: -0.01815, std: 0.00828, params: {'kernel': 'polynomial', 'alpha': 0.1, 'degree': 1},\n",
       " mean: -0.01806, std: 0.00818, params: {'kernel': 'polynomial', 'alpha': 0.1, 'degree': 2},\n",
       " mean: -0.01992, std: 0.00866, params: {'kernel': 'polynomial', 'alpha': 0.1, 'degree': 3},\n",
       " mean: -0.02215, std: 0.00948, params: {'kernel': 'polynomial', 'alpha': 0.1, 'degree': 4}]"
      ]
     },
     "execution_count": 87,
     "metadata": {},
     "output_type": "execute_result"
    }
   ],
   "source": [
    "grid_search_kridge.grid_scores_"
   ]
  },
  {
   "cell_type": "code",
   "execution_count": 93,
   "metadata": {
    "collapsed": false
   },
   "outputs": [],
   "source": [
    "import pickle\n",
    "\n",
    "ensemble_clfs_0106 = clfs\n",
    "\n",
    "with open('0106_objs.pckl', 'wb') as f:  # Python 3: open(..., 'wb')\n",
    "    pickle.dump([train_df_munged,test_df_munged,ensemble_clfs_0106,dataset_blend_test,dataset_blend_train], f)"
   ]
  },
  {
   "cell_type": "code",
   "execution_count": 88,
   "metadata": {
    "collapsed": false
   },
   "outputs": [],
   "source": [
    "y_final = grid_search_kridge.predict(dataset_blend_test)"
   ]
  },
  {
   "cell_type": "code",
   "execution_count": 215,
   "metadata": {
    "collapsed": false
   },
   "outputs": [],
   "source": [
    "y_pred = np.exp(y_final)\n",
    "\n",
    "# Final Conversion.\n",
    "output_file = 'xgboost_lasso_kridge_weights_2_1_3'\n",
    "final_file = '0108_'+ output_file +'.csv'\n",
    "\n",
    "pred_df = pd.DataFrame(y_pred, index=test_df[\"Id\"], columns=[\"SalePrice\"])\n",
    "pred_df.shape\n",
    "pred_df.to_csv(path+final_file, header=True, index_label='Id')"
   ]
  },
  {
   "cell_type": "code",
   "execution_count": 7,
   "metadata": {
    "collapsed": true
   },
   "outputs": [],
   "source": [
    "### We can improve it by CV and stacking  "
   ]
  }
 ],
 "metadata": {
  "kernelspec": {
   "display_name": "Python 3",
   "language": "python",
   "name": "python3"
  },
  "language_info": {
   "codemirror_mode": {
    "name": "ipython",
    "version": 3
   },
   "file_extension": ".py",
   "mimetype": "text/x-python",
   "name": "python",
   "nbconvert_exporter": "python",
   "pygments_lexer": "ipython3",
   "version": "3.5.2"
  }
 },
 "nbformat": 4,
 "nbformat_minor": 0
}
