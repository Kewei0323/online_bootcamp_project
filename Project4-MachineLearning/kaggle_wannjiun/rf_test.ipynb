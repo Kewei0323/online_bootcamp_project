{
 "cells": [
  {
   "cell_type": "code",
   "execution_count": 13,
   "metadata": {
    "collapsed": false
   },
   "outputs": [],
   "source": [
    "import pandas as pd\n",
    "import numpy as np\n",
    "import gc\n",
    "import sys\n",
    "from sys import stdout\n",
    "#sys.path.append(path+'/src/python/')\n",
    "from time import time\n",
    "\n",
    "#from sklearn.cross_validation import train_test_split \n",
    "from sklearn.metrics import mean_squared_error as rmse\n",
    "from sklearn.cross_validation import KFold\n",
    "from sklearn.ensemble import RandomForestRegressor\n",
    "from sklearn.cross_validation import train_test_split\n",
    "from sklearn import metrics\n",
    "\n",
    "import xgboost as xgb\n",
    "\n",
    "path = './data/'\n",
    "train_file = path + 'train.csv'\n",
    "test_file = path + 'test.csv'\n",
    "\n",
    "output_file = 'random_forests'\n",
    "final_file = '1228_'+output_file+'.csv'"
   ]
  },
  {
   "cell_type": "code",
   "execution_count": 14,
   "metadata": {
    "collapsed": false
   },
   "outputs": [],
   "source": [
    "df_train = pd.read_csv(train_file)\n",
    "df_train = df_train[[\"LotArea\",\"MoSold\",\"YrSold\",\"BedroomAbvGr\",\"SalePrice\"]]\n",
    "target = df_train[\"SalePrice\"].values \n",
    "X_train = df_train.drop(\"SalePrice\",axis=1)\n",
    "y_train = np.ravel(target)\n",
    "\n",
    "df_test = pd.read_csv(test_file)\n",
    "df_test = df_test[[\"LotArea\",\"MoSold\",\"YrSold\",\"BedroomAbvGr\"]]\n",
    "X_test = df_test"
   ]
  },
  {
   "cell_type": "code",
   "execution_count": 15,
   "metadata": {
    "collapsed": false
   },
   "outputs": [
    {
     "data": {
      "text/plain": [
       "RandomForestRegressor(bootstrap=True, criterion='mse', max_depth=5,\n",
       "           max_features='sqrt', max_leaf_nodes=None, min_samples_leaf=1,\n",
       "           min_samples_split=1, min_weight_fraction_leaf=0.0,\n",
       "           n_estimators=120, n_jobs=1, oob_score=False, random_state=None,\n",
       "           verbose=0, warm_start=False)"
      ]
     },
     "execution_count": 15,
     "metadata": {},
     "output_type": "execute_result"
    }
   ],
   "source": [
    "# Random forests\n",
    "forest_model = RandomForestRegressor(n_estimators = 120,\\\n",
    "                                     max_depth = 5,\\\n",
    "                                     min_samples_split = 1,\\\n",
    "                                     min_samples_leaf = 1,\\\n",
    "                                     max_features = 'sqrt')\n",
    "forest_model.fit(X_train, y_train)"
   ]
  },
  {
   "cell_type": "code",
   "execution_count": 16,
   "metadata": {
    "collapsed": false
   },
   "outputs": [
    {
     "data": {
      "text/plain": [
       "1459"
      ]
     },
     "execution_count": 16,
     "metadata": {},
     "output_type": "execute_result"
    }
   ],
   "source": [
    "y_test = forest_model.predict(X_test)\n",
    "len(y_test)"
   ]
  },
  {
   "cell_type": "code",
   "execution_count": 17,
   "metadata": {
    "collapsed": false
   },
   "outputs": [],
   "source": [
    "df_test = pd.DataFrame({\"Id\":range(1461,1461+1459),\"SalePrice\":y_test})\n",
    "df_test.to_csv(path+final_file,header=True,index=False)"
   ]
  },
  {
   "cell_type": "code",
   "execution_count": null,
   "metadata": {
    "collapsed": true
   },
   "outputs": [],
   "source": []
  }
 ],
 "metadata": {
  "anaconda-cloud": {},
  "kernelspec": {
   "display_name": "Python [Root]",
   "language": "python",
   "name": "Python [Root]"
  },
  "language_info": {
   "codemirror_mode": {
    "name": "ipython",
    "version": 2
   },
   "file_extension": ".py",
   "mimetype": "text/x-python",
   "name": "python",
   "nbconvert_exporter": "python",
   "pygments_lexer": "ipython2",
   "version": "2.7.12"
  }
 },
 "nbformat": 4,
 "nbformat_minor": 0
}
